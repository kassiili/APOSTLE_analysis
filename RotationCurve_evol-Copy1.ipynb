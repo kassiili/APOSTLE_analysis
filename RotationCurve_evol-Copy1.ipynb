{
 "cells": [
  {
   "cell_type": "code",
   "execution_count": 2,
   "metadata": {},
   "outputs": [],
   "source": [
    "%load_ext autoreload\n",
    "%autoreload 2\n",
    "\n",
    "#%config IPCompleter.greedy=True"
   ]
  },
  {
   "cell_type": "markdown",
   "metadata": {},
   "source": [
    "# Rotation curves\n",
    "\n",
    "First, imports:"
   ]
  },
  {
   "cell_type": "code",
   "execution_count": 3,
   "metadata": {},
   "outputs": [],
   "source": [
    "import matplotlib.pyplot as plt\n",
    "import numpy as np\n",
    "import h5py\n",
    "from astropy import units\n",
    "from pathlib import Path\n",
    "import os\n",
    "import astropy.units as u\n",
    "from astropy.constants import G\n",
    "\n",
    "import snapshot_obj \n",
    "import dataset_compute\n",
    "import trace_halo\n",
    "import curve_fit\n",
    "\n",
    "import importlib"
   ]
  },
  {
   "cell_type": "code",
   "execution_count": 4,
   "metadata": {},
   "outputs": [
    {
     "data": {
      "text/plain": [
       "<module 'dataset_compute' from '/home/kassiili/Curvaton_Simulations/analysis/dataset_compute.py'>"
      ]
     },
     "execution_count": 4,
     "metadata": {},
     "output_type": "execute_result"
    }
   ],
   "source": [
    "importlib.reload(snapshot_obj)\n",
    "importlib.reload(curve_fit)\n",
    "importlib.reload(dataset_compute)"
   ]
  },
  {
   "cell_type": "markdown",
   "metadata": {},
   "source": [
    "## Get data"
   ]
  },
  {
   "cell_type": "code",
   "execution_count": 5,
   "metadata": {},
   "outputs": [],
   "source": [
    "# Which halo:\n",
    "gn = 2; sgn = 8\n",
    "\n",
    "# Get LCDM data:\n",
    "snap_pres = snapshot_obj.Snapshot(\"CDM_V1_LR\",127)"
   ]
  },
  {
   "cell_type": "code",
   "execution_count": 6,
   "metadata": {
    "collapsed": true,
    "jupyter": {
     "outputs_hidden": true
    }
   },
   "outputs": [
    {
     "name": "stdout",
     "output_type": "stream",
     "text": [
      "find match for: 2.0 8.0  in  126\n",
      "idx= 68\n",
      "idx= 69\n",
      "idx= 67\n",
      "find match for: 2.0 7.0  in  125\n",
      "idx= 66\n",
      "find match for: 2.0 7.0  in  124\n",
      "idx= 61\n",
      "idx= 62\n",
      "idx= 60\n",
      "find match for: 2.0 6.0  in  123\n",
      "idx= 56\n",
      "idx= 57\n",
      "find match for: 2.0 7.0  in  122\n",
      "idx= 61\n",
      "idx= 62\n",
      "idx= 60\n",
      "find match for: 2.0 6.0  in  121\n",
      "idx= 56\n",
      "idx= 57\n",
      "idx= 55\n",
      "find match for: 2.0 5.0  in  120\n",
      "idx= 52\n",
      "find match for: 2.0 5.0  in  119\n",
      "idx= 50\n",
      "find match for: 2.0 5.0  in  118\n",
      "idx= 54\n",
      "find match for: 2.0 5.0  in  117\n",
      "idx= 55\n",
      "find match for: 2.0 5.0  in  116\n",
      "idx= 61\n",
      "idx= 62\n",
      "find match for: 2.0 6.0  in  115\n",
      "idx= 57\n",
      "idx= 58\n",
      "find match for: 2.0 7.0  in  114\n",
      "idx= 57\n",
      "idx= 58\n",
      "idx= 56\n",
      "idx= 59\n",
      "idx= 55\n",
      "idx= 60\n",
      "idx= 54\n",
      "idx= 61\n",
      "idx= 53\n",
      "idx= 62\n",
      "idx= 52\n",
      "idx= 63\n",
      "idx= 51\n",
      "idx= 64\n",
      "idx= 50\n",
      "idx= 65\n",
      "idx= 49\n",
      "idx= 66\n",
      "idx= 48\n",
      "idx= 67\n",
      "idx= 47\n",
      "idx= 68\n",
      "idx= 46\n",
      "idx= 69\n",
      "idx= 45\n",
      "idx= 70\n",
      "idx= 44\n",
      "idx= 71\n",
      "idx= 43\n",
      "idx= 72\n",
      "idx= 42\n",
      "idx= 73\n",
      "idx= 41\n",
      "idx= 74\n",
      "idx= 40\n",
      "idx= 75\n",
      "idx= 39\n",
      "idx= 76\n",
      "idx= 38\n",
      "idx= 77\n",
      "idx= 37\n",
      "idx= 78\n",
      "idx= 36\n",
      "idx= 79\n",
      "idx= 35\n",
      "idx= 80\n",
      "idx= 34\n",
      "idx= 81\n",
      "idx= 33\n",
      "idx= 82\n",
      "idx= 32\n",
      "idx= 83\n",
      "idx= 31\n",
      "idx= 84\n",
      "idx= 30\n",
      "idx= 85\n",
      "idx= 29\n",
      "idx= 86\n",
      "idx= 28\n",
      "idx= 87\n",
      "idx= 27\n",
      "idx= 88\n",
      "idx= 26\n",
      "idx= 89\n",
      "idx= 25\n",
      "idx= 90\n",
      "idx= 24\n",
      "idx= 91\n",
      "idx= 23\n",
      "idx= 92\n",
      "idx= 22\n",
      "idx= 93\n",
      "idx= 21\n",
      "idx= 94\n",
      "idx= 20\n",
      "idx= 95\n",
      "idx= 19\n",
      "idx= 96\n",
      "idx= 18\n",
      "idx= 97\n",
      "find match for: 3.0 5.0  in  113\n",
      "idx= 104\n",
      "find match for: 3.0 5.0  in  112\n",
      "idx= 100\n",
      "idx= 101\n",
      "find match for: 3.0 6.0  in  111\n",
      "idx= 101\n",
      "idx= 102\n",
      "idx= 100\n",
      "idx= 103\n",
      "idx= 99\n",
      "find match for: 3.0 4.0  in  110\n",
      "idx= 97\n",
      "idx= 98\n",
      "idx= 96\n",
      "idx= 99\n",
      "idx= 95\n",
      "find match for: 3.0 2.0  in  109\n",
      "idx= 95\n",
      "find match for: 3.0 2.0  in  108\n",
      "idx= 109\n",
      "find match for: 3.0 2.0  in  107\n",
      "idx= 90\n",
      "find match for: 3.0 2.0  in  106\n",
      "idx= 85\n",
      "find match for: 3.0 2.0  in  105\n",
      "idx= 85\n",
      "find match for: 3.0 2.0  in  104\n",
      "idx= 84\n",
      "find match for: 3.0 2.0  in  103\n",
      "idx= 86\n",
      "find match for: 3.0 2.0  in  102\n",
      "idx= 86\n",
      "find match for: 3.0 2.0  in  101\n",
      "idx= 85\n"
     ]
    }
   ],
   "source": [
    "# Trace halo:\n",
    "step = 4\n",
    "stop = 101\n",
    "tracer = trace_halo.trace_halo(snap_pres,gn,sgn,direction='backwards',stop=stop)"
   ]
  },
  {
   "cell_type": "code",
   "execution_count": 7,
   "metadata": {},
   "outputs": [
    {
     "name": "stdout",
     "output_type": "stream",
     "text": [
      "127\n",
      "[0, 1, 4, 5] 347\n",
      "123\n",
      "[0, 1, 4, 5] 384\n",
      "119\n",
      "[0, 1, 4, 5] 483\n",
      "115\n"
     ]
    },
    {
     "ename": "IndexError",
     "evalue": "list index out of range",
     "output_type": "error",
     "traceback": [
      "\u001b[0;31m---------------------------------------------------------------------------\u001b[0m",
      "\u001b[0;31mIndexError\u001b[0m                                Traceback (most recent call last)",
      "\u001b[0;32m<ipython-input-7-36409ce28d80>\u001b[0m in \u001b[0;36m<module>\u001b[0;34m\u001b[0m\n\u001b[1;32m     27\u001b[0m     \u001b[0;31m# Rotation curve:\u001b[0m\u001b[0;34m\u001b[0m\u001b[0;34m\u001b[0m\u001b[0;34m\u001b[0m\u001b[0m\n\u001b[1;32m     28\u001b[0m     \u001b[0mprint\u001b[0m\u001b[0;34m(\u001b[0m\u001b[0msnapID\u001b[0m\u001b[0;34m)\u001b[0m\u001b[0;34m\u001b[0m\u001b[0;34m\u001b[0m\u001b[0m\n\u001b[0;32m---> 29\u001b[0;31m     \u001b[0mr\u001b[0m\u001b[0;34m,\u001b[0m \u001b[0mv_circ\u001b[0m \u001b[0;34m=\u001b[0m \u001b[0mdataset_compute\u001b[0m\u001b[0;34m.\u001b[0m\u001b[0mcompute_rotation_curve\u001b[0m\u001b[0;34m(\u001b[0m\u001b[0msnap\u001b[0m\u001b[0;34m,\u001b[0m \u001b[0mgn\u001b[0m\u001b[0;34m,\u001b[0m \u001b[0msgn\u001b[0m\u001b[0;34m)\u001b[0m\u001b[0;34m\u001b[0m\u001b[0;34m\u001b[0m\u001b[0m\n\u001b[0m\u001b[1;32m     30\u001b[0m     \u001b[0mr\u001b[0m \u001b[0;34m=\u001b[0m \u001b[0mr\u001b[0m \u001b[0;34m*\u001b[0m \u001b[0mu\u001b[0m\u001b[0;34m.\u001b[0m\u001b[0mcm\u001b[0m\u001b[0;34m.\u001b[0m\u001b[0mto\u001b[0m\u001b[0;34m(\u001b[0m\u001b[0mu\u001b[0m\u001b[0;34m.\u001b[0m\u001b[0mkpc\u001b[0m\u001b[0;34m)\u001b[0m\u001b[0;34m\u001b[0m\u001b[0;34m\u001b[0m\u001b[0m\n\u001b[1;32m     31\u001b[0m     \u001b[0mv_circ\u001b[0m \u001b[0;34m=\u001b[0m \u001b[0mv_circ\u001b[0m \u001b[0;34m*\u001b[0m \u001b[0mu\u001b[0m\u001b[0;34m.\u001b[0m\u001b[0mcm\u001b[0m\u001b[0;34m.\u001b[0m\u001b[0mto\u001b[0m\u001b[0;34m(\u001b[0m\u001b[0mu\u001b[0m\u001b[0;34m.\u001b[0m\u001b[0mkm\u001b[0m\u001b[0;34m)\u001b[0m\u001b[0;34m\u001b[0m\u001b[0;34m\u001b[0m\u001b[0m\n",
      "\u001b[0;32m~/Curvaton_Simulations/analysis/dataset_compute.py\u001b[0m in \u001b[0;36mcompute_rotation_curve\u001b[0;34m(snapshot, gn, sgn, part_type, jump)\u001b[0m\n\u001b[1;32m    116\u001b[0m \u001b[0;34m\u001b[0m\u001b[0m\n\u001b[1;32m    117\u001b[0m     \u001b[0;31m# Get coordinates and masses of the halo:\u001b[0m\u001b[0;34m\u001b[0m\u001b[0;34m\u001b[0m\u001b[0;34m\u001b[0m\u001b[0m\n\u001b[0;32m--> 118\u001b[0;31m     \u001b[0mSGNs\u001b[0m \u001b[0;34m=\u001b[0m \u001b[0msnapshot\u001b[0m\u001b[0;34m.\u001b[0m\u001b[0mget_particles\u001b[0m\u001b[0;34m(\u001b[0m\u001b[0;34m\"SubGroupNumber\"\u001b[0m\u001b[0;34m,\u001b[0m\u001b[0mpart_type\u001b[0m\u001b[0;34m=\u001b[0m\u001b[0mpart_type\u001b[0m\u001b[0;34m)\u001b[0m\u001b[0;34m\u001b[0m\u001b[0;34m\u001b[0m\u001b[0m\n\u001b[0m\u001b[1;32m    119\u001b[0m     \u001b[0mGNs\u001b[0m \u001b[0;34m=\u001b[0m \u001b[0msnapshot\u001b[0m\u001b[0;34m.\u001b[0m\u001b[0mget_particles\u001b[0m\u001b[0;34m(\u001b[0m\u001b[0;34m\"GroupNumber\"\u001b[0m\u001b[0;34m,\u001b[0m\u001b[0mpart_type\u001b[0m\u001b[0;34m=\u001b[0m\u001b[0mpart_type\u001b[0m\u001b[0;34m)\u001b[0m\u001b[0;34m\u001b[0m\u001b[0;34m\u001b[0m\u001b[0m\n\u001b[1;32m    120\u001b[0m     \u001b[0mcoords\u001b[0m \u001b[0;34m=\u001b[0m \u001b[0msnapshot\u001b[0m\u001b[0;34m.\u001b[0m\u001b[0mget_particles\u001b[0m\u001b[0;34m(\u001b[0m\u001b[0;34m\"Coordinates\"\u001b[0m\u001b[0;34m,\u001b[0m\u001b[0mpart_type\u001b[0m\u001b[0;34m=\u001b[0m\u001b[0mpart_type\u001b[0m\u001b[0;34m)\u001b[0m\u001b[0;34m\u001b[0m\u001b[0;34m\u001b[0m\u001b[0m\n",
      "\u001b[0;32m~/Curvaton_Simulations/analysis/snapshot_obj.py\u001b[0m in \u001b[0;36mget_particles\u001b[0;34m(self, dataset, part_type, fnums)\u001b[0m\n\u001b[1;32m    462\u001b[0m \u001b[0;34m\u001b[0m\u001b[0m\n\u001b[1;32m    463\u001b[0m                 \u001b[0;31m# Sort by link number and add to main list:\u001b[0m\u001b[0;34m\u001b[0m\u001b[0;34m\u001b[0m\u001b[0;34m\u001b[0m\u001b[0m\n\u001b[0;32m--> 464\u001b[0;31m                 \u001b[0mout\u001b[0m \u001b[0;34m+=\u001b[0m \u001b[0;34m[\u001b[0m\u001b[0mpt_out\u001b[0m\u001b[0;34m[\u001b[0m\u001b[0mi\u001b[0m\u001b[0;34m]\u001b[0m \u001b[0;32mfor\u001b[0m \u001b[0mi\u001b[0m \u001b[0;32min\u001b[0m \u001b[0mlink_sort\u001b[0m\u001b[0;34m]\u001b[0m\u001b[0;34m\u001b[0m\u001b[0;34m\u001b[0m\u001b[0m\n\u001b[0m\u001b[1;32m    465\u001b[0m \u001b[0;34m\u001b[0m\u001b[0m\n\u001b[1;32m    466\u001b[0m         \u001b[0;31m# Combine to a single array.\u001b[0m\u001b[0;34m\u001b[0m\u001b[0;34m\u001b[0m\u001b[0;34m\u001b[0m\u001b[0m\n",
      "\u001b[0;32m~/Curvaton_Simulations/analysis/snapshot_obj.py\u001b[0m in \u001b[0;36m<listcomp>\u001b[0;34m(.0)\u001b[0m\n\u001b[1;32m    462\u001b[0m \u001b[0;34m\u001b[0m\u001b[0m\n\u001b[1;32m    463\u001b[0m                 \u001b[0;31m# Sort by link number and add to main list:\u001b[0m\u001b[0;34m\u001b[0m\u001b[0;34m\u001b[0m\u001b[0;34m\u001b[0m\u001b[0m\n\u001b[0;32m--> 464\u001b[0;31m                 \u001b[0mout\u001b[0m \u001b[0;34m+=\u001b[0m \u001b[0;34m[\u001b[0m\u001b[0mpt_out\u001b[0m\u001b[0;34m[\u001b[0m\u001b[0mi\u001b[0m\u001b[0;34m]\u001b[0m \u001b[0;32mfor\u001b[0m \u001b[0mi\u001b[0m \u001b[0;32min\u001b[0m \u001b[0mlink_sort\u001b[0m\u001b[0;34m]\u001b[0m\u001b[0;34m\u001b[0m\u001b[0;34m\u001b[0m\u001b[0m\n\u001b[0m\u001b[1;32m    465\u001b[0m \u001b[0;34m\u001b[0m\u001b[0m\n\u001b[1;32m    466\u001b[0m         \u001b[0;31m# Combine to a single array.\u001b[0m\u001b[0;34m\u001b[0m\u001b[0;34m\u001b[0m\u001b[0;34m\u001b[0m\u001b[0m\n",
      "\u001b[0;31mIndexError\u001b[0m: list index out of range"
     ]
    }
   ],
   "source": [
    "# Compute rotation curves:\n",
    "\n",
    "rotationCurves = {}\n",
    "reduced = { key : val for key,val in tracer.items() \\\n",
    "         if key in range(127,127-len(tracer)+1,-step)}\n",
    "for snapID,data in reduced.items():\n",
    "#    if snapID == 115 or snapID == 103:\n",
    "#        continue\n",
    "    z = data[0]; gn = data[1]; sgn = data[2]\n",
    "    snap = snapshot_obj.Snapshot(\"CDM_V1_LR\",snapID)\n",
    "    \n",
    "    # Read halo:\n",
    "    fnum = snap.file_of_halo(gn,sgn)\n",
    "    SGNs = snap.get_subhalos(\"SubGroupNumber\",fnums=[fnum])\n",
    "    GNs = snap.get_subhalos(\"GroupNumber\",fnums=[fnum])\n",
    "    \n",
    "    vmax = snap.get_subhalos(\"Vmax\",fnums=[fnum]) / 100000 \n",
    "                                                        # cm/s to km/s \n",
    "    rmax = snap.get_subhalos(\"VmaxRadius\",fnums=[fnum]) \\\n",
    "                * u.cm.to(u.kpc)\n",
    "    \n",
    "    # Select halo:\n",
    "    halo_mask = np.logical_and(SGNs == sgn,GNs == gn)\n",
    "    vmax = vmax[halo_mask]\n",
    "    rmax = rmax[halo_mask]\n",
    "    \n",
    "    # Rotation curve:\n",
    "    print(snapID)\n",
    "    r, v_circ = dataset_compute.compute_rotation_curve(snap, gn, sgn)\n",
    "    r = r * u.cm.to(u.kpc)\n",
    "    v_circ = v_circ * u.cm.to(u.km)\n",
    "    rotationCurves[snapID] = (r,v_circ,z)"
   ]
  },
  {
   "cell_type": "code",
   "execution_count": null,
   "metadata": {
    "code_folding": []
   },
   "outputs": [],
   "source": [
    "fig, axes = plt.subplots()\n",
    "\n",
    "# Set axes:\n",
    "#axes.set_xscale('log')\n",
    "#axes.set_yscale('log')\n",
    "axes.set_xlim(0,80)\n",
    "#axes.set_ylim(y_down,y_up)\n",
    "\n",
    "# Set labels:\n",
    "axes.set_xlabel('$r[\\mathrm{kpc}]$', fontsize=16)\n",
    "axes.set_ylabel('$v_{\\mathrm{circ}}[\\mathrm{kms^{-1}}]$', fontsize=16)\n",
    "\n",
    "# Galaxy text:\n",
    "axes.set_title('Rotation curve: GN={}, SGN={}'.format(gn,sgn))\n",
    "\n",
    "step = 4\n",
    "toolight = int(len(rotationCurves)/4)\n",
    "colors = plt.cm.Blues(np.linspace(0,1,len(rotationCurves) + toolight))[toolight:]\n",
    "\n",
    "for i,xy in enumerate(rotationCurves.values()):\n",
    "    axes.plot(xy[0], xy[1], label='z={:06.4f}'.format(xy[2]), c=colors[i])\n",
    "    \n",
    "plt.legend(loc='lower right')\n",
    "plt.tight_layout()"
   ]
  },
  {
   "cell_type": "code",
   "execution_count": null,
   "metadata": {},
   "outputs": [],
   "source": []
  }
 ],
 "metadata": {
  "kernelspec": {
   "display_name": "Python 3",
   "language": "python",
   "name": "python3"
  },
  "language_info": {
   "codemirror_mode": {
    "name": "ipython",
    "version": 3
   },
   "file_extension": ".py",
   "mimetype": "text/x-python",
   "name": "python",
   "nbconvert_exporter": "python",
   "pygments_lexer": "ipython3",
   "version": "3.7.4"
  }
 },
 "nbformat": 4,
 "nbformat_minor": 4
}
