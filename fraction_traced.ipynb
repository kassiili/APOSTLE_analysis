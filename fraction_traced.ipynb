{
 "cells": [
  {
   "cell_type": "code",
   "execution_count": null,
   "metadata": {},
   "outputs": [],
   "source": [
    "%load_ext autoreload\n",
    "%autoreload 2\n",
    "\n",
    "%config IPCompleter.greedy=True"
   ]
  },
  {
   "cell_type": "code",
   "execution_count": null,
   "metadata": {},
   "outputs": [],
   "source": [
    "import matplotlib.pyplot as plt\n",
    "import numpy as np\n",
    "import h5py\n",
    "from astropy import units\n",
    "from pathlib import Path\n",
    "import os\n",
    "import time\n",
    "\n",
    "import snapshot_obj\n",
    "import dataset_compute\n",
    "import simulation_tracing\n",
    "import curve_fit\n",
    "\n",
    "import importlib"
   ]
  },
  {
   "cell_type": "code",
   "execution_count": null,
   "metadata": {},
   "outputs": [],
   "source": [
    "importlib.reload(snapshot_obj)\n",
    "importlib.reload(dataset_compute)\n",
    "importlib.reload(simulation_tracing)\n",
    "importlib.reload(curve_fit)"
   ]
  },
  {
   "cell_type": "markdown",
   "metadata": {},
   "source": [
    "# Fraction of halos traced"
   ]
  },
  {
   "cell_type": "markdown",
   "metadata": {},
   "source": [
    "## Construct data dictionary\n",
    "\n",
    "Add entries for each simulation, and specify M31 and MW galaxies:"
   ]
  },
  {
   "cell_type": "code",
   "execution_count": null,
   "metadata": {
    "code_folding": []
   },
   "outputs": [],
   "source": [
    "snap_z0_id = 127\n",
    "sim_ids = [\"V1_LR_fix\", \"V1_LR_curvaton_p082_fix\", \"V1_LR_curvaton_p084_fix\"]\n",
    "names = [\"LCDM\", \"p082\", \"p084\"]\n",
    "paths = [\"\", \"/media/kassiili/USBFREE/LG_simulations\", \n",
    "        \"/media/kassiili/USBFREE/LG_simulations\"]\n",
    "paths = [\"\", \"\", \"\"]\n",
    "\n",
    "# Define M31 and MW in each simulation:\n",
    "m31 = [(1,0), (1,0), (1,0)]\n",
    "mw = [(2,0), (1,1), (1,1)]\n",
    "\n",
    "data = {}\n",
    "for name, sim_id, sim_path, m31_ns, mw_ns in zip(names, sim_ids, paths, m31, mw):\n",
    "    print(name)\n",
    "    snap_z0 = snapshot_obj.Snapshot(sim_id, snap_z0_id, name=name, sim_path=sim_path)\n",
    "    data[name] = {\"snapshot_z0\": snap_z0,\n",
    "                  \"tracer\": simulation_tracing.MergerTree(snap_z0),\n",
    "                  \"M31_identifier\": m31_ns,\n",
    "                  \"MW_identifier\": mw_ns}"
   ]
  },
  {
   "cell_type": "markdown",
   "metadata": {},
   "source": [
    "Choose how to distinguish between satellite and isolated galaxies:"
   ]
  },
  {
   "cell_type": "code",
   "execution_count": null,
   "metadata": {},
   "outputs": [],
   "source": [
    "distinction = \"by_gn\""
   ]
  },
  {
   "cell_type": "code",
   "execution_count": null,
   "metadata": {},
   "outputs": [],
   "source": [
    "def repeat_columns(arr, n):\n",
    "    rep = np.repeat(arr, n)\n",
    "    rep = rep.reshape((np.size(arr, axis=0), n))\n",
    "    \n",
    "    return rep\n",
    "\n",
    "def compute_fraction(mask_traced, mask):\n",
    "    # Sum over all traced in mask at each snapshot:\n",
    "    fraction = np.array([np.sum(np.logical_and(mask_traced_to_snap, mask)) \n",
    "                         for mask_traced_to_snap in mask_traced.T])\n",
    "    \n",
    "    # Divide by total number of items in mask:\n",
    "    fraction = fraction / np.sum(mask)\n",
    "    \n",
    "    return fraction"
   ]
  },
  {
   "cell_type": "code",
   "execution_count": null,
   "metadata": {},
   "outputs": [],
   "source": [
    "for name, sim_data in data.items():\n",
    "    snap_z0 = sim_data[\"snapshot_z0\"]\n",
    "    tracer = sim_data[\"tracer\"]\n",
    "    tracer.trace_all(100)\n",
    "    print(tracer.get_tracer_array().shape)\n",
    "    \n",
    "    sim_data[\"redshift\"] = tracer.get_redshifts()\n",
    "    \n",
    "    # Split into satellites:\n",
    "    if distinction == \"by_r\":\n",
    "        masks_sat, mask_isol = dataset_compute.split_satellites_by_distance(\n",
    "            snap_z0, sim_data[\"M31_identifier\"], sim_data[\"MW_identifier\"])\n",
    "    elif distinction == \"by_gn\":\n",
    "        masks_sat, mask_isol = dataset_compute.split_satellites_by_group_number(\n",
    "            snap_z0, sim_data[\"M31_identifier\"], sim_data[\"MW_identifier\"])\n",
    "        \n",
    "    mask_sat = np.logical_or.reduce(masks_sat)\n",
    "    mask_lum, mask_dark = dataset_compute.split_luminous(snap_z0)\n",
    "    mask_nonzero_vmax = dataset_compute.prune_vmax(snap_z0)\n",
    "    print(mask_nonzero_vmax.shape)\n",
    "     \n",
    "    mask_sat_lum = np.logical_and.reduce(\n",
    "        [np.logical_or.reduce(masks_sat), mask_lum, mask_nonzero_vmax])\n",
    "    mask_sat_dark = np.logical_and.reduce(\n",
    "        [np.logical_or.reduce(masks_sat), mask_dark, mask_nonzero_vmax])\n",
    "    mask_isol_lum = np.logical_and.reduce(\n",
    "        [mask_isol, mask_lum, mask_nonzero_vmax])\n",
    "    mask_isol_dark = np.logical_and.reduce(\n",
    "        [mask_isol, mask_dark, mask_nonzero_vmax])\n",
    "    \n",
    "    mask_traced = (tracer.get_tracer_array() < tracer.no_match)\n",
    "    \n",
    "    # Add separate datasets for each subhalo to the data dictionary:\n",
    "\n",
    "    sim_data[\"fraction_traced\"] = \\\n",
    "     {\"satellites\": \n",
    "      {\"luminous\": compute_fraction(mask_traced, mask_sat_lum),\n",
    "       \"dark\": compute_fraction(mask_traced, mask_sat_dark)\n",
    "      },\n",
    "      \"isolated\": \n",
    "      {\"luminous\": compute_fraction(mask_traced, mask_isol_lum),\n",
    "       \"dark\": compute_fraction(mask_traced, mask_isol_dark)\n",
    "      },\n",
    "      \"all\": \n",
    "      {\"luminous\": compute_fraction(\n",
    "          mask_traced, np.logical_and(mask_lum, mask_nonzero_vmax)),\n",
    "       \"dark\": compute_fraction(\n",
    "           mask_traced, np.logical_and(mask_dark, mask_nonzero_vmax))\n",
    "      }\n",
    "     }\n",
    "    \n",
    "    sim_data[\"count_z0\"] = \\\n",
    "     {\"satellites\": \n",
    "      {\"luminous\": np.sum(mask_sat_lum),\n",
    "       \"dark\": np.sum(mask_sat_dark)\n",
    "      },\n",
    "      \"isolated\": \n",
    "      {\"luminous\": np.sum(mask_isol_lum),\n",
    "       \"dark\": np.sum(mask_isol_dark)\n",
    "      },\n",
    "      \"all\": \n",
    "      {\"luminous\": np.sum(np.logical_and(mask_lum, mask_nonzero_vmax)),\n",
    "       \"dark\": np.sum(np.logical_and(mask_dark, mask_nonzero_vmax))\n",
    "      }\n",
    "     }"
   ]
  },
  {
   "cell_type": "markdown",
   "metadata": {},
   "source": [
    "## Plot"
   ]
  },
  {
   "cell_type": "code",
   "execution_count": null,
   "metadata": {},
   "outputs": [],
   "source": [
    "# Set some parameters:\n",
    "x_down = 0; x_up = 1\n",
    "y_down = 0; y_up = 1.2\n",
    "\n",
    "# Set marker styles:\n",
    "fcolor = [\"black\", \"red\", \"blue\", \"green\"]\n",
    "mcolor = [\"gray\", \"pink\", \"lightblue\", \"lightgreen\"]\n",
    "marker = ['+', \"o\", \"^\", 1]"
   ]
  },
  {
   "cell_type": "code",
   "execution_count": null,
   "metadata": {},
   "outputs": [],
   "source": [
    "fig, axes = plt.subplots(ncols=2, figsize=(14,6))\n",
    "plt.subplots_adjust(wspace=0.3)\n",
    "\n",
    "# Set axis:\n",
    "for ax in axes:\n",
    "    ax.set_xlim(x_down, x_up)\n",
    "    ax.set_ylim(y_down, y_up)\n",
    "#     ax.set_xlabel('$Mass [$M_odot$]$', fontsize=16)\n",
    "#     ax.set_ylabel('$v_{\\mathrm{1 kpc}} [\\mathrm{kms^{-1}}]$', fontsize=16)\n",
    "\n",
    "axes[0].set_title('Satellite galaxies')\n",
    "axes[1].set_title('Isolated galaxies')\n",
    "\n",
    "# Add scatter plots:\n",
    "print(data[\"LCDM\"].keys())\n",
    "for i, (name, entry) in enumerate(data.items()):\n",
    "    print(name)\n",
    "    x = entry['redshift']\n",
    "    y = entry['fraction_traced']['satellites']['luminous'] \n",
    "    print(entry['count_z0']['satellites']['luminous'])\n",
    "    axes[0].plot(x, y, c=mcolor[i], label='{} luminous'.format(name))\n",
    "    \n",
    "    x = entry['redshift']\n",
    "    y = entry['fraction_traced']['satellites']['dark']\n",
    "    print(entry['count_z0']['satellites']['dark'])\n",
    "    axes[0].plot(x, y, c=fcolor[i], label='{} dark'.format(name))\n",
    "        \n",
    "    x = entry['redshift']\n",
    "    y = entry['fraction_traced']['isolated']['luminous']\n",
    "    print(entry['count_z0']['isolated']['luminous'])\n",
    "    axes[1].plot(x, y, c=mcolor[i], label='{} luminous'.format(name))\n",
    "    \n",
    "    x = entry['redshift']\n",
    "    y = entry['fraction_traced']['isolated']['dark']\n",
    "    print(entry['count_z0']['isolated']['dark'])\n",
    "    axes[1].plot(x, y, c=fcolor[i], label='{} dark'.format(name))\n",
    "    \n",
    "# Add median curves:\n",
    "# n_median_points = 7\n",
    "# for i, (name, entry) in enumerate(data.items()):\n",
    "#     x = entry['Mass']['satellites']['all']\n",
    "#     y = entry['V1kpc']['satellites']['all']   \n",
    "#     print(\"# of satellites: {}\".format(x.size))\n",
    "#     median = curve_fit.median_trend(x, y, n_points_per_bar=n_median_points)\n",
    "#     if median is not None:\n",
    "#         axes[0].plot(median[0], median[1], c=fcolor[i], linestyle='--')\n",
    "#     else:\n",
    "#         print(\"Could not fit median for:\", name)\n",
    "    \n",
    "#     x = entry['Mass']['isolated']['all']\n",
    "#     y = entry['V1kpc']['isolated']['all']\n",
    "#     print(\"# of isolated galaxies: {}\".format(x.size))\n",
    "#     median = curve_fit.median_trend(x, y, n_points_per_bar=n_median_points)\n",
    "#     if median is not None:\n",
    "#         axes[1].plot(median[0], median[1], c=fcolor[i], linestyle='--')\n",
    "#     else:\n",
    "#         print(\"Could not fit median for:\", name)\n",
    "    \n",
    "axes[0].legend(loc='upper right')\n",
    "plt.tight_layout()\n",
    "\n",
    "#plt.savefig(filename, dpi=200)"
   ]
  },
  {
   "cell_type": "code",
   "execution_count": null,
   "metadata": {},
   "outputs": [],
   "source": [
    "fig, axes = plt.subplots()\n",
    "axes.invert_xaxis()\n",
    "axes.set_ylim(0,1.2)\n",
    "axes.plot(z, fraction)"
   ]
  },
  {
   "cell_type": "code",
   "execution_count": null,
   "metadata": {},
   "outputs": [],
   "source": []
  }
 ],
 "metadata": {
  "kernelspec": {
   "display_name": "Python 3",
   "language": "python",
   "name": "python3"
  },
  "language_info": {
   "codemirror_mode": {
    "name": "ipython",
    "version": 3
   },
   "file_extension": ".py",
   "mimetype": "text/x-python",
   "name": "python",
   "nbconvert_exporter": "python",
   "pygments_lexer": "ipython3"
  }
 },
 "nbformat": 4,
 "nbformat_minor": 4
}
