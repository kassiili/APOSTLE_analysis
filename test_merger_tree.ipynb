{
 "cells": [
  {
   "cell_type": "code",
   "execution_count": 1,
   "metadata": {},
   "outputs": [],
   "source": [
    "%load_ext autoreload\n",
    "%autoreload 2\n",
    "\n",
    "%config IPCompleter.greedy=True"
   ]
  },
  {
   "cell_type": "code",
   "execution_count": 2,
   "metadata": {},
   "outputs": [],
   "source": [
    "import data_file_manipulation\n",
    "import simulation\n",
    "import halo_matching\n",
    "import snapshot_obj \n",
    "import simulation_tracing\n",
    "\n",
    "import importlib"
   ]
  },
  {
   "cell_type": "code",
   "execution_count": 3,
   "metadata": {},
   "outputs": [
    {
     "data": {
      "text/plain": [
       "<module 'simulation_tracing' from '/home/kassiili/Curvaton_Simulations/analysis/simulation_tracing.py'>"
      ]
     },
     "execution_count": 3,
     "metadata": {},
     "output_type": "execute_result"
    }
   ],
   "source": [
    "importlib.reload(data_file_manipulation)\n",
    "importlib.reload(simulation)\n",
    "importlib.reload(halo_matching)\n",
    "importlib.reload(snapshot_obj)\n",
    "importlib.reload(simulation_tracing)"
   ]
  },
  {
   "cell_type": "code",
   "execution_count": 4,
   "metadata": {},
   "outputs": [
    {
     "name": "stdout",
     "output_type": "stream",
     "text": [
      "[100 101 102 103 104 105 106 107 108 109 110 111 112 113 114 115 116 117\n",
      " 118 119 120 121 122 123 124 125 126 127]\n"
     ]
    }
   ],
   "source": [
    "sim_id = \"V1_LR_fix\"\n",
    "print(data_file_manipulation.get_snap_ids(sim_id))"
   ]
  },
  {
   "cell_type": "code",
   "execution_count": 5,
   "metadata": {},
   "outputs": [
    {
     "name": "stdout",
     "output_type": "stream",
     "text": [
      "128\n"
     ]
    }
   ],
   "source": [
    "sim = simulation.Simulation(sim_id)\n",
    "print(sim.get_snap_num())"
   ]
  },
  {
   "cell_type": "code",
   "execution_count": 6,
   "metadata": {},
   "outputs": [
    {
     "name": "stdout",
     "output_type": "stream",
     "text": [
      "127 -> 126: 403694 trials, 778 matches\n"
     ]
    }
   ],
   "source": [
    "snap1 = snapshot_obj.Snapshot(\"V1_LR_fix\", 127)\n",
    "snap2 = snapshot_obj.Snapshot(\"V1_LR_fix\", 126) \n",
    "matcher = halo_matching.SubhaloMatcher()\n",
    "matches = matcher.match_snapshots(snap1, snap2)"
   ]
  },
  {
   "cell_type": "code",
   "execution_count": 7,
   "metadata": {},
   "outputs": [
    {
     "name": "stdout",
     "output_type": "stream",
     "text": [
      "[         0          1        241          2          3          4\n",
      "          5          7          8          6          9         10\n",
      "         11         12         14         13         15         16\n",
      "         17         23         20         19         21         22\n",
      "         25 4294967296         24         32         30         28\n",
      "         29         31         34 4294967296 4294967296        478\n",
      "         42        242 4294967296 4294967296 4294967296 4294967296\n",
      " 4294967296 4294967296 4294967296 4294967296 4294967296 4294967296\n",
      " 4294967296 4294967296 4294967296 4294967296 4294967296 4294967296\n",
      " 4294967296         60         61         62        201         63\n",
      "         64         65         66         67         68         69\n",
      "         70         71         72         73         74         76\n",
      "        376         78         77 4294967296         79         81\n",
      "        454         82         80        202         83         92\n",
      "         84         89         86         87 4294967296         85\n",
      "         90         93         94         97         95 4294967296\n",
      " 4294967296 4294967296 4294967296 4294967296]\n"
     ]
    }
   ],
   "source": [
    "print(matches[:100])"
   ]
  },
  {
   "cell_type": "code",
   "execution_count": 18,
   "metadata": {},
   "outputs": [],
   "source": [
    "merger_tree = simulation_tracing.MergerTree(sim, matcher, branching=\"backward\")\n",
    "tracer_dict = merger_tree.trace_all(123, 127)"
   ]
  },
  {
   "cell_type": "code",
   "execution_count": 15,
   "metadata": {},
   "outputs": [
    {
     "name": "stdout",
     "output_type": "stream",
     "text": [
      "4\n"
     ]
    }
   ],
   "source": [
    "print(len(tracer_dict))"
   ]
  },
  {
   "cell_type": "code",
   "execution_count": 16,
   "metadata": {},
   "outputs": [],
   "source": [
    "snap_123 = snapshot_obj.Snapshot(sim_id, 123)\n",
    "matches_123 = snap_123.get_subhalos(\"Descendants\", group=\"Extended/Heritage/BackwardBranching\")"
   ]
  },
  {
   "cell_type": "code",
   "execution_count": 17,
   "metadata": {},
   "outputs": [
    {
     "name": "stdout",
     "output_type": "stream",
     "text": [
      "1127\n",
      "[         0          1          2          3          4          6\n",
      "          5         11          9         10         12         18\n",
      "         14         15         16         17         22         23\n",
      "         20         19         24         30         27         29\n",
      "         33         32 4294967296         37         34 4294967296\n",
      "         38 4294967296 4294967296 4294967296 4294967296 4294967296\n",
      " 4294967296 4294967296 4294967296 4294967296 4294967296 4294967296\n",
      " 4294967296 4294967296 4294967296 4294967296 4294967296 4294967296\n",
      " 4294967296 4294967296         54         55         56         57\n",
      "        306         59         58         60         61         62\n",
      "         64         63 4294967296         65         66         67\n",
      "         71         72         70         73 4294967296         74\n",
      "         69         75         76         77        427         78\n",
      "         79         88         80         93         82         86\n",
      " 4294967296         81        566         84 4294967296         83\n",
      "         89 4294967296 4294967296 4294967296 4294967296 4294967296\n",
      " 4294967296 4294967296 4294967296 4294967296]\n"
     ]
    }
   ],
   "source": [
    "print(matches_123.size)\n",
    "print(matches_123[:100])"
   ]
  },
  {
   "cell_type": "code",
   "execution_count": 20,
   "metadata": {},
   "outputs": [
    {
     "name": "stdout",
     "output_type": "stream",
     "text": [
      "{123: array([         0,          1,          2, ..., 4294967296, 4294967296,\n",
      "       4294967296]), 124: array([         0,          1,          3, ..., 4294967296, 4294967296,\n",
      "       4294967296]), 125: array([         0,          1,          2, ..., 4294967296, 4294967296,\n",
      "       4294967296]), 126: array([         0,          1,          3, ..., 4294967296, 4294967296,\n",
      "       4294967296])}\n"
     ]
    }
   ],
   "source": [
    "print(merger_tree.get_all_matches())"
   ]
  },
  {
   "cell_type": "code",
   "execution_count": 21,
   "metadata": {},
   "outputs": [
    {
     "data": {
      "text/plain": [
       "{123: array([         0,          1,          2, ..., 4294967296, 4294967296,\n",
       "        4294967296]),\n",
       " 124: array([         0,          1,          3, ..., 4294967296, 4294967296,\n",
       "        4294967296]),\n",
       " 125: array([         0,          1,          2, ..., 4294967296, 4294967296,\n",
       "        4294967296]),\n",
       " 126: array([         0,          1,          3, ..., 4294967296, 4294967296,\n",
       "        4294967296])}"
      ]
     },
     "execution_count": 21,
     "metadata": {},
     "output_type": "execute_result"
    }
   ],
   "source": [
    "merger_tree.store_tracer()"
   ]
  },
  {
   "cell_type": "code",
   "execution_count": 22,
   "metadata": {},
   "outputs": [
    {
     "name": "stdout",
     "output_type": "stream",
     "text": [
      "123\n",
      "124\n",
      "125\n",
      "126\n",
      "127\n"
     ]
    }
   ],
   "source": [
    "msnaps = merger_tree.get_matched_snapshots()\n",
    "for s in msnaps:\n",
    "    print(s.snap_id)"
   ]
  },
  {
   "cell_type": "code",
   "execution_count": 23,
   "metadata": {},
   "outputs": [
    {
     "name": "stdout",
     "output_type": "stream",
     "text": [
      "[1.00638512e-01 7.45670680e-02 4.91132026e-02 2.42622770e-02\n",
      " 2.22044605e-16]\n"
     ]
    }
   ],
   "source": [
    "print(merger_tree.get_redshifts())"
   ]
  },
  {
   "cell_type": "code",
   "execution_count": 24,
   "metadata": {},
   "outputs": [],
   "source": [
    "snap_tracer = simulation_tracing.SnapshotTracer(123, merger_tree)\n",
    "\n",
    "tracer = snap_tracer.trace(127)"
   ]
  },
  {
   "cell_type": "code",
   "execution_count": 25,
   "metadata": {},
   "outputs": [
    {
     "name": "stdout",
     "output_type": "stream",
     "text": [
      "[[4294967296         40 4294967296 4294967296 4294967296 4294967296]\n",
      " [4294967296         41 4294967296 4294967296 4294967296 4294967296]\n",
      " [4294967296         42 4294967296 4294967296 4294967296 4294967296]\n",
      " [4294967296         43 4294967296 4294967296 4294967296 4294967296]\n",
      " [4294967296         44 4294967296 4294967296 4294967296 4294967296]\n",
      " [4294967296         45 4294967296 4294967296 4294967296 4294967296]\n",
      " [4294967296         46 4294967296 4294967296 4294967296 4294967296]\n",
      " [4294967296         47 4294967296 4294967296 4294967296 4294967296]\n",
      " [4294967296         48 4294967296 4294967296 4294967296 4294967296]\n",
      " [4294967296         49 4294967296 4294967296 4294967296 4294967296]\n",
      " [4294967296         50         54         59         60         55]\n",
      " [4294967296         51         55         60         62         57]\n",
      " [4294967296         52         56         61         61         56]\n",
      " [4294967296         53         57         62         63         59]\n",
      " [4294967296         54        306         65        321        310]\n",
      " [4294967296         55         59         64         65         61]\n",
      " [4294967296         56         58         67         66         62]\n",
      " [4294967296         57         60         66         67         63]\n",
      " [4294967296         58         61         69         69         65]\n",
      " [4294967296         59         62         68         68         64]\n",
      " [4294967296         60         64         71         70         66]\n",
      " [4294967296         61         63         70         71         67]\n",
      " [4294967296         62 4294967296         68         68         64]\n",
      " [4294967296         63         65         72         73         69]\n",
      " [4294967296         64         66         73         74         70]\n",
      " [4294967296         65         67         76         76         71]\n",
      " [4294967296         66         71         74         80         80]\n",
      " [4294967296         67         72         80         79         76]\n",
      " [4294967296         68         70         79        360        340]\n",
      " [4294967296         69         73         84         84         84]]\n"
     ]
    }
   ],
   "source": [
    "print(tracer[40:70, -6:])"
   ]
  },
  {
   "cell_type": "code",
   "execution_count": null,
   "metadata": {},
   "outputs": [],
   "source": []
  }
 ],
 "metadata": {
  "kernelspec": {
   "display_name": "Python 3",
   "language": "python",
   "name": "python3"
  },
  "language_info": {
   "codemirror_mode": {
    "name": "ipython",
    "version": 3
   },
   "file_extension": ".py",
   "mimetype": "text/x-python",
   "name": "python",
   "nbconvert_exporter": "python",
   "pygments_lexer": "ipython3",
   "version": "3.7.4"
  }
 },
 "nbformat": 4,
 "nbformat_minor": 4
}
