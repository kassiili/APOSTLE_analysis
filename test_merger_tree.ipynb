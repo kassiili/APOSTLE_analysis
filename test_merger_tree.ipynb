{
 "cells": [
  {
   "cell_type": "code",
   "execution_count": 1,
   "metadata": {},
   "outputs": [],
   "source": [
    "%load_ext autoreload\n",
    "%autoreload 2\n",
    "\n",
    "%config IPCompleter.greedy=True"
   ]
  },
  {
   "cell_type": "code",
   "execution_count": 2,
   "metadata": {},
   "outputs": [],
   "source": [
    "import numpy as np\n",
    "import importlib\n",
    "\n",
    "import data_file_manipulation\n",
    "import simulation\n",
    "import halo_matching\n",
    "import snapshot_obj \n",
    "import simulation_tracing"
   ]
  },
  {
   "cell_type": "code",
   "execution_count": 3,
   "metadata": {},
   "outputs": [
    {
     "data": {
      "text/plain": [
       "<module 'simulation_tracing' from '/home/kassiili/Curvaton_Simulations/analysis/simulation_tracing.py'>"
      ]
     },
     "execution_count": 3,
     "metadata": {},
     "output_type": "execute_result"
    }
   ],
   "source": [
    "importlib.reload(data_file_manipulation)\n",
    "importlib.reload(simulation)\n",
    "importlib.reload(halo_matching)\n",
    "importlib.reload(snapshot_obj)\n",
    "importlib.reload(simulation_tracing)"
   ]
  },
  {
   "cell_type": "code",
   "execution_count": 4,
   "metadata": {},
   "outputs": [
    {
     "name": "stdout",
     "output_type": "stream",
     "text": [
      "[100 101 102 103 104 105 106 107 108 109 110 111 112 113 114 115 116 117\n",
      " 118 119 120 121 122 123 124 125 126 127]\n"
     ]
    }
   ],
   "source": [
    "sim_id = \"V1_LR_fix\"\n",
    "print(data_file_manipulation.get_snap_ids(sim_id))"
   ]
  },
  {
   "cell_type": "code",
   "execution_count": 20,
   "metadata": {},
   "outputs": [
    {
     "name": "stdout",
     "output_type": "stream",
     "text": [
      "128\n",
      "[100 101 102 103 104 105 106 107 108 109 110 111 112 113 114 115 116 117\n",
      " 118 119 120 121 122 123 124 125 126 127]\n"
     ]
    }
   ],
   "source": [
    "sim = simulation.Simulation(sim_id)\n",
    "print(sim.get_snap_num())\n",
    "print(sim.get_snap_ids())"
   ]
  },
  {
   "cell_type": "code",
   "execution_count": 6,
   "metadata": {},
   "outputs": [],
   "source": [
    "snap1 = snapshot_obj.Snapshot(\"V1_LR_fix\", 127)\n",
    "snap2 = snapshot_obj.Snapshot(\"V1_LR_fix\", 126) \n",
    "matcher = halo_matching.SnapshotMatcher()"
   ]
  },
  {
   "cell_type": "code",
   "execution_count": 9,
   "metadata": {},
   "outputs": [],
   "source": [
    "matches_in1, matches_in2 = matcher.match_snapshots(snap1, snap2)"
   ]
  },
  {
   "cell_type": "code",
   "execution_count": 8,
   "metadata": {},
   "outputs": [
    {
     "name": "stdout",
     "output_type": "stream",
     "text": [
      "True\n",
      "[         0          1          2 ... 4294967296 4294967296 4294967296]\n",
      "True\n"
     ]
    }
   ],
   "source": [
    "snap = snapshot_obj.Snapshot(\"V1_LR_fix\", 123)\n",
    "print(data_file_manipulation.group_dataset_exists(snap, \"Descendants\", \"Extended/Heritage/BackwardBranching\"))\n",
    "test = snap.get_subhalos(\"Descendants\", group=\"Extended/Heritage/BackwardBranching\")\n",
    "print(test)\n",
    "print(data_file_manipulation.group_dataset_exists(snap, \"Descendants\", \"Extended/Heritage/BackwardBranching\"))"
   ]
  },
  {
   "cell_type": "code",
   "execution_count": 10,
   "metadata": {},
   "outputs": [
    {
     "name": "stdout",
     "output_type": "stream",
     "text": [
      "[         0          1        241          2          3          4\n",
      "          5          7          8          6          9         10\n",
      "         11         12         14         13         15         16\n",
      "         17         23         20         19         21         22\n",
      "         25 4294967296         24         32         30         28\n",
      "         29         31         34 4294967296 4294967296        478\n",
      "         42        242 4294967296 4294967296 4294967296 4294967296\n",
      " 4294967296 4294967296 4294967296 4294967296 4294967296 4294967296\n",
      " 4294967296 4294967296 4294967296 4294967296 4294967296 4294967296\n",
      " 4294967296         60         61         62        201         63\n",
      "         64         65         66         67         68         69\n",
      "         70         71         72         73         74         76\n",
      "        376         78         77 4294967296         79         81\n",
      "        454         82         80        202         83         92\n",
      "         84         89         86         87 4294967296         85\n",
      "         90         93         94         97         95 4294967296\n",
      " 4294967296 4294967296 4294967296 4294967296]\n"
     ]
    }
   ],
   "source": [
    "print(matches_in1[:100])"
   ]
  },
  {
   "cell_type": "code",
   "execution_count": 11,
   "metadata": {
    "collapsed": true,
    "jupyter": {
     "outputs_hidden": true
    }
   },
   "outputs": [
    {
     "name": "stdout",
     "output_type": "stream",
     "text": [
      "[[         0 4294967296 4294967296]\n",
      " [         1 4294967296 4294967296]\n",
      " [         3 4294967296 4294967296]\n",
      " [         4 4294967296 4294967296]\n",
      " [         5 4294967296 4294967296]\n",
      " [         6 4294967296 4294967296]\n",
      " [         9 4294967296 4294967296]\n",
      " [         7 4294967296 4294967296]\n",
      " [         8 4294967296 4294967296]\n",
      " [        10 4294967296 4294967296]\n",
      " [        11 4294967296 4294967296]\n",
      " [        12 4294967296 4294967296]\n",
      " [        13 4294967296 4294967296]\n",
      " [        15 4294967296 4294967296]\n",
      " [        14 4294967296 4294967296]\n",
      " [        16 4294967296 4294967296]\n",
      " [        17 4294967296 4294967296]\n",
      " [        18 4294967296 4294967296]\n",
      " [       411 4294967296 4294967296]\n",
      " [        21 4294967296 4294967296]\n",
      " [        20 4294967296 4294967296]\n",
      " [        22 4294967296 4294967296]\n",
      " [        23 4294967296 4294967296]\n",
      " [        19 4294967296 4294967296]\n",
      " [        26 4294967296 4294967296]\n",
      " [        24 4294967296 4294967296]\n",
      " [4294967296 4294967296 4294967296]\n",
      " [4294967296 4294967296 4294967296]\n",
      " [        29 4294967296 4294967296]\n",
      " [        30 4294967296 4294967296]\n",
      " [        28 4294967296 4294967296]\n",
      " [        31 4294967296 4294967296]\n",
      " [        27 4294967296 4294967296]\n",
      " [4294967296 4294967296 4294967296]\n",
      " [        32 4294967296 4294967296]\n",
      " [4294967296 4294967296 4294967296]\n",
      " [4294967296 4294967296 4294967296]\n",
      " [4294967296 4294967296 4294967296]\n",
      " [4294967296 4294967296 4294967296]\n",
      " [4294967296 4294967296 4294967296]\n",
      " [4294967296 4294967296 4294967296]\n",
      " [4294967296 4294967296 4294967296]\n",
      " [        36 4294967296 4294967296]\n",
      " [4294967296 4294967296 4294967296]\n",
      " [4294967296 4294967296 4294967296]\n",
      " [4294967296 4294967296 4294967296]\n",
      " [4294967296 4294967296 4294967296]\n",
      " [4294967296 4294967296 4294967296]\n",
      " [4294967296 4294967296 4294967296]\n",
      " [4294967296 4294967296 4294967296]\n",
      " [4294967296 4294967296 4294967296]\n",
      " [4294967296 4294967296 4294967296]\n",
      " [4294967296 4294967296 4294967296]\n",
      " [4294967296 4294967296 4294967296]\n",
      " [4294967296 4294967296 4294967296]\n",
      " [4294967296 4294967296 4294967296]\n",
      " [4294967296 4294967296 4294967296]\n",
      " [4294967296 4294967296 4294967296]\n",
      " [4294967296 4294967296 4294967296]\n",
      " [4294967296 4294967296 4294967296]\n",
      " [        55 4294967296 4294967296]\n",
      " [        56 4294967296 4294967296]\n",
      " [        57 4294967296 4294967296]\n",
      " [        59 4294967296 4294967296]\n",
      " [        60 4294967296 4294967296]\n",
      " [        61 4294967296 4294967296]\n",
      " [        62 4294967296 4294967296]\n",
      " [        63 4294967296 4294967296]\n",
      " [        64 4294967296 4294967296]\n",
      " [        65 4294967296 4294967296]\n",
      " [        66 4294967296 4294967296]\n",
      " [        67 4294967296 4294967296]\n",
      " [        68 4294967296 4294967296]\n",
      " [        69 4294967296 4294967296]\n",
      " [        70 4294967296 4294967296]\n",
      " [4294967296 4294967296 4294967296]\n",
      " [        71 4294967296 4294967296]\n",
      " [        74 4294967296 4294967296]\n",
      " [        73 4294967296 4294967296]\n",
      " [        76 4294967296 4294967296]\n",
      " [        80 4294967296 4294967296]\n",
      " [        77 4294967296 4294967296]\n",
      " [        79 4294967296 4294967296]\n",
      " [        82 4294967296 4294967296]\n",
      " [        84 4294967296 4294967296]\n",
      " [        89 4294967296 4294967296]\n",
      " [        86 4294967296 4294967296]\n",
      " [        87 4294967296 4294967296]\n",
      " [4294967296 4294967296 4294967296]\n",
      " [        85 4294967296 4294967296]\n",
      " [        90 4294967296 4294967296]\n",
      " [       617 4294967296 4294967296]\n",
      " [        83 4294967296 4294967296]\n",
      " [        91 4294967296 4294967296]\n",
      " [        92 4294967296 4294967296]\n",
      " [        94 4294967296 4294967296]\n",
      " [4294967296 4294967296 4294967296]\n",
      " [        93 4294967296 4294967296]\n",
      " [4294967296 4294967296 4294967296]\n",
      " [4294967296 4294967296 4294967296]]\n"
     ]
    }
   ],
   "source": [
    "print(matches_in2[:100])"
   ]
  },
  {
   "cell_type": "code",
   "execution_count": 9,
   "metadata": {},
   "outputs": [],
   "source": [
    "merger_tree = simulation_tracing.MergerTree(sim, matcher, branching=\"backward\")"
   ]
  },
  {
   "cell_type": "code",
   "execution_count": 10,
   "metadata": {},
   "outputs": [],
   "source": [
    "tracer_dict = merger_tree.trace_all(123, 127)"
   ]
  },
  {
   "cell_type": "code",
   "execution_count": 11,
   "metadata": {},
   "outputs": [
    {
     "name": "stdout",
     "output_type": "stream",
     "text": [
      "dict_keys([123, 124, 125, 126, 127])\n",
      "dict_keys(['Descendants'])\n",
      "dict_keys(['Progenitors', 'Descendants'])\n",
      "dict_keys(['Progenitors'])\n"
     ]
    }
   ],
   "source": [
    "print(tracer_dict.keys())\n",
    "print(tracer_dict[123].keys())\n",
    "print(tracer_dict[124].keys())\n",
    "print(tracer_dict[127].keys())"
   ]
  },
  {
   "cell_type": "code",
   "execution_count": 14,
   "metadata": {},
   "outputs": [],
   "source": [
    "snap_123 = snapshot_obj.Snapshot(sim_id, 123)\n",
    "matches_123 = snap_123.get_subhalos(\"Descendants\", group=\"Extended/Heritage/BackwardBranching\")"
   ]
  },
  {
   "cell_type": "code",
   "execution_count": 21,
   "metadata": {},
   "outputs": [
    {
     "name": "stdout",
     "output_type": "stream",
     "text": [
      "1127\n",
      "[         0          1          2          3          4          6\n",
      "          5         11          9         10         12         18\n",
      "         14         15         16         17         22         23\n",
      "         20         19         24         30         27         29\n",
      "         33         32 4294967296         37         34 4294967296\n",
      "         38 4294967296 4294967296 4294967296 4294967296 4294967296\n",
      " 4294967296 4294967296 4294967296 4294967296 4294967296 4294967296\n",
      " 4294967296 4294967296 4294967296 4294967296 4294967296 4294967296\n",
      " 4294967296 4294967296         54         55         56         57\n",
      "        306         59         58         60         61         62\n",
      "         64         63 4294967296         65         66         67\n",
      "         71         72         70         73 4294967296         74\n",
      "         69         75         76         77        427         78\n",
      "         79         88         80         93         82         86\n",
      " 4294967296         81        566         84 4294967296         83\n",
      "         89 4294967296 4294967296 4294967296 4294967296 4294967296\n",
      " 4294967296 4294967296 4294967296 4294967296]\n"
     ]
    }
   ],
   "source": [
    "print(matches_123.size)\n",
    "print(matches_123[:100])"
   ]
  },
  {
   "cell_type": "code",
   "execution_count": 39,
   "metadata": {},
   "outputs": [],
   "source": [
    "snap_124 = snapshot_obj.Snapshot(sim_id, 124)\n",
    "matches_124 = snap_124.get_subhalos(\"Progenitors\", group=\"Extended/Heritage/BackwardBranching\")"
   ]
  },
  {
   "cell_type": "code",
   "execution_count": 40,
   "metadata": {},
   "outputs": [
    {
     "name": "stdout",
     "output_type": "stream",
     "text": [
      "3357\n",
      "0\n"
     ]
    }
   ],
   "source": [
    "print(matches_124.size)\n",
    "#print(matches_124[:100])\n",
    "print(np.sum(matches_124[:,1] < 1000000))"
   ]
  },
  {
   "cell_type": "code",
   "execution_count": 23,
   "metadata": {},
   "outputs": [
    {
     "name": "stdout",
     "output_type": "stream",
     "text": [
      "100\n",
      "Extended/Heritage/BackwardBranching\n",
      "0 0\n",
      "101\n",
      "Extended/Heritage/BackwardBranching\n",
      "0 0\n",
      "102\n",
      "Extended/Heritage/BackwardBranching\n",
      "0 0\n",
      "103\n",
      "Extended/Heritage/BackwardBranching\n",
      "0 0\n",
      "104\n",
      "Extended/Heritage/BackwardBranching\n",
      "0 0\n",
      "105\n",
      "Extended/Heritage/BackwardBranching\n",
      "0 0\n",
      "106\n",
      "Extended/Heritage/BackwardBranching\n",
      "0 0\n",
      "107\n",
      "Extended/Heritage/BackwardBranching\n",
      "0 0\n",
      "108\n",
      "Extended/Heritage/BackwardBranching\n",
      "0 0\n",
      "109\n",
      "Extended/Heritage/BackwardBranching\n",
      "0 0\n",
      "110\n",
      "Extended/Heritage/BackwardBranching\n",
      "0 0\n",
      "111\n",
      "Extended/Heritage/BackwardBranching\n",
      "0 0\n",
      "112\n",
      "Extended/Heritage/BackwardBranching\n",
      "0 0\n",
      "113\n",
      "Extended/Heritage/BackwardBranching\n",
      "0 0\n",
      "114\n",
      "Extended/Heritage/BackwardBranching\n",
      "0 0\n",
      "115\n",
      "Extended/Heritage/BackwardBranching\n",
      "0 0\n",
      "116\n",
      "Extended/Heritage/BackwardBranching\n",
      "0 0\n",
      "117\n",
      "Extended/Heritage/BackwardBranching\n",
      "0 0\n",
      "118\n",
      "Extended/Heritage/BackwardBranching\n",
      "0 0\n",
      "119\n",
      "Extended/Heritage/BackwardBranching\n",
      "0 0\n",
      "120\n",
      "Extended/Heritage/BackwardBranching\n",
      "0 0\n",
      "121\n",
      "Extended/Heritage/BackwardBranching\n",
      "0 0\n",
      "122\n",
      "Extended/Heritage/BackwardBranching\n",
      "0 0\n",
      "123\n",
      "Extended/Heritage/BackwardBranching\n",
      "1127 0\n",
      "124\n",
      "Extended/Heritage/BackwardBranching\n",
      "1119 3357\n",
      "125\n",
      "Extended/Heritage/BackwardBranching\n",
      "1129 3387\n",
      "126\n",
      "Extended/Heritage/BackwardBranching\n",
      "1116 3348\n",
      "127\n",
      "Extended/Heritage/BackwardBranching\n",
      "0 3375\n",
      "{123: {'Descendants': array([         0,          1,          2, ..., 4294967296, 4294967296,\n",
      "       4294967296])}, 124: {'Descendants': array([         0,          1,          3, ..., 4294967296, 4294967296,\n",
      "       4294967296]), 'Progenitors': array([[         0, 4294967296, 4294967296],\n",
      "       [         1, 4294967296, 4294967296],\n",
      "       [         2, 4294967296, 4294967296],\n",
      "       ...,\n",
      "       [4294967296, 4294967296, 4294967296],\n",
      "       [4294967296, 4294967296, 4294967296],\n",
      "       [4294967296, 4294967296, 4294967296]])}, 125: {'Descendants': array([         0,          1,          2, ..., 4294967296, 4294967296,\n",
      "       4294967296]), 'Progenitors': array([[         0, 4294967296, 4294967296],\n",
      "       [         1, 4294967296, 4294967296],\n",
      "       [       266, 4294967296, 4294967296],\n",
      "       ...,\n",
      "       [4294967296, 4294967296, 4294967296],\n",
      "       [4294967296, 4294967296, 4294967296],\n",
      "       [4294967296, 4294967296, 4294967296]])}, 126: {'Descendants': array([         0,          1,          3, ..., 4294967296, 4294967296,\n",
      "       4294967296]), 'Progenitors': array([[         0, 4294967296, 4294967296],\n",
      "       [         1, 4294967296, 4294967296],\n",
      "       [         2, 4294967296, 4294967296],\n",
      "       ...,\n",
      "       [4294967296, 4294967296, 4294967296],\n",
      "       [4294967296, 4294967296, 4294967296],\n",
      "       [4294967296, 4294967296, 4294967296]])}, 127: {'Progenitors': array([[         0, 4294967296, 4294967296],\n",
      "       [         1, 4294967296, 4294967296],\n",
      "       [       241, 4294967296, 4294967296],\n",
      "       ...,\n",
      "       [4294967296, 4294967296, 4294967296],\n",
      "       [4294967296, 4294967296, 4294967296],\n",
      "       [4294967296, 4294967296, 4294967296]])}}\n"
     ]
    }
   ],
   "source": [
    "print(merger_tree.get_all_matches())"
   ]
  },
  {
   "cell_type": "code",
   "execution_count": 42,
   "metadata": {},
   "outputs": [
    {
     "name": "stdout",
     "output_type": "stream",
     "text": [
      "100\n",
      "Extended/Heritage/BackwardBranching\n",
      "0 0\n",
      "101\n",
      "Extended/Heritage/BackwardBranching\n",
      "0 0\n",
      "102\n",
      "Extended/Heritage/BackwardBranching\n",
      "0 0\n",
      "103\n",
      "Extended/Heritage/BackwardBranching\n",
      "0 0\n",
      "104\n",
      "Extended/Heritage/BackwardBranching\n",
      "0 0\n",
      "105\n",
      "Extended/Heritage/BackwardBranching\n",
      "0 0\n",
      "106\n",
      "Extended/Heritage/BackwardBranching\n",
      "0 0\n",
      "107\n",
      "Extended/Heritage/BackwardBranching\n",
      "0 0\n",
      "108\n",
      "Extended/Heritage/BackwardBranching\n",
      "0 0\n",
      "109\n",
      "Extended/Heritage/BackwardBranching\n",
      "0 0\n",
      "110\n",
      "Extended/Heritage/BackwardBranching\n",
      "0 0\n",
      "111\n",
      "Extended/Heritage/BackwardBranching\n",
      "0 0\n",
      "112\n",
      "Extended/Heritage/BackwardBranching\n",
      "0 0\n",
      "113\n",
      "Extended/Heritage/BackwardBranching\n",
      "0 0\n",
      "114\n",
      "Extended/Heritage/BackwardBranching\n",
      "0 0\n",
      "115\n",
      "Extended/Heritage/BackwardBranching\n",
      "0 0\n",
      "116\n",
      "Extended/Heritage/BackwardBranching\n",
      "0 0\n",
      "117\n",
      "Extended/Heritage/BackwardBranching\n",
      "0 0\n",
      "118\n",
      "Extended/Heritage/BackwardBranching\n",
      "0 0\n",
      "119\n",
      "Extended/Heritage/BackwardBranching\n",
      "0 0\n",
      "120\n",
      "Extended/Heritage/BackwardBranching\n",
      "0 0\n",
      "121\n",
      "Extended/Heritage/BackwardBranching\n",
      "0 0\n",
      "122\n",
      "Extended/Heritage/BackwardBranching\n",
      "0 0\n",
      "123\n",
      "Extended/Heritage/BackwardBranching\n",
      "1127 0\n",
      "124\n",
      "Extended/Heritage/BackwardBranching\n",
      "1119 3357\n",
      "125\n",
      "Extended/Heritage/BackwardBranching\n",
      "1129 3387\n",
      "126\n",
      "Extended/Heritage/BackwardBranching\n",
      "1116 3348\n",
      "127\n",
      "Extended/Heritage/BackwardBranching\n",
      "0 3375\n"
     ]
    },
    {
     "data": {
      "text/plain": [
       "{123: {'Descendants': array([         0,          1,          2, ..., 4294967296, 4294967296,\n",
       "         4294967296])},\n",
       " 124: {'Descendants': array([         0,          1,          3, ..., 4294967296, 4294967296,\n",
       "         4294967296]),\n",
       "  'Progenitors': array([[         0, 4294967296, 4294967296],\n",
       "         [         1, 4294967296, 4294967296],\n",
       "         [         2, 4294967296, 4294967296],\n",
       "         ...,\n",
       "         [4294967296, 4294967296, 4294967296],\n",
       "         [4294967296, 4294967296, 4294967296],\n",
       "         [4294967296, 4294967296, 4294967296]])},\n",
       " 125: {'Descendants': array([         0,          1,          2, ..., 4294967296, 4294967296,\n",
       "         4294967296]),\n",
       "  'Progenitors': array([[         0, 4294967296, 4294967296],\n",
       "         [         1, 4294967296, 4294967296],\n",
       "         [       266, 4294967296, 4294967296],\n",
       "         ...,\n",
       "         [4294967296, 4294967296, 4294967296],\n",
       "         [4294967296, 4294967296, 4294967296],\n",
       "         [4294967296, 4294967296, 4294967296]])},\n",
       " 126: {'Descendants': array([         0,          1,          3, ..., 4294967296, 4294967296,\n",
       "         4294967296]),\n",
       "  'Progenitors': array([[         0, 4294967296, 4294967296],\n",
       "         [         1, 4294967296, 4294967296],\n",
       "         [         2, 4294967296, 4294967296],\n",
       "         ...,\n",
       "         [4294967296, 4294967296, 4294967296],\n",
       "         [4294967296, 4294967296, 4294967296],\n",
       "         [4294967296, 4294967296, 4294967296]])},\n",
       " 127: {'Progenitors': array([[         0, 4294967296, 4294967296],\n",
       "         [         1, 4294967296, 4294967296],\n",
       "         [       241, 4294967296, 4294967296],\n",
       "         ...,\n",
       "         [4294967296, 4294967296, 4294967296],\n",
       "         [4294967296, 4294967296, 4294967296],\n",
       "         [4294967296, 4294967296, 4294967296]])}}"
      ]
     },
     "execution_count": 42,
     "metadata": {},
     "output_type": "execute_result"
    }
   ],
   "source": [
    "merger_tree.store_tracer()"
   ]
  },
  {
   "cell_type": "code",
   "execution_count": 22,
   "metadata": {},
   "outputs": [
    {
     "name": "stdout",
     "output_type": "stream",
     "text": [
      "123\n",
      "<snapshot_obj.Snapshot object at 0x7f3da6861a90>\n",
      "123\n",
      "124\n",
      "<snapshot_obj.Snapshot object at 0x7f3da6861b10>\n",
      "124\n",
      "125\n",
      "<snapshot_obj.Snapshot object at 0x7f3da6861950>\n",
      "125\n",
      "126\n",
      "<snapshot_obj.Snapshot object at 0x7f3da6861c10>\n",
      "126\n",
      "127\n",
      "<snapshot_obj.Snapshot object at 0x7f3da6861c50>\n",
      "127\n"
     ]
    },
    {
     "data": {
      "text/plain": [
       "{123: {'Descendants': array([         0,          1,          2, ..., 4294967296, 4294967296,\n",
       "         4294967296])},\n",
       " 124: {'Descendants': array([         0,          1,          3, ..., 4294967296, 4294967296,\n",
       "         4294967296]),\n",
       "  'Progenitors': array([[         0, 4294967296, 4294967296],\n",
       "         [         1, 4294967296, 4294967296],\n",
       "         [         2, 4294967296, 4294967296],\n",
       "         ...,\n",
       "         [4294967296, 4294967296, 4294967296],\n",
       "         [4294967296, 4294967296, 4294967296],\n",
       "         [4294967296, 4294967296, 4294967296]])},\n",
       " 125: {'Descendants': array([         0,          1,          2, ..., 4294967296, 4294967296,\n",
       "         4294967296]),\n",
       "  'Progenitors': array([[         0, 4294967296, 4294967296],\n",
       "         [         1, 4294967296, 4294967296],\n",
       "         [       266, 4294967296, 4294967296],\n",
       "         ...,\n",
       "         [4294967296, 4294967296, 4294967296],\n",
       "         [4294967296, 4294967296, 4294967296],\n",
       "         [4294967296, 4294967296, 4294967296]])},\n",
       " 126: {'Descendants': array([         0,          1,          3, ..., 4294967296, 4294967296,\n",
       "         4294967296]),\n",
       "  'Progenitors': array([[         0, 4294967296, 4294967296],\n",
       "         [         1, 4294967296, 4294967296],\n",
       "         [         2, 4294967296, 4294967296],\n",
       "         ...,\n",
       "         [4294967296, 4294967296, 4294967296],\n",
       "         [4294967296, 4294967296, 4294967296],\n",
       "         [4294967296, 4294967296, 4294967296]])},\n",
       " 127: {'Progenitors': array([[         0, 4294967296, 4294967296],\n",
       "         [         1, 4294967296, 4294967296],\n",
       "         [       241, 4294967296, 4294967296],\n",
       "         ...,\n",
       "         [4294967296, 4294967296, 4294967296],\n",
       "         [4294967296, 4294967296, 4294967296],\n",
       "         [4294967296, 4294967296, 4294967296]])}}"
      ]
     },
     "execution_count": 22,
     "metadata": {},
     "output_type": "execute_result"
    }
   ],
   "source": [
    "merger_tree.read_from_storage()"
   ]
  },
  {
   "cell_type": "code",
   "execution_count": 49,
   "metadata": {},
   "outputs": [
    {
     "data": {
      "text/plain": [
       "<snapshot_obj.Snapshot at 0x7f11d8cf3710>"
      ]
     },
     "execution_count": 49,
     "metadata": {},
     "output_type": "execute_result"
    }
   ],
   "source": [
    "merger_tree.simulation.get_snapshot(123)"
   ]
  },
  {
   "cell_type": "code",
   "execution_count": 22,
   "metadata": {},
   "outputs": [
    {
     "name": "stdout",
     "output_type": "stream",
     "text": [
      "123\n",
      "124\n",
      "125\n",
      "126\n",
      "127\n"
     ]
    }
   ],
   "source": [
    "msnaps = merger_tree.get_matched_snapshots()\n",
    "for s in msnaps:\n",
    "    print(s.snap_id)"
   ]
  },
  {
   "cell_type": "code",
   "execution_count": 23,
   "metadata": {},
   "outputs": [
    {
     "name": "stdout",
     "output_type": "stream",
     "text": [
      "[1.00638512e-01 7.45670680e-02 4.91132026e-02 2.42622770e-02\n",
      " 2.22044605e-16]\n"
     ]
    }
   ],
   "source": [
    "print(merger_tree.get_redshifts())"
   ]
  },
  {
   "cell_type": "code",
   "execution_count": 24,
   "metadata": {},
   "outputs": [],
   "source": [
    "snap_tracer = simulation_tracing.SnapshotTracer(123, merger_tree)\n",
    "\n",
    "tracer = snap_tracer.trace(127)"
   ]
  },
  {
   "cell_type": "code",
   "execution_count": 25,
   "metadata": {},
   "outputs": [
    {
     "name": "stdout",
     "output_type": "stream",
     "text": [
      "[[4294967296         40 4294967296 4294967296 4294967296 4294967296]\n",
      " [4294967296         41 4294967296 4294967296 4294967296 4294967296]\n",
      " [4294967296         42 4294967296 4294967296 4294967296 4294967296]\n",
      " [4294967296         43 4294967296 4294967296 4294967296 4294967296]\n",
      " [4294967296         44 4294967296 4294967296 4294967296 4294967296]\n",
      " [4294967296         45 4294967296 4294967296 4294967296 4294967296]\n",
      " [4294967296         46 4294967296 4294967296 4294967296 4294967296]\n",
      " [4294967296         47 4294967296 4294967296 4294967296 4294967296]\n",
      " [4294967296         48 4294967296 4294967296 4294967296 4294967296]\n",
      " [4294967296         49 4294967296 4294967296 4294967296 4294967296]\n",
      " [4294967296         50         54         59         60         55]\n",
      " [4294967296         51         55         60         62         57]\n",
      " [4294967296         52         56         61         61         56]\n",
      " [4294967296         53         57         62         63         59]\n",
      " [4294967296         54        306         65        321        310]\n",
      " [4294967296         55         59         64         65         61]\n",
      " [4294967296         56         58         67         66         62]\n",
      " [4294967296         57         60         66         67         63]\n",
      " [4294967296         58         61         69         69         65]\n",
      " [4294967296         59         62         68         68         64]\n",
      " [4294967296         60         64         71         70         66]\n",
      " [4294967296         61         63         70         71         67]\n",
      " [4294967296         62 4294967296         68         68         64]\n",
      " [4294967296         63         65         72         73         69]\n",
      " [4294967296         64         66         73         74         70]\n",
      " [4294967296         65         67         76         76         71]\n",
      " [4294967296         66         71         74         80         80]\n",
      " [4294967296         67         72         80         79         76]\n",
      " [4294967296         68         70         79        360        340]\n",
      " [4294967296         69         73         84         84         84]]\n"
     ]
    }
   ],
   "source": [
    "print(tracer[40:70, -6:])"
   ]
  },
  {
   "cell_type": "code",
   "execution_count": null,
   "metadata": {},
   "outputs": [],
   "source": []
  }
 ],
 "metadata": {
  "kernelspec": {
   "display_name": "Python 3",
   "language": "python",
   "name": "python3"
  },
  "language_info": {
   "codemirror_mode": {
    "name": "ipython",
    "version": 3
   },
   "file_extension": ".py",
   "mimetype": "text/x-python",
   "name": "python",
   "nbconvert_exporter": "python",
   "pygments_lexer": "ipython3",
   "version": "3.7.4"
  }
 },
 "nbformat": 4,
 "nbformat_minor": 4
}
