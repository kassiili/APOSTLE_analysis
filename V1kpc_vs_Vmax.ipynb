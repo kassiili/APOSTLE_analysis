{
 "cells": [
  {
   "cell_type": "code",
   "execution_count": null,
   "metadata": {},
   "outputs": [],
   "source": [
    "%load_ext autoreload\n",
    "%autoreload 2\n",
    "\n",
    "%config IPCompleter.greedy=True"
   ]
  },
  {
   "cell_type": "markdown",
   "metadata": {},
   "source": [
    "# $v_\\text{1kpc}$ vs. $v_\\text{max}$\n",
    "\n",
    "First, imports:"
   ]
  },
  {
   "cell_type": "code",
   "execution_count": null,
   "metadata": {},
   "outputs": [],
   "source": [
    "import matplotlib.pyplot as plt\n",
    "import numpy as np\n",
    "import h5py\n",
    "from astropy import units\n",
    "from pathlib import Path\n",
    "import os\n",
    "\n",
    "import snapshot_obj\n",
    "import dataset_compute\n",
    "import curve_fit\n",
    "\n",
    "import importlib"
   ]
  },
  {
   "cell_type": "code",
   "execution_count": null,
   "metadata": {},
   "outputs": [],
   "source": [
    "importlib.reload(snapshot_obj)\n",
    "importlib.reload(dataset_compute)\n",
    "importlib.reload(curve_fit)"
   ]
  },
  {
   "cell_type": "markdown",
   "metadata": {},
   "source": [
    "## Get data\n",
    "\n",
    "Next, I retrieve the data. We are only interested in luminous halos. Also, there might be some spurious cases with odd values of $v_\\text{max}$."
   ]
  },
  {
   "cell_type": "code",
   "execution_count": null,
   "metadata": {
    "code_folding": []
   },
   "outputs": [],
   "source": [
    "snap_id = 127\n",
    "sim_ids = [\"V1_LR_fix\", \"V1_LR_curvaton_p082_fix\", \"V1_LR_curvaton_p084_fix\"]\n",
    "names = [\"LCDM\", \"p082\", \"p084\"]\n",
    "data = {name : {} for name in names}\n",
    "for sim_id, name in zip(sim_ids, names):\n",
    "    # Get data:\n",
    "    snap = snapshot_obj.Snapshot(sim_id, snap_id, name)\n",
    "    max_point = snap.get_subhalos(\"Max_Vcirc\", \"Extended\")\n",
    "    vmax = max_point[:,0] * units.cm.to(units.km)\n",
    "    rmax = max_point[:,1] * units.cm.to(units.kpc)\n",
    "    v1kpc = snap.get_subhalos(\"V1kpc\", \"Extended\") * units.cm.to(units.km)\n",
    "    \n",
    "    # Split into satellites:\n",
    "    vmax_split = dataset_compute.split_subhalos_distict1(snap, vmax)\n",
    "    v1kpc_split = dataset_compute.split_subhalos_distict1(snap, v1kpc)\n",
    "    \n",
    "    # Add to dictionary:\n",
    "    data[name][\"Vmax\"] = vmax_split\n",
    "    data[name][\"V1kpc\"] = v1kpc_split"
   ]
  },
  {
   "cell_type": "markdown",
   "metadata": {},
   "source": [
    "## Plot"
   ]
  },
  {
   "cell_type": "code",
   "execution_count": null,
   "metadata": {},
   "outputs": [],
   "source": [
    "# Set some parameters:\n",
    "x_down = 10; x_up = 100\n",
    "y_down = 10; y_up = 70\n",
    "\n",
    "# Set marker styles:\n",
    "fcolor = [\"black\", \"red\", \"blue\", \"green\"]\n",
    "mcolor = [\"gray\", \"pink\", \"lightblue\", \"lightgreen\"]\n",
    "marker = ['+', \"o\", \"^\", 1]"
   ]
  },
  {
   "cell_type": "code",
   "execution_count": null,
   "metadata": {},
   "outputs": [],
   "source": [
    "# Construct saving location:\n",
    "filename = 'V1kpc_vs_Vmax'\n",
    "for name in names:\n",
    "    filename += \"_{}\".format(name)\n",
    "filename += \".png\"\n",
    "    \n",
    "home = os.path.dirname(snapshot_obj.__file__)\n",
    "path = os.path.join(home,\"Figures\")\n",
    "filename = os.path.join(path, filename)"
   ]
  },
  {
   "cell_type": "code",
   "execution_count": null,
   "metadata": {},
   "outputs": [],
   "source": [
    "fig, axes = plt.subplots(ncols=2, figsize=(14,6))\n",
    "plt.subplots_adjust(wspace=0.3)\n",
    "\n",
    "# Set axis:\n",
    "for ax in axes:\n",
    "    ax.set_xscale('log')\n",
    "    ax.set_yscale('log')\n",
    "    ax.set_xlim(x_down, x_up)\n",
    "    ax.set_ylim(y_down, y_up)\n",
    "    ax.set_xlabel('$v_{\\mathrm{max}} [\\mathrm{kms^{-1}}]$', fontsize=16)\n",
    "    ax.set_ylabel('$v_{\\mathrm{1 kpc}} [\\mathrm{kms^{-1}}]$', fontsize=16)\n",
    "\n",
    "axes[0].set_title('Satellites')\n",
    "axes[1].set_title('Isolated galaxies')\n",
    "\n",
    "# Add scatter plots:\n",
    "for i, (name, entry) in enumerate(data.items()):\n",
    "    x = entry['Vmax']['satellites']\n",
    "    y = entry['V1kpc']['satellites']\n",
    "    axes[0].scatter(x, y, s=20, marker=marker[i], c=mcolor[i], \\\n",
    "        edgecolor='none', label=name)\n",
    "    \n",
    "    x = entry['Vmax']['isolated']\n",
    "    y = entry['V1kpc']['isolated']\n",
    "    axes[1].scatter(x, y, s=20, marker=marker[i], c=mcolor[i], \\\n",
    "        edgecolor='none', label=name)\n",
    "    \n",
    "# Add median curves:\n",
    "for i, (name, entry) in enumerate(data.items()):\n",
    "    x = entry['Vmax']['satellites']\n",
    "    y = entry['V1kpc']['satellites']    \n",
    "    median = curve_fit.median_trend(x, y, points_per_bar=7)\n",
    "    axes[0].plot(median[0], median[1], c=fcolor[i], linestyle='--')\n",
    "    \n",
    "    x = entry['Vmax']['isolated']\n",
    "    y = entry['V1kpc']['isolated'] \n",
    "    median = curve_fit.median_trend(x, y, points_per_bar=7)\n",
    "    axes[1].plot(median[0], median[1], c=fcolor[i], linestyle='--')\n",
    "    \n",
    "axes[0].legend(loc='lower right')\n",
    "plt.tight_layout()\n",
    "\n",
    "#plt.savefig(filename, dpi=200)"
   ]
  },
  {
   "cell_type": "code",
   "execution_count": null,
   "metadata": {},
   "outputs": [],
   "source": []
  }
 ],
 "metadata": {
  "kernelspec": {
   "display_name": "Python 3",
   "language": "python",
   "name": "python3"
  },
  "language_info": {
   "codemirror_mode": {
    "name": "ipython",
    "version": 3
   },
   "file_extension": ".py",
   "mimetype": "text/x-python",
   "name": "python",
   "nbconvert_exporter": "python",
   "pygments_lexer": "ipython3"
  }
 },
 "nbformat": 4,
 "nbformat_minor": 4
}
