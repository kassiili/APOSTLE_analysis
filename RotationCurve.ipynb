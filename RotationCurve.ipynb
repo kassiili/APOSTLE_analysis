{
 "cells": [
  {
   "cell_type": "code",
   "execution_count": 1,
   "metadata": {},
   "outputs": [],
   "source": [
    "%load_ext autoreload\n",
    "%autoreload 2\n",
    "\n",
    "#%config IPCompleter.greedy=True"
   ]
  },
  {
   "cell_type": "markdown",
   "metadata": {},
   "source": [
    "# Rotation curves\n",
    "\n",
    "First, imports:"
   ]
  },
  {
   "cell_type": "code",
   "execution_count": 80,
   "metadata": {},
   "outputs": [],
   "source": [
    "import matplotlib.pyplot as plt\n",
    "import numpy as np\n",
    "import h5py\n",
    "from astropy import units\n",
    "from pathlib import Path\n",
    "import os\n",
    "import astropy.units as u\n",
    "from astropy.constants import G\n",
    "\n",
    "import snapshot_obj \n",
    "import curve_fit\n",
    "\n",
    "import importlib"
   ]
  },
  {
   "cell_type": "code",
   "execution_count": 81,
   "metadata": {},
   "outputs": [
    {
     "data": {
      "text/plain": [
       "<module 'curve_fit' from '/home/kassiili/Curvaton_Simulations/analysis/curve_fit.py'>"
      ]
     },
     "execution_count": 81,
     "metadata": {},
     "output_type": "execute_result"
    }
   ],
   "source": [
    "importlib.reload(snapshot_obj)\n",
    "importlib.reload(curve_fit)"
   ]
  },
  {
   "cell_type": "markdown",
   "metadata": {},
   "source": [
    "## Get data"
   ]
  },
  {
   "cell_type": "code",
   "execution_count": 190,
   "metadata": {},
   "outputs": [],
   "source": [
    "# Which halo:\n",
    "gn = 1; sgn = 0\n",
    "\n",
    "# Ones that seem alright: 12,0;\n",
    "\n",
    "# Get LCDM data:\n",
    "LCDM = snapshot_obj.Snapshot(\"CDM_V1_LR\",127)"
   ]
  },
  {
   "cell_type": "code",
   "execution_count": 191,
   "metadata": {},
   "outputs": [
    {
     "name": "stdout",
     "output_type": "stream",
     "text": [
      "23.671940158641757\n",
      "7.17106838188119\n",
      "0.9263269285443926 354.28647947401424\n",
      "64\n",
      "15\n",
      "[ True False False False False False False False False False False False\n",
      " False False False False False False False False False False False False\n",
      " False False False False False False False False False False False False\n",
      " False False False False False False False False False False False False\n",
      " False False False False False False False False False False False False\n",
      " False False False False]\n",
      "[354.28647947]\n"
     ]
    }
   ],
   "source": [
    "# Read halo:\n",
    "fnum = LCDM.file_of_halo(gn,sgn)\n",
    "SGNs = LCDM.get_subhalos(\"SubGroupNumber\",fnums=[fnum])\n",
    "GNs = LCDM.get_subhalos(\"GroupNumber\",fnums=[fnum])\n",
    "\n",
    "vmax = LCDM.get_subhalos(\"Vmax\",fnums=[fnum]) / 100000 \n",
    "                                                    # cm/s to km/s \n",
    "rmax = LCDM.get_subhalos(\"VmaxRadius\",fnums=[fnum]) \\\n",
    "            * u.cm.to(u.kpc)\n",
    "COP = LCDM.get_subhalos(\"CentreOfPotential\",fnums=[fnum]) \\\n",
    "            * u.cm.to(u.kpc)\n",
    "\n",
    "print(np.mean(rmax))\n",
    "print(np.median(rmax))\n",
    "print(np.min(rmax),np.max(rmax))\n",
    "print(rmax.size)\n",
    "print(np.sum(rmax>20))\n",
    "\n",
    "# Select halo:\n",
    "halo_mask = np.logical_and(SGNs == sgn,GNs == gn)\n",
    "print(halo_mask)\n",
    "vmax = vmax[halo_mask]\n",
    "rmax = rmax[halo_mask]\n",
    "COP = COP[halo_mask]\n",
    "print(rmax)"
   ]
  },
  {
   "cell_type": "code",
   "execution_count": 199,
   "metadata": {},
   "outputs": [],
   "source": [
    "# V1kpc:\n",
    "SGNs = LCDM.get_subhalos(\"SubGroupNumber\")\n",
    "GNs = LCDM.get_subhalos( \"GroupNumber\")\n",
    "halo_mask = np.logical_and(SGNs == sgn,GNs == gn)\n",
    "v1kpc = LCDM.get_subhalos(\"V1kpc\") \n",
    "v1kpc = v1kpc[halo_mask]"
   ]
  },
  {
   "cell_type": "code",
   "execution_count": 206,
   "metadata": {},
   "outputs": [],
   "source": [
    "# Read particles:\n",
    "pts = [1]\n",
    "SGNs = LCDM.get_particles(\"SubGroupNumber\",part_type=pts)\n",
    "GNs = LCDM.get_particles(\"GroupNumber\",part_type=pts)\n",
    "coords = LCDM.get_particles(\"Coordinates\",part_type=pts) * u.cm.to(u.kpc)\n",
    "mass = LCDM.get_particle_masses(part_type=pts) * u.g.to(u.Msun)\n",
    "\n",
    "# Select halo:\n",
    "halo_mask = np.logical_and(SGNs == sgn,GNs == gn)\n",
    "coords = coords[halo_mask]\n",
    "mass = mass[halo_mask]\n",
    "\n",
    "# Periodic wrap coordinates around centre.\n",
    "with h5py.File(LCDM.part_file,'r') as partf:\n",
    "    h = partf['link1/Header'].attrs.get('HubbleParam')\n",
    "    boxs = partf['link1/Header'].attrs.get('BoxSize') * 1000/h \n",
    "                                                    # Mpc/h -> kpc\n",
    "coords = np.mod(coords-COP+0.5*boxs, boxs) + COP-0.5*boxs"
   ]
  },
  {
   "cell_type": "code",
   "execution_count": 207,
   "metadata": {},
   "outputs": [],
   "source": [
    "# Calculate distance to centre and sort:\n",
    "r = np.linalg.norm(coords - COP, axis=1)\n",
    "sorting = np.argsort(r)\n",
    "r = r[sorting]\n",
    "\n",
    "cumass = np.cumsum(mass[sorting])\n",
    "\n",
    "# Begin rotation curve from the 10th particle to reduce noise at the low end of the curve.include only every 10th particle for cleaner curves.\n",
    "mask = r>0; r=r[mask]; cumass=cumass[mask]\n",
    "jump = 20\n",
    "#r = r[jump::jump]\n",
    "#cumass = cumass[jump::jump]\n",
    "r = r[jump:]\n",
    "cumass = cumass[jump:]\n",
    "\n",
    "# Compute velocity.\n",
    "myG = G.to(u.km**2 * u.kpc * u.Msun**-1 * u.s**-2).value\n",
    "v_circ = np.sqrt((myG * cumass) / r)\n"
   ]
  },
  {
   "cell_type": "code",
   "execution_count": 208,
   "metadata": {
    "code_folding": []
   },
   "outputs": [
    {
     "data": {
      "image/png": "[encoded data removed]",
      "text/plain": [
       "<Figure size 432x288 with 1 Axes>"
      ]
     },
     "metadata": {
      "needs_background": "light"
     },
     "output_type": "display_data"
    }
   ],
   "source": [
    "fig, axes = plt.subplots()\n",
    "\n",
    "# Set axes:\n",
    "#axes.set_xscale('log')\n",
    "#axes.set_yscale('log')\n",
    "#axes.set_xlim(x_down,x_up)\n",
    "#axes.set_ylim(y_down,y_up)\n",
    "\n",
    "# Set labels:\n",
    "axes.set_xlabel('$r[\\mathrm{kpc}]$', fontsize=16)\n",
    "axes.set_ylabel('$v_{\\mathrm{circ}}[\\mathrm{kms^{-1}}]$', fontsize=16)\n",
    "\n",
    "# Galaxy text:\n",
    "axes.set_title('Rotation curve: GN={}, SGN={}'.format(gn,sgn))\n",
    "\n",
    "axes.plot(r, v_circ)\n",
    "axes.axhline(vmax,linestyle='dashed')\n",
    "axes.axvline(rmax,linestyle='dashed')\n",
    "axes.axhline(v1kpc,linestyle='dashed',c='black')\n",
    "axes.axvline(1,linestyle='dashed',c='black')\n",
    "    \n",
    "#plt.legend()\n",
    "plt.tight_layout()\n",
    "\n",
    "\n",
    "# Save figure:\n",
    "#\n",
    "#filename = 'cumulDistByVmax_evol_{}.png'.format(galaxy)\n",
    "#\n",
    "#home = os.path.dirname(snapshot_obj.__file__)\n",
    "#path = os.path.join(home,\"Figures\")\n",
    "#\n",
    "## If the directory does not exist, create it\n",
    "#if not os.path.exists(path):\n",
    "#    os.makedirs(path)\n",
    "#plt.savefig(os.path.join(path,filename), dpi=200)"
   ]
  },
  {
   "cell_type": "code",
   "execution_count": null,
   "metadata": {},
   "outputs": [],
   "source": []
  }
 ],
 "metadata": {
  "kernelspec": {
   "display_name": "Python 3",
   "language": "python",
   "name": "python3"
  },
  "language_info": {
   "codemirror_mode": {
    "name": "ipython",
    "version": 3
   },
   "file_extension": ".py",
   "mimetype": "text/x-python",
   "name": "python",
   "nbconvert_exporter": "python",
   "pygments_lexer": "ipython3",
   "version": "3.7.4"
  }
 },
 "nbformat": 4,
 "nbformat_minor": 4
}
