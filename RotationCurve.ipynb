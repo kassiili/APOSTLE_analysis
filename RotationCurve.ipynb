{
 "cells": [
  {
   "cell_type": "code",
   "execution_count": null,
   "metadata": {},
   "outputs": [],
   "source": [
    "%load_ext autoreload\n",
    "%autoreload 2\n",
    "\n",
    "#%config IPCompleter.greedy=True"
   ]
  },
  {
   "cell_type": "markdown",
   "metadata": {},
   "source": [
    "# Rotation curves\n",
    "\n",
    "First, imports:"
   ]
  },
  {
   "cell_type": "code",
   "execution_count": null,
   "metadata": {},
   "outputs": [],
   "source": [
    "import matplotlib.pyplot as plt\n",
    "import numpy as np\n",
    "import h5py\n",
    "from astropy import units\n",
    "from pathlib import Path\n",
    "import os\n",
    "import astropy.units as u\n",
    "from astropy.constants import G\n",
    "\n",
    "import snapshot_obj \n",
    "import subhalo\n",
    "import dataset_compute\n",
    "import curve_fit\n",
    "\n",
    "import importlib"
   ]
  },
  {
   "cell_type": "code",
   "execution_count": null,
   "metadata": {},
   "outputs": [],
   "source": [
    "importlib.reload(snapshot_obj)\n",
    "importlib.reload(subhalo)\n",
    "importlib.reload(dataset_compute)\n",
    "importlib.reload(curve_fit)"
   ]
  },
  {
   "cell_type": "markdown",
   "metadata": {},
   "source": [
    "## Get data"
   ]
  },
  {
   "cell_type": "code",
   "execution_count": null,
   "metadata": {
    "code_folding": []
   },
   "outputs": [],
   "source": [
    "snap_id = 127\n",
    "sim_ids = [\"V1_LR_fix\", \"V1_LR_curvaton_p082_fix\", \"V1_LR_curvaton_p084_fix\"]\n",
    "names = [\"LCDM\", \"p082\", \"p084\"]\n",
    "\n",
    "# Which halo:\n",
    "halo = [(1,0), (1,0), (1,0)]\n",
    "\n",
    "data = {}\n",
    "for name, sim_id, halo_id in zip(names, sim_ids, halo):\n",
    "    data[name] = {\"snapshot\": snapshot_obj.Snapshot(sim_id, snap_id, name=name),\n",
    "                  \"halo_identifier\": halo_id}"
   ]
  },
  {
   "cell_type": "code",
   "execution_count": null,
   "metadata": {
    "code_folding": []
   },
   "outputs": [],
   "source": [
    "for name, sim_data in data.items():\n",
    "    snap = sim_data[\"snapshot\"]\n",
    "    idx = snap.index_of_halo(sim_data[\"halo_identifier\"][0], \n",
    "                             sim_data[\"halo_identifier\"][1])\n",
    "\n",
    "    rot_curves = snap.get_subhalos('Vcirc', \n",
    "                                   group='Extended/RotationCurve/All')\n",
    "    sub_offset = snap.get_subhalos('SubOffset', \n",
    "                                   group='Extended/RotationCurve/All')\n",
    "    v_circ = rot_curves[:,0] * units.cm.to(units.km)\n",
    "    radii = rot_curves[:,1] * units.cm.to(units.kpc)\n",
    "    \n",
    "    max_point = snap.get_subhalos(\"Max_Vcirc\", group=\"Extended\")\n",
    "    vmax = max_point[:,0] * units.cm.to(units.km)\n",
    "    rmax = max_point[:,1] * units.cm.to(units.kpc)\n",
    "    \n",
    "    data[name][\"Vmax\"] = vmax[idx]\n",
    "    data[name][\"Rmax\"] = rmax[idx]\n",
    "    data[name][\"Vcirc\"] = v_circ[sub_offset[idx]:sub_offset[idx+1]]\n",
    "    data[name][\"Radius\"] = radii[sub_offset[idx]:sub_offset[idx+1]]"
   ]
  },
  {
   "cell_type": "code",
   "execution_count": null,
   "metadata": {},
   "outputs": [],
   "source": [
    "# Set some parameters:\n",
    "x_down = 0; x_up = 200\n",
    "y_down = 0; y_up = 300\n",
    "\n",
    "color = [\"black\", \"red\", \"blue\", \"green\"]"
   ]
  },
  {
   "cell_type": "code",
   "execution_count": null,
   "metadata": {},
   "outputs": [],
   "source": [
    "# Construct saving location:\n",
    "filename = 'rotation_curve'\n",
    "for name, sim_data in data.items():\n",
    "    filename += \"_{}_gn{}sgn{}\".format(name, sim_data[\"halo_identifier\"][0],\n",
    "                                       sim_data[\"halo_identifier\"][1])\n",
    "filename += \".png\"\n",
    "    \n",
    "home = os.path.dirname(snapshot_obj.__file__)\n",
    "path = os.path.join(home,\"Figures\")\n",
    "filename = os.path.join(path, filename)"
   ]
  },
  {
   "cell_type": "code",
   "execution_count": null,
   "metadata": {
    "code_folding": []
   },
   "outputs": [],
   "source": [
    "fig, axes = plt.subplots()\n",
    "\n",
    "# Set axes:\n",
    "axes.set_xlim(x_down, x_up)\n",
    "axes.set_ylim(y_down,y_up)\n",
    "\n",
    "# Set labels:\n",
    "axes.set_xlabel('$r[\\mathrm{kpc}]$', fontsize=16)\n",
    "axes.set_ylabel('$v_{\\mathrm{circ}}[\\mathrm{kms^{-1}}]$', fontsize=16)\n",
    "\n",
    "# Galaxy text:\n",
    "axes.set_title('Rotation curve')\n",
    "\n",
    "for i, (name, entry) in enumerate(data.items()):\n",
    "    lab = \"{}: ({}, {})\".format(name, \n",
    "                                entry[\"halo_identifier\"][0],\n",
    "                                entry[\"halo_identifier\"][1])\n",
    "    axes.plot(entry[\"Radius\"], entry[\"Vcirc\"], c=color[i], label=lab)\n",
    "    axes.axvline(entry[\"Rmax\"], c=color[i], linestyle='dashed')\n",
    "    \n",
    "plt.legend()\n",
    "plt.tight_layout()\n",
    "\n",
    "plt.savefig(os.path.join(path,filename), dpi=200)"
   ]
  },
  {
   "cell_type": "code",
   "execution_count": null,
   "metadata": {},
   "outputs": [],
   "source": []
  }
 ],
 "metadata": {
  "kernelspec": {
   "display_name": "Python 3",
   "language": "python",
   "name": "python3"
  },
  "language_info": {
   "codemirror_mode": {
    "name": "ipython",
    "version": 3
   },
   "file_extension": ".py",
   "mimetype": "text/x-python",
   "name": "python",
   "nbconvert_exporter": "python",
   "pygments_lexer": "ipython3"
  }
 },
 "nbformat": 4,
 "nbformat_minor": 4
}
