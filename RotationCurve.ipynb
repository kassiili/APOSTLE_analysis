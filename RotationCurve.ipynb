{
 "cells": [
  {
   "cell_type": "code",
   "execution_count": 9,
   "metadata": {},
   "outputs": [
    {
     "name": "stdout",
     "output_type": "stream",
     "text": [
      "The autoreload extension is already loaded. To reload it, use:\n",
      "  %reload_ext autoreload\n"
     ]
    }
   ],
   "source": [
    "%load_ext autoreload\n",
    "%autoreload 2\n",
    "\n",
    "#%config IPCompleter.greedy=True"
   ]
  },
  {
   "cell_type": "markdown",
   "metadata": {},
   "source": [
    "# Rotation curves\n",
    "\n",
    "First, imports:"
   ]
  },
  {
   "cell_type": "code",
   "execution_count": 10,
   "metadata": {},
   "outputs": [],
   "source": [
    "import matplotlib.pyplot as plt\n",
    "import numpy as np\n",
    "import h5py\n",
    "from astropy import units\n",
    "from pathlib import Path\n",
    "import os\n",
    "import astropy.units as u\n",
    "from astropy.constants import G\n",
    "\n",
    "import snapshot_obj \n",
    "import curve_fit\n",
    "import dataset_compute\n",
    "\n",
    "import importlib"
   ]
  },
  {
   "cell_type": "code",
   "execution_count": 11,
   "metadata": {},
   "outputs": [
    {
     "data": {
      "text/plain": [
       "<module 'dataset_compute' from '/home/kassiili/Curvaton_Simulations/analysis/dataset_compute.py'>"
      ]
     },
     "execution_count": 11,
     "metadata": {},
     "output_type": "execute_result"
    }
   ],
   "source": [
    "importlib.reload(snapshot_obj)\n",
    "importlib.reload(curve_fit)\n",
    "importlib.reload(dataset_compute)"
   ]
  },
  {
   "cell_type": "markdown",
   "metadata": {},
   "source": [
    "## Get data"
   ]
  },
  {
   "cell_type": "code",
   "execution_count": 15,
   "metadata": {},
   "outputs": [
    {
     "ename": "NameError",
     "evalue": "name 'eath' is not defined",
     "output_type": "error",
     "traceback": [
      "\u001b[0;31m---------------------------------------------------------------------------\u001b[0m",
      "\u001b[0;31mNameError\u001b[0m                                 Traceback (most recent call last)",
      "\u001b[0;32m<ipython-input-15-2de8d45d6b83>\u001b[0m in \u001b[0;36m<module>\u001b[0;34m\u001b[0m\n\u001b[1;32m      3\u001b[0m \u001b[0;34m\u001b[0m\u001b[0m\n\u001b[1;32m      4\u001b[0m \u001b[0;31m# Get LCDM data:\u001b[0m\u001b[0;34m\u001b[0m\u001b[0;34m\u001b[0m\u001b[0;34m\u001b[0m\u001b[0m\n\u001b[0;32m----> 5\u001b[0;31m \u001b[0mLCDM\u001b[0m \u001b[0;34m=\u001b[0m \u001b[0msnapshot_obj\u001b[0m\u001b[0;34m.\u001b[0m\u001b[0mSnapshot\u001b[0m\u001b[0;34m(\u001b[0m\u001b[0;34m\"CDM_V1_LR\"\u001b[0m\u001b[0;34m,\u001b[0m\u001b[0;36m127\u001b[0m\u001b[0;34m)\u001b[0m\u001b[0;34m\u001b[0m\u001b[0;34m\u001b[0m\u001b[0m\n\u001b[0m",
      "\u001b[0;32m~/Curvaton_Simulations/analysis/snapshot_obj.py\u001b[0m in \u001b[0;36m__init__\u001b[0;34m(self, simID, snapID, name)\u001b[0m\n\u001b[1;32m     62\u001b[0m         \u001b[0mpath\u001b[0m \u001b[0;34m=\u001b[0m \u001b[0mdata_file_manipulation\u001b[0m\u001b[0;34m.\u001b[0m\u001b[0mget_data_path\u001b[0m\u001b[0;34m(\u001b[0m\u001b[0;34m'part'\u001b[0m\u001b[0;34m,\u001b[0m\u001b[0msimID\u001b[0m\u001b[0;34m,\u001b[0m\u001b[0msnapID\u001b[0m\u001b[0;34m)\u001b[0m\u001b[0;34m\u001b[0m\u001b[0;34m\u001b[0m\u001b[0m\n\u001b[1;32m     63\u001b[0m         data_file_manipulation.combine_data_files(\\\n\u001b[0;32m---> 64\u001b[0;31m             \u001b[0mnp\u001b[0m\u001b[0;34m.\u001b[0m\u001b[0marray\u001b[0m\u001b[0;34m(\u001b[0m\u001b[0mglob\u001b[0m\u001b[0;34m.\u001b[0m\u001b[0mglob\u001b[0m\u001b[0;34m(\u001b[0m\u001b[0mos\u001b[0m\u001b[0;34m.\u001b[0m\u001b[0mpath\u001b[0m\u001b[0;34m.\u001b[0m\u001b[0mjoin\u001b[0m\u001b[0;34m(\u001b[0m\u001b[0meath\u001b[0m\u001b[0;34m,\u001b[0m\u001b[0;34m'snap*'\u001b[0m\u001b[0;34m)\u001b[0m\u001b[0;34m)\u001b[0m\u001b[0;34m)\u001b[0m\u001b[0;34m,\u001b[0m\u001b[0;31m\\\u001b[0m\u001b[0;34m\u001b[0m\u001b[0;34m\u001b[0m\u001b[0m\n\u001b[0m\u001b[1;32m     65\u001b[0m             self.part_file)\n\u001b[1;32m     66\u001b[0m \u001b[0;34m\u001b[0m\u001b[0m\n",
      "\u001b[0;31mNameError\u001b[0m: name 'eath' is not defined"
     ]
    }
   ],
   "source": [
    "# Which halo:\n",
    "gn = 3; sgn = 4\n",
    "\n",
    "# Get LCDM data:\n",
    "LCDM = snapshot_obj.Snapshot(\"CDM_V1_LR\",127)"
   ]
  },
  {
   "cell_type": "code",
   "execution_count": null,
   "metadata": {},
   "outputs": [],
   "source": [
    "# Read halo:\n",
    "fnum = LCDM.file_of_halo(gn,sgn)\n",
    "SGNs = LCDM.get_subhalos(\"SubGroupNumber\",fnums=[fnum])\n",
    "GNs = LCDM.get_subhalos(\"GroupNumber\",fnums=[fnum])\n",
    "\n",
    "vmax = LCDM.get_subhalos(\"Vmax\",fnums=[fnum]) / 100000 \n",
    "                                                    # cm/s to km/s \n",
    "rmax = LCDM.get_subhalos(\"VmaxRadius\",fnums=[fnum]) \\\n",
    "            * u.cm.to(u.kpc)\n",
    "\n",
    "# Select halo:\n",
    "halo_mask = np.logical_and(SGNs == sgn,GNs == gn)\n",
    "vmax = vmax[halo_mask]\n",
    "rmax = rmax[halo_mask]"
   ]
  },
  {
   "cell_type": "code",
   "execution_count": null,
   "metadata": {},
   "outputs": [],
   "source": [
    "# V1kpc:\n",
    "SGNs = LCDM.get_subhalos(\"SubGroupNumber\")\n",
    "GNs = LCDM.get_subhalos( \"GroupNumber\")\n",
    "halo_mask = np.logical_and(SGNs == sgn,GNs == gn)\n",
    "v1kpc = LCDM.get_subhalos(\"V1kpc\") \n",
    "v1kpc = v1kpc[halo_mask]"
   ]
  },
  {
   "cell_type": "code",
   "execution_count": null,
   "metadata": {},
   "outputs": [],
   "source": [
    "# Rotation curve:\n",
    "r, v_circ = dataset_compute.compute_rotation_curve(LCDM, gn, sgn)\n",
    "r = r * u.cm.to(u.kpc)\n",
    "v_circ = v_circ * u.cm.to(u.km)"
   ]
  },
  {
   "cell_type": "code",
   "execution_count": null,
   "metadata": {
    "code_folding": []
   },
   "outputs": [],
   "source": [
    "fig, axes = plt.subplots()\n",
    "\n",
    "# Set axes:\n",
    "#axes.set_xscale('log')\n",
    "#axes.set_yscale('log')\n",
    "#axes.set_xlim(x_down,x_up)\n",
    "#axes.set_ylim(y_down,y_up)\n",
    "\n",
    "# Set labels:\n",
    "axes.set_xlabel('$r[\\mathrm{kpc}]$', fontsize=16)\n",
    "axes.set_ylabel('$v_{\\mathrm{circ}}[\\mathrm{kms^{-1}}]$', fontsize=16)\n",
    "\n",
    "# Galaxy text:\n",
    "axes.set_title('Rotation curve: GN={}, SGN={}'.format(gn,sgn))\n",
    "\n",
    "axes.plot(r, v_circ)\n",
    "axes.axhline(vmax,linestyle='dashed')\n",
    "axes.axvline(rmax,linestyle='dashed')\n",
    "axes.axhline(v1kpc,linestyle='dashed',c='black')\n",
    "axes.axvline(1,linestyle='dashed',c='black')\n",
    "    \n",
    "#plt.legend()\n",
    "plt.tight_layout()\n",
    "\n",
    "\n",
    "# Save figure:\n",
    "#\n",
    "#filename = 'cumulDistByVmax_evol_{}.png'.format(galaxy)\n",
    "#\n",
    "#home = os.path.dirname(snapshot_obj.__file__)\n",
    "#path = os.path.join(home,\"Figures\")\n",
    "#\n",
    "## If the directory does not exist, create it\n",
    "#if not os.path.exists(path):\n",
    "#    os.makedirs(path)\n",
    "#plt.savefig(os.path.join(path,filename), dpi=200)"
   ]
  },
  {
   "cell_type": "code",
   "execution_count": null,
   "metadata": {},
   "outputs": [],
   "source": []
  }
 ],
 "metadata": {
  "kernelspec": {
   "display_name": "Python 3",
   "language": "python",
   "name": "python3"
  },
  "language_info": {
   "codemirror_mode": {
    "name": "ipython",
    "version": 3
   },
   "file_extension": ".py",
   "mimetype": "text/x-python",
   "name": "python",
   "nbconvert_exporter": "python",
   "pygments_lexer": "ipython3",
   "version": "3.7.4"
  }
 },
 "nbformat": 4,
 "nbformat_minor": 4
}
