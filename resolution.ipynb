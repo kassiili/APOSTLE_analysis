{
 "cells": [
  {
   "cell_type": "code",
   "execution_count": 1,
   "metadata": {},
   "outputs": [],
   "source": [
    "%load_ext autoreload\n",
    "%autoreload 2\n",
    "\n",
    "%config IPCompleter.greedy=True"
   ]
  },
  {
   "cell_type": "code",
   "execution_count": 2,
   "metadata": {},
   "outputs": [],
   "source": [
    "import numpy as np\n",
    "import h5py\n",
    "\n",
    "import snapshot_obj\n",
    "\n",
    "import importlib"
   ]
  },
  {
   "cell_type": "code",
   "execution_count": 3,
   "metadata": {
    "scrolled": true
   },
   "outputs": [
    {
     "data": {
      "text/plain": [
       "<module 'snapshot_obj' from '/home/kasper/Curvaton_Simulations/APOSTLE_analysis/snapshot_obj.py'>"
      ]
     },
     "execution_count": 3,
     "metadata": {},
     "output_type": "execute_result"
    }
   ],
   "source": [
    "importlib.reload(snapshot_obj)"
   ]
  },
  {
   "cell_type": "markdown",
   "metadata": {},
   "source": [
    "# Read units"
   ]
  },
  {
   "cell_type": "code",
   "execution_count": 5,
   "metadata": {},
   "outputs": [
    {
     "name": "stdout",
     "output_type": "stream",
     "text": [
      "UnitDensity_in_cgs        6.769911178294543e-31\n",
      "UnitEnergy_in_cgs         1.989e+53\n",
      "UnitLength_in_cm          3.085678e+24\n",
      "UnitMass_in_g             1.989e+43\n",
      "UnitPressure_in_cgs       6.7699111782945425e-21\n",
      "UnitTime_in_s             3.085678e+19\n",
      "UnitVelocity_in_cm_per_s  100000.0\n"
     ]
    }
   ],
   "source": [
    "snap = snapshot_obj.Snapshot(\"V1_LR_fix\", 127)\n",
    "with h5py.File(snap.part_file, 'r') as f:\n",
    "    for key,val in f['link1/Units'].attrs.items():\n",
    "        print(\"{:25} {}\".format(key, val))"
   ]
  },
  {
   "cell_type": "markdown",
   "metadata": {},
   "source": [
    "# Mass resolution"
   ]
  },
  {
   "cell_type": "markdown",
   "metadata": {},
   "source": [
    "## Low resolution run:"
   ]
  },
  {
   "cell_type": "code",
   "execution_count": 10,
   "metadata": {},
   "outputs": [],
   "source": [
    "sim_id = \"CDM_V1_LR\"\n",
    "snap_id = 127\n",
    "snap = snapshot_obj.Snapshot(sim_id, snap_id)"
   ]
  },
  {
   "cell_type": "markdown",
   "metadata": {},
   "source": [
    "Gas particle masses have values in the following range (in cgs):"
   ]
  },
  {
   "cell_type": "code",
   "execution_count": 7,
   "metadata": {},
   "outputs": [
    {
     "name": "stdout",
     "output_type": "stream",
     "text": [
      "1.604584050793082e+39 2.0283306376685773e+40 2.1612382449481833e+39\n"
     ]
    }
   ],
   "source": [
    "masses = snap.get_particle_masses(part_type=[4])\n",
    "print(np.min(masses), np.max(masses), np.mean(masses))"
   ]
  },
  {
   "cell_type": "markdown",
   "metadata": {},
   "source": [
    "$2*10^{39}$ grams corresponds to around $10^6$ solar masses."
   ]
  },
  {
   "cell_type": "markdown",
   "metadata": {},
   "source": [
    "Dark matter particle masses have values in the following range (in cgs):"
   ]
  },
  {
   "cell_type": "code",
   "execution_count": 8,
   "metadata": {},
   "outputs": [
    {
     "name": "stdout",
     "output_type": "stream",
     "text": [
      "1.4576205453522563e+40 1.4576205453522563e+40 1.4576205453522546e+40\n"
     ]
    }
   ],
   "source": [
    "masses = snap.get_particle_masses(part_type=[1])\n",
    "print(np.min(masses), np.max(masses), np.mean(masses))"
   ]
  },
  {
   "cell_type": "markdown",
   "metadata": {},
   "source": [
    "Star particle masses have values in the following range (in cgs):"
   ]
  },
  {
   "cell_type": "code",
   "execution_count": 9,
   "metadata": {},
   "outputs": [
    {
     "name": "stdout",
     "output_type": "stream",
     "text": [
      "1.604584050793082e+39 2.0283306376685773e+40 2.1612382449481833e+39\n"
     ]
    }
   ],
   "source": [
    "masses = snap.get_particle_masses(part_type=[4])\n",
    "print(np.min(masses), np.max(masses), np.mean(masses))"
   ]
  },
  {
   "cell_type": "markdown",
   "metadata": {},
   "source": [
    "Number of particles in the simulation:"
   ]
  },
  {
   "cell_type": "code",
   "execution_count": 23,
   "metadata": {},
   "outputs": [
    {
     "name": "stdout",
     "output_type": "stream",
     "text": [
      "[  1042   1123 890351      0      0      0]\n",
      "[  1042   1123 890351      0      0      0]\n"
     ]
    }
   ],
   "source": [
    "print(snap.get_attribute('NumPart_Total', 'Header'))"
   ]
  },
  {
   "cell_type": "code",
   "execution_count": null,
   "metadata": {},
   "outputs": [],
   "source": []
  },
  {
   "cell_type": "markdown",
   "metadata": {},
   "source": [
    "## Medium resolution run:"
   ]
  },
  {
   "cell_type": "code",
   "execution_count": 6,
   "metadata": {},
   "outputs": [],
   "source": [
    "sim_id = \"V1_MR_fix\"\n",
    "snap_id = 127\n",
    "snap = snapshot_obj.Snapshot(sim_id, snap_id)"
   ]
  },
  {
   "cell_type": "markdown",
   "metadata": {},
   "source": [
    "Gas particle masses have values in the following range (in cgs):"
   ]
  },
  {
   "cell_type": "code",
   "execution_count": 7,
   "metadata": {},
   "outputs": [
    {
     "name": "stdout",
     "output_type": "stream",
     "text": [
      "1.3087246887654272e+38 1.3147677006744827e+39 1.730342534199397e+38\n"
     ]
    }
   ],
   "source": [
    "masses = snap.get_particle_masses(part_type=[4])\n",
    "print(np.min(masses), np.max(masses), np.mean(masses))"
   ]
  },
  {
   "cell_type": "markdown",
   "metadata": {},
   "source": [
    "$2*10^{39}$ grams corresponds to around $10^6$ solar masses."
   ]
  },
  {
   "cell_type": "markdown",
   "metadata": {},
   "source": [
    "Dark matter particle masses have values in the following range (in cgs):"
   ]
  },
  {
   "cell_type": "code",
   "execution_count": 8,
   "metadata": {},
   "outputs": [
    {
     "name": "stdout",
     "output_type": "stream",
     "text": [
      "1.1911403675329331e+39 1.1911403675329331e+39 1.1911403675329432e+39\n"
     ]
    }
   ],
   "source": [
    "masses = snap.get_particle_masses(part_type=[1])\n",
    "print(np.min(masses), np.max(masses), np.mean(masses))"
   ]
  },
  {
   "cell_type": "markdown",
   "metadata": {},
   "source": [
    "Star particle masses have values in the following range (in cgs):"
   ]
  },
  {
   "cell_type": "code",
   "execution_count": 9,
   "metadata": {},
   "outputs": [
    {
     "name": "stdout",
     "output_type": "stream",
     "text": [
      "1.3087246887654272e+38 1.3147677006744827e+39 1.730342534199397e+38\n"
     ]
    }
   ],
   "source": [
    "masses = snap.get_particle_masses(part_type=[4])\n",
    "print(np.min(masses), np.max(masses), np.mean(masses))"
   ]
  },
  {
   "cell_type": "markdown",
   "metadata": {},
   "source": [
    "Number of particles in the simulation:"
   ]
  },
  {
   "cell_type": "code",
   "execution_count": 10,
   "metadata": {},
   "outputs": [
    {
     "name": "stdout",
     "output_type": "stream",
     "text": [
      "[   12577    13548 14304577        0        0        0]\n"
     ]
    }
   ],
   "source": [
    "print(snap.get_attribute('NumPart_Total', 'Header'))"
   ]
  },
  {
   "cell_type": "code",
   "execution_count": null,
   "metadata": {},
   "outputs": [],
   "source": []
  }
 ],
 "metadata": {
  "kernelspec": {
   "display_name": "Python 3",
   "language": "python",
   "name": "python3"
  },
  "language_info": {
   "codemirror_mode": {
    "name": "ipython",
    "version": 3
   },
   "file_extension": ".py",
   "mimetype": "text/x-python",
   "name": "python",
   "nbconvert_exporter": "python",
   "pygments_lexer": "ipython3",
   "version": "3.7.6"
  }
 },
 "nbformat": 4,
 "nbformat_minor": 4
}
