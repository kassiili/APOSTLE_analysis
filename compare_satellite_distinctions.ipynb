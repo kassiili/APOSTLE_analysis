{
 "cells": [
  {
   "cell_type": "code",
   "execution_count": null,
   "metadata": {},
   "outputs": [],
   "source": [
    "%load_ext autoreload\n",
    "%autoreload 2\n",
    "\n",
    "%config IPCompleter.greedy=True"
   ]
  },
  {
   "cell_type": "code",
   "execution_count": null,
   "metadata": {},
   "outputs": [],
   "source": [
    "import numpy as np\n",
    "import os\n",
    "import matplotlib.pyplot as plt\n",
    "from astropy import units\n",
    "from astropy.constants import G\n",
    "import importlib\n",
    "\n",
    "import dataset_compute\n",
    "import snapshot_obj"
   ]
  },
  {
   "cell_type": "code",
   "execution_count": null,
   "metadata": {},
   "outputs": [],
   "source": [
    "importlib.reload(dataset_compute)\n",
    "importlib.reload(snapshot_obj)"
   ]
  },
  {
   "cell_type": "code",
   "execution_count": null,
   "metadata": {},
   "outputs": [],
   "source": [
    "sim_id = \"V1_LR_fix\"\n",
    "snap = snapshot_obj.Snapshot(sim_id, 127)\n",
    "cops = snap.get_subhalos(\"CentreOfPotential\") * units.cm.to(units.Mpc)\n",
    "split_cops1 = dataset_compute.split_subhalos_distict1(snap, cops)\n",
    "split_cops2 = dataset_compute.split_subhalos_distict2(snap, cops)"
   ]
  },
  {
   "cell_type": "code",
   "execution_count": null,
   "metadata": {},
   "outputs": [],
   "source": [
    "fig, axes = plt.subplots(nrows=2, ncols=2)\n",
    "m31_idx = snap.index_of_halo(1,0)\n",
    "mw_idx = snap.index_of_halo(2,0)\n",
    "LG_centre = dataset_compute.compute_LG_centre(snap) * units.cm.to(units.Mpc)\n",
    "\n",
    "for ax in axes.flatten():\n",
    "    ax.set_xlim(7,12)\n",
    "\n",
    "for ax in axes:\n",
    "    ax[0].set_ylim(15,19)\n",
    "    ax[1].set_ylim(82,86)\n",
    "\n",
    "x=0; y=1\n",
    "axes[0,0].scatter(split_cops1['satellites'][:,x], split_cops1['satellites'][:,y], c='k', s=0.1)\n",
    "axes[0,0].scatter(split_cops1['isolated'][:,x], split_cops1['isolated'][:,y], c='gray', s=0.1)\n",
    "axes[0,0].scatter(cops[m31_idx,x], cops[m31_idx,y], c='r', s=0.1)\n",
    "axes[0,0].scatter(cops[mw_idx,x], cops[mw_idx,y], c='r', s=0.1)\n",
    "axes[0,0].scatter(LG_centre[x], LG_centre[y], c='g', s=0.1)\n",
    "\n",
    "axes[1,0].scatter(split_cops2['satellites'][:,x], split_cops2['satellites'][:,y], c='k', s=0.1)\n",
    "axes[1,0].scatter(split_cops2['isolated'][:,x], split_cops2['isolated'][:,y], c='gray', s=0.1)\n",
    "axes[1,0].scatter(cops[m31_idx,x], cops[m31_idx,y], c='r', s=0.1)\n",
    "axes[1,0].scatter(cops[mw_idx,x], cops[mw_idx,y], c='r', s=0.1)\n",
    "axes[1,0].scatter(LG_centre[x], LG_centre[y], c='g', s=0.1)\n",
    "\n",
    "x=0; y=2\n",
    "axes[0,1].scatter(split_cops1['satellites'][:,x], split_cops1['satellites'][:,y], c='k', s=0.1)\n",
    "axes[0,1].scatter(split_cops1['isolated'][:,x], split_cops1['isolated'][:,y], c='gray', s=0.1)\n",
    "axes[0,1].scatter(cops[m31_idx,x], cops[m31_idx,y], c='r', s=0.1)\n",
    "axes[0,1].scatter(cops[mw_idx,x], cops[mw_idx,y], c='r', s=0.1)\n",
    "axes[0,1].scatter(LG_centre[x], LG_centre[y], c='g', s=0.1)\n",
    "\n",
    "axes[1,1].scatter(split_cops2['satellites'][:,x], split_cops2['satellites'][:,y], c='k', s=0.1)\n",
    "axes[1,1].scatter(split_cops2['isolated'][:,x], split_cops2['isolated'][:,y], c='gray', s=0.1)\n",
    "axes[1,1].scatter(cops[m31_idx,x], cops[m31_idx,y], c='r', s=0.1)\n",
    "axes[1,1].scatter(cops[mw_idx,x], cops[mw_idx,y], c='r', s=0.1)\n",
    "axes[1,1].scatter(LG_centre[x], LG_centre[y], c='g', s=0.1)\n",
    "\n",
    "filename = 'distinction_comparison.png'\n",
    "home = os.path.dirname(snapshot_obj.__file__)\n",
    "path = os.path.join(home,\"Figures\")\n",
    "filename = os.path.join(path, filename)\n",
    "plt.savefig(filename, dpi=300)"
   ]
  },
  {
   "cell_type": "code",
   "execution_count": null,
   "metadata": {},
   "outputs": [],
   "source": []
  }
 ],
 "metadata": {
  "kernelspec": {
   "display_name": "Python 3",
   "language": "python",
   "name": "python3"
  },
  "language_info": {
   "codemirror_mode": {
    "name": "ipython",
    "version": 3
   },
   "file_extension": ".py",
   "mimetype": "text/x-python",
   "name": "python",
   "nbconvert_exporter": "python",
   "pygments_lexer": "ipython3"
  }
 },
 "nbformat": 4,
 "nbformat_minor": 4
}
