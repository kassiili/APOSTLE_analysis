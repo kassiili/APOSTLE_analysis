{
 "cells": [
  {
   "cell_type": "code",
   "execution_count": null,
   "metadata": {},
   "outputs": [],
   "source": [
    "%load_ext autoreload\n",
    "%autoreload 2\n",
    "\n",
    "%config IPCompleter.greedy=True"
   ]
  },
  {
   "cell_type": "markdown",
   "metadata": {},
   "source": [
    "# $M_*$ vs. $v_\\text{max}$\n",
    "\n",
    "First, imports:"
   ]
  },
  {
   "cell_type": "code",
   "execution_count": null,
   "metadata": {},
   "outputs": [],
   "source": [
    "import matplotlib.pyplot as plt\n",
    "import numpy as np\n",
    "import h5py\n",
    "from astropy import units\n",
    "from pathlib import Path\n",
    "import os\n",
    "\n",
    "import snapshot_obj\n",
    "import dataset_compute\n",
    "import curve_fit\n",
    "\n",
    "import importlib"
   ]
  },
  {
   "cell_type": "code",
   "execution_count": null,
   "metadata": {},
   "outputs": [],
   "source": [
    "importlib.reload(snapshot_obj)\n",
    "importlib.reload(dataset_compute)\n",
    "importlib.reload(curve_fit)"
   ]
  },
  {
   "cell_type": "markdown",
   "metadata": {},
   "source": [
    "## Get data\n",
    "\n",
    "Next, I retrieve the data. We are only interested in luminous halos. Also, there might be some spurious cases with odd values of $v_\\text{max}$."
   ]
  },
  {
   "cell_type": "code",
   "execution_count": null,
   "metadata": {
    "code_folding": []
   },
   "outputs": [],
   "source": [
    "# Get LCDM data:\n",
    "sim_id = \"V1_MR_fix\"\n",
    "LCDM = snapshot_obj.Snapshot(sim_id, 127, \"LCDM\")\n",
    "vmaxSat, vmaxIsol = dataset_compute.split_satellites(LCDM, \"Vmax\")\n",
    "smSat, smIsol = dataset_compute.split_satellites(LCDM, \"Stars/Mass\")\n",
    "\n",
    "# Exclude dark halos\n",
    "maskSat = np.logical_and.reduce((vmaxSat>0, smSat>0))\n",
    "maskIsol = np.logical_and.reduce((vmaxIsol>0, smIsol>0))\n",
    "\n",
    "# Convert to proper units:\n",
    "vmaxSat = vmaxSat[maskSat] * units.cm.to(units.km)\n",
    "vmaxIsol = vmaxIsol[maskIsol] * units.cm.to(units.km)\n",
    "smSat = smSat[maskSat] * units.g.to(units.Msun)\n",
    "smIsol = smIsol[maskIsol] * units.g.to(units.Msun)"
   ]
  },
  {
   "cell_type": "markdown",
   "metadata": {},
   "source": [
    "## Plot"
   ]
  },
  {
   "cell_type": "code",
   "execution_count": null,
   "metadata": {},
   "outputs": [],
   "source": [
    "# Set some parameters:\n",
    "x_down = 10; x_up = 100\n",
    "y_down = 5*10**5; y_up = 2*10**10"
   ]
  },
  {
   "cell_type": "code",
   "execution_count": null,
   "metadata": {},
   "outputs": [],
   "source": [
    "fig, axes = plt.subplots()\n",
    "\n",
    "# Set axes:\n",
    "axes.set_xscale('log')\n",
    "axes.set_yscale('log')\n",
    "axes.set_xlim(x_down,x_up)\n",
    "axes.set_ylim(y_down,y_up)\n",
    "\n",
    "# Set labels:\n",
    "axes.set_xlabel('$v_{\\mathrm{max}}[\\mathrm{km s^{-1}}]$', fontsize=16)\n",
    "axes.set_ylabel('$M_*[\\mathrm{M_\\odot}]$', fontsize=16)\n",
    "axes.text(11, 10**10, 'satellites')\n",
    "#axes.set_title('Stellar mass of satellites')\n",
    "#axes.text(11, 2*10**9, 'isolated galaxies')\n",
    "#axes.set_title('Stellar mass of isolated galaxies')\n",
    "\n",
    "# Set marker styles:\n",
    "color = {LCDM.name : \"red\"}\n",
    "marker = {LCDM.name : (3,0,0)}\n",
    "\n",
    "# Add LCDM scatter plot:\n",
    "axes.scatter(vmaxSat, smSat, marker=marker[LCDM.name], c=color[LCDM.name], \\\n",
    "        edgecolor='none', label=LCDM.name)\n",
    "\n",
    "# Add LCDM median:\n",
    "#median = curve_fit.median_trend(vmaxSat, SMSat, points_per_bar=7)\n",
    "#axes.plot(median[0], median[1], c=color[LCDM.name], linestyle='--')\n",
    "\n",
    "# Add polynomial fit:\n",
    "#axes.plot(xfit,yfit, linestyle=':')\n",
    "\n",
    "axes.legend(loc='lower right')\n",
    "plt.tight_layout()\n",
    "\n",
    "# Save figure:\n",
    "\n",
    "filename = 'SM_vs_Vmax_sat_{}.png'.format(sim_id)\n",
    "#filename = 'SM_vs_Vmax_isol.png'\n",
    "\n",
    "home = os.path.dirname(snapshot_obj.__file__)\n",
    "path = os.path.join(home,\"Figures\")\n",
    "\n",
    "# If the directory does not exist, create it\n",
    "if not os.path.exists(path):\n",
    "    os.makedirs(path)\n",
    "plt.savefig(os.path.join(path,filename))"
   ]
  },
  {
   "cell_type": "code",
   "execution_count": null,
   "metadata": {},
   "outputs": [],
   "source": []
  }
 ],
 "metadata": {
  "kernelspec": {
   "display_name": "Python 3",
   "language": "python",
   "name": "python3"
  },
  "language_info": {
   "codemirror_mode": {
    "name": "ipython",
    "version": 3
   },
   "file_extension": ".py",
   "mimetype": "text/x-python",
   "name": "python",
   "nbconvert_exporter": "python",
   "pygments_lexer": "ipython3"
  }
 },
 "nbformat": 4,
 "nbformat_minor": 4
}
