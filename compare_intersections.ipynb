{
 "cells": [
  {
   "cell_type": "code",
   "execution_count": 1,
   "metadata": {},
   "outputs": [],
   "source": [
    "import numpy as np"
   ]
  },
  {
   "cell_type": "code",
   "execution_count": 15,
   "metadata": {},
   "outputs": [
    {
     "data": {
      "text/plain": [
       "1000000"
      ]
     },
     "execution_count": 15,
     "metadata": {},
     "output_type": "execute_result"
    }
   ],
   "source": [
    "arr1 = np.random.choice(np.arange(10**8), size=10**6, replace=False)\n",
    "arr2 = np.random.choice(np.arange(10**8), size=10**4, replace=False)\n",
    "np.unique(arr1).size"
   ]
  },
  {
   "cell_type": "code",
   "execution_count": 20,
   "metadata": {},
   "outputs": [
    {
     "name": "stdout",
     "output_type": "stream",
     "text": [
      "CPU times: user 68.8 ms, sys: 29 µs, total: 68.8 ms\n",
      "Wall time: 68.3 ms\n",
      "CPU times: user 65.8 ms, sys: 69 µs, total: 65.8 ms\n",
      "Wall time: 65.6 ms\n",
      "104\n"
     ]
    }
   ],
   "source": [
    "%time isect = np.intersect1d(arr1, arr2, assume_unique=True)\n",
    "%time isect = np.intersect1d(arr2, arr1, assume_unique=True)\n",
    "print(isect.size)"
   ]
  },
  {
   "cell_type": "code",
   "execution_count": 22,
   "metadata": {},
   "outputs": [
    {
     "name": "stdout",
     "output_type": "stream",
     "text": [
      "CPU times: user 104 ms, sys: 0 ns, total: 104 ms\n",
      "Wall time: 106 ms\n",
      "CPU times: user 100 ms, sys: 0 ns, total: 100 ms\n",
      "Wall time: 100 ms\n"
     ]
    },
    {
     "data": {
      "text/plain": [
       "array([False, False, False, ..., False, False, False])"
      ]
     },
     "execution_count": 22,
     "metadata": {},
     "output_type": "execute_result"
    }
   ],
   "source": [
    "%time np.in1d(arr1,arr2,assume_unique=True)\n",
    "%time np.in1d(arr2,arr1,assume_unique=True)"
   ]
  },
  {
   "cell_type": "code",
   "execution_count": 23,
   "metadata": {},
   "outputs": [
    {
     "name": "stdout",
     "output_type": "stream",
     "text": [
      "CPU times: user 251 ms, sys: 4.1 ms, total: 255 ms\n",
      "Wall time: 254 ms\n",
      "CPU times: user 582 µs, sys: 24 µs, total: 606 µs\n",
      "Wall time: 561 µs\n",
      "CPU times: user 528 µs, sys: 0 ns, total: 528 µs\n",
      "Wall time: 531 µs\n"
     ]
    }
   ],
   "source": [
    "%time s1 = set(arr1); s2= set(arr2)\n",
    "%time isect = s1.intersection(s2)\n",
    "%time isect = s2.intersection(s1)"
   ]
  }
 ],
 "metadata": {
  "kernelspec": {
   "display_name": "Python 3",
   "language": "python",
   "name": "python3"
  },
  "language_info": {
   "codemirror_mode": {
    "name": "ipython",
    "version": 3
   },
   "file_extension": ".py",
   "mimetype": "text/x-python",
   "name": "python",
   "nbconvert_exporter": "python",
   "pygments_lexer": "ipython3",
   "version": "3.7.6"
  }
 },
 "nbformat": 4,
 "nbformat_minor": 4
}
