{
 "cells": [
  {
   "cell_type": "code",
   "execution_count": 1,
   "metadata": {},
   "outputs": [],
   "source": [
    "%load_ext autoreload\n",
    "%autoreload 2\n",
    "\n",
    "%config IPCompleter.greedy=True"
   ]
  },
  {
   "cell_type": "code",
   "execution_count": 2,
   "metadata": {},
   "outputs": [],
   "source": [
    "import matplotlib.pyplot as plt\n",
    "import numpy as np\n",
    "import h5py\n",
    "from astropy import units\n",
    "from pathlib import Path\n",
    "import os\n",
    "import time\n",
    "\n",
    "import snapshot_obj\n",
    "import dataset_compute\n",
    "import curve_fit\n",
    "\n",
    "import importlib"
   ]
  },
  {
   "cell_type": "code",
   "execution_count": 3,
   "metadata": {},
   "outputs": [
    {
     "data": {
      "text/plain": [
       "<module 'curve_fit' from '/home/kassiili/Curvaton_Simulations/analysis/curve_fit.py'>"
      ]
     },
     "execution_count": 3,
     "metadata": {},
     "output_type": "execute_result"
    }
   ],
   "source": [
    "importlib.reload(snapshot_obj)\n",
    "importlib.reload(dataset_compute)\n",
    "importlib.reload(curve_fit)"
   ]
  },
  {
   "cell_type": "markdown",
   "metadata": {},
   "source": [
    "# Subhalo stellar ages"
   ]
  },
  {
   "cell_type": "markdown",
   "metadata": {},
   "source": [
    "## Construct data dictionary\n",
    "\n",
    "Add entries for each simulation, and specify M31 and MW galaxies:"
   ]
  },
  {
   "cell_type": "code",
   "execution_count": 5,
   "metadata": {
    "code_folding": []
   },
   "outputs": [],
   "source": [
    "snap_id = 127\n",
    "sim_ids = [\"V1_LR_fix\", \"V1_LR_curvaton_p082_fix\", \"V1_LR_curvaton_p084_fix\"]\n",
    "names = [\"LCDM\", \"p082\", \"p084\"]\n",
    "paths = [\"\", \"/media/kassiili/USBFREE/LG_simulations\", \n",
    "        \"/media/kassiili/USBFREE/LG_simulations\"]\n",
    "\n",
    "# Define M31 and MW in each simulation:\n",
    "m31 = [(1,0), (1,0), (1,0)]\n",
    "mw = [(2,0), (1,1), (1,1)]\n",
    "\n",
    "data = {}\n",
    "for name, sim_id, sim_path, m31_ns, mw_ns in zip(names, sim_ids, paths, m31, mw):\n",
    "    data[name] = {\"snapshot\": snapshot_obj.Snapshot(sim_id, snap_id, name=name,\n",
    "                                                    sim_path=sim_path),\n",
    "                  \"M31_identifier\": m31_ns,\n",
    "                  \"MW_identifier\": mw_ns}"
   ]
  },
  {
   "cell_type": "markdown",
   "metadata": {},
   "source": [
    "Choose how to distinguish between satellite and isolated galaxies:"
   ]
  },
  {
   "cell_type": "code",
   "execution_count": 6,
   "metadata": {},
   "outputs": [],
   "source": [
    "distinction = \"by_gn\""
   ]
  },
  {
   "cell_type": "code",
   "execution_count": 7,
   "metadata": {},
   "outputs": [
    {
     "name": "stdout",
     "output_type": "stream",
     "text": [
      "LCDM 112\n",
      "p082 57\n",
      "p084 11\n"
     ]
    }
   ],
   "source": [
    "for name, sim_data in data.items():\n",
    "    snap = sim_data[\"snapshot\"]\n",
    "    sf_times = snap.get_subhalos(\"InitialMassWeightedBirthZ\")\n",
    "           \n",
    "    # Split into satellites:\n",
    "    if distinction == \"by_r\":\n",
    "        masks_sat, mask_isol = dataset_compute.split_satellites_by_distance(\n",
    "            snap, sim_data[\"M31_identifier\"], sim_data[\"MW_identifier\"])\n",
    "    elif distinction == \"by_gn\":\n",
    "        masks_sat, mask_isol = dataset_compute.split_satellites_by_group_number(\n",
    "            snap, sim_data[\"M31_identifier\"], sim_data[\"MW_identifier\"])\n",
    "        \n",
    "    print(name, np.sum(np.logical_or.reduce(masks_sat)))\n",
    "    mask_lum, mask_dark = dataset_compute.split_luminous(snap)\n",
    "    mask_nonzero_vmax = dataset_compute.prune_vmax(snap)\n",
    "    \n",
    "    # Add separate datasets for each subhalo to the data dictionary:\n",
    "    data[name] = \\\n",
    "    {\"StellarFormationTime\": \\\n",
    "     {\"satellites\": sf_times[np.logical_and.reduce(\n",
    "        [np.logical_or.reduce(masks_sat), mask_lum, mask_nonzero_vmax]\n",
    "    )],\n",
    "      \"isolated\": sf_times[np.logical_and.reduce(\n",
    "          [mask_isol, mask_lum, mask_nonzero_vmax]\n",
    "      )]\n",
    "     }\n",
    "    }\n"
   ]
  },
  {
   "cell_type": "markdown",
   "metadata": {},
   "source": [
    "## Plot"
   ]
  },
  {
   "cell_type": "code",
   "execution_count": 8,
   "metadata": {},
   "outputs": [],
   "source": [
    "cols = [\"grey\", \"pink\", \"lightblue\"]"
   ]
  },
  {
   "cell_type": "code",
   "execution_count": 9,
   "metadata": {},
   "outputs": [
    {
     "name": "stdout",
     "output_type": "stream",
     "text": [
      "LCDM 32\n",
      "p082 30\n",
      "p084 4\n",
      "LCDM 70\n",
      "p082 54\n",
      "p084 18\n"
     ]
    },
    {
     "data": {
      "text/plain": [
       "<matplotlib.legend.Legend at 0x7f482944a7d0>"
      ]
     },
     "execution_count": 9,
     "metadata": {},
     "output_type": "execute_result"
    },
    {
     "data": {
      "image/png": "[encoded data removed]",
      "text/plain": [
       "<Figure size 1008x432 with 2 Axes>"
      ]
     },
     "metadata": {
      "needs_background": "light"
     },
     "output_type": "display_data"
    }
   ],
   "source": [
    "fig, axes = plt.subplots(ncols=2, figsize=(14,6))\n",
    "plt.subplots_adjust(wspace=0.3)\n",
    "\n",
    "fig.suptitle(\"Mean initial mass weighted birth redshifts\")\n",
    "\n",
    "# Set axis:\n",
    "for ax in axes:  \n",
    "    ax.set_xlabel('$z$', fontsize=16)\n",
    "    ax.set_ylabel('fraction', fontsize=16)\n",
    "\n",
    "axes[0].set_title('Satellite galaxies')\n",
    "axes[1].set_title('Isolated galaxies')\n",
    "\n",
    "axes[0].invert_xaxis()\n",
    "axes[1].invert_xaxis()\n",
    "\n",
    "# Make satellite histograms and plot:\n",
    "sf_times = []\n",
    "weights = []\n",
    "for i, (name, sim_data) in enumerate(data.items()):\n",
    "    sf_times.append(sim_data[\"StellarFormationTime\"][\"satellites\"])\n",
    "    n_stars = sf_times[i].size\n",
    "    print(name, n_stars)\n",
    "    weights.append(np.ones(n_stars)/n_stars)\n",
    "\n",
    "bins = np.linspace(0, 1, 20)\n",
    "_ = axes[0].hist(sf_times, 5, weights=weights, color=cols, label=data.keys())\n",
    "\n",
    "# Make isolated galaxy histograms and plot:\n",
    "sf_times = []\n",
    "weights = []\n",
    "for i, (name, sim_data) in enumerate(data.items()):\n",
    "    sf_times.append(sim_data[\"StellarFormationTime\"][\"isolated\"])\n",
    "    n_stars = sf_times[i].size\n",
    "    print(name, n_stars)\n",
    "    weights.append(np.ones(n_stars)/n_stars)\n",
    "\n",
    "bins = np.linspace(0, 1, 20)\n",
    "_ = axes[1].hist(sf_times, 5, weights=weights, color=cols)\n",
    "\n",
    "axes[0].legend()"
   ]
  }
 ],
 "metadata": {
  "kernelspec": {
   "display_name": "Python 3",
   "language": "python",
   "name": "python3"
  },
  "language_info": {
   "codemirror_mode": {
    "name": "ipython",
    "version": 3
   },
   "file_extension": ".py",
   "mimetype": "text/x-python",
   "name": "python",
   "nbconvert_exporter": "python",
   "pygments_lexer": "ipython3",
   "version": "3.7.4"
  }
 },
 "nbformat": 4,
 "nbformat_minor": 4
}
