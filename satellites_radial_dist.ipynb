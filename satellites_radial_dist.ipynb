{
 "cells": [
  {
   "cell_type": "code",
   "execution_count": null,
   "metadata": {},
   "outputs": [],
   "source": [
    "%load_ext autoreload\n",
    "%autoreload 2\n",
    "\n",
    "%config IPCompleter.greedy=True"
   ]
  },
  {
   "cell_type": "code",
   "execution_count": null,
   "metadata": {},
   "outputs": [],
   "source": [
    "import numpy as np\n",
    "from astropy import units\n",
    "import os\n",
    "import astropy.units as u\n",
    "import matplotlib.pyplot as plt\n",
    "\n",
    "import snapshot_obj\n",
    "import dataset_compute\n",
    "\n",
    "import importlib"
   ]
  },
  {
   "cell_type": "code",
   "execution_count": null,
   "metadata": {},
   "outputs": [],
   "source": [
    "importlib.reload(snapshot_obj)\n",
    "importlib.reload(dataset_compute)"
   ]
  },
  {
   "cell_type": "code",
   "execution_count": null,
   "metadata": {
    "code_folding": []
   },
   "outputs": [],
   "source": [
    "snap_id = 127\n",
    "sim_ids = [\"V1_LR_fix\", \"V1_LR_curvaton_p084_fix\", \"V1_LR_curvaton_p082_fix\"]\n",
    "names = [\"LCDM\", \"p082\", \"p084\"]\n",
    "data = {name : {} for name in names}\n",
    "for sim_id, name in zip(sim_ids, names):\n",
    "    # Get data:\n",
    "    snap = snapshot_obj.Snapshot(sim_id, snap_id, name)\n",
    "    cops = snap.get_subhalos(\"CentreOfPotential\")\n",
    "    M31 = cops[snap.index_of_halo(1, 0)]\n",
    "    MW = cops[snap.index_of_halo(2, 0)]\n",
    "    \n",
    "    # Split into satellites:\n",
    "    cops_M31 = dataset_compute.get_satellites(snap, cops,\n",
    "                                          galaxy=1, split_luminous=True)\n",
    "    cops_MW = dataset_compute.get_satellites(snap, cops,\n",
    "                                          galaxy=2, split_luminous=True)\n",
    "\n",
    "    # Add to dictionary:\n",
    "    data[name] = {\"M31\": {\"gal_centre\": M31, \"radius\": cops_M31, \"sat_count\": {}},\n",
    "                  \"MW\": {\"gal_centre\": MW, \"radius\": cops_MW, \"sat_count\": {}}}\n",
    "    \n",
    "    for gal_key, gal_dict in data[name].items():\n",
    "        gal_centre = gal_dict[\"gal_centre\"]\n",
    "        for lum_key, x in gal_dict[\"radius\"].items():\n",
    "            # Compute distance to central:\n",
    "            r = dataset_compute.periodic_wrap(snap, gal_centre, x)\n",
    "            r = np.linalg.norm(r - gal_centre, axis=1) * units.cm.to(units.kpc)\n",
    "            \n",
    "            # Sort and add ~zero point to continue line to the side of the figure:\n",
    "            r = np.sort(r)\n",
    "            data[name][gal_key]['radius'][lum_key] = \\\n",
    "                np.concatenate((r, np.array([1000])))\n",
    "        \n",
    "            data[name][gal_key]['sat_count'][lum_key] = \\\n",
    "                np.concatenate((np.arange(1, r.size+1), np.array([r.size])))"
   ]
  },
  {
   "cell_type": "code",
   "execution_count": null,
   "metadata": {},
   "outputs": [],
   "source": [
    "# Set some parameters:\n",
    "x_down = 0; x_up = 1000\n",
    "y_down = 0; y_up = 50\n",
    "\n",
    "# Set colors:\n",
    "color = [\"black\", \"red\", \"blue\", \"green\"]"
   ]
  },
  {
   "cell_type": "code",
   "execution_count": null,
   "metadata": {},
   "outputs": [],
   "source": [
    "# Construct saving location:\n",
    "filename = 'satellite_radial_distribution'\n",
    "for name in names:\n",
    "    filename += \"_{}\".format(name)\n",
    "filename += \".png\"\n",
    "    \n",
    "home = os.path.dirname(snapshot_obj.__file__)\n",
    "path = os.path.join(home,\"Figures\")\n",
    "filename = os.path.join(path, filename)"
   ]
  },
  {
   "cell_type": "code",
   "execution_count": null,
   "metadata": {},
   "outputs": [],
   "source": [
    "fig, axes = plt.subplots(ncols=2, figsize=(14,6))\n",
    "plt.subplots_adjust(wspace=0.3)\n",
    "\n",
    "# Set axis:\n",
    "for ax in axes:\n",
    "    #ax.set_yscale('log')\n",
    "    ax.set_xlim(x_down, x_up)\n",
    "    ax.set_ylim(y_down, y_up)\n",
    "    ax.set_xlabel('$r[\\mathrm{kpc}]$', fontsize=16)\n",
    "    ax.set_ylabel('$N(<r)/N_\\mathrm{tot}$', fontsize=16)\n",
    "    \n",
    "axes[0].set_title('Andromeda')\n",
    "axes[1].set_title('Milky Way')\n",
    "\n",
    "# Add scatter plots:\n",
    "for i, (name, entry) in enumerate(data.items()):\n",
    "    x = entry['M31']['radius']['luminous']\n",
    "    y = entry['M31']['sat_count']['luminous']\n",
    "    axes[0].plot(x, y, c=color[i], label='{} luminous'.format(name))\n",
    "    x = entry['M31']['radius']['dark']\n",
    "    y = entry['M31']['sat_count']['dark']\n",
    "    axes[0].plot(x, y, c=color[i], linestyle='--', label='{} dark'.format(name))\n",
    "    \n",
    "    x = entry['MW']['radius']['luminous']\n",
    "    y = entry['MW']['sat_count']['luminous']\n",
    "    axes[1].plot(x, y, c=color[i], label='{} luminous'.format(name))\n",
    "    x = entry['MW']['radius']['dark']\n",
    "    y = entry['MW']['sat_count']['dark']\n",
    "    axes[1].plot(x, y, c=color[i], linestyle='--', label='{} dark'.format(name))\n",
    "\n",
    "axes[0].legend(loc='upper right')\n",
    "plt.tight_layout()\n",
    "\n",
    "#plt.savefig(filename, dpi=200)"
   ]
  },
  {
   "cell_type": "code",
   "execution_count": null,
   "metadata": {},
   "outputs": [],
   "source": []
  }
 ],
 "metadata": {
  "kernelspec": {
   "display_name": "Python 3",
   "language": "python",
   "name": "python3"
  },
  "language_info": {
   "codemirror_mode": {
    "name": "ipython",
    "version": 3
   },
   "file_extension": ".py",
   "mimetype": "text/x-python",
   "name": "python",
   "nbconvert_exporter": "python",
   "pygments_lexer": "ipython3"
  }
 },
 "nbformat": 4,
 "nbformat_minor": 4
}
