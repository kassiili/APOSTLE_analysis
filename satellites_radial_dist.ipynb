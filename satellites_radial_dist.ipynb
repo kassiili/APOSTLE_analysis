{
 "cells": [
  {
   "cell_type": "code",
   "execution_count": null,
   "metadata": {},
   "outputs": [],
   "source": [
    "%load_ext autoreload\n",
    "%autoreload 2\n",
    "\n",
    "%config IPCompleter.greedy=True"
   ]
  },
  {
   "cell_type": "code",
   "execution_count": null,
   "metadata": {},
   "outputs": [],
   "source": [
    "import numpy as np\n",
    "import os\n",
    "import astropy.units as u\n",
    "import matplotlib.pyplot as plt\n",
    "\n",
    "import snapshot_obj\n",
    "import dataset_compute\n",
    "\n",
    "import importlib"
   ]
  },
  {
   "cell_type": "code",
   "execution_count": null,
   "metadata": {},
   "outputs": [],
   "source": [
    "importlib.reload(snapshot_obj)\n",
    "importlib.reload(dataset_compute)"
   ]
  },
  {
   "cell_type": "code",
   "execution_count": null,
   "metadata": {},
   "outputs": [],
   "source": [
    "# Get LCDM data:\n",
    "sim_id = \"V1_MR_fix\"\n",
    "snap_id = 127\n",
    "LCDM = snapshot_obj.Snapshot(sim_id, snap_id)\n",
    "\n",
    "# central:\n",
    "gn = 2"
   ]
  },
  {
   "cell_type": "code",
   "execution_count": null,
   "metadata": {
    "code_folding": []
   },
   "outputs": [],
   "source": [
    "gns = LCDM.get_subhalos(\"GroupNumber\")\n",
    "sgns = LCDM.get_subhalos(\"SubGroupNumber\")\n",
    "sm = LCDM.get_subhalos(\"Stars/Mass\") * u.g.to(u.Msun)\n",
    "cops = LCDM.get_subhalos(\"CentreOfPotential\") * u.cm.to(u.kpc)\n",
    "mass = LCDM.get_subhalos('Mass') * u.g.to(u.Msun)\n",
    "\n",
    "gal_centre = cops[np.logical_and(gns == gn, sgns == 0)]\n",
    "\n",
    "# Choose galaxy satellites and with total mass sufficient for galaxy formation:\n",
    "mask = np.logical_and.reduce((gns == gn, sgns != 0, mass > 10**8))\n",
    "cops = cops[mask]\n",
    "sm = sm[mask]\n",
    "\n",
    "# Calculate distances to centre:\n",
    "r = dataset_compute.periodic_wrap(LCDM, gal_centre, cops)\n",
    "r = np.linalg.norm(cops - gal_centre, axis=1)\n",
    "r_lum = r[sm > 0]\n",
    "r_dark = r[sm == 0]\n",
    "\n",
    "r_lum.sort()\n",
    "r_dark.sort()"
   ]
  },
  {
   "cell_type": "code",
   "execution_count": null,
   "metadata": {},
   "outputs": [],
   "source": [
    "fig, axes = plt.subplots()\n",
    "\n",
    "axes.plot(r_lum, np.arange(1,r_lum.size+1), c=\"black\", label='luminous')\n",
    "axes.plot(r_dark, np.arange(1,r_dark.size+1), c=\"grey\", label='dark')\n",
    "\n",
    "axes.legend(loc=0)\n",
    "axes.set_xlabel('$r[\\mathrm{kpc}]$')\n",
    "axes.set_ylabel('$N(<r)/N_\\mathrm{tot}$')\n",
    "axes.set_title('Satellites of halo gn={} by distance'.format(gn))\n",
    "\n",
    "# Save figure:\n",
    "\n",
    "filename = 'satellites_radial_dist_gn{}_{}.png'.format(gn,sim_id)\n",
    "\n",
    "home = os.path.dirname(snapshot_obj.__file__)\n",
    "path = os.path.join(home,\"Figures\")\n",
    "\n",
    "## If the directory does not exist, create it\n",
    "if not os.path.exists(path):\n",
    "    os.makedirs(path)\n",
    "plt.savefig(os.path.join(path,filename), dpi=200)"
   ]
  },
  {
   "cell_type": "code",
   "execution_count": null,
   "metadata": {},
   "outputs": [],
   "source": []
  }
 ],
 "metadata": {
  "kernelspec": {
   "display_name": "Python 3",
   "language": "python",
   "name": "python3"
  },
  "language_info": {
   "codemirror_mode": {
    "name": "ipython",
    "version": 3
   },
   "file_extension": ".py",
   "mimetype": "text/x-python",
   "name": "python",
   "nbconvert_exporter": "python",
   "pygments_lexer": "ipython3"
  }
 },
 "nbformat": 4,
 "nbformat_minor": 4
}
