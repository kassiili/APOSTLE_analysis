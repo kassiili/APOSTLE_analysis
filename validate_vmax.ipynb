{
 "cells": [
  {
   "cell_type": "code",
   "execution_count": null,
   "metadata": {},
   "outputs": [],
   "source": [
    "%load_ext autoreload\n",
    "%autoreload 2\n",
    "\n",
    "%config IPCompleter.greedy=True"
   ]
  },
  {
   "cell_type": "code",
   "execution_count": null,
   "metadata": {},
   "outputs": [],
   "source": [
    "import matplotlib.pyplot as plt\n",
    "import numpy as np\n",
    "import h5py\n",
    "from astropy import units\n",
    "from pathlib import Path\n",
    "import os\n",
    "\n",
    "import snapshot_obj\n",
    "import dataset_compute\n",
    "import curve_fit\n",
    "\n",
    "import importlib"
   ]
  },
  {
   "cell_type": "code",
   "execution_count": null,
   "metadata": {},
   "outputs": [],
   "source": [
    "importlib.reload(snapshot_obj)\n",
    "importlib.reload(dataset_compute)\n",
    "importlib.reload(curve_fit)"
   ]
  },
  {
   "cell_type": "markdown",
   "metadata": {},
   "source": [
    "# Differences between values of $v_\\mathrm{max}$ \n",
    "\n",
    "To validate the values computed with my implemented methods, I compare them to the catalogued values that should be alright.\n",
    "\n",
    "## Inspect subhalo sizes\n",
    "\n",
    "First let us plot a histogram (logarithmically) of the number of bound particles of the subhalos in the med-res run. As expected, most halos are formed in the small-mass range, with only about $<100$ bound particles. These halos are hardly resolved."
   ]
  },
  {
   "cell_type": "code",
   "execution_count": null,
   "metadata": {
    "code_folding": []
   },
   "outputs": [],
   "source": [
    "# Get LCDM data:\n",
    "LCDM = snapshot_obj.Snapshot(\"V1_MR_fix\", 127)\n",
    "vmax = LCDM.get_subhalos(\"Vmax\") * units.cm.to(units.km)\n",
    "data = LCDM.get_subhalos(\"Max_Vcirc\")\n",
    "max_vcirc = data[:,0] * units.cm.to(units.km)\n",
    "rmax = data[:,1] * units.cm.to(units.kpc)"
   ]
  },
  {
   "cell_type": "code",
   "execution_count": null,
   "metadata": {},
   "outputs": [],
   "source": [
    "part_nums = LCDM.get_subhalos(\"SubLength\")\n",
    "print(np.min(part_nums))"
   ]
  },
  {
   "cell_type": "code",
   "execution_count": null,
   "metadata": {},
   "outputs": [],
   "source": [
    "down = 1; up = 5\n",
    "part_nums = np.log10(part_nums)\n",
    "part_nums = part_nums[np.logical_and(down < part_nums, part_nums < up)]\n",
    "fig, axes = plt.subplots()\n",
    "axes.set_xlabel('$\\mathrm{log}(N_\\mathrm{bound})$')\n",
    "axes.hist(part_nums, 10)\n",
    "plt.show()"
   ]
  },
  {
   "cell_type": "markdown",
   "metadata": {},
   "source": [
    "## Plot differing values\n",
    "\n",
    "Now, let us find the subhalos, for which the difference in the $v_\\textrm{max}$ value is in a given range. We see that subhalos with a greater disagreement are the subhalos with less particles. The lines that form in the small-mass range of the figure correspond to $n_\\mathrm{soft}, n_\\mathrm{soft}*2, n_\\mathrm{soft}*3, \\dots$ dm particles. The value of $n_\\mathrm{soft}$ only makes a difference very close to the halo centre (where the accumulated number of particles is small). However, to have a meaningful value of $v_\\mathrm{max}$ for the subhalos with around 50 particles, I chose $n_\\mathrm{soft}=5$ (instead of 10 used for rotation curves). We certainly should not be concerned with the subhalos with less than 50 particles (and talking about halos this small is already pushing it a bit).\n",
    "\n",
    "Looking at subhalos with 5% difference in the values, all of them are among the subhalos that are not really resolved yet. Being able to compute $v_\\mathrm{max}$ for the interesting halos with 5% accuracy, in the very least, is sufficient-"
   ]
  },
  {
   "cell_type": "code",
   "execution_count": null,
   "metadata": {},
   "outputs": [],
   "source": [
    "err = np.abs(vmax-max_vcirc)/vmax\n",
    "differing = np.logical_and(0.01 < err, err < 1)\n",
    "print(vmax.size)\n",
    "print(np.sum(differing))"
   ]
  },
  {
   "cell_type": "code",
   "execution_count": null,
   "metadata": {},
   "outputs": [],
   "source": [
    "fig, axes = plt.subplots()\n",
    "\n",
    "# Set axis:\n",
    "axes.set_xscale('log')\n",
    "axes.set_yscale('log')\n",
    "axes.set_xlim(0.1, 50)\n",
    "axes.set_ylim(0.3, 100)\n",
    "\n",
    "# Add LCDM scatter plot:\n",
    "axes.scatter(rmax[differing], vmax[differing], s=3, label='catalogue')\n",
    "axes.scatter(rmax[differing], max_vcirc[differing], s=3, label='me')\n",
    "\n",
    "plt.legend()\n",
    "plt.tight_layout()\n"
   ]
  },
  {
   "cell_type": "code",
   "execution_count": null,
   "metadata": {},
   "outputs": [],
   "source": []
  }
 ],
 "metadata": {
  "kernelspec": {
   "display_name": "Python 3",
   "language": "python",
   "name": "python3"
  },
  "language_info": {
   "codemirror_mode": {
    "name": "ipython",
    "version": 3
   },
   "file_extension": ".py",
   "mimetype": "text/x-python",
   "name": "python",
   "nbconvert_exporter": "python",
   "pygments_lexer": "ipython3"
  }
 },
 "nbformat": 4,
 "nbformat_minor": 4
}
