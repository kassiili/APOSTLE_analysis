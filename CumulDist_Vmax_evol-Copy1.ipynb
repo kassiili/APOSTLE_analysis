{
 "cells": [
  {
   "cell_type": "code",
   "execution_count": 1,
   "metadata": {},
   "outputs": [],
   "source": [
    "%load_ext autoreload\n",
    "%autoreload 2\n",
    "\n",
    "%config IPCompleter.greedy=True"
   ]
  },
  {
   "cell_type": "markdown",
   "metadata": {},
   "source": [
    "# Stellar mass vs. $v_\\text{max}$\n",
    "\n",
    "First, imports:"
   ]
  },
  {
   "cell_type": "code",
   "execution_count": 6,
   "metadata": {},
   "outputs": [],
   "source": [
    "import matplotlib.pyplot as plt\n",
    "import numpy as np\n",
    "import h5py\n",
    "from astropy import units\n",
    "from pathlib import Path\n",
    "import os\n",
    "\n",
    "import snapshot_obj\n",
    "import curve_fit\n",
    "\n",
    "import importlib"
   ]
  },
  {
   "cell_type": "code",
   "execution_count": 7,
   "metadata": {
    "scrolled": true
   },
   "outputs": [
    {
     "data": {
      "text/plain": [
       "<module 'curve_fit' from '/home/kassiili/Curvaton_Simulations/analysis/curve_fit.py'>"
      ]
     },
     "execution_count": 7,
     "metadata": {},
     "output_type": "execute_result"
    }
   ],
   "source": [
    "importlib.reload(snapshot_obj)\n",
    "importlib.reload(curve_fit)"
   ]
  },
  {
   "cell_type": "markdown",
   "metadata": {},
   "source": [
    "## Get data\n",
    "\n",
    "Next, I retrieve the data. We are only interested in luminous halos. Also, there might be some spurious cases with odd values of $v_\\text{max}$."
   ]
  },
  {
   "cell_type": "code",
   "execution_count": 8,
   "metadata": {
    "code_folding": []
   },
   "outputs": [],
   "source": [
    "# Choose galaxy:\n",
    "galaxy = 'M31'\n",
    "\n",
    "if galaxy == 'M31':\n",
    "    gn=1\n",
    "else:\n",
    "    gn=2"
   ]
  },
  {
   "cell_type": "code",
   "execution_count": 10,
   "metadata": {
    "code_folding": []
   },
   "outputs": [],
   "source": [
    "# Only satellites, luminous and dark:\n",
    "\n",
    "data = {}\n",
    "\n",
    "mins = 100\n",
    "maxs = 127\n",
    "step = 5\n",
    "\n",
    "for snap in range(maxs,mins,-step):\n",
    "\n",
    "    snapshot = snapshot_obj.Snapshot(\"CDM_V1_LR\",snap,snap)\n",
    "    vmax = snapshot.get_subhalos(\"Vmax\")\n",
    "    SM = snapshot.get_subhalos(\"Stars/Mass\")\n",
    "    GNs = snapshot.get_subhalos(\"GroupNumber\")\n",
    "    SGNs = snapshot.get_subhalos(\"SubGroupNumber\")\n",
    "\n",
    "    # Get the subhalos of the right galaxy:\n",
    "    mask = np.logical_and.reduce((vmax > 0, GNs == gn))\n",
    "\n",
    "    # Convert to proper units:\n",
    "    vmax = vmax[mask] / 100000 # cm/s to km/s \n",
    "    SM = SM[mask] * units.g.to(units.Msun)\n",
    "\n",
    "    # Sort arrays in descending order:\n",
    "    vmax[::-1].sort()\n",
    "    \n",
    "    data[snap] = vmax\n"
   ]
  },
  {
   "cell_type": "markdown",
   "metadata": {},
   "source": [
    "## Plot"
   ]
  },
  {
   "cell_type": "code",
   "execution_count": 11,
   "metadata": {},
   "outputs": [],
   "source": [
    "# Set some parameters:\n",
    "x_down = 7; x_up = 100\n",
    "y_down = 1; y_up = 200"
   ]
  },
  {
   "cell_type": "code",
   "execution_count": 15,
   "metadata": {
    "code_folding": []
   },
   "outputs": [
    {
     "data": {
      "image/png": "[encoded data removed]",
      "text/plain": [
       "<Figure size 432x288 with 1 Axes>"
      ]
     },
     "metadata": {
      "needs_background": "light"
     },
     "output_type": "display_data"
    }
   ],
   "source": [
    "fig, axes = plt.subplots()\n",
    "\n",
    "# Set axes:\n",
    "axes.set_xscale('log')\n",
    "axes.set_yscale('log')\n",
    "axes.set_xlim(x_down,x_up)\n",
    "axes.set_ylim(y_down,y_up)\n",
    "\n",
    "# Set labels:\n",
    "axes.set_xlabel('$v_{\\mathrm{max}}[\\mathrm{km s^{-1}}]$', fontsize=16)\n",
    "axes.set_ylabel('$N(>v_{\\mathrm{max}})$', fontsize=16)\n",
    "#axes.set_title('Stellar mass of satellites')\n",
    "#axes.text(11, 2*10**9, 'isolated galaxies')\n",
    "#axes.set_title('Stellar mass of isolated galaxies')\n",
    "\n",
    "# Galaxy text:\n",
    "axes.text(8, 300, '{} satellites'.format(galaxy))\n",
    "#self.axes.set_title('Distribution of satellites as a function of $v_{max}$')\n",
    "\n",
    "n = int((maxs-mins)/step)+1\n",
    "toolight = int(len(data)/4)\n",
    "colors = plt.cm.Blues(np.linspace(0,1,len(data) + toolight))[toolight:]\n",
    "\n",
    "for i,(snap,vmax) in enumerate(data.items()):\n",
    "    x = np.arange(1, vmax.size+1)\n",
    "    \n",
    "    # Continue to left:\n",
    "    x = np.concatenate((x,np.array([x[-1]])))\n",
    "    vmax = np.concatenate((vmax,np.array([0.01])))\n",
    "\n",
    "    axes.plot(vmax, x, label=snap, color=colors[i])\n",
    "    \n",
    "    \n",
    "plt.legend()\n",
    "plt.tight_layout()\n",
    "\n",
    "\n",
    "# Save figure:\n",
    "\n",
    "filename = 'cumulDistByVmax_evol_{}.png'.format(galaxy)\n",
    "\n",
    "home = os.path.dirname(snapshot_obj.__file__)\n",
    "path = os.path.join(home,\"Figures\")\n",
    "\n",
    "# If the directory does not exist, create it\n",
    "if not os.path.exists(path):\n",
    "    os.makedirs(path)\n",
    "plt.savefig(os.path.join(path,filename), dpi=200)"
   ]
  },
  {
   "cell_type": "code",
   "execution_count": null,
   "metadata": {},
   "outputs": [],
   "source": []
  }
 ],
 "metadata": {
  "kernelspec": {
   "display_name": "Python 3",
   "language": "python",
   "name": "python3"
  },
  "language_info": {
   "codemirror_mode": {
    "name": "ipython",
    "version": 3
   },
   "file_extension": ".py",
   "mimetype": "text/x-python",
   "name": "python",
   "nbconvert_exporter": "python",
   "pygments_lexer": "ipython3",
   "version": "3.7.4"
  }
 },
 "nbformat": 4,
 "nbformat_minor": 4
}
