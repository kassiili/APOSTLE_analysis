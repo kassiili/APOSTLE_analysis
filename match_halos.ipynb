{
 "cells": [
  {
   "cell_type": "code",
   "execution_count": 1,
   "metadata": {},
   "outputs": [],
   "source": [
    "%load_ext autoreload\n",
    "%autoreload 2\n",
    "\n",
    "%config IPCompleter.greedy=True"
   ]
  },
  {
   "cell_type": "code",
   "execution_count": 20,
   "metadata": {},
   "outputs": [],
   "source": [
    "import numpy as np\n",
    "import heapq\n",
    "import importlib\n",
    "import snapshot_obj\n",
    "import trace_halo as th"
   ]
  },
  {
   "cell_type": "code",
   "execution_count": 21,
   "metadata": {},
   "outputs": [
    {
     "data": {
      "text/plain": [
       "<module 'trace_halo' from '/home/kassiili/Curvaton_Simulations/analysis/trace_halo.py'>"
      ]
     },
     "execution_count": 21,
     "metadata": {},
     "output_type": "execute_result"
    }
   ],
   "source": [
    "importlib.reload(snapshot_obj)\n",
    "importlib.reload(th)"
   ]
  },
  {
   "cell_type": "code",
   "execution_count": 22,
   "metadata": {},
   "outputs": [
    {
     "name": "stdout",
     "output_type": "stream",
     "text": [
      "(1.0,1.0) : (1.0,1.0)\n",
      "(1.0,2.0) : (-1.0,-1.0)\n",
      "(1.0,3.0) : (1.0,2.0)\n",
      "(1.0,4.0) : (1.0,3.0)\n",
      "(1.0,5.0) : (1.0,4.0)\n",
      "(1.0,6.0) : (1.0,5.0)\n",
      "(1.0,7.0) : (1.0,7.0)\n",
      "(1.0,8.0) : (1.0,8.0)\n",
      "(1.0,9.0) : (1.0,6.0)\n",
      "(1.0,10.0) : (1.0,9.0)\n",
      "(1.0,11.0) : (1.0,10.0)\n",
      "(1.0,12.0) : (1.0,11.0)\n",
      "(1.0,13.0) : (1.0,12.0)\n",
      "(1.0,14.0) : (1.0,14.0)\n",
      "(1.0,15.0) : (1.0,13.0)\n",
      "(1.0,16.0) : (1.0,15.0)\n",
      "(1.0,17.0) : (1.0,16.0)\n",
      "(1.0,18.0) : (1.0,17.0)\n",
      "(1.0,19.0) : (1.0,23.0)\n",
      "(1.0,20.0) : (1.0,20.0)\n",
      "(1.0,21.0) : (1.0,19.0)\n",
      "(1.0,22.0) : (1.0,21.0)\n",
      "(1.0,23.0) : (1.0,22.0)\n",
      "(1.0,24.0) : (1.0,25.0)\n",
      "(1.0,25.0) : (-1.0,-1.0)\n",
      "(1.0,26.0) : (1.0,24.0)\n",
      "(1.0,27.0) : (1.0,32.0)\n",
      "(1.0,28.0) : (1.0,30.0)\n",
      "(1.0,29.0) : (1.0,28.0)\n",
      "(1.0,30.0) : (1.0,29.0)\n",
      "(1.0,31.0) : (1.0,31.0)\n",
      "(1.0,32.0) : (1.0,34.0)\n",
      "(1.0,33.0) : (1.0,37.0)\n",
      "(1.0,34.0) : (1.0,36.0)\n",
      "(1.0,35.0) : (-1.0,-1.0)\n",
      "(1.0,36.0) : (1.0,42.0)\n",
      "(1.0,37.0) : (-1.0,-1.0)\n",
      "(1.0,38.0) : (1.0,39.0)\n",
      "(1.0,39.0) : (1.0,41.0)\n",
      "(1.0,40.0) : (1.0,35.0)\n",
      "(1.0,41.0) : (1.0,43.0)\n",
      "(1.0,42.0) : (1.0,45.0)\n",
      "(1.0,43.0) : (1.0,38.0)\n",
      "(1.0,44.0) : (1.0,46.0)\n",
      "(1.0,45.0) : (1.0,47.0)\n",
      "(1.0,46.0) : (1.0,48.0)\n",
      "(1.0,47.0) : (1.0,44.0)\n",
      "(1.0,48.0) : (1.0,50.0)\n",
      "(1.0,49.0) : (1.0,49.0)\n",
      "(1.0,50.0) : (-1.0,-1.0)\n",
      "(1.0,51.0) : (1.0,51.0)\n",
      "(1.0,52.0) : (1.0,55.0)\n",
      "(1.0,53.0) : (1.0,53.0)\n",
      "(1.0,54.0) : (1.0,57.0)\n"
     ]
    }
   ],
   "source": [
    "snap_ref = snapshot_obj.Snapshot(\"CDM_V1_LR\", 127)\n",
    "snap = snapshot_obj.Snapshot(\"CDM_V1_LR\", 126)\n",
    "\n",
    "explore = {}\n",
    "GNs = snap.get_subhalos('GroupNumber')\n",
    "SGNs = snap.get_subhalos('SubGroupNumber')\n",
    "mask_exp = (GNs == 1) # Look at M31 only\n",
    "\n",
    "explore['GNs'] = GNs[mask_exp]\n",
    "explore['SGNs'] = SGNs[mask_exp]\n",
    "explore['IDs'] = snap.get_subhalos_IDs()[mask_exp]\n",
    "explore['Mass'] = snap.get_subhalos('Mass')[mask_exp]\n",
    "\n",
    "reference = {}\n",
    "GNs = snap_ref.get_subhalos('GroupNumber')\n",
    "SGNs = snap_ref.get_subhalos('SubGroupNumber')\n",
    "mask_ref = np.logical_and(GNs == 1, SGNs > 0) # Look at M31 satellites only\n",
    "reference['GNs'] = GNs[mask_ref]\n",
    "reference['SGNs'] = SGNs[mask_ref]\n",
    "reference['IDs'] = snap_ref.get_subhalos_IDs()[mask_ref]\n",
    "reference['Mass'] = snap_ref.get_subhalos('Mass')[mask_ref]\n",
    "\n",
    "matches_exp = -1*np.ones(2*explore['GNs'].size)\\\n",
    "        .reshape((explore['GNs'].size,2))\n",
    "matches_ref = -1*np.ones(2*reference['GNs'].size)\\\n",
    "        .reshape((reference['GNs'].size,2))\n",
    "\n",
    "init_idents = th.identify_groupNumbers(reference['GNs'],explore['GNs'])\n",
    "\n",
    "# Initialize priority queue:\n",
    "pq = []\n",
    "for idx_ref,idx_exp in enumerate(init_idents):\n",
    "    heapq.heappush(pq, (0,(idx_ref,idx_exp)))\n",
    "\n",
    "while len(pq) > 0:\n",
    "    next_item = heapq.heappop(pq)\n",
    "    step = next_item[0]\n",
    "    idx_ref = next_item[1][0]; idx_exp0 = next_item[1][1]\n",
    "    idx_exp = th.iteration(idx_exp0,step,explore['GNs'].size)\n",
    "    \n",
    "    found_match = th.match_subhalos(explore['IDs'][idx_exp],\\\n",
    "            explore['Mass'][idx_exp],\\\n",
    "            reference['IDs'][idx_ref],\\\n",
    "            reference['Mass'][idx_ref])\n",
    "\n",
    "    if found_match:\n",
    "        matches_exp[idx_exp] = (reference['GNs'][idx_ref],\\\n",
    "                reference['SGNs'][idx_ref])\n",
    "        matches_ref[idx_ref] = (explore['GNs'][idx_exp],\\\n",
    "                explore['SGNs'][idx_exp])\n",
    "    else:\n",
    "        new_step = th.next_matching_pair(idx_exp0,step,matches_exp)\n",
    "        if new_step != step: \n",
    "            heapq.heappush(pq, (new_step,(idx_ref,idx_exp0)))\n",
    "\n",
    "for idx_ref,match in enumerate(matches_ref):\n",
    "    print(\"({},{}) : ({},{})\".format(reference['GNs'][idx_ref],reference['SGNs'][idx_ref],match[0],match[1]))"
   ]
  },
  {
   "cell_type": "code",
   "execution_count": null,
   "metadata": {},
   "outputs": [],
   "source": []
  }
 ],
 "metadata": {
  "kernelspec": {
   "display_name": "Python 3",
   "language": "python",
   "name": "python3"
  },
  "language_info": {
   "codemirror_mode": {
    "name": "ipython",
    "version": 3
   },
   "file_extension": ".py",
   "mimetype": "text/x-python",
   "name": "python",
   "nbconvert_exporter": "python",
   "pygments_lexer": "ipython3",
   "version": "3.7.4"
  }
 },
 "nbformat": 4,
 "nbformat_minor": 4
}
