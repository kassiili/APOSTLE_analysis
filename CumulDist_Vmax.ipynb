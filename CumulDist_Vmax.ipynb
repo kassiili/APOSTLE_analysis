{
 "cells": [
  {
   "cell_type": "code",
   "execution_count": 1,
   "metadata": {},
   "outputs": [],
   "source": [
    "%load_ext autoreload\n",
    "%autoreload 2\n",
    "\n",
    "%config IPCompleter.greedy=True"
   ]
  },
  {
   "cell_type": "markdown",
   "metadata": {},
   "source": [
    "# Stellar mass vs. $v_\\text{max}$\n",
    "\n",
    "First, imports:"
   ]
  },
  {
   "cell_type": "code",
   "execution_count": 2,
   "metadata": {},
   "outputs": [],
   "source": [
    "import matplotlib.pyplot as plt\n",
    "import numpy as np\n",
    "import h5py\n",
    "from astropy import units\n",
    "from pathlib import Path\n",
    "import os\n",
    "\n",
    "import snapshot_obj\n",
    "import curve_fit\n",
    "\n",
    "import importlib"
   ]
  },
  {
   "cell_type": "code",
   "execution_count": 3,
   "metadata": {
    "scrolled": true
   },
   "outputs": [
    {
     "data": {
      "text/plain": [
       "<module 'curve_fit' from '/home/kassiili/Curvaton_Simulations/analysis/curve_fit.py'>"
      ]
     },
     "execution_count": 3,
     "metadata": {},
     "output_type": "execute_result"
    }
   ],
   "source": [
    "importlib.reload(snapshot_obj)\n",
    "importlib.reload(curve_fit)"
   ]
  },
  {
   "cell_type": "markdown",
   "metadata": {},
   "source": [
    "## Get data\n",
    "\n",
    "Next, I retrieve the data. We are only interested in luminous halos. Also, there might be some spurious cases with odd values of $v_\\text{max}$."
   ]
  },
  {
   "cell_type": "code",
   "execution_count": 4,
   "metadata": {
    "code_folding": [
     0
    ]
   },
   "outputs": [],
   "source": [
    "# Choose galaxy:\n",
    "galaxy = 'MW'\n",
    "\n",
    "if galaxy == 'M31':\n",
    "    gn=1\n",
    "else:\n",
    "    gn=2"
   ]
  },
  {
   "cell_type": "code",
   "execution_count": 5,
   "metadata": {
    "code_folding": [
     0
    ]
   },
   "outputs": [
    {
     "ename": "TypeError",
     "evalue": "object of type 'bool' has no len()",
     "output_type": "error",
     "traceback": [
      "\u001b[0;31m---------------------------------------------------------------------------\u001b[0m",
      "\u001b[0;31mTypeError\u001b[0m                                 Traceback (most recent call last)",
      "\u001b[0;32m<ipython-input-5-e791968e3701>\u001b[0m in \u001b[0;36m<module>\u001b[0;34m\u001b[0m\n\u001b[1;32m      3\u001b[0m \u001b[0;31m# Get LCDM data:\u001b[0m\u001b[0;34m\u001b[0m\u001b[0;34m\u001b[0m\u001b[0;34m\u001b[0m\u001b[0m\n\u001b[1;32m      4\u001b[0m \u001b[0mLCDM\u001b[0m \u001b[0;34m=\u001b[0m \u001b[0msnapshot_obj\u001b[0m\u001b[0;34m.\u001b[0m\u001b[0mSnapshot\u001b[0m\u001b[0;34m(\u001b[0m\u001b[0;34m\"CDM_V1_LR\"\u001b[0m\u001b[0;34m,\u001b[0m\u001b[0;36m127\u001b[0m\u001b[0;34m,\u001b[0m\u001b[0;34m\"LCDM\"\u001b[0m\u001b[0;34m)\u001b[0m\u001b[0;34m\u001b[0m\u001b[0;34m\u001b[0m\u001b[0m\n\u001b[0;32m----> 5\u001b[0;31m \u001b[0mvmaxSat\u001b[0m\u001b[0;34m,\u001b[0m \u001b[0mvmaxIsol\u001b[0m \u001b[0;34m=\u001b[0m \u001b[0mLCDM\u001b[0m\u001b[0;34m.\u001b[0m\u001b[0mget_subhalos\u001b[0m\u001b[0;34m(\u001b[0m\u001b[0;34m\"Vmax\"\u001b[0m\u001b[0;34m,\u001b[0m\u001b[0;32mTrue\u001b[0m\u001b[0;34m)\u001b[0m\u001b[0;34m\u001b[0m\u001b[0;34m\u001b[0m\u001b[0m\n\u001b[0m\u001b[1;32m      6\u001b[0m \u001b[0mSMSat\u001b[0m\u001b[0;34m,\u001b[0m \u001b[0mSMIsol\u001b[0m \u001b[0;34m=\u001b[0m \u001b[0mLCDM\u001b[0m\u001b[0;34m.\u001b[0m\u001b[0mget_subhalos\u001b[0m\u001b[0;34m(\u001b[0m\u001b[0;34m\"Stars/Mass\"\u001b[0m\u001b[0;34m,\u001b[0m\u001b[0;32mTrue\u001b[0m\u001b[0;34m)\u001b[0m\u001b[0;34m\u001b[0m\u001b[0;34m\u001b[0m\u001b[0m\n\u001b[1;32m      7\u001b[0m \u001b[0;34m\u001b[0m\u001b[0m\n",
      "\u001b[0;32m~/Curvaton_Simulations/analysis/snapshot_obj.py\u001b[0m in \u001b[0;36mget_subhalos\u001b[0;34m(self, dataset, fnums)\u001b[0m\n\u001b[1;32m    198\u001b[0m \u001b[0;34m\u001b[0m\u001b[0m\n\u001b[1;32m    199\u001b[0m         \u001b[0;32melse\u001b[0m\u001b[0;34m:\u001b[0m\u001b[0;34m\u001b[0m\u001b[0;34m\u001b[0m\u001b[0m\n\u001b[0;32m--> 200\u001b[0;31m             \u001b[0mout\u001b[0m \u001b[0;34m=\u001b[0m \u001b[0mself\u001b[0m\u001b[0;34m.\u001b[0m\u001b[0mget_subhalo_catalogue\u001b[0m\u001b[0;34m(\u001b[0m\u001b[0mdataset\u001b[0m\u001b[0;34m,\u001b[0m\u001b[0mfnums\u001b[0m\u001b[0;34m)\u001b[0m\u001b[0;34m\u001b[0m\u001b[0;34m\u001b[0m\u001b[0m\n\u001b[0m\u001b[1;32m    201\u001b[0m \u001b[0;34m\u001b[0m\u001b[0m\n\u001b[1;32m    202\u001b[0m         \u001b[0;32mreturn\u001b[0m \u001b[0mout\u001b[0m\u001b[0;34m\u001b[0m\u001b[0;34m\u001b[0m\u001b[0m\n",
      "\u001b[0;32m~/Curvaton_Simulations/analysis/snapshot_obj.py\u001b[0m in \u001b[0;36mget_subhalo_catalogue\u001b[0;34m(self, dataset, fnums)\u001b[0m\n\u001b[1;32m    219\u001b[0m \u001b[0;34m\u001b[0m\u001b[0m\n\u001b[1;32m    220\u001b[0m         \u001b[0mout\u001b[0m \u001b[0;34m=\u001b[0m \u001b[0;34m[\u001b[0m\u001b[0;34m]\u001b[0m\u001b[0;34m\u001b[0m\u001b[0;34m\u001b[0m\u001b[0m\n\u001b[0;32m--> 221\u001b[0;31m         \u001b[0mlink_names\u001b[0m\u001b[0;34m,\u001b[0m \u001b[0mlink_sort\u001b[0m \u001b[0;34m=\u001b[0m \u001b[0mself\u001b[0m\u001b[0;34m.\u001b[0m\u001b[0mlink_select\u001b[0m\u001b[0;34m(\u001b[0m\u001b[0;34m'group'\u001b[0m\u001b[0;34m,\u001b[0m\u001b[0mfnums\u001b[0m\u001b[0;34m)\u001b[0m\u001b[0;34m\u001b[0m\u001b[0;34m\u001b[0m\u001b[0m\n\u001b[0m\u001b[1;32m    222\u001b[0m \u001b[0;34m\u001b[0m\u001b[0m\n\u001b[1;32m    223\u001b[0m         \u001b[0;32mwith\u001b[0m \u001b[0mh5py\u001b[0m\u001b[0;34m.\u001b[0m\u001b[0mFile\u001b[0m\u001b[0;34m(\u001b[0m\u001b[0mself\u001b[0m\u001b[0;34m.\u001b[0m\u001b[0mgrp_file\u001b[0m\u001b[0;34m,\u001b[0m\u001b[0;34m'r'\u001b[0m\u001b[0;34m)\u001b[0m \u001b[0;32mas\u001b[0m \u001b[0mgrpf\u001b[0m\u001b[0;34m:\u001b[0m\u001b[0;34m\u001b[0m\u001b[0;34m\u001b[0m\u001b[0m\n",
      "\u001b[0;32m~/Curvaton_Simulations/analysis/snapshot_obj.py\u001b[0m in \u001b[0;36mlink_select\u001b[0;34m(self, datatype, fnums)\u001b[0m\n\u001b[1;32m    295\u001b[0m             \u001b[0;32mfor\u001b[0m \u001b[0;34m(\u001b[0m\u001b[0midx\u001b[0m\u001b[0;34m,\u001b[0m\u001b[0mkey\u001b[0m\u001b[0;34m)\u001b[0m \u001b[0;32min\u001b[0m \u001b[0menumerate\u001b[0m\u001b[0;34m(\u001b[0m\u001b[0mkeys\u001b[0m\u001b[0;34m)\u001b[0m\u001b[0;34m:\u001b[0m\u001b[0;34m\u001b[0m\u001b[0;34m\u001b[0m\u001b[0m\n\u001b[1;32m    296\u001b[0m                 \u001b[0;32mif\u001b[0m \u001b[0;34m'link'\u001b[0m \u001b[0;32min\u001b[0m \u001b[0mkey\u001b[0m\u001b[0;34m:\u001b[0m\u001b[0;34m\u001b[0m\u001b[0;34m\u001b[0m\u001b[0m\n\u001b[0;32m--> 297\u001b[0;31m                     \u001b[0;32mif\u001b[0m \u001b[0mlen\u001b[0m\u001b[0;34m(\u001b[0m\u001b[0mfnums\u001b[0m\u001b[0;34m)\u001b[0m \u001b[0;34m==\u001b[0m \u001b[0;36m0\u001b[0m\u001b[0;34m:\u001b[0m\u001b[0;34m\u001b[0m\u001b[0;34m\u001b[0m\u001b[0m\n\u001b[0m\u001b[1;32m    298\u001b[0m                         \u001b[0mmask\u001b[0m\u001b[0;34m[\u001b[0m\u001b[0midx\u001b[0m\u001b[0;34m]\u001b[0m \u001b[0;34m=\u001b[0m \u001b[0;32mTrue\u001b[0m\u001b[0;34m\u001b[0m\u001b[0;34m\u001b[0m\u001b[0m\n\u001b[1;32m    299\u001b[0m                     \u001b[0;32melif\u001b[0m \u001b[0mint\u001b[0m\u001b[0;34m(\u001b[0m\u001b[0mkey\u001b[0m\u001b[0;34m.\u001b[0m\u001b[0mreplace\u001b[0m\u001b[0;34m(\u001b[0m\u001b[0;34m'link'\u001b[0m\u001b[0;34m,\u001b[0m\u001b[0;34m''\u001b[0m\u001b[0;34m)\u001b[0m\u001b[0;34m)\u001b[0m \u001b[0;32min\u001b[0m \u001b[0mfnums\u001b[0m\u001b[0;34m:\u001b[0m\u001b[0;34m\u001b[0m\u001b[0;34m\u001b[0m\u001b[0m\n",
      "\u001b[0;31mTypeError\u001b[0m: object of type 'bool' has no len()"
     ]
    }
   ],
   "source": [
    "# Satellites and isolated galaxies separated:\n",
    "\n",
    "# Get LCDM data:\n",
    "LCDM = snapshot_obj.Snapshot(\"CDM_V1_LR\",127,\"LCDM\")\n",
    "vmaxSat, vmaxIsol = LCDM.get_subhalos(\"Vmax\",True)\n",
    "SMSat, SMIsol = LCDM.get_subhalos(\"Stars/Mass\",True)\n",
    "\n",
    "# Exclude dark halos\n",
    "maskSat = np.logical_and.reduce((vmaxSat>0, SMSat>0))\n",
    "maskIsol = np.logical_and.reduce((vmaxIsol>0, SMIsol>0))\n",
    "\n",
    "# Convert to proper units:\n",
    "vmaxSat = vmaxSat[maskSat] / 100000 # cm/s to km/s \n",
    "vmaxIsol = vmaxIsol[maskIsol] / 100000\n",
    "SMSat = SMSat[maskSat] * units.g.to(units.Msun)\n",
    "SMIsol = SMIsol[maskIsol] * units.g.to(units.Msun)"
   ]
  },
  {
   "cell_type": "code",
   "execution_count": null,
   "metadata": {
    "code_folding": []
   },
   "outputs": [],
   "source": [
    "# Only satellites, luminous and dark:\n",
    "\n",
    "LCDM = snapshot_obj.Snapshot(\"CDM_V1_LR\",127,\"LCDM\")\n",
    "vmax = LCDM.get_subhalos(\"Vmax\",True)[0]\n",
    "SM = LCDM.get_subhalos(\"Stars/Mass\",True)[0]\n",
    "GNs = LCDM.get_subhalos(\"GroupNumber\",True)[0]\n",
    "SGNs = LCDM.get_subhalos(\"SubGroupNumber\",True)[0]\n",
    "\n",
    "# Get the subhalos of the right galaxy:\n",
    "mask = np.logical_and.reduce((vmax > 0, GNs == gn))\n",
    "\n",
    "# Convert to proper units:\n",
    "vmax = vmax[mask] / 100000 # cm/s to km/s \n",
    "SM = SM[mask] * units.g.to(units.Msun)\n",
    "\n",
    "# Sort arrays in descending order:\n",
    "vmax[::-1].sort()"
   ]
  },
  {
   "cell_type": "markdown",
   "metadata": {},
   "source": [
    "## Plot"
   ]
  },
  {
   "cell_type": "code",
   "execution_count": null,
   "metadata": {},
   "outputs": [],
   "source": [
    "# Set some parameters:\n",
    "x_down = 7; x_up = 100\n",
    "y_down = 1; y_up = 500"
   ]
  },
  {
   "cell_type": "code",
   "execution_count": null,
   "metadata": {
    "code_folding": []
   },
   "outputs": [],
   "source": [
    "fig, axes = plt.subplots()\n",
    "\n",
    "# Set axes:\n",
    "axes.set_xscale('log')\n",
    "axes.set_yscale('log')\n",
    "axes.set_xlim(x_down,x_up)\n",
    "axes.set_ylim(y_down,y_up)\n",
    "\n",
    "# Set labels:\n",
    "axes.set_xlabel('$v_{\\mathrm{max}}[\\mathrm{km s^{-1}}]$', fontsize=16)\n",
    "axes.set_ylabel('$N(>v_{\\mathrm{max}})$', fontsize=16)\n",
    "#axes.set_title('Stellar mass of satellites')\n",
    "#axes.text(11, 2*10**9, 'isolated galaxies')\n",
    "#axes.set_title('Stellar mass of isolated galaxies')\n",
    "\n",
    "# Galaxy text:\n",
    "axes.text(8, 300, '{} satellites'.format(galaxy))\n",
    "#self.axes.set_title('Distribution of satellites as a function of $v_{max}$')\n",
    "\n",
    "# Set marker styles:\n",
    "color = {LCDM.name : \"pink\"}\n",
    "marker = {LCDM.name : (3,0,0)}\n",
    "\n",
    "x = np.arange(1, vmax.size+1)\n",
    "    \n",
    "# Continue to left:\n",
    "x = np.concatenate((x,np.array([x[-1]])))\n",
    "vmax = np.concatenate((vmax,np.array([0.01])))\n",
    "\n",
    "axes.plot(vmax, x, c=color[LCDM.name])\n",
    "\n",
    "plt.tight_layout()\n",
    "\n",
    "# Save figure:\n",
    "\n",
    "filename = 'cumulDistByVmax_{}.png'.format(galaxy)\n",
    "\n",
    "home = os.path.dirname(snapshot_obj.__file__)\n",
    "path = os.path.join(home,\"Figures\")\n",
    "\n",
    "# If the directory does not exist, create it\n",
    "if not os.path.exists(path):\n",
    "    os.makedirs(path)\n",
    "plt.savefig(os.path.join(path,filename))"
   ]
  },
  {
   "cell_type": "code",
   "execution_count": null,
   "metadata": {},
   "outputs": [],
   "source": []
  }
 ],
 "metadata": {
  "kernelspec": {
   "display_name": "Python 3",
   "language": "python",
   "name": "python3"
  },
  "language_info": {
   "codemirror_mode": {
    "name": "ipython",
    "version": 3
   },
   "file_extension": ".py",
   "mimetype": "text/x-python",
   "name": "python",
   "nbconvert_exporter": "python",
   "pygments_lexer": "ipython3",
   "version": "3.7.6"
  }
 },
 "nbformat": 4,
 "nbformat_minor": 4
}
