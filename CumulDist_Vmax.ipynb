{
 "cells": [
  {
   "cell_type": "code",
   "execution_count": null,
   "metadata": {},
   "outputs": [],
   "source": [
    "%load_ext autoreload\n",
    "%autoreload 2\n",
    "\n",
    "%config IPCompleter.greedy=True"
   ]
  },
  {
   "cell_type": "markdown",
   "metadata": {},
   "source": [
    "# Stellar mass vs. $v_\\text{max}$\n",
    "\n",
    "First, imports:"
   ]
  },
  {
   "cell_type": "code",
   "execution_count": null,
   "metadata": {},
   "outputs": [],
   "source": [
    "import matplotlib.pyplot as plt\n",
    "import numpy as np\n",
    "import h5py\n",
    "from astropy import units\n",
    "from pathlib import Path\n",
    "import os\n",
    "\n",
    "import snapshot_obj\n",
    "import curve_fit\n",
    "import dataset_compute\n",
    "\n",
    "import importlib"
   ]
  },
  {
   "cell_type": "code",
   "execution_count": null,
   "metadata": {},
   "outputs": [],
   "source": [
    "importlib.reload(snapshot_obj)\n",
    "importlib.reload(curve_fit)\n",
    "importlib.reload(dataset_compute)"
   ]
  },
  {
   "cell_type": "markdown",
   "metadata": {},
   "source": [
    "## Get data\n",
    "\n",
    "Next, I retrieve the data. We are only interested in luminous halos. Also, there might be some spurious cases with odd values of $v_\\text{max}$."
   ]
  },
  {
   "cell_type": "code",
   "execution_count": null,
   "metadata": {
    "code_folding": [
     0
    ]
   },
   "outputs": [],
   "source": [
    "# Choose galaxy:\n",
    "galaxy = 'MW'\n",
    "\n",
    "if galaxy == 'M31':\n",
    "    gn=1\n",
    "else:\n",
    "    gn=2"
   ]
  },
  {
   "cell_type": "code",
   "execution_count": null,
   "metadata": {
    "code_folding": []
   },
   "outputs": [],
   "source": [
    "# Only satellites, luminous and dark:\n",
    "sim_id = \"V1_MR_fix\"\n",
    "LCDM = snapshot_obj.Snapshot(sim_id,127,\"LCDM\")\n",
    "vmax = LCDM.get_subhalos(\"Vmax\")\n",
    "SM = LCDM.get_subhalos(\"Stars/Mass\")\n",
    "GNs = LCDM.get_subhalos(\"GroupNumber\")\n",
    "SGNs = LCDM.get_subhalos(\"SubGroupNumber\")\n",
    "\n",
    "# Get the subhalos of the right galaxy:\n",
    "mask_lum_m31 = np.logical_and.reduce((vmax > 0, GNs == 1, SM > 0))\n",
    "mask_dark_m31 = np.logical_and.reduce((vmax > 0, GNs == 1, SM == 0))\n",
    "mask_lum_mw = np.logical_and.reduce((vmax > 0, GNs == 2, SM > 0))\n",
    "mask_dark_mw = np.logical_and.reduce((vmax > 0, GNs == 2, SM == 0))\n",
    "\n",
    "# Convert to proper units:\n",
    "data = {\"m31\" : {\"luminous\" : [np.arange(1, np.sum(mask_lum_m31) + 1), vmax[mask_lum_m31] * units.cm.to(units.km)],\n",
    "                 \"dark\" : [np.arange(1, np.sum(mask_dark_m31) + 1), vmax[mask_dark_m31] * units.cm.to(units.km)]},\n",
    "        \"mw\" : {\"luminous\" : [np.arange(1, np.sum(mask_lum_mw) + 1), vmax[mask_lum_mw] * units.cm.to(units.km)],\n",
    "                 \"dark\" : [np.arange(1, np.sum(mask_dark_mw) + 1), vmax[mask_dark_mw] * units.cm.to(units.km)]}}"
   ]
  },
  {
   "cell_type": "code",
   "execution_count": null,
   "metadata": {
    "code_folding": [],
    "jupyter": {
     "outputs_hidden": true,
     "source_hidden": true
    }
   },
   "outputs": [],
   "source": [
    "# Sort arrays in descending order:\n",
    "for gal_dict in data.values():\n",
    "    for dataset in gal_dict.values():\n",
    "        dataset[1] = np.sort(dataset[1])[::-1]\n",
    "        print(dataset)"
   ]
  },
  {
   "cell_type": "code",
   "execution_count": null,
   "metadata": {},
   "outputs": [],
   "source": [
    "LCDM.get_halo_number()"
   ]
  },
  {
   "cell_type": "markdown",
   "metadata": {},
   "source": [
    "## Plot"
   ]
  },
  {
   "cell_type": "code",
   "execution_count": null,
   "metadata": {},
   "outputs": [],
   "source": [
    "# Set some parameters:\n",
    "x_down = 7; x_up = 100\n",
    "y_down = 1; y_up = 500"
   ]
  },
  {
   "cell_type": "code",
   "execution_count": null,
   "metadata": {
    "code_folding": []
   },
   "outputs": [],
   "source": [
    "fig, axes = plt.subplots()\n",
    "\n",
    "# Set axes:\n",
    "axes.set_xscale('log')\n",
    "axes.set_yscale('log')\n",
    "axes.set_xlim(x_down,x_up)\n",
    "axes.set_ylim(y_down,y_up)\n",
    "\n",
    "# Set labels:\n",
    "axes.set_xlabel('$v_{\\mathrm{max}}[\\mathrm{km s^{-1}}]$', fontsize=16)\n",
    "axes.set_ylabel('$N(>v_{\\mathrm{max}})$', fontsize=16)\n",
    "#axes.set_title('Stellar mass of satellites')\n",
    "#axes.text(11, 2*10**9, 'isolated galaxies')\n",
    "#axes.set_title('Stellar mass of isolated galaxies')\n",
    "\n",
    "# Galaxy text:\n",
    "#self.axes.set_title('Distribution of satellites as a function of $v_{max}$')\n",
    "    \n",
    "# Continue to left:\n",
    "for gal, gal_dict in data.items():\n",
    "    for lum_or_dark, dataset in gal_dict.items():\n",
    "        x = np.concatenate((dataset[0],np.array([dataset[0][-1]])))\n",
    "        y = np.concatenate((dataset[1],np.array([0.01])))\n",
    "        if lum_or_dark == \"luminous\":\n",
    "            col = 'black'\n",
    "        else:\n",
    "            col = 'gray'\n",
    "        axes.plot(y, x, label=\"{} {}\".format(gal,lum_or_dark), c=col)\n",
    "\n",
    "plt.tight_layout()\n",
    "plt.legend()\n",
    "\n",
    "# Save figure:\n",
    "\n",
    "filename = 'cumulDistByVmax_{}.png'.format(sim_id)\n",
    "\n",
    "home = os.path.dirname(snapshot_obj.__file__)\n",
    "path = os.path.join(home,\"Figures\")\n",
    "\n",
    "# If the directory does not exist, create it\n",
    "if not os.path.exists(path):\n",
    "    os.makedirs(path)\n",
    "plt.savefig(os.path.join(path,filename))"
   ]
  },
  {
   "cell_type": "code",
   "execution_count": null,
   "metadata": {},
   "outputs": [],
   "source": []
  }
 ],
 "metadata": {
  "kernelspec": {
   "display_name": "Python 3",
   "language": "python",
   "name": "python3"
  },
  "language_info": {
   "codemirror_mode": {
    "name": "ipython",
    "version": 3
   },
   "file_extension": ".py",
   "mimetype": "text/x-python",
   "name": "python",
   "nbconvert_exporter": "python",
   "pygments_lexer": "ipython3"
  }
 },
 "nbformat": 4,
 "nbformat_minor": 4
}
