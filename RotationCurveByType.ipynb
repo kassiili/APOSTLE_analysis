{
 "cells": [
  {
   "cell_type": "code",
   "execution_count": null,
   "metadata": {},
   "outputs": [],
   "source": [
    "%load_ext autoreload\n",
    "%autoreload 2\n",
    "\n",
    "#%config IPCompleter.greedy=True"
   ]
  },
  {
   "cell_type": "markdown",
   "metadata": {},
   "source": [
    "# Rotation curves\n",
    "\n",
    "First, imports:"
   ]
  },
  {
   "cell_type": "code",
   "execution_count": null,
   "metadata": {},
   "outputs": [],
   "source": [
    "import matplotlib.pyplot as plt\n",
    "import numpy as np\n",
    "import h5py\n",
    "from astropy import units\n",
    "from pathlib import Path\n",
    "import os\n",
    "import astropy.units as u\n",
    "from astropy.constants import G\n",
    "\n",
    "import snapshot_obj \n",
    "import subhalo\n",
    "import dataset_compute\n",
    "import curve_fit\n",
    "\n",
    "import importlib"
   ]
  },
  {
   "cell_type": "code",
   "execution_count": null,
   "metadata": {},
   "outputs": [],
   "source": [
    "importlib.reload(snapshot_obj)\n",
    "importlib.reload(subhalo)\n",
    "importlib.reload(dataset_compute)\n",
    "importlib.reload(curve_fit)"
   ]
  },
  {
   "cell_type": "markdown",
   "metadata": {},
   "source": [
    "## Get data"
   ]
  },
  {
   "cell_type": "code",
   "execution_count": null,
   "metadata": {},
   "outputs": [],
   "source": [
    "# Which halo:\n",
    "gn = 2; sgn = 0"
   ]
  },
  {
   "cell_type": "code",
   "execution_count": null,
   "metadata": {
    "code_folding": []
   },
   "outputs": [],
   "source": [
    "snap_id = 127\n",
    "sim_id = \"V1_LR_fix\"\n",
    "\n",
    "snap = snapshot_obj.Snapshot(sim_id, snap_id)\n",
    "idx = snap.index_of_halo(gn, sgn)\n",
    "    \n",
    "# Compute rotation curves:\n",
    "data = {}\n",
    "pts = ['PartType0', 'PartType1', 'PartType4', 'PartType5', 'All']\n",
    "for pt, pt_name in zip(['gas', 'dm', 'stars', 'bh', 'all'], pts):\n",
    "    rot_curves = snap.get_subhalos('Vcirc', \n",
    "                                   group='Extended/RotationCurve/{}'\\\n",
    "                                   .format(pt_name))\n",
    "    sub_offset = snap.get_subhalos('SubOffset', \n",
    "                                   group='Extended/RotationCurve/{}'\\\n",
    "                                   .format(pt_name))\n",
    "    v_circ = rot_curves[:,0] * units.cm.to(units.km)\n",
    "    radii = rot_curves[:,1] * units.cm.to(units.kpc)\n",
    "       \n",
    "    data[pt] = {\"Vcirc\": v_circ[sub_offset[idx]:sub_offset[idx+1]],\n",
    "                \"Radius\": radii[sub_offset[idx]:sub_offset[idx+1]]}\n",
    "    #print(data[pt])"
   ]
  },
  {
   "cell_type": "code",
   "execution_count": null,
   "metadata": {},
   "outputs": [],
   "source": [
    "# Set some parameters:\n",
    "x_down = -30; x_up = 600\n",
    "y_down = 0; y_up = 300"
   ]
  },
  {
   "cell_type": "code",
   "execution_count": null,
   "metadata": {},
   "outputs": [],
   "source": [
    "# Construct saving location:\n",
    "filename = 'rotation_curve_by_type_gn{}_sgn{}_{}.png'\\\n",
    "                .format(gn, sgn, sim_id)\n",
    "    \n",
    "home = os.path.dirname(snapshot_obj.__file__)\n",
    "path = os.path.join(home,\"Figures\")\n",
    "filename = os.path.join(path, filename)"
   ]
  },
  {
   "cell_type": "code",
   "execution_count": null,
   "metadata": {
    "code_folding": []
   },
   "outputs": [],
   "source": [
    "fig, axes = plt.subplots()\n",
    "\n",
    "# Set axes:\n",
    "axes.set_xlim(x_down, x_up)\n",
    "axes.set_ylim(y_down,y_up)\n",
    "\n",
    "# Set labels:\n",
    "axes.set_xlabel('$r[\\mathrm{kpc}]$', fontsize=16)\n",
    "axes.set_ylabel('$v_{\\mathrm{circ}}[\\mathrm{kms^{-1}}]$', fontsize=16)\n",
    "\n",
    "# Galaxy text:\n",
    "axes.set_title('Rotation curve: GN={}, SGN={}'.format(gn,sgn))\n",
    "\n",
    "for pt, entry in data.items():\n",
    "    if pt != 'all':\n",
    "        axes.plot(entry[\"Radius\"], entry[\"Vcirc\"], label=pt)\n",
    "    else:\n",
    "        axes.plot(entry[\"Radius\"], entry[\"Vcirc\"], \n",
    "                  c='k', linestyle='dashed', label=pt)\n",
    "    \n",
    "plt.legend()\n",
    "plt.tight_layout()\n",
    "\n",
    "#plt.savefig(os.path.join(path,filename), dpi=200)"
   ]
  },
  {
   "cell_type": "code",
   "execution_count": null,
   "metadata": {
    "code_folding": []
   },
   "outputs": [],
   "source": [
    "snap_id = 127\n",
    "sim_id = \"V1_LR_curvaton_p084_fix\"\n",
    "\n",
    "snap = snapshot_obj.Snapshot(sim_id, snap_id)\n",
    "idx = snap.index_of_halo(gn, sgn)\n",
    "    \n",
    "# Compute rotation curves:\n",
    "data = {}\n",
    "for pt, pt_nums in zip(['gas', 'dm', 'stars', 'bh', 'all'],\n",
    "                        [[0],[1],[4],[5],[0,1,4,5]]):\n",
    "    v, r = dataset_compute.compute_rotation_curves(snap, \n",
    "                                                   part_type=pt_nums)\n",
    "    r = r * units.cm.to(units.kpc)\n",
    "    v = v * units.cm.to(units.km)\n",
    "        \n",
    "    data[pt] = {\"Vcirc\": v[idx], \"Radius\": r[idx]}"
   ]
  },
  {
   "cell_type": "code",
   "execution_count": null,
   "metadata": {},
   "outputs": [],
   "source": []
  }
 ],
 "metadata": {
  "kernelspec": {
   "display_name": "Python 3",
   "language": "python",
   "name": "python3"
  },
  "language_info": {
   "codemirror_mode": {
    "name": "ipython",
    "version": 3
   },
   "file_extension": ".py",
   "mimetype": "text/x-python",
   "name": "python",
   "nbconvert_exporter": "python",
   "pygments_lexer": "ipython3"
  }
 },
 "nbformat": 4,
 "nbformat_minor": 4
}
