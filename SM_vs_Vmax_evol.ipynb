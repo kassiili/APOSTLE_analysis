{
 "cells": [
  {
   "cell_type": "code",
   "execution_count": 69,
   "metadata": {},
   "outputs": [],
   "source": [
    "%load_ext autoreload\n",
    "%autoreload 2\n",
    "\n",
    "%config IPCompleter.greedy=True"
   ]
  },
  {
   "cell_type": "markdown",
   "metadata": {},
   "source": [
    "# Stellar mass vs. $v_\\text{max}$\n",
    "\n",
    "First, imports:"
   ]
  },
  {
   "cell_type": "code",
   "execution_count": 70,
   "metadata": {},
   "outputs": [],
   "source": [
    "import matplotlib.pyplot as plt\n",
    "import numpy as np\n",
    "import h5py\n",
    "from astropy import units\n",
    "from pathlib import Path\n",
    "import os\n",
    "\n",
    "import snapshot_obj\n",
    "import dataset_compute\n",
    "import trace_halo\n",
    "\n",
    "import importlib"
   ]
  },
  {
   "cell_type": "code",
   "execution_count": 71,
   "metadata": {
    "scrolled": true
   },
   "outputs": [
    {
     "data": {
      "text/plain": [
       "<module 'trace_halo' from '/home/kasper/Curvaton_Simulations/APOSTLE_analysis/trace_halo.py'>"
      ]
     },
     "execution_count": 71,
     "metadata": {},
     "output_type": "execute_result"
    }
   ],
   "source": [
    "importlib.reload(snapshot_obj)\n",
    "importlib.reload(dataset_compute)\n",
    "importlib.reload(trace_halo)"
   ]
  },
  {
   "cell_type": "markdown",
   "metadata": {},
   "source": [
    "## Get data"
   ]
  },
  {
   "cell_type": "code",
   "execution_count": 76,
   "metadata": {
    "code_folding": []
   },
   "outputs": [],
   "source": [
    "sim_id = \"CDM_V1_LR\"\n",
    "start = 127; stop = 110\n",
    "data = {}\n",
    "for snap_id in range(start,stop-1,-1):\n",
    "    snap = snapshot_obj.Snapshot(sim_id, snap_id)\n",
    "    \n",
    "    vmax = snap.get_subhalos(\"Vmax\") / 100000 # cm/s to km/s \n",
    "    SM = snap.get_subhalos(\"Stars/Mass\") * units.g.to(units.Msun)\n",
    "\n",
    "    data[snap_id] = (vmax,SM)"
   ]
  },
  {
   "cell_type": "markdown",
   "metadata": {},
   "source": [
    "# Trace halos"
   ]
  },
  {
   "cell_type": "code",
   "execution_count": 74,
   "metadata": {
    "code_folding": []
   },
   "outputs": [],
   "source": [
    "snap_start = snapshot_obj.Snapshot(sim_id, start)\n",
    "tracer = trace_halo.trace_all(snap_start, stop=stop)"
   ]
  },
  {
   "cell_type": "code",
   "execution_count": 110,
   "metadata": {},
   "outputs": [],
   "source": [
    "evol_lines = {}\n",
    "for idx_start, halo_snaps in enumerate(tracer):\n",
    "    if len(halo_snaps) >= 10:\n",
    "        vmax_evol = []; sm_evol = []\n",
    "        for instance in halo_snaps:\n",
    "            snap_id, idx = instance\n",
    "            if not idx is None:\n",
    "                vmax_at_snap = data[snap_id][0][idx]\n",
    "                sm_at_snap = data[snap_id][1][idx]\n",
    "                vmax_evol += [vmax_at_snap]\n",
    "                sm_evol += [sm_at_snap]\n",
    "        evol_lines[idx_start] = (np.array(vmax_evol), np.array(sm_evol))"
   ]
  },
  {
   "cell_type": "code",
   "execution_count": 138,
   "metadata": {},
   "outputs": [],
   "source": [
    "# Only follow luminous (MW or M31) satellites that end up as satellites:\n",
    "gns_start = snap_start.get_subhalos(\"GroupNumber\")\n",
    "sgns_start = snap_start.get_subhalos(\"SubGroupNumber\")\n",
    "vmax_start, sm_start = data[start]\n",
    "\n",
    "gn=2\n",
    "mask = np.logical_and.reduce((gns_start==gn, sgns_start!=0, vmax_start>0, sm_start>0))\n",
    "\n",
    "choose = [key for key in evol_lines.keys() if mask[key]]\n",
    "these = {key : evol_lines.get(key) for key in choose}"
   ]
  },
  {
   "cell_type": "markdown",
   "metadata": {},
   "source": [
    "## Plot"
   ]
  },
  {
   "cell_type": "code",
   "execution_count": 139,
   "metadata": {},
   "outputs": [],
   "source": [
    "# Set some parameters:\n",
    "x_down = 10; x_up = 100\n",
    "y_down = 10**5; y_up = 5*10**9"
   ]
  },
  {
   "cell_type": "code",
   "execution_count": 140,
   "metadata": {},
   "outputs": [
    {
     "name": "stderr",
     "output_type": "stream",
     "text": [
      "No handles with labels found to put in legend.\n"
     ]
    },
    {
     "name": "stdout",
     "output_type": "stream",
     "text": [
      "9\n"
     ]
    },
    {
     "data": {
      "image/png": "[encoded data removed]",
      "text/plain": [
       "<Figure size 432x288 with 1 Axes>"
      ]
     },
     "metadata": {
      "needs_background": "light"
     },
     "output_type": "display_data"
    }
   ],
   "source": [
    "fig, axes = plt.subplots()\n",
    "\n",
    "# Set axes:\n",
    "axes.set_xscale('log')\n",
    "axes.set_yscale('log')\n",
    "axes.set_xlim(x_down,x_up)\n",
    "axes.set_ylim(y_down,y_up)\n",
    "\n",
    "# Set labels:\n",
    "axes.set_xlabel('$v_{\\mathrm{max}}[\\mathrm{km s^{-1}}]$', fontsize=16)\n",
    "axes.set_ylabel('$M_*[\\mathrm{M_\\odot}]$', fontsize=16)\n",
    "axes.text(11, 2*10**9, 'satellites')\n",
    "#axes.set_title('Stellar mass of satellites')\n",
    "#axes.text(11, 2*10**9, 'isolated galaxies')\n",
    "#axes.set_title('Stellar mass of isolated galaxies')\n",
    "\n",
    "# Set marker styles:\n",
    "color = {stop : \"blue\", start : \"black\"}\n",
    "\n",
    "print(len(these.keys()))\n",
    "for line in these.values():\n",
    "    axes.plot(line[0], line[1])\n",
    "    \n",
    "# start scatter plot:\n",
    "axes.scatter(data[start][0], data[start][1], c=color[start], \\\n",
    "        edgecolor='none', s=10)\n",
    "\n",
    "axes.legend(loc='lower right')\n",
    "plt.tight_layout()\n",
    "\n",
    "# Save figure:\n",
    "\n",
    "filename = 'SM_vs_Vmax_sat_evol_gn{}.png'.format(gn)\n",
    "#filename = 'SM_vs_Vmax_isol.png'\n",
    "\n",
    "home = os.path.dirname(snapshot_obj.__file__)\n",
    "path = os.path.join(home,\"Figures\")\n",
    "\n",
    "# If the directory does not exist, create it\n",
    "if not os.path.exists(path):\n",
    "    os.makedirs(path)\n",
    "plt.savefig(os.path.join(path,filename), dpi=300)"
   ]
  },
  {
   "cell_type": "code",
   "execution_count": null,
   "metadata": {},
   "outputs": [],
   "source": []
  }
 ],
 "metadata": {
  "kernelspec": {
   "display_name": "Python 3",
   "language": "python",
   "name": "python3"
  },
  "language_info": {
   "codemirror_mode": {
    "name": "ipython",
    "version": 3
   },
   "file_extension": ".py",
   "mimetype": "text/x-python",
   "name": "python",
   "nbconvert_exporter": "python",
   "pygments_lexer": "ipython3",
   "version": "3.7.6"
  }
 },
 "nbformat": 4,
 "nbformat_minor": 4
}
