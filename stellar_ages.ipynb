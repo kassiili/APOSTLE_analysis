{
 "cells": [
  {
   "cell_type": "code",
   "execution_count": null,
   "metadata": {},
   "outputs": [],
   "source": [
    "%load_ext autoreload\n",
    "%autoreload 2\n",
    "\n",
    "%config IPCompleter.greedy=True"
   ]
  },
  {
   "cell_type": "code",
   "execution_count": null,
   "metadata": {},
   "outputs": [],
   "source": [
    "import matplotlib.pyplot as plt\n",
    "import numpy as np\n",
    "import h5py\n",
    "from astropy import units\n",
    "from pathlib import Path\n",
    "import os\n",
    "import time\n",
    "\n",
    "import snapshot_obj\n",
    "import dataset_compute\n",
    "import curve_fit\n",
    "\n",
    "import importlib"
   ]
  },
  {
   "cell_type": "code",
   "execution_count": null,
   "metadata": {},
   "outputs": [],
   "source": [
    "importlib.reload(snapshot_obj)\n",
    "importlib.reload(dataset_compute)\n",
    "importlib.reload(curve_fit)"
   ]
  },
  {
   "cell_type": "code",
   "execution_count": null,
   "metadata": {},
   "outputs": [],
   "source": [
    "distinction = \"by_gn\""
   ]
  },
  {
   "cell_type": "code",
   "execution_count": null,
   "metadata": {
    "code_folding": []
   },
   "outputs": [],
   "source": [
    "snap_id = 127\n",
    "sim_id = \"V1_LR_fix\"\n",
    "m31 = (1,0)\n",
    "mw = (2,0)\n",
    "snap = snapshot_obj.Snapshot(sim_id, snap_id)"
   ]
  },
  {
   "cell_type": "code",
   "execution_count": null,
   "metadata": {
    "code_folding": []
   },
   "outputs": [],
   "source": [
    "gns = snap.get_particles(\"GroupNumber\", part_type=[4])\n",
    "sgns = snap.get_particles(\"SubGroupNumber\", part_type=[4])\n",
    "star_masses = snap.get_particles(\"Masses\", part_type=[4]) * units.g.to(units.Msun)"
   ]
  },
  {
   "cell_type": "code",
   "execution_count": null,
   "metadata": {},
   "outputs": [],
   "source": [
    "# Select by star particle masses:\n",
    "mask_mass_range = np.logical_and(star_masses > 10**6, star_masses < 10**7)\n",
    "mask_mass_range = np.logical_and(star_masses > 10**5, star_masses < 10**6)\n",
    "grouped_data = dataset_compute.group_selected_particles_by_subhalo(\n",
    "    snap, mask_mass_range, \"StellarFormationTime\", \"Masses\", part_type=[4])"
   ]
  },
  {
   "cell_type": "code",
   "execution_count": null,
   "metadata": {},
   "outputs": [],
   "source": [
    "print(np.sum(mask_mass_range))"
   ]
  },
  {
   "cell_type": "code",
   "execution_count": null,
   "metadata": {},
   "outputs": [],
   "source": [
    "star_form_times_halo = np.array(grouped_data[\"StellarFormationTime\"])\n",
    "star_masses_halo = np.array(grouped_data[\"Masses\"])"
   ]
  },
  {
   "cell_type": "code",
   "execution_count": null,
   "metadata": {},
   "outputs": [],
   "source": [
    "mask_lum, mask_dark = dataset_compute.split_luminous(snap)\n",
    "mask_nonzero_vmax = dataset_compute.prune_vmax(snap)\n",
    "# Split into satellites:\n",
    "if distinction == \"by_r\":\n",
    "    masks_sat, mask_isol = dataset_compute.split_satellites_by_distance(\n",
    "        snap, m31, mw)\n",
    "elif distinction == \"by_gn\":\n",
    "    masks_sat, mask_isol = dataset_compute.split_satellites_by_group_number(\n",
    "        snap, m31, mw)\n",
    "    \n",
    "mask_sat = np.logical_and.reduce([np.logical_or.reduce(masks_sat),\n",
    "                                 mask_lum, mask_nonzero_vmax])\n",
    "mask_isol = np.logical_and.reduce([mask_isol,\n",
    "                                   mask_lum, mask_nonzero_vmax])"
   ]
  },
  {
   "cell_type": "code",
   "execution_count": null,
   "metadata": {},
   "outputs": [],
   "source": [
    "sft_all = np.concatenate(star_form_times_halo[mask_sat])"
   ]
  },
  {
   "cell_type": "code",
   "execution_count": null,
   "metadata": {},
   "outputs": [],
   "source": [
    "fig, axes = plt.subplots()\n",
    "\n",
    "n_stars_in_sats = sft_all.size\n",
    "print(n_stars_in_sats)\n",
    "axes.hist(sft_all, bins=10, weights=np.ones(n_stars_in_sats)/n_stars_in_sats)"
   ]
  },
  {
   "cell_type": "code",
   "execution_count": null,
   "metadata": {},
   "outputs": [],
   "source": []
  },
  {
   "cell_type": "code",
   "execution_count": null,
   "metadata": {},
   "outputs": [],
   "source": []
  },
  {
   "cell_type": "code",
   "execution_count": null,
   "metadata": {
    "jupyter": {
     "outputs_hidden": true
    }
   },
   "outputs": [],
   "source": [
    "sort = np.lexsort((sgns, gns))\n",
    "idents = np.vstack((gns[sort], sgns[sort])).T\n",
    "print(idents.shape)\n",
    "t = time.time()\n",
    "mask_halo = idents[:,1] < np.max(idents[:,1])\n",
    "idents_unique = np.unique(idents[mask_halo], axis=0)\n",
    "print(time.time()-t)\n",
    "print(idents_unique)\n",
    "print(idents_unique.shape)"
   ]
  },
  {
   "cell_type": "code",
   "execution_count": null,
   "metadata": {},
   "outputs": [],
   "source": [
    "mask_lum_subh = snap.get_subhalos(\"Stars/Mass\") > 0\n",
    "print(np.sum(mask_lum_subh))\n",
    "counts_true = snap.get_subhalos(\"SubLengthType\").astype(int)[mask_lum_subh,4]"
   ]
  },
  {
   "cell_type": "code",
   "execution_count": null,
   "metadata": {},
   "outputs": [],
   "source": [
    "t = time.time()\n",
    "counts = [0] * snap.get_halo_number()\n",
    "counts = [np.sum(np.logical_and(gns == ident[0], sgns == ident[1]))\n",
    "                for ident in np.unique(idents[mask_halo], axis=0)]\n",
    "print(time.time()-t)\n",
    "print(counts)"
   ]
  },
  {
   "cell_type": "code",
   "execution_count": null,
   "metadata": {},
   "outputs": [],
   "source": [
    "print(np.cumsum(counts))"
   ]
  },
  {
   "cell_type": "code",
   "execution_count": null,
   "metadata": {},
   "outputs": [],
   "source": [
    "t = time.time()\n",
    "subhalo_gns = snap.get_subhalos(\"GroupNumber\")\n",
    "subhalo_sgns = snap.get_subhalos(\"SubGroupNumber\")\n",
    "\n",
    "# Count number of entries with each group number and subgroup number\n",
    "# pairs:\n",
    "counts = [np.sum(np.logical_and(gns == gn, sgns == sgn)) \n",
    "          for gn, sgn in zip(subhalo_gns, subhalo_sgns)]\n",
    "\n",
    "subhalo_offsets = np.cumsum(counts)\n",
    "\n",
    "print(time.time() - t)"
   ]
  },
  {
   "cell_type": "code",
   "execution_count": null,
   "metadata": {},
   "outputs": [],
   "source": [
    "print(np.all(counts == counts_true))"
   ]
  },
  {
   "cell_type": "code",
   "execution_count": null,
   "metadata": {},
   "outputs": [],
   "source": [
    "print(np.histogram(star_masses, bins=[10**5, 5*10**5, 10**6, 5*10**6, 10**7, 5*10**7, 10**8]))"
   ]
  },
  {
   "cell_type": "code",
   "execution_count": null,
   "metadata": {},
   "outputs": [],
   "source": [
    "star_form_times_sat = star_form_times[mask_sat]\n",
    "star_masses_sat = star_masses[mask_sat]"
   ]
  },
  {
   "cell_type": "code",
   "execution_count": null,
   "metadata": {},
   "outputs": [],
   "source": [
    "# Check that no star particles are in dark halos:\n",
    "empty = np.concatenate(np.array(grouped_data[\"Masses\"])[mask_dark])\n",
    "\n",
    "empty.size"
   ]
  },
  {
   "cell_type": "code",
   "execution_count": null,
   "metadata": {
    "jupyter": {
     "outputs_hidden": true
    }
   },
   "outputs": [],
   "source": [
    "gns = snap.get_subhalos(\"GroupNumber\")\n",
    "sgns = snap.get_subhalos(\"SubGroupNumber\")\n",
    "sort, split = dataset_compute.sort_and_split_by_subhalo(gns, sgns)\n",
    "print(np.split(gns, split))"
   ]
  },
  {
   "cell_type": "code",
   "execution_count": null,
   "metadata": {},
   "outputs": [],
   "source": [
    "print(split.size)"
   ]
  },
  {
   "cell_type": "code",
   "execution_count": null,
   "metadata": {},
   "outputs": [],
   "source": []
  }
 ],
 "metadata": {
  "kernelspec": {
   "display_name": "Python 3",
   "language": "python",
   "name": "python3"
  },
  "language_info": {
   "codemirror_mode": {
    "name": "ipython",
    "version": 3
   },
   "file_extension": ".py",
   "mimetype": "text/x-python",
   "name": "python",
   "nbconvert_exporter": "python",
   "pygments_lexer": "ipython3"
  }
 },
 "nbformat": 4,
 "nbformat_minor": 4
}
