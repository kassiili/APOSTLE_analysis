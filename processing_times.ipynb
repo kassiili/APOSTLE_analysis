{
 "cells": [
  {
   "cell_type": "code",
   "execution_count": 1,
   "metadata": {},
   "outputs": [],
   "source": [
    "%load_ext autoreload\n",
    "%autoreload 2\n",
    "\n",
    "%config IPCompleter.greedy=True"
   ]
  },
  {
   "cell_type": "code",
   "execution_count": 26,
   "metadata": {},
   "outputs": [],
   "source": [
    "import numpy as np\n",
    "import heapq\n",
    "import importlib\n",
    "import snapshot_obj\n",
    "import trace_halo as th\n",
    "import dataset_compute"
   ]
  },
  {
   "cell_type": "code",
   "execution_count": 27,
   "metadata": {},
   "outputs": [
    {
     "data": {
      "text/plain": [
       "<module 'trace_halo' from '/home/kassiili/Curvaton_Simulations/analysis/trace_halo.py'>"
      ]
     },
     "execution_count": 27,
     "metadata": {},
     "output_type": "execute_result"
    }
   ],
   "source": [
    "importlib.reload(snapshot_obj)\n",
    "importlib.reload(th)"
   ]
  },
  {
   "cell_type": "code",
   "execution_count": null,
   "metadata": {},
   "outputs": [],
   "source": [
    "%load_ext line_profiler"
   ]
  },
  {
   "cell_type": "code",
   "execution_count": 28,
   "metadata": {},
   "outputs": [],
   "source": [
    "snap_ref = snapshot_obj.Snapshot(\"CDM_V1_LR\", 127)\n",
    "snap = snapshot_obj.Snapshot(\"CDM_V1_LR\", 126)\n",
    "\n",
    "GNs = snap_ref.get_subhalos('GroupNumber')\n",
    "SGNs = snap_ref.get_subhalos('SubGroupNumber')"
   ]
  },
  {
   "cell_type": "code",
   "execution_count": 29,
   "metadata": {},
   "outputs": [
    {
     "name": "stdout",
     "output_type": "stream",
     "text": [
      "(1.0,0.0) : (1.0,0.0)\n",
      "(1.0,1.0) : (1.0,1.0)\n",
      "(1.0,2.0) : (-1.0,-1.0)\n",
      "(1.0,3.0) : (1.0,2.0)\n",
      "(1.0,4.0) : (1.0,3.0)\n",
      "(1.0,5.0) : (1.0,4.0)\n",
      "(1.0,6.0) : (1.0,5.0)\n",
      "(1.0,7.0) : (1.0,7.0)\n",
      "(1.0,8.0) : (1.0,8.0)\n",
      "(1.0,9.0) : (1.0,6.0)\n",
      "(1.0,10.0) : (1.0,9.0)\n",
      "(1.0,11.0) : (1.0,10.0)\n",
      "(1.0,12.0) : (1.0,11.0)\n",
      "(1.0,13.0) : (1.0,12.0)\n",
      "(1.0,14.0) : (1.0,14.0)\n",
      "(1.0,15.0) : (1.0,13.0)\n",
      "(1.0,16.0) : (1.0,15.0)\n",
      "(1.0,17.0) : (1.0,16.0)\n",
      "(1.0,18.0) : (1.0,17.0)\n",
      "(1.0,19.0) : (1.0,23.0)\n",
      "(1.0,20.0) : (1.0,20.0)\n",
      "(1.0,21.0) : (1.0,19.0)\n",
      "(1.0,22.0) : (1.0,21.0)\n",
      "(1.0,23.0) : (1.0,22.0)\n",
      "(1.0,24.0) : (1.0,25.0)\n",
      "(1.0,25.0) : (-1.0,-1.0)\n",
      "(1.0,26.0) : (1.0,24.0)\n",
      "(1.0,27.0) : (1.0,32.0)\n",
      "(1.0,28.0) : (1.0,30.0)\n",
      "(1.0,29.0) : (1.0,28.0)\n",
      "(1.0,30.0) : (1.0,29.0)\n",
      "(1.0,31.0) : (1.0,31.0)\n",
      "(1.0,32.0) : (1.0,34.0)\n",
      "(1.0,33.0) : (1.0,37.0)\n",
      "(1.0,34.0) : (1.0,36.0)\n",
      "(1.0,35.0) : (-1.0,-1.0)\n",
      "(1.0,36.0) : (1.0,42.0)\n",
      "(1.0,37.0) : (-1.0,-1.0)\n",
      "(1.0,38.0) : (1.0,39.0)\n",
      "(1.0,39.0) : (1.0,41.0)\n",
      "(1.0,40.0) : (1.0,35.0)\n",
      "(1.0,41.0) : (1.0,43.0)\n",
      "(1.0,42.0) : (1.0,45.0)\n",
      "(1.0,43.0) : (1.0,38.0)\n",
      "(1.0,44.0) : (1.0,46.0)\n",
      "(1.0,45.0) : (1.0,47.0)\n",
      "(1.0,46.0) : (1.0,48.0)\n",
      "(1.0,47.0) : (1.0,44.0)\n",
      "(1.0,48.0) : (1.0,50.0)\n",
      "(1.0,49.0) : (1.0,49.0)\n",
      "(1.0,50.0) : (-1.0,-1.0)\n",
      "(1.0,51.0) : (1.0,51.0)\n",
      "(1.0,52.0) : (1.0,55.0)\n",
      "(1.0,53.0) : (1.0,53.0)\n",
      "(1.0,54.0) : (1.0,57.0)\n"
     ]
    }
   ],
   "source": [
    "matches_ref = th.match_all(snap_ref,snap,gns=[1])\n",
    "\n",
    "for idx_ref,match in enumerate(matches_ref):\n",
    "    print(\"({},{}) : ({},{})\".format(GNs[idx_ref],SGNs[idx_ref],match[0],match[1]))"
   ]
  },
  {
   "cell_type": "code",
   "execution_count": 32,
   "metadata": {},
   "outputs": [
    {
     "data": {
      "text/plain": [
       "Timer unit: 1e-06 s\n",
       "\n",
       "Total time: 0.258844 s\n",
       "File: /home/kassiili/Curvaton_Simulations/analysis/snapshot_obj.py\n",
       "Function: get_subhalos_IDs at line 326\n",
       "\n",
       "Line #      Hits         Time  Per Hit   % Time  Line Contents\n",
       "==============================================================\n",
       "   326                                               def get_subhalos_IDs(self, fnums=[]):\n",
       "   327                                                   \"\"\" Read IDs of bound particles for each halo.\n",
       "   328                                                   \n",
       "   329                                                   Paramaters\n",
       "   330                                                   ----------\n",
       "   331                                                   fnums : list of ints, optional\n",
       "   332                                                       Specifies files, which are to be read\n",
       "   333                                           \n",
       "   334                                                   Returns\n",
       "   335                                                   -------\n",
       "   336                                                   IDs : HDF5 dataset \n",
       "   337                                                       Dataset of lists of bound particles\n",
       "   338                                                   \"\"\"\n",
       "   339                                           \n",
       "   340         1          8.0      8.0      0.0          IDs = []\n",
       "   341                                           \n",
       "   342         1       4658.0   4658.0      1.8          link_names_all, link_sort_all = self.link_select([])\n",
       "   343         1       2681.0   2681.0      1.0          link_names_sel, link_sort_sel = self.link_select(fnums)\n",
       "   344                                                       \n",
       "   345         1        607.0    607.0      0.2          with h5py.File(self.grp_file,'r') as grpf:\n",
       "   346                                           \n",
       "   347                                                       # Get particle IDs from all files:\n",
       "   348         1          7.0      7.0      0.0              particleIDs = []\n",
       "   349         1      41281.0  41281.0     15.9              links = [f for (name,f) in grpf.items() \\\n",
       "   350                                                               if name in link_names_all]\n",
       "   351                                           \n",
       "   352        97        232.0      2.4      0.1              for link in links:\n",
       "   353        96      95162.0    991.3     36.8                  particleIDs.append(link['IDs/ParticleID'][...])\n",
       "   354                                           \n",
       "   355                                                       # Sort by link number:\n",
       "   356         1         40.0     40.0      0.0              particleIDs = [particleIDs[i] for i in link_sort_all]\n",
       "   357                                           \n",
       "   358         1       1730.0   1730.0      0.7              particleIDs = np.concatenate(particleIDs)\n",
       "   359                                           \n",
       "   360                                                       # Get IDs by halo from selected files:\n",
       "   361         1          3.0      3.0      0.0              IDs = []\n",
       "   362         1       9155.0   9155.0      3.5              links = [f for (name,f) in grpf.items() \\\n",
       "   363                                                               if name in link_names_sel]\n",
       "   364        97        164.0      1.7      0.1              for i,link in enumerate(links):\n",
       "   365        96      51761.0    539.2     20.0                  offset = link['Subhalo/SubOffset'][...]\n",
       "   366        96      48240.0    502.5     18.6                  partNums = link['Subhalo/SubLength'][...]\n",
       "   367                                           \n",
       "   368        96        269.0      2.8      0.1                  linkIDs = [particleIDs[o:o+n] for o,n in \\\n",
       "   369        96       2105.0     21.9      0.8                          zip(offset,partNums)]\n",
       "   370                                           \n",
       "   371                                           #                splitByStart = np.split(particleIDs,offset)[1:]\n",
       "   372                                           #                splitByEnd = np.split(particleIDs,offset+partNums)[:-1]\n",
       "   373                                           #                linkIDs = [np.intersect1d(bystart,byend) for (bystart,byend)\\\n",
       "   374                                           #                        in zip(splitByStart,splitByEnd)]\n",
       "   375                                               \n",
       "   376        96        187.0      1.9      0.1                  IDs.append(linkIDs)\n",
       "   377                                                       \n",
       "   378                                                       # Sort by link number:\n",
       "   379         1         37.0     37.0      0.0              IDs = [IDs[i] for i in link_sort_sel]\n",
       "   380         1        516.0    516.0      0.2              IDs = np.concatenate(IDs)\n",
       "   381                                           \n",
       "   382         1          1.0      1.0      0.0          return IDs"
      ]
     },
     "metadata": {},
     "output_type": "display_data"
    }
   ],
   "source": [
    "%lprun -f snap_ref.get_subhalos_IDs snap_ref.get_subhalos_IDs()"
   ]
  },
  {
   "cell_type": "code",
   "execution_count": 35,
   "metadata": {},
   "outputs": [
    {
     "data": {
      "text/plain": [
       "Timer unit: 1e-06 s\n",
       "\n",
       "Total time: 20.1771 s\n",
       "File: /home/kassiili/Curvaton_Simulations/analysis/dataset_compute.py\n",
       "Function: compute_V1kpc at line 44\n",
       "\n",
       "Line #      Hits         Time  Per Hit   % Time  Line Contents\n",
       "==============================================================\n",
       "    44                                           def compute_V1kpc(snapshot):\n",
       "    45                                               \"\"\" For each subhalo, calculate the circular velocity at 1kpc. \"\"\"\n",
       "    46                                           \n",
       "    47                                               # Get particle data:\n",
       "    48         1          4.0      4.0      0.0      part = {}\n",
       "    49         1     146913.0 146913.0      0.7      part['gns'] = snapshot.get_particles('GroupNumber')\n",
       "    50         1     142337.0 142337.0      0.7      part['sgns'] = snapshot.get_particles('SubGroupNumber')\n",
       "    51         1     599099.0 599099.0      3.0      part['coords'] = snapshot.get_particles('Coordinates')\\\n",
       "    52         1      15689.0  15689.0      0.1              * u.cm.to(u.kpc)\n",
       "    53         1     205512.0 205512.0      1.0      part['mass'] = snapshot.get_particle_masses() * u.g.to(u.Msun)\n",
       "    54                                           \n",
       "    55                                               # Get subhalodata:\n",
       "    56         1          3.0      3.0      0.0      halo = {}\n",
       "    57         1      76367.0  76367.0      0.4      halo['gns'] = snapshot.get_subhalos('GroupNumber')\n",
       "    58         1      76078.0  76078.0      0.4      halo['sgns'] = snapshot.get_subhalos('SubGroupNumber')\n",
       "    59         1     527286.0 527286.0      2.6      halo['COPs'] = snapshot.get_subhalos('CentreOfPotential') \\\n",
       "    60         1         99.0     99.0      0.0              * u.cm.to(u.kpc)\n",
       "    61                                           \n",
       "    62                                               # Get box size:\n",
       "    63         1        277.0    277.0      0.0      with h5py.File(snapshot.part_file,'r') as partf:\n",
       "    64         1        452.0    452.0      0.0          h = partf['link1/Header'].attrs.get('HubbleParam')\n",
       "    65         1        564.0    564.0      0.0          boxs = partf['link1/Header'].attrs.get('BoxSize') * 1000/h \n",
       "    66                                                                                                       # Mpc/h -> kpc\n",
       "    67                                           \n",
       "    68         1         29.0     29.0      0.0      massWithin1kpc = np.zeros((halo['gns'].size))\n",
       "    69                                           \n",
       "    70                                               # Loop through subhalos:\n",
       "    71         1          1.0      1.0      0.0      for idx, (gn, sgn, cop) in \\\n",
       "    72      1126       5042.0      4.5      0.0              enumerate(zip(halo['gns'],halo['sgns'],halo['COPs'])):\n",
       "    73                                           \n",
       "    74                                                   # Get coordinates and masses of the particles in the halo:\n",
       "    75      1125    3090915.0   2747.5     15.3          halo_mask = np.logical_and(part['gns'] == gn, \\\n",
       "    76      1125    4587764.0   4078.0     22.7                  part['sgns'] == sgn)\n",
       "    77      1125    9626061.0   8556.5     47.7          coords = part['coords'][halo_mask]\n",
       "    78      1125     861360.0    765.7      4.3          mass = part['mass'][halo_mask]\n",
       "    79                                           \n",
       "    80                                                   # Calculate distances to cop:\n",
       "    81      1125      85337.0     75.9      0.4          d = np.mod(coords-cop+0.5*boxs, boxs) - 0.5*boxs\n",
       "    82      1125      95268.0     84.7      0.5          r = np.linalg.norm(d, axis=1)\n",
       "    83                                           \n",
       "    84                                                   # Get coordinates within 1kpc from COP:\n",
       "    85      1125      15679.0     13.9      0.1          r1kpc_mask = np.logical_and(r > 0, r < 1)\n",
       "    86                                           \n",
       "    87      1125      17370.0     15.4      0.1          massWithin1kpc[idx] = mass[r1kpc_mask].sum()\n",
       "    88                                           \n",
       "    89         1       1554.0   1554.0      0.0      myG = G.to(u.km**2 * u.kpc * u.Msun**-1 * u.s**-2).value\n",
       "    90         1         32.0     32.0      0.0      v1kpc = np.sqrt(massWithin1kpc * myG)\n",
       "    91                                           \n",
       "    92         1          1.0      1.0      0.0      return v1kpc"
      ]
     },
     "metadata": {},
     "output_type": "display_data"
    }
   ],
   "source": [
    "%lprun -f dataset_compute.compute_V1kpc dataset_compute.compute_V1kpc(snap_ref)"
   ]
  },
  {
   "cell_type": "code",
   "execution_count": null,
   "metadata": {},
   "outputs": [],
   "source": []
  }
 ],
 "metadata": {
  "kernelspec": {
   "display_name": "Python 3",
   "language": "python",
   "name": "python3"
  },
  "language_info": {
   "codemirror_mode": {
    "name": "ipython",
    "version": 3
   },
   "file_extension": ".py",
   "mimetype": "text/x-python",
   "name": "python",
   "nbconvert_exporter": "python",
   "pygments_lexer": "ipython3",
   "version": "3.7.4"
  }
 },
 "nbformat": 4,
 "nbformat_minor": 4
}
