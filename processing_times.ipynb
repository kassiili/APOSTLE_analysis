{
 "cells": [
  {
   "cell_type": "code",
   "execution_count": 32,
   "metadata": {},
   "outputs": [
    {
     "name": "stdout",
     "output_type": "stream",
     "text": [
      "The autoreload extension is already loaded. To reload it, use:\n",
      "  %reload_ext autoreload\n"
     ]
    }
   ],
   "source": [
    "%load_ext autoreload\n",
    "%autoreload 2\n",
    "\n",
    "%config IPCompleter.greedy=True"
   ]
  },
  {
   "cell_type": "code",
   "execution_count": 33,
   "metadata": {},
   "outputs": [],
   "source": [
    "import numpy as np\n",
    "import heapq\n",
    "import importlib\n",
    "\n",
    "import snapshot_obj\n",
    "import subhalo\n",
    "import trace_halo\n",
    "import dataset_compute"
   ]
  },
  {
   "cell_type": "code",
   "execution_count": 34,
   "metadata": {},
   "outputs": [
    {
     "data": {
      "text/plain": [
       "<module 'dataset_compute' from '/home/kasper/Curvaton_Simulations/APOSTLE_analysis/dataset_compute.py'>"
      ]
     },
     "execution_count": 34,
     "metadata": {},
     "output_type": "execute_result"
    }
   ],
   "source": [
    "importlib.reload(snapshot_obj)\n",
    "importlib.reload(subhalo)\n",
    "importlib.reload(trace_halo)\n",
    "importlib.reload(dataset_compute)"
   ]
  },
  {
   "cell_type": "code",
   "execution_count": 4,
   "metadata": {},
   "outputs": [],
   "source": [
    "%load_ext line_profiler"
   ]
  },
  {
   "cell_type": "code",
   "execution_count": 10,
   "metadata": {},
   "outputs": [],
   "source": [
    "sim_id = \"CDM_V1_LR\"\n",
    "snap_ref = snapshot_obj.Snapshot(sim_id, 127)\n",
    "snap = snapshot_obj.Snapshot(sim_id, 126)\n",
    "\n",
    "GNs = snap_ref.get_subhalos('GroupNumber')\n",
    "SGNs = snap_ref.get_subhalos('SubGroupNumber')"
   ]
  },
  {
   "cell_type": "code",
   "execution_count": 11,
   "metadata": {
    "collapsed": true,
    "jupyter": {
     "outputs_hidden": true
    }
   },
   "outputs": [
    {
     "name": "stdout",
     "output_type": "stream",
     "text": [
      "(1.0,0.0) : (1.0,0.0)\n",
      "(1.0,1.0) : (1.0,1.0)\n",
      "(1.0,2.0) : (-1.0,-1.0)\n",
      "(1.0,3.0) : (1.0,2.0)\n",
      "(1.0,4.0) : (1.0,3.0)\n",
      "(1.0,5.0) : (1.0,4.0)\n",
      "(1.0,6.0) : (1.0,5.0)\n",
      "(1.0,7.0) : (1.0,7.0)\n",
      "(1.0,8.0) : (1.0,8.0)\n",
      "(1.0,9.0) : (1.0,6.0)\n",
      "(1.0,10.0) : (1.0,9.0)\n",
      "(1.0,11.0) : (1.0,10.0)\n",
      "(1.0,12.0) : (1.0,11.0)\n",
      "(1.0,13.0) : (1.0,12.0)\n",
      "(1.0,14.0) : (1.0,14.0)\n",
      "(1.0,15.0) : (1.0,13.0)\n",
      "(1.0,16.0) : (1.0,15.0)\n",
      "(1.0,17.0) : (1.0,16.0)\n",
      "(1.0,18.0) : (1.0,17.0)\n",
      "(1.0,19.0) : (1.0,23.0)\n",
      "(1.0,20.0) : (1.0,20.0)\n",
      "(1.0,21.0) : (1.0,19.0)\n",
      "(1.0,22.0) : (1.0,21.0)\n",
      "(1.0,23.0) : (1.0,22.0)\n",
      "(1.0,24.0) : (1.0,25.0)\n",
      "(1.0,25.0) : (-1.0,-1.0)\n",
      "(1.0,26.0) : (1.0,24.0)\n",
      "(1.0,27.0) : (-1.0,-1.0)\n",
      "(1.0,28.0) : (-1.0,-1.0)\n",
      "(1.0,29.0) : (-1.0,-1.0)\n",
      "(1.0,30.0) : (-1.0,-1.0)\n",
      "(1.0,31.0) : (-1.0,-1.0)\n",
      "(1.0,32.0) : (-1.0,-1.0)\n",
      "(1.0,33.0) : (-1.0,-1.0)\n",
      "(1.0,34.0) : (-1.0,-1.0)\n",
      "(1.0,35.0) : (-1.0,-1.0)\n",
      "(1.0,36.0) : (-1.0,-1.0)\n",
      "(1.0,37.0) : (-1.0,-1.0)\n",
      "(1.0,38.0) : (-1.0,-1.0)\n",
      "(1.0,39.0) : (-1.0,-1.0)\n",
      "(1.0,40.0) : (-1.0,-1.0)\n",
      "(1.0,41.0) : (-1.0,-1.0)\n",
      "(1.0,42.0) : (-1.0,-1.0)\n",
      "(1.0,43.0) : (-1.0,-1.0)\n",
      "(1.0,44.0) : (-1.0,-1.0)\n",
      "(1.0,45.0) : (-1.0,-1.0)\n",
      "(1.0,46.0) : (-1.0,-1.0)\n",
      "(1.0,47.0) : (-1.0,-1.0)\n",
      "(1.0,48.0) : (-1.0,-1.0)\n",
      "(1.0,49.0) : (-1.0,-1.0)\n",
      "(1.0,50.0) : (-1.0,-1.0)\n",
      "(1.0,51.0) : (-1.0,-1.0)\n",
      "(1.0,52.0) : (-1.0,-1.0)\n",
      "(1.0,53.0) : (-1.0,-1.0)\n",
      "(1.0,54.0) : (-1.0,-1.0)\n"
     ]
    }
   ],
   "source": [
    "matches_ref = trace_halo.match_all(snap_ref,snap,gns=[1])\n",
    "\n",
    "for idx_ref,match in enumerate(matches_ref):\n",
    "    print(\"({},{}) : ({},{})\".format(GNs[idx_ref],SGNs[idx_ref],match[0],match[1]))"
   ]
  },
  {
   "cell_type": "code",
   "execution_count": 29,
   "metadata": {},
   "outputs": [
    {
     "data": {
      "text/plain": [
       "Timer unit: 1e-06 s\n",
       "\n",
       "Total time: 0.476203 s\n",
       "File: /home/kasper/Curvaton_Simulations/APOSTLE_analysis/snapshot_obj.py\n",
       "Function: get_subhalos_IDs at line 175\n",
       "\n",
       "Line #      Hits         Time  Per Hit   % Time  Line Contents\n",
       "==============================================================\n",
       "   175                                               def get_subhalos_IDs(self, part_type, fnums=[]):\n",
       "   176                                                   \"\"\" Read IDs of bound particles of given type for each halo.\n",
       "   177                                                   \n",
       "   178                                                   Paramaters\n",
       "   179                                                   ----------\n",
       "   180                                                   part_type : list of int\n",
       "   181                                                       Types of particles, whose attribute values are retrieved (the\n",
       "   182                                                       default is set for high-res part types)\n",
       "   183                                                   fnums : list of ints, optional\n",
       "   184                                                       Specifies files, which are to be read\n",
       "   185                                           \n",
       "   186                                                   Returns\n",
       "   187                                                   -------\n",
       "   188                                                   IDs : HDF5 dataset \n",
       "   189                                                       Dataset of ndarrays of bound particles\n",
       "   190                                                   \"\"\"\n",
       "   191                                           \n",
       "   192         1      94501.0  94501.0     19.8          IDs_bound = self.get_bound_particles(\"ParticleID\")\n",
       "   193                                           \n",
       "   194                                                   # Construct mask for selecting bound particles of type pt:\n",
       "   195         1      72373.0  72373.0     15.2          IDs_pt = self.get_particles(\"ParticleIDs\", part_type=[part_type])\n",
       "   196         1     229569.0 229569.0     48.2          mask_pt = np.isin(IDs_bound, IDs_pt)\n",
       "   197                                           \n",
       "   198         1          2.0      2.0      0.0          IDs = []\n",
       "   199         1        962.0    962.0      0.2          link_names_sel, link_sort_sel = self.link_select('group', fnums)\n",
       "   200         1        150.0    150.0      0.0          with h5py.File(self.grp_file, 'r') as grpf:\n",
       "   201                                                       # Get IDs by halo from selected files:\n",
       "   202         1      16441.0  16441.0      3.5              links = [f for (name, f) in grpf.items() \\\n",
       "   203                                                                if name in link_names_sel]\n",
       "   204        97        112.0      1.2      0.0              for i, link in enumerate(links):\n",
       "   205        96         90.0      0.9      0.0                  linkIDs = []\n",
       "   206                                           \n",
       "   207        96      29246.0    304.6      6.1                  offset = link['Subhalo/SubOffset'][...]\n",
       "   208        96      27042.0    281.7      5.7                  pnum = link['Subhalo/SubLength'][...]\n",
       "   209                                           \n",
       "   210        96        190.0      2.0      0.0                  select_halo = lambda o, n: \\\n",
       "   211                                                               IDs_bound[o:o + n][mask_pt[o:o + n]]\n",
       "   212        96        102.0      1.1      0.0                  linkIDs = [select_halo(o, n) for o, n in \\\n",
       "   213        96       4908.0     51.1      1.0                             zip(offset, pnum)]\n",
       "   214                                           \n",
       "   215        96        132.0      1.4      0.0                  IDs.append(linkIDs)\n",
       "   216                                           \n",
       "   217                                                       # Sort by link number:\n",
       "   218         1         21.0     21.0      0.0              IDs = [IDs[i] for i in link_sort_sel]\n",
       "   219         1        318.0    318.0      0.1              IDs = [ids for link in IDs for ids in link]\n",
       "   220                                           \n",
       "   221         1         44.0     44.0      0.0          return np.array(IDs)"
      ]
     },
     "metadata": {},
     "output_type": "display_data"
    }
   ],
   "source": [
    "%lprun -f snap_ref.get_subhalos_IDs snap_ref.get_subhalos_IDs(1)"
   ]
  },
  {
   "cell_type": "markdown",
   "metadata": {},
   "source": [
    "# Subhalo object"
   ]
  },
  {
   "cell_type": "markdown",
   "metadata": {},
   "source": [
    "Analysis of halo tracing processing time:"
   ]
  },
  {
   "cell_type": "code",
   "execution_count": 30,
   "metadata": {},
   "outputs": [],
   "source": [
    "halo = subhalo.Subhalo(sim_id, 127, 1, 0)"
   ]
  },
  {
   "cell_type": "code",
   "execution_count": 31,
   "metadata": {},
   "outputs": [
    {
     "data": {
      "text/plain": [
       "Timer unit: 1e-06 s\n",
       "\n",
       "Total time: 28.1117 s\n",
       "File: /home/kasper/Curvaton_Simulations/APOSTLE_analysis/subhalo.py\n",
       "Function: trace at line 61\n",
       "\n",
       "Line #      Hits         Time  Per Hit   % Time  Line Contents\n",
       "==============================================================\n",
       "    61                                               def trace(self, stop=101):\n",
       "    62                                                   \"\"\" Starting from the earliest identification, trace halo back\n",
       "    63                                                   in time as far as possible.\n",
       "    64                                           \n",
       "    65                                                   Parameters\n",
       "    66                                                   ----------\n",
       "    67                                                   stop : int, optional\n",
       "    68                                                       Earliest snapshot to be explored\n",
       "    69                                           \n",
       "    70                                                   Returns\n",
       "    71                                                   -------\n",
       "    72                                                   tracer : dict of tuple\n",
       "    73                                                       Dictionary tracing the gn and sgn values of the halo through\n",
       "    74                                                       snapshots. The keys are the snapshot IDs. The corresponding\n",
       "    75                                                       redshifts are included as the first element of the tuples (the\n",
       "    76                                                       following elements being the gn and the sgn).\n",
       "    77                                                   \"\"\"\n",
       "    78                                           \n",
       "    79                                                   # Get earliest match:\n",
       "    80         1         40.0     40.0      0.0          snap_id = np.min(list(self.tracer.keys()))\n",
       "    81         1          3.0      3.0      0.0          gn, sgn = self.tracer.get(snap_id)\n",
       "    82         1       4954.0   4954.0      0.0          snap = Snapshot(self.sim_id, snap_id)\n",
       "    83        27         32.0      1.2      0.0          while snap.snap_id > stop:\n",
       "    84        26     104035.0   4001.3      0.4              snap_next = Snapshot(snap.sim_id, snap.snap_id - 1)\n",
       "    85        26   28002560.0 1077021.5     99.6              gn, sgn = trace_halo.match_subhalo(self, snap_id, snap_next)\n",
       "    86                                           \n",
       "    87                                                       # No matching halo found:\n",
       "    88        26         54.0      2.1      0.0              if gn == -1: break\n",
       "    89                                           \n",
       "    90                                                       # Add match to tracer:\n",
       "    91        26         40.0      1.5      0.0              self.tracer[snap_next.snap_id] = (gn, sgn)\n",
       "    92                                           \n",
       "    93        26         29.0      1.1      0.0              snap = snap_next\n",
       "    94                                           \n",
       "    95         1          0.0      0.0      0.0          return self.tracer"
      ]
     },
     "metadata": {},
     "output_type": "display_data"
    }
   ],
   "source": [
    "%lprun -f halo.trace halo.trace()"
   ]
  },
  {
   "cell_type": "code",
   "execution_count": 21,
   "metadata": {},
   "outputs": [
    {
     "data": {
      "text/plain": [
       "Timer unit: 1e-06 s\n",
       "\n",
       "Total time: 1.11174 s\n",
       "File: /home/kasper/Curvaton_Simulations/APOSTLE_analysis/trace_halo.py\n",
       "Function: match_subhalo at line 364\n",
       "\n",
       "Line #      Hits         Time  Per Hit   % Time  Line Contents\n",
       "==============================================================\n",
       "   364                                           def match_subhalo(subhalo, snap_id, snap_exp):\n",
       "   365                                               \"\"\" Attempts to match a given subhalo with another subhalo in a given\n",
       "   366                                               snapshot.\n",
       "   367                                           \n",
       "   368                                               Parameters\n",
       "   369                                               ----------\n",
       "   370                                               subhalo : Subhalo object\n",
       "   371                                                   Matched subhalo.\n",
       "   372                                               snap_id : int\n",
       "   373                                                   ID of the snapshot, at which the match is searched.\n",
       "   374                                               snap_exp : Snapshot object\n",
       "   375                                                   Explored snapshot.\n",
       "   376                                           \n",
       "   377                                               Returns\n",
       "   378                                               -------\n",
       "   379                                               match : tuple\n",
       "   380                                                   (gn,sgn) of matching halo in snap. match==(-1,-1) if no match is\n",
       "   381                                                   found.\n",
       "   382                                               \"\"\"\n",
       "   383                                           \n",
       "   384         1     484264.0 484264.0     43.6      ids = subhalo.get_ids(snap_id)\n",
       "   385         1      87655.0  87655.0      7.9      mass = subhalo.get_halo_data('Mass', snap_id)\n",
       "   386         1          2.0      2.0      0.0      gn, sgn = subhalo.tracer.get(snap_id)\n",
       "   387                                           \n",
       "   388                                               # Set maximum number of iterations:\n",
       "   389         1          0.0      0.0      0.0      term = 100\n",
       "   390                                           \n",
       "   391                                               # Read subhalos with group numbers and subgroup numbers near gn and\n",
       "   392                                               # sgn:\n",
       "   393         1      62896.0  62896.0      5.7      fnums = neighborhood(snap_exp, gn, sgn, term / 2)\n",
       "   394         1      20981.0  20981.0      1.9      gns = snap_exp.get_subhalos('GroupNumber', fnums=fnums)\n",
       "   395         1      20759.0  20759.0      1.9      sgns = snap_exp.get_subhalos('SubGroupNumber', fnums=fnums)\n",
       "   396         1     411856.0 411856.0     37.0      ids_in_file = snap_exp.get_subhalos_IDs(part_type=1, fnums=fnums)\n",
       "   397         1      21143.0  21143.0      1.9      mass_in_file = snap_exp.get_subhalos('Mass', fnums=fnums)\n",
       "   398                                           \n",
       "   399                                               # Get index of halo with same sgn and gn as ref:\n",
       "   400         1         40.0     40.0      0.0      idx0 = np.argwhere(np.logical_and((gns == gn), (sgns == sgn)))[0, 0]\n",
       "   401                                           #    print('find match for:', gns[idx0], sgns[idx0], ' in ',\n",
       "   402                                           #          snap_exp.snap_id)\n",
       "   403                                           \n",
       "   404                                               # Initial value of match is returned if no match is found:\n",
       "   405         1          0.0      0.0      0.0      match = (-1, -1)\n",
       "   406                                           \n",
       "   407         1          0.0      0.0      0.0      idx = idx0\n",
       "   408         1          1.0      1.0      0.0      for step in range(1, term):\n",
       "   409                                           #        print('idx=', idx)\n",
       "   410         1          1.0      1.0      0.0          ids_exp = ids_in_file[idx]\n",
       "   411         1          1.0      1.0      0.0          mass_exp = mass_in_file[idx]\n",
       "   412         1       2137.0   2137.0      0.2          found_match = is_a_match(ids, mass, ids_exp, mass_exp)\n",
       "   413                                           \n",
       "   414         1          1.0      1.0      0.0          if found_match:\n",
       "   415         1          1.0      1.0      0.0              match = (gns[idx], sgns[idx])\n",
       "   416         1          0.0      0.0      0.0              break\n",
       "   417                                           \n",
       "   418                                                   idx = get_index_at_step(idx0, step, gns.size)\n",
       "   419                                                   if idx == idx0:\n",
       "   420                                                       break\n",
       "   421                                           \n",
       "   422         1          1.0      1.0      0.0      return match"
      ]
     },
     "metadata": {},
     "output_type": "display_data"
    }
   ],
   "source": [
    "%lprun -f trace_halo.find_match trace_halo.find_match(halo,127,snap)"
   ]
  },
  {
   "cell_type": "code",
   "execution_count": 28,
   "metadata": {},
   "outputs": [
    {
     "data": {
      "text/plain": [
       "Timer unit: 1e-06 s\n",
       "\n",
       "Total time: 0.4894 s\n",
       "File: /home/kasper/Curvaton_Simulations/APOSTLE_analysis/subhalo.py\n",
       "Function: get_ids at line 44\n",
       "\n",
       "Line #      Hits         Time  Per Hit   % Time  Line Contents\n",
       "==============================================================\n",
       "    44                                               def get_ids(self, snap_id):\n",
       "    45                                                   \"\"\" Retrieves the bound particle IDs in the given snapshot.\n",
       "    46                                                   \"\"\"\n",
       "    47                                           \n",
       "    48         1          2.0      2.0      0.0          gn, sgn = self.tracer[snap_id]\n",
       "    49         1       4927.0   4927.0      1.0          snap = Snapshot(self.sim_id, snap_id)\n",
       "    50         1      21959.0  21959.0      4.5          fnum = snap.file_of_halo(gn, sgn)\n",
       "    51                                           \n",
       "    52                                                   # Get index of halo:\n",
       "    53         1      22576.0  22576.0      4.6          gns = snap.get_subhalos('GroupNumber', fnums=[fnum])\n",
       "    54         1      23674.0  23674.0      4.8          sgns = snap.get_subhalos('SubGroupNumber', fnums=[fnum])\n",
       "    55                                           \n",
       "    56         1     416236.0 416236.0     85.1          ids = snap.get_subhalos_IDs(part_type=1, fnums=[fnum]) \\\n",
       "    57         1         25.0     25.0      0.0              [np.logical_and((gns == gn), (sgns == sgn))]\n",
       "    58                                           \n",
       "    59         1          1.0      1.0      0.0          return ids[0]"
      ]
     },
     "metadata": {},
     "output_type": "display_data"
    }
   ],
   "source": [
    "%lprun -f halo.get_ids halo.get_ids(127)"
   ]
  },
  {
   "cell_type": "markdown",
   "metadata": {},
   "source": [
    "# Snapshot object "
   ]
  },
  {
   "cell_type": "markdown",
   "metadata": {},
   "source": [
    "Initialization time, when the data files have been generated"
   ]
  },
  {
   "cell_type": "code",
   "execution_count": 6,
   "metadata": {},
   "outputs": [],
   "source": [
    "snap = snapshot_obj.Snapshot(sim_id,120)"
   ]
  },
  {
   "cell_type": "code",
   "execution_count": 7,
   "metadata": {},
   "outputs": [
    {
     "name": "stdout",
     "output_type": "stream",
     "text": [
      "2.32 ms ± 17.4 µs per loop (mean ± std. dev. of 7 runs, 100 loops each)\n"
     ]
    }
   ],
   "source": [
    "%%timeit\n",
    "snap = snapshot_obj.Snapshot(sim_id,120)"
   ]
  },
  {
   "cell_type": "code",
   "execution_count": null,
   "metadata": {},
   "outputs": [],
   "source": [
    "%lprun -f dataset_compute.compute_V1kpc dataset_compute.compute_V1kpc(snap_ref)"
   ]
  }
 ],
 "metadata": {
  "kernelspec": {
   "display_name": "Python 3",
   "language": "python",
   "name": "python3"
  },
  "language_info": {
   "codemirror_mode": {
    "name": "ipython",
    "version": 3
   },
   "file_extension": ".py",
   "mimetype": "text/x-python",
   "name": "python",
   "nbconvert_exporter": "python",
   "pygments_lexer": "ipython3",
   "version": "3.7.6"
  }
 },
 "nbformat": 4,
 "nbformat_minor": 4
}
