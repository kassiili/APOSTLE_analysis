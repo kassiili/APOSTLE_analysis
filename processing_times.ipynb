{
 "cells": [
  {
   "cell_type": "code",
   "execution_count": 1,
   "metadata": {},
   "outputs": [],
   "source": [
    "%load_ext autoreload\n",
    "%autoreload 2\n",
    "\n",
    "%config IPCompleter.greedy=True"
   ]
  },
  {
   "cell_type": "code",
   "execution_count": 2,
   "metadata": {},
   "outputs": [],
   "source": [
    "import numpy as np\n",
    "import heapq\n",
    "import importlib\n",
    "\n",
    "import snapshot_obj\n",
    "import subhalo\n",
    "import trace_halo\n",
    "import dataset_compute"
   ]
  },
  {
   "cell_type": "code",
   "execution_count": 3,
   "metadata": {},
   "outputs": [
    {
     "data": {
      "text/plain": [
       "<module 'dataset_compute' from '/home/kasper/Curvaton_Simulations/APOSTLE_analysis/dataset_compute.py'>"
      ]
     },
     "execution_count": 3,
     "metadata": {},
     "output_type": "execute_result"
    }
   ],
   "source": [
    "importlib.reload(snapshot_obj)\n",
    "importlib.reload(subhalo)\n",
    "importlib.reload(trace_halo)\n",
    "importlib.reload(dataset_compute)"
   ]
  },
  {
   "cell_type": "code",
   "execution_count": 4,
   "metadata": {},
   "outputs": [],
   "source": [
    "%load_ext line_profiler"
   ]
  },
  {
   "cell_type": "markdown",
   "metadata": {},
   "source": [
    "# Tracing"
   ]
  },
  {
   "cell_type": "code",
   "execution_count": 5,
   "metadata": {},
   "outputs": [],
   "source": [
    "sim_id = \"CDM_V1_LR\"\n",
    "snap_ref = snapshot_obj.Snapshot(sim_id, 127)\n",
    "snap = snapshot_obj.Snapshot(sim_id, 126)\n",
    "\n",
    "GNs = snap_ref.get_subhalos('GroupNumber')\n",
    "SGNs = snap_ref.get_subhalos('SubGroupNumber')"
   ]
  },
  {
   "cell_type": "code",
   "execution_count": 18,
   "metadata": {},
   "outputs": [
    {
     "data": {
      "text/plain": [
       "Timer unit: 1e-06 s\n",
       "\n",
       "Total time: 175.648 s\n",
       "File: /home/kasper/Curvaton_Simulations/APOSTLE_analysis/trace_halo.py\n",
       "Function: trace_all at line 9\n",
       "\n",
       "Line #      Hits         Time  Per Hit   % Time  Line Contents\n",
       "==============================================================\n",
       "     9                                           def trace_all(snap_init, gns=[], stop=101):\n",
       "    10                                               \"\"\" Traces all subhalos of given galaxies as far back in time as \n",
       "    11                                               possible, starting from the given snapshot.\n",
       "    12                                           \n",
       "    13                                               Parameters\n",
       "    14                                               ----------\n",
       "    15                                               snap_init : Dataset object\n",
       "    16                                                   Starting point for the tracing.\n",
       "    17                                               gns : int, optional\n",
       "    18                                                   Group numbers of the traced halos in the initial snapshot.\n",
       "    19                                               stop : int, optional\n",
       "    20                                                   Earliest snapshot to be explored\n",
       "    21                                           \n",
       "    22                                               Returns\n",
       "    23                                               -------\n",
       "    24                                               tracer : dict of ndarray\n",
       "    25                                                   Dictionary tracing the gn and sgn values of the halo through \n",
       "    26                                                   snapshots. The keys are the snapshot IDs. The corresponding \n",
       "    27                                                   redshifts are included as the first element of the tuples (the\n",
       "    28                                                   following elements being the gn and the sgn).\n",
       "    29                                               \"\"\"\n",
       "    30                                           \n",
       "    31         1          1.0      1.0      0.0      tracer = {}\n",
       "    32         1          0.0      0.0      0.0      snap = snap_init\n",
       "    33        27         18.0      0.7      0.0      while snap.snap_id > stop:\n",
       "    34        26     135529.0   5212.7      0.1          snap_next = Snapshot(snap.sim_id, snap.snap_id - 1)\n",
       "    35        26  175512497.0 6750480.7     99.9          tracer[snap.snap_id] = match_all(snap, snap_next, gns)\n",
       "    36                                           \n",
       "    37        26         67.0      2.6      0.0          snap = snap_next\n",
       "    38                                           \n",
       "    39         1          0.0      0.0      0.0      return tracer"
      ]
     },
     "metadata": {},
     "output_type": "display_data"
    }
   ],
   "source": [
    "%lprun -f trace_halo.trace_all trace_halo.trace_all(snap_ref, stop=101)"
   ]
  },
  {
   "cell_type": "code",
   "execution_count": 7,
   "metadata": {},
   "outputs": [
    {
     "name": "stdout",
     "output_type": "stream",
     "text": [
      "100\n"
     ]
    },
    {
     "data": {
      "text/plain": [
       "Timer unit: 1e-06 s\n",
       "\n",
       "Total time: 4.04476 s\n",
       "File: /home/kasper/Curvaton_Simulations/APOSTLE_analysis/trace_halo.py\n",
       "Function: match_all at line 49\n",
       "\n",
       "Line #      Hits         Time  Per Hit   % Time  Line Contents\n",
       "==============================================================\n",
       "    49                                           def match_all(snap_ref, snap_exp, gns=[]):\n",
       "    50                                               \"\"\" Try matching all halos in snap_ref with given group numbers with\n",
       "    51                                               halos in snap_exp with the same set of group numbers. \n",
       "    52                                               \n",
       "    53                                               Parameters\n",
       "    54                                               ----------\n",
       "    55                                               snap_ref : Snapshot object\n",
       "    56                                                   Reference snapshot.\n",
       "    57                                               snap_exp : Snapshot object\n",
       "    58                                                   Explored snapshot.\n",
       "    59                                               gns : list of int, optional\n",
       "    60                                                   Group numbers that are to be matched. If empty, match all.\n",
       "    61                                           \n",
       "    62                                               Returns\n",
       "    63                                               -------\n",
       "    64                                               matches_ref : ndarray of int of shape (# of halos,2)\n",
       "    65                                                   Group numbers in the first column and subgroup numbers in the\n",
       "    66                                                   second of matched halos in snap_exp. If no match was found for\n",
       "    67                                                   the halo in index i, then matches_ref[i] = [-1,-1].\n",
       "    68                                               \"\"\"\n",
       "    69                                           \n",
       "    70         1    1260804.0 1260804.0     31.2      reference, explore = get_data_for_matching(snap_ref, snap_exp, gns)\n",
       "    71                                           \n",
       "    72                                               # Initialize matches:\n",
       "    73         1         41.0     41.0      0.0      matches_ref = np.array([None] * reference['GNs'].size)\n",
       "    74         1         36.0     36.0      0.0      matches_exp = np.array([None] * explore['GNs'].size)  # This is\n",
       "    75                                               # defined just make the code run a bit faster\n",
       "    76                                           \n",
       "    77         1      15058.0  15058.0      0.4      init_idents = identify_group_numbers(reference['GNs'], explore['GNs'])\n",
       "    78                                           \n",
       "    79                                               # Initialize iterator:\n",
       "    80         1      53563.0  53563.0      1.3      mass = snap_exp.get_subhalos(\"MassType\")[:, 1]\n",
       "    81         1        123.0    123.0      0.0      iterator = IterateArray(init_idents, mass, term=100)\n",
       "    82                                           \n",
       "    83                                               # Initialize priority queue:\n",
       "    84         1          1.0      1.0      0.0      pq = []\n",
       "    85      1126        497.0      0.4      0.0      for idx_ref in range(init_idents.size):\n",
       "    86      1125        676.0      0.6      0.0          heapq.heappush(pq, (0, idx_ref))\n",
       "    87                                           \n",
       "    88         1          1.0      1.0      0.0      pmax = 0\n",
       "    89     82362      52204.0      0.6      1.3      while len(pq) > 0:\n",
       "    90                                                   # Get next one for matching:\n",
       "    91     82361     121995.0      1.5      3.0          p, idx_ref = heapq.heappop(pq)  # [1]\n",
       "    92     82361      43744.0      0.5      1.1          if p > pmax:\n",
       "    93       100         53.0      0.5      0.0              pmax = p\n",
       "    94                                           \n",
       "    95                                                   # Get index of the halo to be tried next:\n",
       "    96     82361     936466.0     11.4     23.2          idx_exp = iterator.iterate(idx_ref)\n",
       "    97                                           #        if idx_exp is None:\n",
       "    98                                           #            print(idx_exp, p)\n",
       "    99                                           #        elif reference['GNs'][idx_ref] == 1 and \\\n",
       "   100                                           #                explore['GNs'][idx_exp] == 1:\n",
       "   101                                           #            print(p, idx_ref, idx_exp)\n",
       "   102                                           \n",
       "   103                                                   # If there are still untried candidates:\n",
       "   104     82361      47065.0      0.6      1.2          if idx_exp is not None:\n",
       "   105     81668      37442.0      0.5      0.9              found_match = False\n",
       "   106                                                       # If current halo is not matched:\n",
       "   107     81668      50927.0      0.6      1.3              if matches_exp[idx_exp] is None:\n",
       "   108                                                           # Match:\n",
       "   109     68207      44282.0      0.6      1.1                  found_match = is_a_match(explore['IDs'][idx_exp],\n",
       "   110     68207      41087.0      0.6      1.0                                           explore['Mass'][idx_exp],\n",
       "   111     68207      39183.0      0.6      1.0                                           reference['IDs'][idx_ref],\n",
       "   112     68207    1079823.0     15.8     26.7                                           reference['Mass'][idx_ref])\n",
       "   113                                           \n",
       "   114     81668      43775.0      0.5      1.1              if found_match:\n",
       "   115       432        319.0      0.7      0.0                  matches_ref[idx_ref] = idx_exp\n",
       "   116       432        300.0      0.7      0.0                  matches_exp[idx_exp] = idx_ref\n",
       "   117                                                       else:\n",
       "   118                                                           # Set priority equal to the number previous matching\n",
       "   119                                                           # events:\n",
       "   120     81236      98313.0      1.2      2.4                  priority = iterator.get_step(idx_ref)\n",
       "   121     81236      76738.0      0.9      1.9                  heapq.heappush(pq, (priority, idx_ref))\n",
       "   122                                           \n",
       "   123         1        246.0    246.0      0.0      print(pmax)\n",
       "   124         1          1.0      1.0      0.0      return matches_ref"
      ]
     },
     "metadata": {},
     "output_type": "display_data"
    }
   ],
   "source": [
    "%lprun -f trace_halo.match_all trace_halo.match_all(snap_ref,snap)"
   ]
  },
  {
   "cell_type": "markdown",
   "metadata": {},
   "source": [
    "# Snapshot object "
   ]
  },
  {
   "cell_type": "markdown",
   "metadata": {},
   "source": [
    "Initialization time, when the data files have been generated"
   ]
  },
  {
   "cell_type": "code",
   "execution_count": 9,
   "metadata": {},
   "outputs": [
    {
     "data": {
      "text/plain": [
       "Timer unit: 1e-06 s\n",
       "\n",
       "Total time: 0.47445 s\n",
       "File: /home/kasper/Curvaton_Simulations/APOSTLE_analysis/snapshot_obj.py\n",
       "Function: get_subhalos_IDs at line 177\n",
       "\n",
       "Line #      Hits         Time  Per Hit   % Time  Line Contents\n",
       "==============================================================\n",
       "   177                                               def get_subhalos_IDs(self, part_type, fnums=[]):\n",
       "   178                                                   \"\"\" Read IDs of bound particles of given type for each halo.\n",
       "   179                                                   \n",
       "   180                                                   Paramaters\n",
       "   181                                                   ----------\n",
       "   182                                                   part_type : list of int\n",
       "   183                                                       Types of particles, whose attribute values are retrieved (the\n",
       "   184                                                       default is set for high-res part types)\n",
       "   185                                                   fnums : list of ints, optional\n",
       "   186                                                       Specifies files, which are to be read\n",
       "   187                                           \n",
       "   188                                                   Returns\n",
       "   189                                                   -------\n",
       "   190                                                   IDs : HDF5 dataset \n",
       "   191                                                       Dataset of ndarrays of bound particles\n",
       "   192                                                   \"\"\"\n",
       "   193                                           \n",
       "   194         1      94319.0  94319.0     19.9          IDs_bound = self.get_bound_particles(\"ParticleID\")\n",
       "   195                                           \n",
       "   196                                                   # Construct mask for selecting bound particles of type pt:\n",
       "   197         1      71998.0  71998.0     15.2          IDs_pt = self.get_particles(\"ParticleIDs\", part_type=[part_type])\n",
       "   198         1     228469.0 228469.0     48.2          mask_pt = np.isin(IDs_bound, IDs_pt)\n",
       "   199                                           \n",
       "   200         1          2.0      2.0      0.0          IDs = []\n",
       "   201         1        946.0    946.0      0.2          link_names_sel, link_sort_sel = self.link_select('group', fnums)\n",
       "   202         1        147.0    147.0      0.0          with h5py.File(self.grp_file, 'r') as grpf:\n",
       "   203                                                       # Get IDs by halo from selected files:\n",
       "   204         1      16205.0  16205.0      3.4              links = [f for (name, f) in grpf.items() \\\n",
       "   205                                                                if name in link_names_sel]\n",
       "   206        97        108.0      1.1      0.0              for i, link in enumerate(links):\n",
       "   207        96      29405.0    306.3      6.2                  offset = link['Subhalo/SubOffset'][...]\n",
       "   208        96      27071.0    282.0      5.7                  pnum = link['Subhalo/SubLength'][...]\n",
       "   209                                           \n",
       "   210        96        174.0      1.8      0.0                  select_halo = lambda o, n: \\\n",
       "   211                                                               IDs_bound[o:o + n][mask_pt[o:o + n]]\n",
       "   212        96         98.0      1.0      0.0                  link_ids = [select_halo(o, n) for o, n in\n",
       "   213        96       5010.0     52.2      1.1                              zip(offset, pnum)]\n",
       "   214                                           \n",
       "   215        96        134.0      1.4      0.0                  IDs.append(link_ids)\n",
       "   216                                           \n",
       "   217                                                       # Sort by link number:\n",
       "   218         1         24.0     24.0      0.0              IDs = [IDs[i] for i in link_sort_sel]\n",
       "   219         1        297.0    297.0      0.1              IDs = [ids for link in IDs for ids in link]\n",
       "   220                                           \n",
       "   221         1         43.0     43.0      0.0          return np.array(IDs)"
      ]
     },
     "metadata": {},
     "output_type": "display_data"
    }
   ],
   "source": [
    "%lprun -f snap_ref.get_subhalos_IDs snap_ref.get_subhalos_IDs(1)"
   ]
  },
  {
   "cell_type": "markdown",
   "metadata": {},
   "source": []
  },
  {
   "cell_type": "code",
   "execution_count": null,
   "metadata": {},
   "outputs": [],
   "source": [
    "%lprun -f dataset_compute.compute_V1kpc dataset_compute.compute_V1kpc(snap_ref)"
   ]
  },
  {
   "cell_type": "code",
   "execution_count": 6,
   "metadata": {},
   "outputs": [],
   "source": [
    "snap = snapshot_obj.Snapshot(sim_id,120)"
   ]
  },
  {
   "cell_type": "code",
   "execution_count": 7,
   "metadata": {},
   "outputs": [
    {
     "name": "stdout",
     "output_type": "stream",
     "text": [
      "2.32 ms ± 17.4 µs per loop (mean ± std. dev. of 7 runs, 100 loops each)\n"
     ]
    }
   ],
   "source": [
    "%%timeit\n",
    "snap = snapshot_obj.Snapshot(sim_id,120)"
   ]
  },
  {
   "cell_type": "markdown",
   "metadata": {},
   "source": [
    "# Subhalo object"
   ]
  },
  {
   "cell_type": "markdown",
   "metadata": {},
   "source": [
    "Analysis of halo tracing processing time:"
   ]
  },
  {
   "cell_type": "code",
   "execution_count": 30,
   "metadata": {},
   "outputs": [],
   "source": [
    "halo = subhalo.Subhalo(sim_id, 127, 1, 0)"
   ]
  },
  {
   "cell_type": "code",
   "execution_count": 31,
   "metadata": {},
   "outputs": [
    {
     "data": {
      "text/plain": [
       "Timer unit: 1e-06 s\n",
       "\n",
       "Total time: 28.1117 s\n",
       "File: /home/kasper/Curvaton_Simulations/APOSTLE_analysis/subhalo.py\n",
       "Function: trace at line 61\n",
       "\n",
       "Line #      Hits         Time  Per Hit   % Time  Line Contents\n",
       "==============================================================\n",
       "    61                                               def trace(self, stop=101):\n",
       "    62                                                   \"\"\" Starting from the earliest identification, trace halo back\n",
       "    63                                                   in time as far as possible.\n",
       "    64                                           \n",
       "    65                                                   Parameters\n",
       "    66                                                   ----------\n",
       "    67                                                   stop : int, optional\n",
       "    68                                                       Earliest snapshot to be explored\n",
       "    69                                           \n",
       "    70                                                   Returns\n",
       "    71                                                   -------\n",
       "    72                                                   tracer : dict of tuple\n",
       "    73                                                       Dictionary tracing the gn and sgn values of the halo through\n",
       "    74                                                       snapshots. The keys are the snapshot IDs. The corresponding\n",
       "    75                                                       redshifts are included as the first element of the tuples (the\n",
       "    76                                                       following elements being the gn and the sgn).\n",
       "    77                                                   \"\"\"\n",
       "    78                                           \n",
       "    79                                                   # Get earliest match:\n",
       "    80         1         40.0     40.0      0.0          snap_id = np.min(list(self.tracer.keys()))\n",
       "    81         1          3.0      3.0      0.0          gn, sgn = self.tracer.get(snap_id)\n",
       "    82         1       4954.0   4954.0      0.0          snap = Snapshot(self.sim_id, snap_id)\n",
       "    83        27         32.0      1.2      0.0          while snap.snap_id > stop:\n",
       "    84        26     104035.0   4001.3      0.4              snap_next = Snapshot(snap.sim_id, snap.snap_id - 1)\n",
       "    85        26   28002560.0 1077021.5     99.6              gn, sgn = trace_halo.match_subhalo(self, snap_id, snap_next)\n",
       "    86                                           \n",
       "    87                                                       # No matching halo found:\n",
       "    88        26         54.0      2.1      0.0              if gn == -1: break\n",
       "    89                                           \n",
       "    90                                                       # Add match to tracer:\n",
       "    91        26         40.0      1.5      0.0              self.tracer[snap_next.snap_id] = (gn, sgn)\n",
       "    92                                           \n",
       "    93        26         29.0      1.1      0.0              snap = snap_next\n",
       "    94                                           \n",
       "    95         1          0.0      0.0      0.0          return self.tracer"
      ]
     },
     "metadata": {},
     "output_type": "display_data"
    }
   ],
   "source": [
    "%lprun -f halo.trace halo.trace()"
   ]
  },
  {
   "cell_type": "code",
   "execution_count": 21,
   "metadata": {},
   "outputs": [
    {
     "data": {
      "text/plain": [
       "Timer unit: 1e-06 s\n",
       "\n",
       "Total time: 1.11174 s\n",
       "File: /home/kasper/Curvaton_Simulations/APOSTLE_analysis/trace_halo.py\n",
       "Function: match_subhalo at line 364\n",
       "\n",
       "Line #      Hits         Time  Per Hit   % Time  Line Contents\n",
       "==============================================================\n",
       "   364                                           def match_subhalo(subhalo, snap_id, snap_exp):\n",
       "   365                                               \"\"\" Attempts to match a given subhalo with another subhalo in a given\n",
       "   366                                               snapshot.\n",
       "   367                                           \n",
       "   368                                               Parameters\n",
       "   369                                               ----------\n",
       "   370                                               subhalo : Subhalo object\n",
       "   371                                                   Matched subhalo.\n",
       "   372                                               snap_id : int\n",
       "   373                                                   ID of the snapshot, at which the match is searched.\n",
       "   374                                               snap_exp : Snapshot object\n",
       "   375                                                   Explored snapshot.\n",
       "   376                                           \n",
       "   377                                               Returns\n",
       "   378                                               -------\n",
       "   379                                               match : tuple\n",
       "   380                                                   (gn,sgn) of matching halo in snap. match==(-1,-1) if no match is\n",
       "   381                                                   found.\n",
       "   382                                               \"\"\"\n",
       "   383                                           \n",
       "   384         1     484264.0 484264.0     43.6      ids = subhalo.get_ids(snap_id)\n",
       "   385         1      87655.0  87655.0      7.9      mass = subhalo.get_halo_data('Mass', snap_id)\n",
       "   386         1          2.0      2.0      0.0      gn, sgn = subhalo.tracer.get(snap_id)\n",
       "   387                                           \n",
       "   388                                               # Set maximum number of iterations:\n",
       "   389         1          0.0      0.0      0.0      term = 100\n",
       "   390                                           \n",
       "   391                                               # Read subhalos with group numbers and subgroup numbers near gn and\n",
       "   392                                               # sgn:\n",
       "   393         1      62896.0  62896.0      5.7      fnums = neighborhood(snap_exp, gn, sgn, term / 2)\n",
       "   394         1      20981.0  20981.0      1.9      gns = snap_exp.get_subhalos('GroupNumber', fnums=fnums)\n",
       "   395         1      20759.0  20759.0      1.9      sgns = snap_exp.get_subhalos('SubGroupNumber', fnums=fnums)\n",
       "   396         1     411856.0 411856.0     37.0      ids_in_file = snap_exp.get_subhalos_IDs(part_type=1, fnums=fnums)\n",
       "   397         1      21143.0  21143.0      1.9      mass_in_file = snap_exp.get_subhalos('Mass', fnums=fnums)\n",
       "   398                                           \n",
       "   399                                               # Get index of halo with same sgn and gn as ref:\n",
       "   400         1         40.0     40.0      0.0      idx0 = np.argwhere(np.logical_and((gns == gn), (sgns == sgn)))[0, 0]\n",
       "   401                                           #    print('find match for:', gns[idx0], sgns[idx0], ' in ',\n",
       "   402                                           #          snap_exp.snap_id)\n",
       "   403                                           \n",
       "   404                                               # Initial value of match is returned if no match is found:\n",
       "   405         1          0.0      0.0      0.0      match = (-1, -1)\n",
       "   406                                           \n",
       "   407         1          0.0      0.0      0.0      idx = idx0\n",
       "   408         1          1.0      1.0      0.0      for step in range(1, term):\n",
       "   409                                           #        print('idx=', idx)\n",
       "   410         1          1.0      1.0      0.0          ids_exp = ids_in_file[idx]\n",
       "   411         1          1.0      1.0      0.0          mass_exp = mass_in_file[idx]\n",
       "   412         1       2137.0   2137.0      0.2          found_match = is_a_match(ids, mass, ids_exp, mass_exp)\n",
       "   413                                           \n",
       "   414         1          1.0      1.0      0.0          if found_match:\n",
       "   415         1          1.0      1.0      0.0              match = (gns[idx], sgns[idx])\n",
       "   416         1          0.0      0.0      0.0              break\n",
       "   417                                           \n",
       "   418                                                   idx = get_index_at_step(idx0, step, gns.size)\n",
       "   419                                                   if idx == idx0:\n",
       "   420                                                       break\n",
       "   421                                           \n",
       "   422         1          1.0      1.0      0.0      return match"
      ]
     },
     "metadata": {},
     "output_type": "display_data"
    }
   ],
   "source": [
    "%lprun -f trace_halo.find_match trace_halo.find_match(halo,127,snap)"
   ]
  },
  {
   "cell_type": "code",
   "execution_count": 32,
   "metadata": {
    "jupyter": {
     "source_hidden": true
    }
   },
   "outputs": [
    {
     "name": "stdout",
     "output_type": "stream",
     "text": [
      "The autoreload extension is already loaded. To reload it, use:\n",
      "  %reload_ext autoreload\n"
     ]
    }
   ],
   "source": [
    "%load_ext autoreload\n",
    "%autoreload 2\n",
    "\n",
    "%config IPCompleter.greedy=True"
   ]
  },
  {
   "cell_type": "code",
   "execution_count": 28,
   "metadata": {},
   "outputs": [
    {
     "data": {
      "text/plain": [
       "Timer unit: 1e-06 s\n",
       "\n",
       "Total time: 0.4894 s\n",
       "File: /home/kasper/Curvaton_Simulations/APOSTLE_analysis/subhalo.py\n",
       "Function: get_ids at line 44\n",
       "\n",
       "Line #      Hits         Time  Per Hit   % Time  Line Contents\n",
       "==============================================================\n",
       "    44                                               def get_ids(self, snap_id):\n",
       "    45                                                   \"\"\" Retrieves the bound particle IDs in the given snapshot.\n",
       "    46                                                   \"\"\"\n",
       "    47                                           \n",
       "    48         1          2.0      2.0      0.0          gn, sgn = self.tracer[snap_id]\n",
       "    49         1       4927.0   4927.0      1.0          snap = Snapshot(self.sim_id, snap_id)\n",
       "    50         1      21959.0  21959.0      4.5          fnum = snap.file_of_halo(gn, sgn)\n",
       "    51                                           \n",
       "    52                                                   # Get index of halo:\n",
       "    53         1      22576.0  22576.0      4.6          gns = snap.get_subhalos('GroupNumber', fnums=[fnum])\n",
       "    54         1      23674.0  23674.0      4.8          sgns = snap.get_subhalos('SubGroupNumber', fnums=[fnum])\n",
       "    55                                           \n",
       "    56         1     416236.0 416236.0     85.1          ids = snap.get_subhalos_IDs(part_type=1, fnums=[fnum]) \\\n",
       "    57         1         25.0     25.0      0.0              [np.logical_and((gns == gn), (sgns == sgn))]\n",
       "    58                                           \n",
       "    59         1          1.0      1.0      0.0          return ids[0]"
      ]
     },
     "metadata": {},
     "output_type": "display_data"
    }
   ],
   "source": [
    "%lprun -f halo.get_ids halo.get_ids(127)"
   ]
  }
 ],
 "metadata": {
  "kernelspec": {
   "display_name": "Python 3",
   "language": "python",
   "name": "python3"
  },
  "language_info": {
   "codemirror_mode": {
    "name": "ipython",
    "version": 3
   },
   "file_extension": ".py",
   "mimetype": "text/x-python",
   "name": "python",
   "nbconvert_exporter": "python",
   "pygments_lexer": "ipython3",
   "version": "3.7.6"
  }
 },
 "nbformat": 4,
 "nbformat_minor": 4
}
