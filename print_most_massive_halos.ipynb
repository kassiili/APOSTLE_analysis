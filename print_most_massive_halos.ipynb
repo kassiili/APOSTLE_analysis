{
 "cells": [
  {
   "cell_type": "code",
   "execution_count": null,
   "metadata": {},
   "outputs": [],
   "source": [
    "%load_ext autoreload\n",
    "%autoreload 2\n",
    "\n",
    "%config IPCompleter.greedy=True"
   ]
  },
  {
   "cell_type": "code",
   "execution_count": null,
   "metadata": {},
   "outputs": [],
   "source": [
    "import numpy as np\n",
    "import os\n",
    "import matplotlib.pyplot as plt\n",
    "from astropy import units\n",
    "from astropy.constants import G\n",
    "import importlib\n",
    "\n",
    "import dataset_compute\n",
    "import snapshot_obj"
   ]
  },
  {
   "cell_type": "code",
   "execution_count": null,
   "metadata": {},
   "outputs": [],
   "source": [
    "importlib.reload(dataset_compute)\n",
    "importlib.reload(snapshot_obj)"
   ]
  },
  {
   "cell_type": "code",
   "execution_count": null,
   "metadata": {},
   "outputs": [],
   "source": [
    "lcdm = snapshot_obj.Snapshot(\"V1_LR_fix\", 127)\n",
    "p082 = snapshot_obj.Snapshot(\"V1_LR_curvaton_p082_fix\", 127)\n",
    "p084 = snapshot_obj.Snapshot(\"V1_LR_curvaton_p084_fix\", 127)"
   ]
  },
  {
   "cell_type": "markdown",
   "metadata": {},
   "source": [
    "## Print most massive halos in LCDM"
   ]
  },
  {
   "cell_type": "code",
   "execution_count": null,
   "metadata": {},
   "outputs": [],
   "source": [
    "masses_lcdm = lcdm.get_subhalos(\"Mass\") * units.g.to(units.Msun) * 10**(-10)\n",
    "gns_lcdm = lcdm.get_subhalos(\"GroupNumber\")\n",
    "sgns_lcdm = lcdm.get_subhalos(\"SubGroupNumber\")\n",
    "idx_lcdm = np.argsort(-masses_lcdm)[:10]"
   ]
  },
  {
   "cell_type": "markdown",
   "metadata": {},
   "source": [
    "## Print most massive halos in p082"
   ]
  },
  {
   "cell_type": "code",
   "execution_count": null,
   "metadata": {},
   "outputs": [],
   "source": [
    "masses_p082 = p082.get_subhalos(\"Mass\") * units.g.to(units.Msun) * 10**(-10)\n",
    "gns_p082 = p082.get_subhalos(\"GroupNumber\")\n",
    "sgns_p082 = p082.get_subhalos(\"SubGroupNumber\")\n",
    "idx_p082 = np.argsort(-masses_p082)[:10]"
   ]
  },
  {
   "cell_type": "markdown",
   "metadata": {},
   "source": [
    "## Print most massive halos in p084"
   ]
  },
  {
   "cell_type": "code",
   "execution_count": null,
   "metadata": {},
   "outputs": [],
   "source": [
    "masses_p084 = p084.get_subhalos(\"Mass\") * units.g.to(units.Msun) * 10**(-10)\n",
    "gns_p084 = p084.get_subhalos(\"GroupNumber\")\n",
    "sgns_p084 = p084.get_subhalos(\"SubGroupNumber\")\n",
    "idx_p084 = np.argsort(-masses_p084)[:10]"
   ]
  },
  {
   "cell_type": "code",
   "execution_count": null,
   "metadata": {},
   "outputs": [],
   "source": [
    "for i, (i_lcdm, i_p082, i_p084) in enumerate(zip(idx_lcdm, idx_p082, idx_p084)):\n",
    "    print(\"    {}. &  {} & {} & {:4.2f} & {} & {} & {:4.2f} &  {} & {} & {:4.2f} \\\\\\\\\".format(\n",
    "        i+1, \n",
    "        int(gns_lcdm[i_lcdm]), int(sgns_lcdm[i_lcdm]), masses_lcdm[i_lcdm],\n",
    "        int(gns_p082[i_p082]), int(sgns_p082[i_p082]), masses_p082[i_p082],\n",
    "        int(gns_p084[i_p084]), int(sgns_p084[i_p084]), masses_p084[i_p084])\n",
    "         )"
   ]
  },
  {
   "cell_type": "code",
   "execution_count": null,
   "metadata": {},
   "outputs": [],
   "source": [
    "print(\"{:4.2f}\".format(masses_lcdm[0]))"
   ]
  },
  {
   "cell_type": "markdown",
   "metadata": {},
   "source": [
    "Just out of curiosity compare to my method:"
   ]
  },
  {
   "cell_type": "code",
   "execution_count": null,
   "metadata": {},
   "outputs": [],
   "source": [
    "grouped_mass = dataset_compute.group_particles_by_subhalo(lcdm, \"Masses\")[\"Masses\"]\n",
    "masses = [np.sum(m_arr) for m_arr in grouped_mass]\n",
    "print(np.sort(masses)[:10])\n",
    "print(np.argsort(masses)[:10])"
   ]
  },
  {
   "cell_type": "code",
   "execution_count": null,
   "metadata": {},
   "outputs": [],
   "source": [
    "masses = lcdm.get_subhalos(\"Mass\")\n",
    "print(np.sort(masses)[:10])\n",
    "print(np.argsort(masses)[:10])"
   ]
  },
  {
   "cell_type": "code",
   "execution_count": null,
   "metadata": {},
   "outputs": [],
   "source": []
  }
 ],
 "metadata": {
  "kernelspec": {
   "display_name": "Python 3",
   "language": "python",
   "name": "python3"
  },
  "language_info": {
   "codemirror_mode": {
    "name": "ipython",
    "version": 3
   },
   "file_extension": ".py",
   "mimetype": "text/x-python",
   "name": "python",
   "nbconvert_exporter": "python",
   "pygments_lexer": "ipython3"
  }
 },
 "nbformat": 4,
 "nbformat_minor": 4
}
