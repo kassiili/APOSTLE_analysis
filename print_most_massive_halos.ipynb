{
 "cells": [
  {
   "cell_type": "code",
   "execution_count": null,
   "metadata": {},
   "outputs": [],
   "source": [
    "%load_ext autoreload\n",
    "%autoreload 2\n",
    "\n",
    "%config IPCompleter.greedy=True"
   ]
  },
  {
   "cell_type": "code",
   "execution_count": null,
   "metadata": {},
   "outputs": [],
   "source": [
    "import numpy as np\n",
    "import os\n",
    "import matplotlib.pyplot as plt\n",
    "from astropy import units\n",
    "from astropy.constants import G\n",
    "import importlib\n",
    "\n",
    "import dataset_compute\n",
    "import snapshot_obj"
   ]
  },
  {
   "cell_type": "code",
   "execution_count": null,
   "metadata": {},
   "outputs": [],
   "source": [
    "importlib.reload(dataset_compute)\n",
    "importlib.reload(snapshot_obj)"
   ]
  },
  {
   "cell_type": "code",
   "execution_count": null,
   "metadata": {},
   "outputs": [],
   "source": [
    "lcdm = snapshot_obj.Snapshot(\"V1_LR_fix\", 127)\n",
    "p082 = snapshot_obj.Snapshot(\"V1_LR_curvaton_p082_fix\", 127)\n",
    "p084 = snapshot_obj.Snapshot(\"V1_LR_curvaton_p084_fix\", 127)\n",
    "data = {\"lcdm\": {\"snapshot\": snapshot_obj.Snapshot(\"V1_LR_fix\", 127)},\n",
    "        \"p082\": {\"snapshot\": snapshot_obj.Snapshot(\"V1_LR_curvaton_p082_fix\", 127)},\n",
    "        \"p084\": {\"snapshot\": snapshot_obj.Snapshot(\"V1_LR_curvaton_p084_fix\", 127)}}"
   ]
  },
  {
   "cell_type": "code",
   "execution_count": null,
   "metadata": {},
   "outputs": [],
   "source": [
    "n = 10\n",
    "for entry in data.values():\n",
    "    mass = entry[\"snapshot\"].get_subhalos(\"Mass\") \\\n",
    "        * units.g.to(units.Msun) * 10**(-10)\n",
    "    idx_massive = np.argsort(-mass)[:n]\n",
    "    entry[\"Mass\"] = mass[idx_massive]\n",
    "    entry[\"GroupNumber\"] = entry[\"snapshot\"]\\\n",
    "        .get_subhalos(\"GroupNumber\").astype(int)[idx_massive]\n",
    "    entry[\"SubGroupNumber\"] = entry[\"snapshot\"]\\\n",
    "        .get_subhalos(\"SubGroupNumber\").astype(int)[idx_massive]\n",
    "    \n",
    "    stellar_mass = entry[\"snapshot\"].get_subhalos(\"Stars/Mass\") \\\n",
    "        * units.g.to(units.Msun) * 10**(-10)\n",
    "    entry[\"StellarMass\"] = stellar_mass[idx_massive]"
   ]
  },
  {
   "cell_type": "code",
   "execution_count": null,
   "metadata": {},
   "outputs": [],
   "source": [
    "fstr = \"\"\n",
    "for i in range(n):\n",
    "    fstr += \"    {}.\".format(i+1)\n",
    "    for sim in data.keys():\n",
    "        fstr += \" &  {} & {} & {:4.2f} & {:4.2f}\".format(\n",
    "            data[sim][\"GroupNumber\"][i], data[sim][\"GroupNumber\"][i], \n",
    "            data[sim][\"Mass\"][i], data[sim][\"StellarMass\"][i])\n",
    "    fstr += \" \\\\\\\\\\n\"\n",
    "print(fstr)"
   ]
  },
  {
   "cell_type": "code",
   "execution_count": null,
   "metadata": {},
   "outputs": [],
   "source": [
    "print(\"{:4.2f}\".format(masses_lcdm[0]))"
   ]
  },
  {
   "cell_type": "markdown",
   "metadata": {},
   "source": [
    "Just out of curiosity compare to my method:"
   ]
  },
  {
   "cell_type": "code",
   "execution_count": null,
   "metadata": {},
   "outputs": [],
   "source": [
    "grouped_mass = dataset_compute.group_particles_by_subhalo(lcdm, \"Masses\")[\"Masses\"]\n",
    "masses = [np.sum(m_arr) for m_arr in grouped_mass]\n",
    "print(np.sort(masses)[:10])\n",
    "print(np.argsort(masses)[:10])"
   ]
  },
  {
   "cell_type": "code",
   "execution_count": null,
   "metadata": {},
   "outputs": [],
   "source": [
    "masses = lcdm.get_subhalos(\"Mass\")\n",
    "print(np.sort(masses)[:10])\n",
    "print(np.argsort(masses)[:10])"
   ]
  },
  {
   "cell_type": "code",
   "execution_count": null,
   "metadata": {},
   "outputs": [],
   "source": []
  }
 ],
 "metadata": {
  "kernelspec": {
   "display_name": "Python 3",
   "language": "python",
   "name": "python3"
  },
  "language_info": {
   "codemirror_mode": {
    "name": "ipython",
    "version": 3
   },
   "file_extension": ".py",
   "mimetype": "text/x-python",
   "name": "python",
   "nbconvert_exporter": "python",
   "pygments_lexer": "ipython3"
  }
 },
 "nbformat": 4,
 "nbformat_minor": 4
}
