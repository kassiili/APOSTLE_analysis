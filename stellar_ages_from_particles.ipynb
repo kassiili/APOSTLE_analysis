{
 "cells": [
  {
   "cell_type": "code",
   "execution_count": null,
   "metadata": {},
   "outputs": [],
   "source": [
    "%load_ext autoreload\n",
    "%autoreload 2\n",
    "\n",
    "%config IPCompleter.greedy=True"
   ]
  },
  {
   "cell_type": "code",
   "execution_count": null,
   "metadata": {},
   "outputs": [],
   "source": [
    "import matplotlib.pyplot as plt\n",
    "import numpy as np\n",
    "import h5py\n",
    "from astropy import units\n",
    "from pathlib import Path\n",
    "import os\n",
    "import time\n",
    "\n",
    "import snapshot_obj\n",
    "import dataset_compute\n",
    "import curve_fit\n",
    "\n",
    "import importlib"
   ]
  },
  {
   "cell_type": "code",
   "execution_count": null,
   "metadata": {},
   "outputs": [],
   "source": [
    "importlib.reload(snapshot_obj)\n",
    "importlib.reload(dataset_compute)\n",
    "importlib.reload(curve_fit)"
   ]
  },
  {
   "cell_type": "markdown",
   "metadata": {},
   "source": [
    "# Subhalo stellar ages"
   ]
  },
  {
   "cell_type": "markdown",
   "metadata": {},
   "source": [
    "## Construct data dictionary\n",
    "\n",
    "Add entries for each simulation, and specify M31 and MW galaxies:"
   ]
  },
  {
   "cell_type": "code",
   "execution_count": null,
   "metadata": {
    "code_folding": []
   },
   "outputs": [],
   "source": [
    "snap_id = 127\n",
    "sim_ids = [\"V1_LR_fix\", \"V1_LR_curvaton_p082_fix\", \"V1_LR_curvaton_p084_fix\"]\n",
    "names = [\"LCDM\", \"p082\", \"p084\"]\n",
    "\n",
    "# Define M31 and MW in each simulation:\n",
    "m31 = [(1,0), (1,0), (1,0)]\n",
    "mw = [(2,0), (1,1), (1,1)]\n",
    "\n",
    "data = {}\n",
    "for name, sim_id, m31_ns, mw_ns in zip(names, sim_ids, m31, mw):\n",
    "    data[name] = {\"snapshot\": snapshot_obj.Snapshot(sim_id, snap_id, name=name),\n",
    "                  \"M31_identifier\": m31_ns,\n",
    "                  \"MW_identifier\": mw_ns}"
   ]
  },
  {
   "cell_type": "markdown",
   "metadata": {},
   "source": [
    "Choose how to distinguish between satellite and isolated galaxies:"
   ]
  },
  {
   "cell_type": "code",
   "execution_count": null,
   "metadata": {},
   "outputs": [],
   "source": [
    "distinction = \"by_gn\""
   ]
  },
  {
   "cell_type": "code",
   "execution_count": null,
   "metadata": {},
   "outputs": [],
   "source": [
    "for name, sim_data in data.items():\n",
    "    snap = sim_data[\"snapshot\"]\n",
    "    \n",
    "    # Read star particle formation times for star particles of \n",
    "    # each subhalo. Select only star particles with masses in the\n",
    "    # given range:\n",
    "    star_masses = snap.get_particles(\"Masses\", part_type=[4]) \\\n",
    "                      * units.g.to(units.Msun)\n",
    "    mask_mass_range = np.logical_and(star_masses > 10**3, \n",
    "                                     star_masses < 10**8)\n",
    "    grouped_data = dataset_compute.group_selected_particles_by_subhalo(\n",
    "        snap, \"StellarFormationTime\", \"InitialMass\", selection_mask=mask_mass_range, \n",
    "        part_type=[4])\n",
    "    \n",
    "    print(np.concatenate(grouped_data[\"StellarFormationTime\"]).size)\n",
    "    for sft in grouped_data[\"StellarFormationTime\"][:10]:\n",
    "        print(\"    \", sft.size)\n",
    "    \n",
    "    sf_z = [1/sft - 1 for sft in grouped_data[\"StellarFormationTime\"]]\n",
    "    mass_weighted_sf_z = np.array([np.sum(m*z)/np.sum(m) for m, z in \n",
    "                                   zip(grouped_data[\"InitialMass\"], sf_z)])\n",
    "    sf_z = np.array(sf_z)\n",
    "             \n",
    "    # Split into satellites:\n",
    "    if distinction == \"by_r\":\n",
    "        masks_sat, mask_isol = dataset_compute.split_satellites_by_distance(\n",
    "            snap, sim_data[\"M31_identifier\"], sim_data[\"MW_identifier\"])\n",
    "    elif distinction == \"by_gn\":\n",
    "        masks_sat, mask_isol = dataset_compute.split_satellites_by_group_number(\n",
    "            snap, sim_data[\"M31_identifier\"], sim_data[\"MW_identifier\"])\n",
    "        \n",
    "    print(name, np.sum(np.logical_or.reduce(masks_sat)))\n",
    "    mask_lum, mask_dark = dataset_compute.split_luminous(snap)\n",
    "    mask_nonzero_vmax = dataset_compute.prune_vmax(snap)\n",
    "    \n",
    "    # Add separate datasets for each subhalo to the data dictionary:\n",
    "    data[name][\"separated\"] = \\\n",
    "    {\"StellarFormationTime\": \\\n",
    "     {\"satellites\": sf_z[np.logical_and.reduce(\n",
    "        [np.logical_or.reduce(masks_sat), mask_lum, mask_nonzero_vmax]\n",
    "    )],\n",
    "      \"isolated\": sf_z[np.logical_and.reduce(\n",
    "          [mask_isol, mask_lum, mask_nonzero_vmax]\n",
    "      )]\n",
    "     }\n",
    "    }\n",
    "    \n",
    "    # Combine datasets of subhalos and add to the data dictionary:\n",
    "    data[name][\"combined\"] = \\\n",
    "    {\"StellarFormationTime\": \\\n",
    "     {\"satellites\": np.concatenate(\n",
    "        data[name][\"separated\"][\"StellarFormationTime\"][\"satellites\"]),\n",
    "      \"isolated\": np.concatenate(\n",
    "        data[name][\"separated\"][\"StellarFormationTime\"][\"isolated\"])\n",
    "     },\n",
    "     \"InitialMassWeightedBirthZ\": \\\n",
    "     {\"satellites\": mass_weighted_sf_z[np.logical_and.reduce(\n",
    "        [np.logical_or.reduce(masks_sat), mask_lum, mask_nonzero_vmax]\n",
    "    )],\n",
    "      \"isolated\": mass_weighted_sf_z[np.logical_and.reduce(\n",
    "          [mask_isol, mask_lum, mask_nonzero_vmax]\n",
    "      )]\n",
    "     }\n",
    "    }"
   ]
  },
  {
   "cell_type": "markdown",
   "metadata": {},
   "source": [
    "## Plot"
   ]
  },
  {
   "cell_type": "code",
   "execution_count": null,
   "metadata": {},
   "outputs": [],
   "source": [
    "cols = [\"grey\", \"pink\", \"lightblue\"]"
   ]
  },
  {
   "cell_type": "code",
   "execution_count": null,
   "metadata": {},
   "outputs": [],
   "source": [
    "fig, axes = plt.subplots(ncols=2, figsize=(14,6))\n",
    "plt.subplots_adjust(wspace=0.3)\n",
    "\n",
    "# Set axis:\n",
    "for ax in axes:  \n",
    "    ax.set_xlabel('$z$', fontsize=16)\n",
    "    ax.set_ylabel('Number density', fontsize=16)\n",
    "\n",
    "axes[0].invert_xaxis()\n",
    "axes[1].invert_xaxis()\n",
    "\n",
    "axes[0].set_title('Satellite galaxies')\n",
    "axes[1].set_title('Isolated galaxies')\n",
    "\n",
    "# Add scatter plots:\n",
    "sf_z = []\n",
    "weights = []\n",
    "n_bins = 5\n",
    "for i, (name, sim_data) in enumerate(data.items()):\n",
    "    sf_z.append(sim_data[\"combined\"][\"InitialMassWeightedBirthZ\"][\"satellites\"])\n",
    "    n_stars = sf_z[i].size\n",
    "    print(name, n_stars)\n",
    "    weights.append(np.ones(n_stars)/n_stars)\n",
    "\n",
    "_ = axes[0].hist(sf_z, n_bins, weights=weights, color=cols, label=data.keys())\n",
    "\n",
    "# Add scatter plots:\n",
    "sf_z = []\n",
    "weights = []\n",
    "for i, (name, sim_data) in enumerate(data.items()):\n",
    "    sf_z.append(sim_data[\"combined\"][\"InitialMassWeightedBirthZ\"][\"isolated\"])\n",
    "    n_stars = sf_z[i].size\n",
    "    print(name, n_stars)\n",
    "    weights.append(np.ones(n_stars)/n_stars)\n",
    "\n",
    "_ = axes[1].hist(sf_z, n_bins, weights=weights, color=cols)\n",
    "\n",
    "axes[0].legend()"
   ]
  },
  {
   "cell_type": "code",
   "execution_count": null,
   "metadata": {
    "code_folding": []
   },
   "outputs": [],
   "source": [
    "gns = snap.get_particles(\"GroupNumber\", part_type=[4])\n",
    "sgns = snap.get_particles(\"SubGroupNumber\", part_type=[4])\n",
    "star_masses = snap.get_particles(\"Masses\", part_type=[4]) * units.g.to(units.Msun)"
   ]
  },
  {
   "cell_type": "code",
   "execution_count": null,
   "metadata": {},
   "outputs": [],
   "source": [
    "# Select by star particle masses:\n",
    "mask_mass_range = np.logical_and(star_masses > 10**6, star_masses < 10**7)\n",
    "mask_mass_range = np.logical_and(star_masses > 10**5, star_masses < 10**6)\n",
    "grouped_data = dataset_compute.group_selected_particles_by_subhalo(\n",
    "    snap, \"StellarFormationTime\", \"Masses\", selection_mask=mask_mass_range, part_type=[4])"
   ]
  },
  {
   "cell_type": "code",
   "execution_count": null,
   "metadata": {},
   "outputs": [],
   "source": [
    "print(np.sum(mask_mass_range))"
   ]
  },
  {
   "cell_type": "code",
   "execution_count": null,
   "metadata": {},
   "outputs": [],
   "source": [
    "star_form_times_halo = np.array(grouped_data[\"StellarFormationTime\"])\n",
    "star_masses_halo = np.array(grouped_data[\"Masses\"])"
   ]
  },
  {
   "cell_type": "code",
   "execution_count": null,
   "metadata": {},
   "outputs": [],
   "source": [
    "mask_lum, mask_dark = dataset_compute.split_luminous(snap)\n",
    "mask_nonzero_vmax = dataset_compute.prune_vmax(snap)\n",
    "# Split into satellites:\n",
    "if distinction == \"by_r\":\n",
    "    masks_sat, mask_isol = dataset_compute.split_satellites_by_distance(\n",
    "        snap, m31, mw)\n",
    "elif distinction == \"by_gn\":\n",
    "    masks_sat, mask_isol = dataset_compute.split_satellites_by_group_number(\n",
    "        snap, m31, mw)\n",
    "    \n",
    "mask_sat = np.logical_and.reduce([np.logical_or.reduce(masks_sat),\n",
    "                                 mask_lum, mask_nonzero_vmax])\n",
    "mask_isol = np.logical_and.reduce([mask_isol,\n",
    "                                   mask_lum, mask_nonzero_vmax])"
   ]
  },
  {
   "cell_type": "code",
   "execution_count": null,
   "metadata": {},
   "outputs": [],
   "source": [
    "sft_all = np.concatenate(star_form_times_halo[mask_sat])"
   ]
  },
  {
   "cell_type": "code",
   "execution_count": null,
   "metadata": {},
   "outputs": [],
   "source": [
    "fig, axes = plt.subplots()\n",
    "\n",
    "n_stars_in_sats = sft_all.size\n",
    "print(n_stars_in_sats)\n",
    "axes.hist(sft_all, bins=10, weights=np.ones(n_stars_in_sats)/n_stars_in_sats)"
   ]
  },
  {
   "cell_type": "code",
   "execution_count": null,
   "metadata": {},
   "outputs": [],
   "source": []
  },
  {
   "cell_type": "code",
   "execution_count": null,
   "metadata": {},
   "outputs": [],
   "source": []
  },
  {
   "cell_type": "code",
   "execution_count": null,
   "metadata": {},
   "outputs": [],
   "source": [
    "sort = np.lexsort((sgns, gns))\n",
    "idents = np.vstack((gns[sort], sgns[sort])).T\n",
    "print(idents.shape)\n",
    "t = time.time()\n",
    "mask_halo = idents[:,1] < np.max(idents[:,1])\n",
    "idents_unique = np.unique(idents[mask_halo], axis=0)\n",
    "print(time.time()-t)\n",
    "print(idents_unique)\n",
    "print(idents_unique.shape)"
   ]
  },
  {
   "cell_type": "code",
   "execution_count": null,
   "metadata": {},
   "outputs": [],
   "source": [
    "mask_lum_subh = snap.get_subhalos(\"Stars/Mass\") > 0\n",
    "print(np.sum(mask_lum_subh))\n",
    "counts_true = snap.get_subhalos(\"SubLengthType\").astype(int)[mask_lum_subh,4]"
   ]
  },
  {
   "cell_type": "code",
   "execution_count": null,
   "metadata": {},
   "outputs": [],
   "source": [
    "t = time.time()\n",
    "counts = [0] * snap.get_subhalo_number()\n",
    "counts = [np.sum(np.logical_and(gns == ident[0], sgns == ident[1]))\n",
    "                for ident in np.unique(idents[mask_halo], axis=0)]\n",
    "print(time.time()-t)\n",
    "print(counts)"
   ]
  },
  {
   "cell_type": "code",
   "execution_count": null,
   "metadata": {},
   "outputs": [],
   "source": [
    "print(np.cumsum(counts))"
   ]
  },
  {
   "cell_type": "code",
   "execution_count": null,
   "metadata": {},
   "outputs": [],
   "source": [
    "t = time.time()\n",
    "subhalo_gns = snap.get_subhalos(\"GroupNumber\")\n",
    "subhalo_sgns = snap.get_subhalos(\"SubGroupNumber\")\n",
    "\n",
    "# Count number of entries with each group number and subgroup number\n",
    "# pairs:\n",
    "counts = [np.sum(np.logical_and(gns == gn, sgns == sgn)) \n",
    "          for gn, sgn in zip(subhalo_gns, subhalo_sgns)]\n",
    "\n",
    "subhalo_offsets = np.cumsum(counts)\n",
    "\n",
    "print(time.time() - t)"
   ]
  },
  {
   "cell_type": "code",
   "execution_count": null,
   "metadata": {},
   "outputs": [],
   "source": [
    "print(np.all(counts == counts_true))"
   ]
  },
  {
   "cell_type": "code",
   "execution_count": null,
   "metadata": {},
   "outputs": [],
   "source": [
    "print(np.histogram(star_masses, bins=[10**5, 5*10**5, 10**6, 5*10**6, 10**7, 5*10**7, 10**8]))"
   ]
  },
  {
   "cell_type": "code",
   "execution_count": null,
   "metadata": {},
   "outputs": [],
   "source": [
    "star_form_times_sat = star_form_times[mask_sat]\n",
    "star_masses_sat = star_masses[mask_sat]"
   ]
  },
  {
   "cell_type": "code",
   "execution_count": null,
   "metadata": {},
   "outputs": [],
   "source": [
    "# Check that no star particles are in dark halos:\n",
    "empty = np.concatenate(np.array(grouped_data[\"Masses\"])[mask_dark])\n",
    "\n",
    "empty.size"
   ]
  },
  {
   "cell_type": "code",
   "execution_count": null,
   "metadata": {},
   "outputs": [],
   "source": [
    "gns = snap.get_subhalos(\"GroupNumber\")\n",
    "sgns = snap.get_subhalos(\"SubGroupNumber\")\n",
    "sort, split = dataset_compute.sort_and_split_by_subhalo(gns, sgns)\n",
    "print(np.split(gns, split))"
   ]
  },
  {
   "cell_type": "code",
   "execution_count": null,
   "metadata": {},
   "outputs": [],
   "source": [
    "print(split.size)"
   ]
  },
  {
   "cell_type": "code",
   "execution_count": null,
   "metadata": {},
   "outputs": [],
   "source": []
  }
 ],
 "metadata": {
  "kernelspec": {
   "display_name": "Python 3",
   "language": "python",
   "name": "python3"
  },
  "language_info": {
   "codemirror_mode": {
    "name": "ipython",
    "version": 3
   },
   "file_extension": ".py",
   "mimetype": "text/x-python",
   "name": "python",
   "nbconvert_exporter": "python",
   "pygments_lexer": "ipython3"
  }
 },
 "nbformat": 4,
 "nbformat_minor": 4
}
