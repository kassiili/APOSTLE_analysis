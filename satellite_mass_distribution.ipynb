{
 "cells": [
  {
   "cell_type": "code",
   "execution_count": null,
   "metadata": {},
   "outputs": [],
   "source": [
    "%load_ext autoreload\n",
    "%autoreload 2\n",
    "\n",
    "%config IPCompleter.greedy=True"
   ]
  },
  {
   "cell_type": "markdown",
   "metadata": {},
   "source": [
    "# Stellar mass vs. $v_\\text{max}$\n",
    "\n",
    "First, imports:"
   ]
  },
  {
   "cell_type": "code",
   "execution_count": null,
   "metadata": {},
   "outputs": [],
   "source": [
    "import matplotlib.pyplot as plt\n",
    "import numpy as np\n",
    "import h5py\n",
    "from astropy import units\n",
    "from pathlib import Path\n",
    "import os\n",
    "\n",
    "import snapshot_obj\n",
    "import curve_fit\n",
    "import dataset_compute\n",
    "\n",
    "import importlib"
   ]
  },
  {
   "cell_type": "code",
   "execution_count": null,
   "metadata": {},
   "outputs": [],
   "source": [
    "importlib.reload(snapshot_obj)\n",
    "importlib.reload(curve_fit)\n",
    "importlib.reload(dataset_compute)"
   ]
  },
  {
   "cell_type": "markdown",
   "metadata": {},
   "source": [
    "## Get data\n",
    "\n",
    "Next, I retrieve the data. We are only interested in luminous halos. Also, there might be some spurious cases with odd values of $v_\\text{max}$."
   ]
  },
  {
   "cell_type": "code",
   "execution_count": null,
   "metadata": {
    "code_folding": []
   },
   "outputs": [],
   "source": [
    "snap_id = 127\n",
    "sim_ids = [\"V1_LR_fix\", \"V1_LR_curvaton_p082_fix\", \"V1_LR_curvaton_p084_fix\"]\n",
    "names = [\"LCDM\", \"p082\", \"p084\"]\n",
    "data = {name : {} for name in names}\n",
    "z = {name: 0 for name in names}\n",
    "for sim_id, name in zip(sim_ids, names):\n",
    "    # Get data:\n",
    "    snap = snapshot_obj.Snapshot(sim_id, snap_id, name)\n",
    "    z[name] = snap.get_attribute(\"Redshift\", \"Header\")\n",
    "    max_point = snap.get_subhalos(\"Max_Vcirc\", \"Extended\")\n",
    "    vmax = max_point[:,0] * units.cm.to(units.km)\n",
    "    rmax = max_point[:,1] * units.cm.to(units.kpc)\n",
    "    \n",
    "    # Split into satellites:\n",
    "    vmax_M31 = dataset_compute.get_satellites(snap, vmax,\n",
    "                                                    galaxy=1, split_luminous=True)\n",
    "    vmax_MW = dataset_compute.get_satellites(snap, vmax,\n",
    "                                                   galaxy=2, split_luminous=True)\n",
    "\n",
    "    # Add to dictionary:\n",
    "    data[name][\"M31\"] = {\"Vmax\" : vmax_M31}\n",
    "    data[name][\"MW\"] = {\"Vmax\" : vmax_MW}\n",
    "    \n",
    "    for gal_key, gal_dict in data[name].items():\n",
    "        data[name][gal_key]['sat_count'] = {}\n",
    "        for lum_key, arr in gal_dict[\"Vmax\"].items():\n",
    "            # Sort and add ~zero point to continue line to the side of the figure:\n",
    "            arr = np.sort(arr)[::-1]\n",
    "            data[name][gal_key]['Vmax'][lum_key] = \\\n",
    "            np.concatenate((arr, np.array([0.01])))\n",
    "\n",
    "            data[name][gal_key]['sat_count'][lum_key] = \\\n",
    "            np.concatenate((np.arange(1, arr.size+1), np.array([arr.size])))"
   ]
  },
  {
   "cell_type": "code",
   "execution_count": null,
   "metadata": {},
   "outputs": [],
   "source": [
    "# Check that all redshifts are the same:\n",
    "zs = list(z.values())\n",
    "print(zs)\n",
    "print(np.all(zs == zs[0]))"
   ]
  },
  {
   "cell_type": "markdown",
   "metadata": {},
   "source": [
    "## Plot"
   ]
  },
  {
   "cell_type": "code",
   "execution_count": null,
   "metadata": {},
   "outputs": [],
   "source": [
    "# Set some parameters:\n",
    "x_down = 7; x_up = 100\n",
    "y_down = 1; y_up = 500\n",
    "\n",
    "# Set colors:\n",
    "color = [\"black\", \"red\", \"blue\", \"green\"]"
   ]
  },
  {
   "cell_type": "code",
   "execution_count": null,
   "metadata": {},
   "outputs": [],
   "source": [
    "# Construct saving location:\n",
    "filename = 'satellite_mass_distribution'\n",
    "for name in names:\n",
    "    filename += \"_{}\".format(name)\n",
    "filename += \"{}.png\".format(snap_id)\n",
    "    \n",
    "home = os.path.dirname(snapshot_obj.__file__)\n",
    "path = os.path.join(home,\"Figures\")\n",
    "filename = os.path.join(path, filename)"
   ]
  },
  {
   "cell_type": "code",
   "execution_count": null,
   "metadata": {},
   "outputs": [],
   "source": [
    "fig, axes = plt.subplots(ncols=2, figsize=(14,6))\n",
    "plt.subplots_adjust(wspace=0.3)\n",
    "\n",
    "# Set axis:\n",
    "for ax in axes:\n",
    "    ax.set_xscale('log')\n",
    "    ax.set_yscale('log')\n",
    "    ax.set_xlim(x_down, x_up)\n",
    "    ax.set_ylim(y_down, y_up)\n",
    "    ax.set_xlabel('$v_{\\mathrm{max}}[\\mathrm{km s^{-1}}]$', fontsize=16)\n",
    "    ax.set_ylabel('$N(>v_{\\mathrm{max}})$', fontsize=16)\n",
    "\n",
    "# Add redshift:\n",
    "z_x = 10 ** (np.log10(x_up) - 9/10 * (np.log10(x_up)-np.log10(x_down)))\n",
    "z_y = 10 ** (np.log10(y_up) - 1/10 * (np.log10(y_up)-np.log10(y_down)))\n",
    "axes[0].text(z_x, z_y, \"z = {}\".format(z[\"LCDM\"]), )\n",
    "    \n",
    "axes[0].set_title('Andromeda')\n",
    "axes[1].set_title('Milky Way')\n",
    "\n",
    "# Add scatter plots:\n",
    "for i, (name, entry) in enumerate(data.items()):\n",
    "    x = entry['M31']['Vmax']['luminous']\n",
    "    y = entry['M31']['sat_count']['luminous']\n",
    "    axes[0].plot(x, y, c=color[i], label='{} luminous'.format(name))\n",
    "    x = entry['M31']['Vmax']['dark']\n",
    "    y = entry['M31']['sat_count']['dark']\n",
    "    axes[0].plot(x, y, c=color[i], linestyle='--', label='{} dark'.format(name))\n",
    "    \n",
    "    x = entry['MW']['Vmax']['luminous']\n",
    "    y = entry['MW']['sat_count']['luminous']\n",
    "    axes[1].plot(x, y, c=color[i], label='{} luminous'.format(name))\n",
    "    x = entry['MW']['Vmax']['dark']\n",
    "    y = entry['MW']['sat_count']['dark']\n",
    "    axes[1].plot(x, y, c=color[i], linestyle='--', label='{} dark'.format(name))\n",
    "\n",
    "axes[0].legend(loc='upper right')\n",
    "plt.tight_layout()\n",
    "\n",
    "plt.savefig(filename, dpi=200)"
   ]
  },
  {
   "cell_type": "code",
   "execution_count": null,
   "metadata": {},
   "outputs": [],
   "source": []
  }
 ],
 "metadata": {
  "kernelspec": {
   "display_name": "Python 3",
   "language": "python",
   "name": "python3"
  },
  "language_info": {
   "codemirror_mode": {
    "name": "ipython",
    "version": 3
   },
   "file_extension": ".py",
   "mimetype": "text/x-python",
   "name": "python",
   "nbconvert_exporter": "python",
   "pygments_lexer": "ipython3"
  }
 },
 "nbformat": 4,
 "nbformat_minor": 4
}
