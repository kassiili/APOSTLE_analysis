{
 "cells": [
  {
   "cell_type": "code",
   "execution_count": null,
   "metadata": {},
   "outputs": [],
   "source": [
    "%load_ext autoreload\n",
    "%autoreload 2\n",
    "\n",
    "%config IPCompleter.greedy=True"
   ]
  },
  {
   "cell_type": "code",
   "execution_count": null,
   "metadata": {},
   "outputs": [],
   "source": [
    "import numpy as np\n",
    "import os\n",
    "import matplotlib.pyplot as plt\n",
    "from astropy import units\n",
    "from astropy.constants import G\n",
    "import importlib\n",
    "\n",
    "import dataset_compute\n",
    "import snapshot_obj"
   ]
  },
  {
   "cell_type": "code",
   "execution_count": null,
   "metadata": {},
   "outputs": [],
   "source": [
    "importlib.reload(dataset_compute)\n",
    "importlib.reload(snapshot_obj)"
   ]
  },
  {
   "cell_type": "code",
   "execution_count": null,
   "metadata": {},
   "outputs": [],
   "source": [
    "data = {\"V1_LR_fix\": {}, \"V1_LR_curvaton_p082_fix\": {}, \"V1_LR_curvaton_p084_fix\": {}}"
   ]
  },
  {
   "cell_type": "code",
   "execution_count": null,
   "metadata": {},
   "outputs": [],
   "source": [
    "for sim_id in data.keys():\n",
    "    snap = snapshot_obj.Snapshot(sim_id, 127)\n",
    "    data[sim_id][\"Snapshot\"] = snap\n",
    "    data[sim_id][\"CentreOfPotential\"] = snap.get_subhalos(\"CentreOfPotential\") * units.cm.to(units.Mpc)\n",
    "    #coords = dataset_compute.group_particles_by_subhalo(snap, \"Coordinates\")[\"Coordinates\"]\n",
    "    #data[sim_id][\"Coordinates\"] = [arr * units.cm.to(units.Mpc) for arr in coords]\n",
    "    \n",
    "    gns = snap.get_particles(\"GroupNumber\")\n",
    "    sgns = snap.get_particles(\"SubGroupNumber\")\n",
    "    mask1 = np.logical_and(gns==1, sgns==0)\n",
    "    mask2 = np.logical_and(gns==2, sgns==0)\n",
    "    coords = snap.get_particles(\"Coordinates\") * units.cm.to(units.Mpc)\n",
    "    data[sim_id][\"Coordinates\"] = {1: coords[mask1], 2: coords[mask2]}"
   ]
  },
  {
   "cell_type": "code",
   "execution_count": null,
   "metadata": {},
   "outputs": [],
   "source": [
    "    for ax_col in axes:\n",
    "        ax_col[0].set_xlim(7,10)\n",
    "        ax_col[0].set_ylim(16,22)\n",
    "        ax_col[1].set_xlim(7,10)\n",
    "        ax_col[1].set_ylim(83,85)\n",
    "        ax_col[2].set_xlim(16,22)\n",
    "        ax_col[2].set_ylim(83,85)\n"
   ]
  },
  {
   "cell_type": "code",
   "execution_count": null,
   "metadata": {},
   "outputs": [],
   "source": [
    "fig, axes = plt.subplots(nrows=3, ncols=3)\n",
    "plt.subplots_adjust(wspace=0.8)\n",
    "plt.subplots_adjust(hspace=0.8)\n",
    "\n",
    "for i, (sim_id, sim_data) in enumerate(data.items()):\n",
    "    snap = sim_data[\"Snapshot\"]\n",
    "    m31_idx = snap.index_of_halo(1,0)\n",
    "    mw_idx = snap.index_of_halo(2,0)\n",
    "    #third_idx = snap.index_of_halo(3,0)\n",
    "    #fourth_idx = snap.index_of_halo(4,0)\n",
    "    coords = sim_data[\"Coordinates\"]\n",
    "    cops = sim_data[\"CentreOfPotential\"]\n",
    "    print(np.linalg.norm(cops[m31_idx] - cops[mw_idx]))\n",
    "\n",
    "    for ax_col in axes:\n",
    "        ax_col[0].set_xlim(7,10)\n",
    "        ax_col[0].set_ylim(16,22)\n",
    "        ax_col[1].set_xlim(7,10)\n",
    "        ax_col[1].set_ylim(83,85)\n",
    "        ax_col[2].set_xlim(16,22)\n",
    "        ax_col[2].set_ylim(83,85)\n",
    "\n",
    "    for j, ax_set in enumerate([[\"x\", \"y\", 0, 1],\n",
    "                                [\"x\", \"z\", 0, 2],\n",
    "                                [\"y\", \"z\", 1, 2]]):\n",
    "        axes[i,j].set_xlabel(\"${}$\".format(ax_set[0]))\n",
    "        axes[i,j].set_ylabel(\"${}$\".format(ax_set[1]))\n",
    "        \n",
    "        #axes[i,j].scatter(coords[m31_idx][:, ax_set[2]], coords[m31_idx][:, ax_set[3]], c='pink', s=0.1)\n",
    "        #axes[i,j].scatter(cops[m31_idx, ax_set[2]], cops[m31_idx, ax_set[3]], c='red', s=1)\n",
    "        #axes[i,j].scatter(coords[mw_idx][:, ax_set[2]], coords[mw_idx][:, ax_set[3]], c='lightblue', s=0.1)\n",
    "        #axes[i,j].scatter(cops[mw_idx, ax_set[2]], cops[mw_idx, ax_set[3]], c='blue', s=1)\n",
    "        \n",
    "        #axes[i,j].scatter(coords[third_idx][:, ax_set[2]], coords[third_idx][:, ax_set[3]], c='lightgreen', s=0.1)\n",
    "        #axes[i,j].scatter(cops[third_idx, ax_set[2]], cops[third_idx, ax_set[3]], c='green', s=1)\n",
    "        #axes[i,j].scatter(coords[fourth_idx][:, ax_set[2]], coords[fourth_idx][:, ax_set[3]], c='grey', s=0.1)\n",
    "        #axes[i,j].scatter(cops[fourth_idx, ax_set[2]], cops[fourth_idx, ax_set[3]], c='black', s=1)\n",
    "        \n",
    "        \n",
    "        axes[i,j].scatter(coords[1][:, ax_set[2]], coords[1][:, ax_set[3]], c='pink', s=0.1)\n",
    "        axes[i,j].scatter(cops[m31_idx, ax_set[2]], cops[m31_idx, ax_set[3]], c='red', s=1)\n",
    "        axes[i,j].scatter(coords[2][:, ax_set[2]], coords[2][:, ax_set[3]], c='lightblue', s=0.1)\n",
    "        axes[i,j].scatter(cops[mw_idx, ax_set[2]], cops[mw_idx, ax_set[3]], c='blue', s=1)\n",
    "        \n",
    "        \n",
    "\n",
    "filename = 'main_halo_coords_2.png'\n",
    "home = os.path.dirname(snapshot_obj.__file__)\n",
    "path = os.path.join(home,\"Figures\")\n",
    "filename = os.path.join(path, filename)\n",
    "plt.savefig(filename, dpi=300)"
   ]
  },
  {
   "cell_type": "code",
   "execution_count": null,
   "metadata": {},
   "outputs": [],
   "source": []
  }
 ],
 "metadata": {
  "kernelspec": {
   "display_name": "Python 3",
   "language": "python",
   "name": "python3"
  },
  "language_info": {
   "codemirror_mode": {
    "name": "ipython",
    "version": 3
   },
   "file_extension": ".py",
   "mimetype": "text/x-python",
   "name": "python",
   "nbconvert_exporter": "python",
   "pygments_lexer": "ipython3"
  }
 },
 "nbformat": 4,
 "nbformat_minor": 4
}
