{
 "cells": [
  {
   "cell_type": "code",
   "execution_count": 1,
   "metadata": {},
   "outputs": [],
   "source": [
    "%load_ext autoreload\n",
    "%autoreload 2\n",
    "\n",
    "#%config IPCompleter.greedy=True"
   ]
  },
  {
   "cell_type": "markdown",
   "metadata": {},
   "source": [
    "# Rotation curves\n",
    "\n",
    "First, imports:"
   ]
  },
  {
   "cell_type": "code",
   "execution_count": 2,
   "metadata": {},
   "outputs": [],
   "source": [
    "import matplotlib.pyplot as plt\n",
    "import numpy as np\n",
    "import h5py\n",
    "from astropy import units\n",
    "from pathlib import Path\n",
    "import os\n",
    "import astropy.units as u\n",
    "from astropy.constants import G\n",
    "\n",
    "import snapshot_obj \n",
    "import curve_fit\n",
    "import dataset_compute\n",
    "\n",
    "import importlib"
   ]
  },
  {
   "cell_type": "code",
   "execution_count": 3,
   "metadata": {},
   "outputs": [
    {
     "data": {
      "text/plain": [
       "<module 'dataset_compute' from '/home/kasper/Curvaton_Simulations/APOSTLE_analysis/dataset_compute.py'>"
      ]
     },
     "execution_count": 3,
     "metadata": {},
     "output_type": "execute_result"
    }
   ],
   "source": [
    "importlib.reload(snapshot_obj)\n",
    "importlib.reload(curve_fit)\n",
    "importlib.reload(dataset_compute)"
   ]
  },
  {
   "cell_type": "code",
   "execution_count": 4,
   "metadata": {},
   "outputs": [],
   "source": [
    "def compute_rotation_curve2(snapshot,gn,sgn,part_type=[],jump=10):\n",
    "    # Get centre of potential:\n",
    "    SGNs = snapshot.get_subhalos(\"SubGroupNumber\")\n",
    "    GNs = snapshot.get_subhalos(\"GroupNumber\")\n",
    "    COPs = snapshot.get_subhalos(\"CentreOfPotential\")\n",
    "\n",
    "    halo_mask = np.logical_and(SGNs == sgn,GNs == gn)\n",
    "    cop = COPs[halo_mask]\n",
    " \n",
    "    # Get indeces of particles of halo:\n",
    "    IDs = snapshot.get_subhalos_IDs(part_type=part_type)\n",
    "    IDs = IDs[halo_mask][0]\n",
    "    print(len(IDs))\n",
    "    IDs_from_pd = snapshot.get_particles(\"ParticleIDs\") #,part_type=part_type)\n",
    "    intersect,i,idxs = np.intersect1d(IDs,IDs_from_pd,return_indices=True,assume_unique=True)\n",
    "\n",
    "    # Get coordinates and masses of the halo:\n",
    "    coords = snapshot.get_particles(\"Coordinates\")[idxs]\n",
    "    mass = snapshot.get_particle_masses()[idxs]\n",
    "    print(mass.size)\n",
    "    \n",
    "    # Calculate distance to centre and cumulative mass:\n",
    "    r = np.linalg.norm(coords - cop, axis=1)\n",
    "    sorting = np.argsort(r)\n",
    "    r = r[sorting]\n",
    "    cmass = np.cumsum(mass[sorting])\n",
    "   \n",
    "    # Clean up:\n",
    "    mask = r>0; r=r[mask]; cumass=cmass[mask]\n",
    "    r = r[jump::jump]\n",
    "    cumass = cumass[jump::jump]\n",
    "    \n",
    "    # Compute velocity.\n",
    "    myG = G.to(u.cm**3 * u.g**-1 * u.s**-2).value\n",
    "    v_circ = np.sqrt((myG * cumass) / r)\n",
    "\n",
    "    return r,v_circ"
   ]
  },
  {
   "cell_type": "markdown",
   "metadata": {},
   "source": [
    "## Get data"
   ]
  },
  {
   "cell_type": "code",
   "execution_count": 5,
   "metadata": {},
   "outputs": [],
   "source": [
    "# Which halo:\n",
    "gn = 1; sgn = 0\n",
    "\n",
    "# Get LCDM data:\n",
    "LCDM = snapshot_obj.Snapshot(\"CDM_V1_LR\",127)"
   ]
  },
  {
   "cell_type": "code",
   "execution_count": 6,
   "metadata": {},
   "outputs": [],
   "source": [
    "# Read halo:\n",
    "fnum = LCDM.file_of_halo(gn,sgn)\n",
    "SGNs = LCDM.get_subhalos(\"SubGroupNumber\",fnums=[fnum])\n",
    "GNs = LCDM.get_subhalos(\"GroupNumber\",fnums=[fnum])\n",
    "\n",
    "vmax = LCDM.get_subhalos(\"Vmax\",fnums=[fnum]) / 100000 \n",
    "                                                    # cm/s to km/s \n",
    "rmax = LCDM.get_subhalos(\"VmaxRadius\",fnums=[fnum]) \\\n",
    "            * u.cm.to(u.kpc)\n",
    "\n",
    "# Select halo:\n",
    "halo_mask = np.logical_and(SGNs == sgn,GNs == gn)\n",
    "vmax = vmax[halo_mask]\n",
    "rmax = rmax[halo_mask]"
   ]
  },
  {
   "cell_type": "code",
   "execution_count": 7,
   "metadata": {},
   "outputs": [],
   "source": [
    "# V1kpc:\n",
    "SGNs = LCDM.get_subhalos(\"SubGroupNumber\")\n",
    "GNs = LCDM.get_subhalos( \"GroupNumber\")\n",
    "halo_mask = np.logical_and(SGNs == sgn,GNs == gn)\n",
    "v1kpc = LCDM.get_subhalos(\"V1kpc\") \n",
    "v1kpc = v1kpc[halo_mask]"
   ]
  },
  {
   "cell_type": "code",
   "execution_count": 9,
   "metadata": {},
   "outputs": [
    {
     "name": "stdout",
     "output_type": "stream",
     "text": [
      "gas\n",
      "83932\n",
      "83932\n",
      "8393\n",
      "dm\n",
      "207858\n",
      "207858\n",
      "20785\n",
      "stars\n",
      "48096\n",
      "48096\n",
      "4809\n",
      "BHs\n",
      "40\n",
      "40\n",
      "3\n"
     ]
    }
   ],
   "source": [
    "r = {}\n",
    "v_circ = {}\n",
    "pts = {'gas' : 0, 'dm' : 1, 'stars' : 4, 'BHs' : 5}\n",
    "#pts = {'gas' : [0], 'dm' : [1], 'stars' : [4], 'BHs' : [5]}\n",
    "# Read particles:\n",
    "for key,pt in pts.items():\n",
    "    print(key)\n",
    "    r_pt, v_circ_pt = compute_rotation_curve2(LCDM, gn, sgn, part_type=pt)\n",
    "    print(r_pt.size)\n",
    "    r[key] = r_pt * u.cm.to(u.kpc)\n",
    "    v_circ[key] = v_circ_pt * u.cm.to(u.km) \n"
   ]
  },
  {
   "cell_type": "code",
   "execution_count": 10,
   "metadata": {
    "code_folding": []
   },
   "outputs": [
    {
     "data": {
      "image/png": "[encoded data removed]",
      "text/plain": [
       "<Figure size 432x288 with 1 Axes>"
      ]
     },
     "metadata": {
      "needs_background": "light"
     },
     "output_type": "display_data"
    }
   ],
   "source": [
    "fig, axes = plt.subplots()\n",
    "\n",
    "# Set axes:\n",
    "#axes.set_xscale('log')\n",
    "#axes.set_yscale('log')\n",
    "#axes.set_xlim(0,50)\n",
    "#axes.set_ylim(170,220)\n",
    "\n",
    "# Set labels:\n",
    "axes.set_xlabel('$r[\\mathrm{kpc}]$', fontsize=16)\n",
    "axes.set_ylabel('$v_{\\mathrm{circ}}[\\mathrm{kms^{-1}}]$', fontsize=16)\n",
    "\n",
    "# Galaxy text:\n",
    "axes.set_title('Rotation curve: GN={}, SGN={}'.format(gn,sgn))\n",
    "\n",
    "for key in pts.keys():\n",
    "    axes.plot(r[key], v_circ[key], label=key)\n",
    "axes.axhline(vmax,linestyle='dashed')\n",
    "axes.axvline(rmax,linestyle='dashed')\n",
    "axes.axhline(v1kpc,linestyle='dashed',c='black')\n",
    "axes.axvline(1,linestyle='dashed',c='black')\n",
    "    \n",
    "plt.legend()\n",
    "plt.tight_layout()\n",
    "\n",
    "\n",
    "# Save figure:\n",
    "#\n",
    "#filename = 'cumulDistByVmax_evol_{}.png'.format(galaxy)\n",
    "#\n",
    "#home = os.path.dirname(snapshot_obj.__file__)\n",
    "#path = os.path.join(home,\"Figures\")\n",
    "#\n",
    "## If the directory does not exist, create it\n",
    "#if not os.path.exists(path):\n",
    "#    os.makedirs(path)\n",
    "#plt.savefig(os.path.join(path,filename), dpi=200)"
   ]
  },
  {
   "cell_type": "code",
   "execution_count": null,
   "metadata": {},
   "outputs": [],
   "source": []
  }
 ],
 "metadata": {
  "kernelspec": {
   "display_name": "Python 3",
   "language": "python",
   "name": "python3"
  },
  "language_info": {
   "codemirror_mode": {
    "name": "ipython",
    "version": 3
   },
   "file_extension": ".py",
   "mimetype": "text/x-python",
   "name": "python",
   "nbconvert_exporter": "python",
   "pygments_lexer": "ipython3",
   "version": "3.7.6"
  }
 },
 "nbformat": 4,
 "nbformat_minor": 4
}
