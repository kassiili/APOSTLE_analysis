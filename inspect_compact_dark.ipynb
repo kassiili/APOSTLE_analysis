{
 "cells": [
  {
   "cell_type": "code",
   "execution_count": null,
   "metadata": {},
   "outputs": [],
   "source": [
    "%load_ext autoreload\n",
    "%autoreload 2\n",
    "\n",
    "%config IPCompleter.greedy=True"
   ]
  },
  {
   "cell_type": "code",
   "execution_count": null,
   "metadata": {},
   "outputs": [],
   "source": [
    "import matplotlib.pyplot as plt\n",
    "import numpy as np\n",
    "import h5py\n",
    "from astropy import units\n",
    "from pathlib import Path\n",
    "import os\n",
    "import time\n",
    "\n",
    "import snapshot_obj\n",
    "import dataset_compute\n",
    "import curve_fit\n",
    "\n",
    "import importlib"
   ]
  },
  {
   "cell_type": "code",
   "execution_count": null,
   "metadata": {},
   "outputs": [],
   "source": [
    "importlib.reload(snapshot_obj)\n",
    "importlib.reload(dataset_compute)\n",
    "importlib.reload(curve_fit)"
   ]
  },
  {
   "cell_type": "markdown",
   "metadata": {},
   "source": [
    "# Massive compact non-luminous halos\n",
    "\n",
    "Here, we inspect the properties of the clump of subhalos in the $\\Lambda$CDM simulation with $v_\\text{max} \\sim v_\\text{1kpc} > 35 \\text{km/s}$."
   ]
  },
  {
   "cell_type": "code",
   "execution_count": null,
   "metadata": {},
   "outputs": [],
   "source": [
    "snap = snapshot_obj.Snapshot(\"V1_LR_fix\", 127)\n",
    "max_point = snap.get_subhalos(\"Max_Vcirc\", \"Extended\")\n",
    "vmax = max_point[:,0] * units.cm.to(units.km)\n",
    "v1kpc = snap.get_subhalos(\"V1kpc\", \"Extended\") * units.cm.to(units.km)"
   ]
  },
  {
   "cell_type": "code",
   "execution_count": null,
   "metadata": {},
   "outputs": [],
   "source": [
    "masks_sat, mask_isol = dataset_compute.split_satellites_by_group_number(\n",
    "    snap, (1,0), (2,0))\n",
    "mask_dark = dataset_compute.split_luminous(snap)[1]\n",
    "mask_pecul = np.logical_and(vmax > 35, np.abs(vmax-v1kpc)/vmax < 0.1)\n",
    "mask_pecul = np.logical_and.reduce([mask_isol, mask_dark, mask_pecul])\n",
    "mask_ref = np.logical_and(vmax > 30, vmax < 50)\n",
    "mask_ref = np.logical_and.reduce([mask_isol, mask_dark, mask_ref])"
   ]
  },
  {
   "cell_type": "code",
   "execution_count": null,
   "metadata": {},
   "outputs": [],
   "source": [
    "masstype = snap.get_subhalos(\"MassType\") * units.g.to(units.Msun)\n",
    "for m_arr in masstype[mask_pecul]:\n",
    "    print([\"{:.2E}\".format(m) for m in m_arr])"
   ]
  },
  {
   "cell_type": "markdown",
   "metadata": {},
   "source": [
    "## Plot the rotation curves"
   ]
  },
  {
   "cell_type": "markdown",
   "metadata": {},
   "source": [
    "Let us first see how many there are of these peculiar halos, and compare that to the number of all halos in the mass range:"
   ]
  },
  {
   "cell_type": "code",
   "execution_count": null,
   "metadata": {},
   "outputs": [],
   "source": [
    "print(np.sum(mask_pecul))\n",
    "print(np.sum(mask_ref))\n",
    "print(np.sum(np.logical_and(mask_pecul, mask_ref)))"
   ]
  },
  {
   "cell_type": "markdown",
   "metadata": {},
   "source": [
    "We see that there seem to be two kinds of rotation curves in the figure belos -- very compact ones, which constitute the clump in the V1kpc plots, and more regular looking ones."
   ]
  },
  {
   "cell_type": "code",
   "execution_count": null,
   "metadata": {},
   "outputs": [],
   "source": [
    "rot_curves = snap.get_subhalos('Vcirc', group='Extended/RotationCurve/All')\n",
    "sub_offset = snap.get_subhalos('SubOffset', group='Extended/RotationCurve/All')\n",
    "\n",
    "fig, axes = plt.subplots()\n",
    "axes.set_xlim(-5, 20)\n",
    "\n",
    "idxs = np.arange(mask_pecul.size)[mask_ref]\n",
    "for idx in idxs:\n",
    "    v_circ = rot_curves[sub_offset[idx]:sub_offset[idx+1],0] * units.cm.to(units.km)\n",
    "    radii = rot_curves[sub_offset[idx]:sub_offset[idx+1],1] * units.cm.to(units.kpc)\n",
    "    axes.plot(radii, v_circ, c='black')\n",
    "\n",
    "idxs = np.arange(mask_pecul.size)[mask_pecul]\n",
    "for idx in idxs:\n",
    "    v_circ = rot_curves[sub_offset[idx]:sub_offset[idx+1],0] * units.cm.to(units.km)\n",
    "    radii = rot_curves[sub_offset[idx]:sub_offset[idx+1],1] * units.cm.to(units.kpc)\n",
    "    axes.plot(radii, v_circ, c='gray') \n",
    "    \n",
    "#plt.savefig(\"odd_dark_compact_rotation_curves.png\")"
   ]
  },
  {
   "cell_type": "code",
   "execution_count": null,
   "metadata": {},
   "outputs": [],
   "source": [
    "LG = dataset_compute.compute_LG_centre(snap, (1,0), (2,0))\n",
    "dist_to_lg = dataset_compute.distance_to_point(snap, LG) * units.cm.to(units.kpc)\n",
    "print(dist_to_lg[mask_pecul])"
   ]
  },
  {
   "cell_type": "code",
   "execution_count": null,
   "metadata": {},
   "outputs": [],
   "source": [
    "cum_mass, radii = dataset_compute.mass_accumulation_to_array(snap)\n",
    "radii = radii[mask_pecul] * units.cm.to(units.kpc)"
   ]
  },
  {
   "cell_type": "code",
   "execution_count": null,
   "metadata": {},
   "outputs": [],
   "source": [
    "print(type(radii))\n",
    "print(type(radii[0]))\n",
    "print(type(radii[0][0]))\n",
    "print(radii[0][0][0])\n"
   ]
  },
  {
   "cell_type": "code",
   "execution_count": null,
   "metadata": {},
   "outputs": [],
   "source": [
    "mass = snap.get_subhalos(\"Mass\")[mask_pecul] * units.g.to(units.Msun)\n",
    "for r, m in zip(radii, mass):\n",
    "    print(\"{:.2E}\".format(m))\n",
    "    print(r.shape)\n",
    "    print(type(r[1]))\n",
    "    mask = (r < 1)\n",
    "    print(mask)\n",
    "    print(r[r < 1])"
   ]
  },
  {
   "cell_type": "code",
   "execution_count": null,
   "metadata": {},
   "outputs": [],
   "source": [
    "cm, r = dataset_compute.compute_mass_accumulation(snap, part_type=[1])\n",
    "print(type(cm), type(r))\n",
    "print(len(cm), len(r))\n",
    "print(type(cm[0]), type(r[0]))\n",
    "print(cm[0].size, r[0].size)\n",
    "print(type(cm[0][0]), type(r[0][0]))"
   ]
  },
  {
   "cell_type": "code",
   "execution_count": null,
   "metadata": {},
   "outputs": [],
   "source": [
    "cm_data = snap.get_subhalos(\"MassAccum\", group=\"Extended\")\n",
    "print(type(cm_data))\n",
    "print(cm_data.shape)"
   ]
  },
  {
   "cell_type": "code",
   "execution_count": null,
   "metadata": {},
   "outputs": [],
   "source": [
    "pts = snap.get_particles(\"PartType\", part_type=[0,1,2,3,4,5])\n",
    "masses = snap.get_particles(\"Masses\", part_type=[0,1,2,3,4,5])\n",
    "\n",
    "for pt in [0,1,2,3,4,5]:\n",
    "    mask_pt = (pts == pt)\n",
    "    print(np.sum(mask_pt))\n",
    "\n",
    "    print(np.all(masses[mask_pt] == masses[mask_pt][0]))"
   ]
  },
  {
   "cell_type": "code",
   "execution_count": null,
   "metadata": {},
   "outputs": [],
   "source": [
    "pts = snap.get_particles(\"PartType\", part_type=[0,1,4,5])\n",
    "sum = 0\n",
    "for pt in [0,1,4,5]:\n",
    "    mask_pt = (pts == pt)\n",
    "    grouped_masses = dataset_compute.group_selected_particles_by_subhalo(snap, \"Masses\", selection_mask=mask_pt)\n",
    "    n = np.concatenate(grouped_masses[\"Masses\"]).size\n",
    "    sum += n\n",
    "    print(n)\n",
    "print(sum)"
   ]
  },
  {
   "cell_type": "code",
   "execution_count": null,
   "metadata": {},
   "outputs": [],
   "source": [
    "part_type = [0,1,4,5]\n",
    "grouped_data = dataset_compute.group_selected_particles_by_subhalo(\n",
    "    snap, 'Coordinates', 'Masses', part_type=part_type)\n",
    "print(np.concatenate(grouped_data[\"Masses\"]).size)"
   ]
  },
  {
   "cell_type": "code",
   "execution_count": null,
   "metadata": {},
   "outputs": [],
   "source": [
    "pts = {'all': None, 'gas': [0], 'dm': [1]}\n",
    "v_circ = {}\n",
    "radii = {}\n",
    "\n",
    "for key, pt in pts.items():\n",
    "    if pt is None:\n",
    "        v, r = dataset_compute.compute_rotation_curves(snap, n_soft=1)\n",
    "    else:\n",
    "        v, r = dataset_compute.compute_rotation_curves(snap, n_soft=1, part_type=pt)\n",
    "\n",
    "    v_circ[key] = v[mask_pecul] * units.cm.to(units.km)\n",
    "    radii[key] = r[mask_pecul] * units.cm.to(units.kpc)\n",
    "    \n",
    "for pt in pts.keys():\n",
    "    print(pt)\n",
    "    for r in radii[pt]:\n",
    "        print(np.sum(r < 1), np.sum(r < 2))\n",
    "    print('')"
   ]
  },
  {
   "cell_type": "code",
   "execution_count": null,
   "metadata": {},
   "outputs": [],
   "source": [
    "fig, axes = plt.subplots()\n",
    "\n",
    "axes.set_xlim(-2, 20)\n",
    "\n",
    "for v, r in zip(v_circ['dm'], radii['dm']):\n",
    "    axes.plot(r, v, c='grey') \n",
    "    \n",
    "for v, r in zip(v_circ['gas'], radii['gas']):\n",
    "    axes.plot(r, v, c='black') "
   ]
  },
  {
   "cell_type": "code",
   "execution_count": null,
   "metadata": {},
   "outputs": [],
   "source": []
  }
 ],
 "metadata": {
  "kernelspec": {
   "display_name": "Python 3",
   "language": "python",
   "name": "python3"
  },
  "language_info": {
   "codemirror_mode": {
    "name": "ipython",
    "version": 3
   },
   "file_extension": ".py",
   "mimetype": "text/x-python",
   "name": "python",
   "nbconvert_exporter": "python",
   "pygments_lexer": "ipython3"
  }
 },
 "nbformat": 4,
 "nbformat_minor": 4
}
