{
 "cells": [
  {
   "cell_type": "code",
   "execution_count": null,
   "metadata": {},
   "outputs": [],
   "source": [
    "%load_ext autoreload\n",
    "%autoreload 2\n",
    "\n",
    "%config IPCompleter.greedy=True"
   ]
  },
  {
   "cell_type": "code",
   "execution_count": null,
   "metadata": {},
   "outputs": [],
   "source": [
    "import matplotlib.pyplot as plt\n",
    "import numpy as np\n",
    "import h5py\n",
    "from astropy import units\n",
    "from pathlib import Path\n",
    "import os\n",
    "import time\n",
    "\n",
    "import snapshot_obj\n",
    "import dataset_compute\n",
    "import curve_fit\n",
    "\n",
    "import importlib"
   ]
  },
  {
   "cell_type": "code",
   "execution_count": null,
   "metadata": {},
   "outputs": [],
   "source": [
    "importlib.reload(snapshot_obj)\n",
    "importlib.reload(dataset_compute)\n",
    "importlib.reload(curve_fit)"
   ]
  },
  {
   "cell_type": "markdown",
   "metadata": {},
   "source": [
    "# Massive compact non-luminous halos\n",
    "\n",
    "Here, we inspect the properties of the clump of subhalos in the $\\Lambda$CDM simulation with $v_\\text{max} \\sim v_\\text{1kpc} > 35 \\text{km/s}$."
   ]
  },
  {
   "cell_type": "code",
   "execution_count": null,
   "metadata": {},
   "outputs": [],
   "source": [
    "snap = snapshot_obj.Snapshot(\"V1_LR_fix\", 127)\n",
    "max_point = snap.get_subhalos(\"Max_Vcirc\", \"Extended\")\n",
    "vmax = max_point[:,0] * units.cm.to(units.km)\n",
    "v1kpc = snap.get_subhalos(\"V1kpc\", \"Extended\") * units.cm.to(units.km)"
   ]
  },
  {
   "cell_type": "code",
   "execution_count": null,
   "metadata": {},
   "outputs": [],
   "source": [
    "masks_sat, mask_isol = dataset_compute.split_satellites_by_group_number(\n",
    "    snap, (1,0), (2,0))\n",
    "mask_dark = dataset_compute.split_luminous(snap)[1]\n",
    "mask_pecul = np.logical_and(vmax > 35, np.abs(vmax-v1kpc)/vmax < 0.1)\n",
    "mask_pecul = np.logical_and.reduce([mask_isol, mask_dark, mask_pecul])\n",
    "mask_ref = np.logical_and(vmax > 30, vmax < 50)\n",
    "mask_ref = np.logical_and.reduce([mask_isol, mask_dark, mask_ref])"
   ]
  },
  {
   "cell_type": "code",
   "execution_count": null,
   "metadata": {},
   "outputs": [],
   "source": [
    "print(np.sum(mask_pecul))\n",
    "print(np.sum(mask_ref))\n",
    "print(np.sum(np.logical_and(mask_pecul, mask_ref)))"
   ]
  },
  {
   "cell_type": "code",
   "execution_count": null,
   "metadata": {
    "jupyter": {
     "source_hidden": true
    }
   },
   "outputs": [],
   "source": [
    "masstype = snap.get_subhalos(\"MassType\")\n",
    "print(masstype[mask])"
   ]
  },
  {
   "cell_type": "code",
   "execution_count": null,
   "metadata": {},
   "outputs": [],
   "source": [
    "rot_curves = snap.get_subhalos('Vcirc', group='Extended/RotationCurve/All')\n",
    "sub_offset = snap.get_subhalos('SubOffset', group='Extended/RotationCurve/All')\n",
    "\n",
    "fig, axes = plt.subplots()\n",
    "\n",
    "idxs = np.arange(mask_pecul.size)[mask_ref]\n",
    "for idx in idxs:\n",
    "    v_circ = rot_curves[sub_offset[idx]:sub_offset[idx+1],0] * units.cm.to(units.km)\n",
    "    radii = rot_curves[sub_offset[idx]:sub_offset[idx+1],1] * units.cm.to(units.kpc)\n",
    "    axes.plot(radii, v_circ, c='black')\n",
    "\n",
    "idxs = np.arange(mask_pecul.size)[mask_pecul]\n",
    "for idx in idxs:\n",
    "    v_circ = rot_curves[sub_offset[idx]:sub_offset[idx+1],0] * units.cm.to(units.km)\n",
    "    radii = rot_curves[sub_offset[idx]:sub_offset[idx+1],1] * units.cm.to(units.kpc)\n",
    "    axes.plot(radii, v_circ, c='gray') "
   ]
  },
  {
   "cell_type": "code",
   "execution_count": null,
   "metadata": {},
   "outputs": [],
   "source": [
    "LG = dataset_compute.compute_LG_centre(snap, (1,0), (2,0))\n",
    "dist_to_lg = dataset_compute.distance_to_point(snap, LG) * units.cm.to(units.kpc)\n",
    "print(dist_to_lg[mask_pecul])"
   ]
  },
  {
   "cell_type": "code",
   "execution_count": null,
   "metadata": {},
   "outputs": [],
   "source": []
  }
 ],
 "metadata": {
  "kernelspec": {
   "display_name": "Python 3",
   "language": "python",
   "name": "python3"
  },
  "language_info": {
   "codemirror_mode": {
    "name": "ipython",
    "version": 3
   },
   "file_extension": ".py",
   "mimetype": "text/x-python",
   "name": "python",
   "nbconvert_exporter": "python",
   "pygments_lexer": "ipython3"
  }
 },
 "nbformat": 4,
 "nbformat_minor": 4
}
