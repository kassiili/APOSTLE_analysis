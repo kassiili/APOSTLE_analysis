{
 "cells": [
  {
   "cell_type": "code",
   "execution_count": 3,
   "metadata": {},
   "outputs": [
    {
     "name": "stdout",
     "output_type": "stream",
     "text": [
      "The autoreload extension is already loaded. To reload it, use:\n",
      "  %reload_ext autoreload\n"
     ]
    }
   ],
   "source": [
    "%load_ext autoreload\n",
    "%autoreload 2\n",
    "\n",
    "%config IPCompleter.greedy=True"
   ]
  },
  {
   "cell_type": "code",
   "execution_count": 9,
   "metadata": {},
   "outputs": [],
   "source": [
    "import numpy as np\n",
    "import matplotlib.pyplot as plt\n",
    "import os\n",
    "from astropy import units\n",
    "\n",
    "import importlib\n",
    "\n",
    "import snapshot_obj\n",
    "import simulation_tracing\n",
    "import dataset_compute\n",
    "import subhalo\n",
    "import halo_matching"
   ]
  },
  {
   "cell_type": "code",
   "execution_count": 10,
   "metadata": {},
   "outputs": [
    {
     "data": {
      "text/plain": [
       "<module 'halo_matching' from '/home/kassiili/Curvaton_Simulations/analysis/halo_matching.py'>"
      ]
     },
     "execution_count": 10,
     "metadata": {},
     "output_type": "execute_result"
    }
   ],
   "source": [
    "importlib.reload(snapshot_obj)\n",
    "importlib.reload(simulation_tracing)\n",
    "importlib.reload(dataset_compute)\n",
    "importlib.reload(subhalo)\n",
    "importlib.reload(halo_matching)"
   ]
  },
  {
   "cell_type": "markdown",
   "metadata": {},
   "source": [
    "# Plotting trajectories of halos"
   ]
  },
  {
   "cell_type": "markdown",
   "metadata": {},
   "source": [
    "## Tracing a satellite"
   ]
  },
  {
   "cell_type": "code",
   "execution_count": 6,
   "metadata": {},
   "outputs": [],
   "source": [
    "sim_id = \"V1_LR_fix\"\n",
    "start = 127; stop = 101"
   ]
  },
  {
   "cell_type": "markdown",
   "metadata": {},
   "source": [
    "First, identify the central halo through snapshots:"
   ]
  },
  {
   "cell_type": "code",
   "execution_count": 12,
   "metadata": {},
   "outputs": [
    {
     "name": "stdout",
     "output_type": "stream",
     "text": [
      "127 -> 126: 403694 trials, 778 matches\n",
      "126 -> 125: 416148 trials, 777 matches\n",
      "125 -> 124: 413609 trials, 792 matches\n",
      "124 -> 123: 411364 trials, 786 matches\n",
      "123 -> 122: 423042 trials, 790 matches\n",
      "122 -> 121: 415880 trials, 790 matches\n",
      "121 -> 120: 427833 trials, 782 matches\n",
      "120 -> 119: 418642 trials, 792 matches\n",
      "119 -> 118: 431022 trials, 796 matches\n",
      "118 -> 117: 427247 trials, 791 matches\n",
      "117 -> 116: 428778 trials, 799 matches\n",
      "116 -> 115: 434479 trials, 798 matches\n",
      "115 -> 114: 468416 trials, 788 matches\n",
      "114 -> 113: 458095 trials, 790 matches\n",
      "113 -> 112: 415100 trials, 798 matches\n",
      "112 -> 111: 433195 trials, 790 matches\n",
      "111 -> 110: 448491 trials, 798 matches\n",
      "110 -> 109: 465048 trials, 797 matches\n",
      "109 -> 108: 443629 trials, 810 matches\n",
      "108 -> 107: 462392 trials, 810 matches\n",
      "107 -> 106: 456220 trials, 816 matches\n",
      "106 -> 105: 447309 trials, 818 matches\n",
      "105 -> 104: 448310 trials, 825 matches\n",
      "104 -> 103: 452146 trials, 826 matches\n",
      "103 -> 102: 455702 trials, 822 matches\n",
      "102 -> 101: 449730 trials, 825 matches\n",
      "101 -> 100: 465024 trials, 832 matches\n"
     ]
    }
   ],
   "source": [
    "gn=1\n",
    "snap_z0 = snapshot_obj.Snapshot(sim_id, start)\n",
    "matcher = halo_matching.SubhaloMatcher()\n",
    "sim_tracer = simulation_tracing.MergerTree(snap_z0, matcher)\n",
    "sim_trace, snap_ids = sim_tracer.trace_all(stop=100)"
   ]
  },
  {
   "cell_type": "code",
   "execution_count": 14,
   "metadata": {},
   "outputs": [
    {
     "name": "stdout",
     "output_type": "stream",
     "text": [
      "CPU times: user 223 ms, sys: 20.1 ms, total: 243 ms\n",
      "Wall time: 242 ms\n"
     ]
    }
   ],
   "source": [
    "%time central = subhalo.SubhaloTracer(gn, 0, sim_tracer)"
   ]
  },
  {
   "cell_type": "markdown",
   "metadata": {},
   "source": [
    "Then, select a satellite that can be traced back through a couple snapshots (for instance, the M31 satellite (1,4)):"
   ]
  },
  {
   "cell_type": "code",
   "execution_count": 28,
   "metadata": {},
   "outputs": [
    {
     "name": "stdout",
     "output_type": "stream",
     "text": [
      "CPU times: user 280 ms, sys: 32 ms, total: 312 ms\n",
      "Wall time: 317 ms\n"
     ]
    }
   ],
   "source": [
    "sgn=2\n",
    "%time satellite = subhalo.SubhaloTracer(gn, sgn, sim_tracer)"
   ]
  },
  {
   "cell_type": "code",
   "execution_count": 29,
   "metadata": {},
   "outputs": [
    {
     "name": "stdout",
     "output_type": "stream",
     "text": [
      "CPU times: user 3.72 s, sys: 236 ms, total: 3.96 s\n",
      "Wall time: 3.96 s\n"
     ]
    }
   ],
   "source": [
    "%time d = satellite.distance_to_central(central)\n",
    "d = d * units.cm.to(units.kpc)"
   ]
  },
  {
   "cell_type": "markdown",
   "metadata": {},
   "source": [
    "Compute the distance between the central and the satellite:"
   ]
  },
  {
   "cell_type": "markdown",
   "metadata": {},
   "source": [
    "Plot in the xy- and xz-plane:"
   ]
  },
  {
   "cell_type": "code",
   "execution_count": 30,
   "metadata": {},
   "outputs": [
    {
     "name": "stdout",
     "output_type": "stream",
     "text": [
      "/home/kassiili/Curvaton_Simulations/analysis/Figures/V1_LR_fix\n"
     ]
    },
    {
     "data": {
      "image/png": "[encoded data removed]",
      "text/plain": [
       "<Figure size 864x432 with 2 Axes>"
      ]
     },
     "metadata": {
      "needs_background": "light"
     },
     "output_type": "display_data"
    }
   ],
   "source": [
    "fig,ax = plt.subplots(ncols=2, figsize=(12,6))\n",
    "\n",
    "ax[0].set_title('gn{} sgn{}'.format(gn,sgn))\n",
    "\n",
    "ax[0].plot(d[:,0], d[:,1], 'b')\n",
    "ax[0].plot(d[:,0], d[:,1], 'ko')\n",
    "ax[0].plot(d[0,0], d[0,1], 'ro', label='earliest')\n",
    "ax[0].set_xlabel('$x$ [kpc]', fontsize=16)\n",
    "ax[0].set_ylabel('$y$ [kpc]', fontsize=16)\n",
    "\n",
    "ax[1].plot(d[:,0], d[:,2], 'b')\n",
    "ax[1].plot(d[:,0], d[:,2], 'ko')\n",
    "ax[1].plot(d[0,0], d[0,2], 'ro')\n",
    "ax[1].set_xlabel('$x$ [kpc]', fontsize=16)\n",
    "ax[1].set_ylabel('$z$ [kpc]', fontsize=16)\n",
    "\n",
    "ax[0].legend()\n",
    "\n",
    "# Save figure:\n",
    "\n",
    "filename = 'satellite_trajectory_gn{}sgn{}_{}.png'.format(gn,sgn,sim_id)\n",
    "\n",
    "home = os.path.dirname(snapshot_obj.__file__)\n",
    "path = os.path.join(home,\"Figures\",sim_id)\n",
    "print(path)\n",
    "\n",
    "# If the directory does not exist, create it\n",
    "if not os.path.exists(path):\n",
    "    os.makedirs(path)\n",
    "plt.savefig(os.path.join(path,filename), dpi=200)"
   ]
  },
  {
   "cell_type": "markdown",
   "metadata": {},
   "source": [
    "# Plot evolution of mass components"
   ]
  },
  {
   "cell_type": "code",
   "execution_count": 31,
   "metadata": {},
   "outputs": [],
   "source": [
    "z = sim_tracer.get_redshifts()"
   ]
  },
  {
   "cell_type": "code",
   "execution_count": 32,
   "metadata": {},
   "outputs": [],
   "source": [
    "masses = satellite.get_halo_data(\"MassType\") * units.g.to(units.Msun)"
   ]
  },
  {
   "cell_type": "code",
   "execution_count": 33,
   "metadata": {},
   "outputs": [
    {
     "data": {
      "image/png": "[encoded data removed]",
      "text/plain": [
       "<Figure size 720x576 with 2 Axes>"
      ]
     },
     "metadata": {
      "needs_background": "light"
     },
     "output_type": "display_data"
    }
   ],
   "source": [
    "fig,ax = plt.subplots(nrows=2, figsize=(10,8))\n",
    "\n",
    "ax[0].set_title('gn{} sgn{}'.format(gn,sgn))\n",
    "\n",
    "ax[0].set_yscale('log')\n",
    "ax[0].set_ylabel('Mass $[\\mathrm{M_\\odot}]$', fontsize=16)\n",
    "\n",
    "ax[1].set_xlabel('$z$', fontsize=16)\n",
    "ax[1].set_ylabel('$r$ [kpc]', fontsize=16)\n",
    "\n",
    "ax[0].yaxis.set_ticks_position('both')\n",
    "ax[1].yaxis.set_ticks_position('both')\n",
    "\n",
    "ax[0].invert_xaxis()\n",
    "ax[1].invert_xaxis()\n",
    "\n",
    "for pt,l in zip([0,1,4],['gas', 'dm', 'stars']):\n",
    "    ax[0].plot(z, masses[:,pt], label=l)\n",
    "    \n",
    "ax[0].legend()\n",
    "\n",
    "ax[1].plot(z, np.linalg.norm(d, axis=1))\n",
    "\n",
    "# Save figure:\n",
    "\n",
    "filename = 'satellite_mass_evol_gn{}sgn{}_{}.png'.format(gn,sgn,sim_id)\n",
    "\n",
    "home = os.path.dirname(snapshot_obj.__file__)\n",
    "path = os.path.join(home,\"Figures\",sim_id)\n",
    "\n",
    "# If the directory does not exist, create it\n",
    "if not os.path.exists(path):\n",
    "    os.makedirs(path)\n",
    "plt.savefig(os.path.join(path,filename), dpi=200)"
   ]
  },
  {
   "cell_type": "code",
   "execution_count": null,
   "metadata": {},
   "outputs": [],
   "source": []
  }
 ],
 "metadata": {
  "kernelspec": {
   "display_name": "Python 3",
   "language": "python",
   "name": "python3"
  },
  "language_info": {
   "codemirror_mode": {
    "name": "ipython",
    "version": 3
   },
   "file_extension": ".py",
   "mimetype": "text/x-python",
   "name": "python",
   "nbconvert_exporter": "python",
   "pygments_lexer": "ipython3",
   "version": "3.7.4"
  }
 },
 "nbformat": 4,
 "nbformat_minor": 4
}
