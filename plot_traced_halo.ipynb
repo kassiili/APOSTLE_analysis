{
 "cells": [
  {
   "cell_type": "code",
   "execution_count": 1,
   "metadata": {},
   "outputs": [],
   "source": [
    "%load_ext autoreload\n",
    "%autoreload 2\n",
    "\n",
    "%config IPCompleter.greedy=True"
   ]
  },
  {
   "cell_type": "code",
   "execution_count": 187,
   "metadata": {},
   "outputs": [],
   "source": [
    "import numpy as np\n",
    "import matplotlib.pyplot as plt\n",
    "import os\n",
    "from astropy import units\n",
    "\n",
    "import importlib\n",
    "\n",
    "import snapshot_obj\n",
    "import simulation_tracing\n",
    "import dataset_compute\n",
    "import subhalo"
   ]
  },
  {
   "cell_type": "code",
   "execution_count": 194,
   "metadata": {},
   "outputs": [
    {
     "data": {
      "text/plain": [
       "<module 'subhalo' from '/home/kasper/Curvaton_Simulations/APOSTLE_analysis/subhalo.py'>"
      ]
     },
     "execution_count": 194,
     "metadata": {},
     "output_type": "execute_result"
    }
   ],
   "source": [
    "importlib.reload(snapshot_obj)\n",
    "importlib.reload(simulation_tracing)\n",
    "importlib.reload(dataset_compute)\n",
    "importlib.reload(subhalo)"
   ]
  },
  {
   "cell_type": "markdown",
   "metadata": {},
   "source": [
    "# Plotting trajectories of halos"
   ]
  },
  {
   "cell_type": "markdown",
   "metadata": {},
   "source": [
    "## Tracing a satellite"
   ]
  },
  {
   "cell_type": "code",
   "execution_count": 100,
   "metadata": {},
   "outputs": [],
   "source": [
    "sim_id = \"V1_LR_fix\"\n",
    "start = 127; stop = 100\n",
    "gn=2\n",
    "snap0 = snapshot_obj.Snapshot(sim_id, start)\n",
    "central = subhalo.Subhalo(sim_id, start, gn, 0)"
   ]
  },
  {
   "cell_type": "markdown",
   "metadata": {},
   "source": [
    "First, identify the central halo through snapshots:"
   ]
  },
  {
   "cell_type": "code",
   "execution_count": 101,
   "metadata": {},
   "outputs": [
    {
     "name": "stdout",
     "output_type": "stream",
     "text": [
      "{127: (2, 0), 126: (2.0, 0.0), 125: (2.0, 0.0), 124: (2.0, 0.0), 123: (2.0, 0.0), 122: (2.0, 0.0), 121: (2.0, 0.0), 120: (2.0, 0.0), 119: (2.0, 0.0), 118: (2.0, 0.0), 117: (2.0, 0.0), 116: (2.0, 0.0), 115: (2.0, 0.0), 114: (3.0, 0.0), 113: (3.0, 0.0), 112: (3.0, 0.0), 111: (3.0, 0.0), 110: (3.0, 0.0), 109: (3.0, 0.0), 108: (3.0, 0.0), 107: (3.0, 0.0), 106: (3.0, 0.0), 105: (3.0, 0.0), 104: (3.0, 0.0), 103: (3.0, 0.0), 102: (3.0, 0.0), 101: (3.0, 0.0), 100: (3.0, 0.0)}\n"
     ]
    }
   ],
   "source": [
    "tracer = central.trace(stop=stop)\n",
    "print(tracer)"
   ]
  },
  {
   "cell_type": "markdown",
   "metadata": {},
   "source": [
    "Then, select a satellite that can be traced back through a couple snapshots (for instance, the M31 satellite (1,4)):"
   ]
  },
  {
   "cell_type": "code",
   "execution_count": 201,
   "metadata": {
    "collapsed": true,
    "jupyter": {
     "outputs_hidden": true
    }
   },
   "outputs": [
    {
     "data": {
      "text/plain": [
       "array([[4294967296, 4294967296, 4294967296, ...,          0,          0,\n",
       "                 0],\n",
       "       [4294967296, 4294967296, 4294967296, ...,          1,          1,\n",
       "                 1],\n",
       "       [4294967296, 4294967296, 4294967296, ...,        255,        241,\n",
       "                 2],\n",
       "       ...,\n",
       "       [4294967296, 4294967296, 4294967296, ..., 4294967296, 4294967296,\n",
       "              1122],\n",
       "       [4294967296, 4294967296, 4294967296, ..., 4294967296, 4294967296,\n",
       "              1123],\n",
       "       [4294967296, 4294967296, 4294967296, ..., 4294967296, 4294967296,\n",
       "              1124]])"
      ]
     },
     "execution_count": 201,
     "metadata": {},
     "output_type": "execute_result"
    }
   ],
   "source": [
    "sim_tracer = simulation_tracing.SimulationTracer(snap0, stop=115)\n",
    "sim_tracer.trace_all()"
   ]
  },
  {
   "cell_type": "code",
   "execution_count": 195,
   "metadata": {},
   "outputs": [],
   "source": [
    "gn=2; sgn=8\n",
    "satellite = subhalo.Subhalo(snap0, gn, sgn)"
   ]
  },
  {
   "cell_type": "code",
   "execution_count": 205,
   "metadata": {},
   "outputs": [],
   "source": [
    "idx = satellite.tracer[-1]\n",
    "satellite.tracer = sim_tracer.tracer[idx]"
   ]
  },
  {
   "cell_type": "code",
   "execution_count": 174,
   "metadata": {},
   "outputs": [
    {
     "name": "stdout",
     "output_type": "stream",
     "text": [
      "{127: (2, 8), 126: (2.0, 7.0), 125: (2.0, 7.0), 124: (2.0, 6.0), 123: (2.0, 7.0), 122: (2.0, 6.0), 121: (2.0, 5.0), 120: (2.0, 5.0), 119: (2.0, 5.0), 118: (2.0, 5.0), 117: (2.0, 5.0), 116: (2.0, 6.0), 115: (2.0, 7.0), 114: (3.0, 5.0), 113: (3.0, 5.0), 112: (3.0, 6.0), 111: (3.0, 4.0), 110: (3.0, 2.0), 109: (3.0, 2.0), 108: (3.0, 2.0), 107: (3.0, 2.0), 106: (3.0, 2.0), 105: (3.0, 2.0), 104: (3.0, 2.0), 103: (3.0, 2.0), 102: (3.0, 2.0), 101: (3.0, 2.0), 100: (3.0, 2.0)}\n"
     ]
    }
   ],
   "source": [
    "sat_tracer = satellite.trace(stop=stop)\n",
    "print(sat_tracer)"
   ]
  },
  {
   "cell_type": "code",
   "execution_count": 208,
   "metadata": {},
   "outputs": [],
   "source": [
    "n_snaps = satellite.tracer.size\n",
    "n_traced = np.sum(satellite.tracer < 2**32)\n",
    "snap_ids = np.arange(n_snaps-n_traced, n_snaps)\n",
    "d = [satellite.distance_to_central(sid, central) for sid in snap_ids]"
   ]
  },
  {
   "cell_type": "code",
   "execution_count": 209,
   "metadata": {},
   "outputs": [
    {
     "name": "stdout",
     "output_type": "stream",
     "text": [
      "115 : 6.90912123028697e+42\n",
      "116 : 6.734207040545616e+42\n",
      "117 : 6.06370159403675e+42\n",
      "118 : 6.35522566460581e+42\n",
      "119 : 6.48641141216186e+42\n",
      "120 : 6.675901889631695e+42\n",
      "121 : 6.224039917049761e+42\n",
      "122 : 6.00539644312283e+42\n",
      "123 : 5.17455309460109e+42\n",
      "124 : 4.6498096833767543e+42\n",
      "125 : 5.116247943687169e+42\n",
      "126 : 4.72269070101902e+42\n",
      "127 : 4.606080820191314e+42\n"
     ]
    }
   ],
   "source": [
    "for sid in snap_ids:\n",
    "    print(\"{} : {}\".format(sid, satellite.get_halo_data(\"MassType\", sid)[1]))"
   ]
  },
  {
   "cell_type": "code",
   "execution_count": 210,
   "metadata": {},
   "outputs": [],
   "source": [
    "d_cgs = np.array(d).reshape((len(d),3))\n",
    "d = d_cgs * units.cm.to(units.kpc)"
   ]
  },
  {
   "cell_type": "markdown",
   "metadata": {},
   "source": [
    "Plot in the xy- and xz-plane:"
   ]
  },
  {
   "cell_type": "code",
   "execution_count": 211,
   "metadata": {},
   "outputs": [
    {
     "data": {
      "image/png": "[encoded data removed]",
      "text/plain": [
       "<Figure size 864x432 with 2 Axes>"
      ]
     },
     "metadata": {
      "needs_background": "light"
     },
     "output_type": "display_data"
    }
   ],
   "source": [
    "fig,ax = plt.subplots(ncols=2, figsize=(12,6))\n",
    "\n",
    "ax[0].set_title('gn{} sgn{}'.format(gn,sgn))\n",
    "\n",
    "ax[0].plot(d[:,0], d[:,1], 'b')\n",
    "ax[0].plot(d[:,0], d[:,1], 'ko')\n",
    "ax[0].plot(d[0,0], d[0,1], 'ro', label='earliest')\n",
    "ax[0].set_xlabel('$x$ [kpc]', fontsize=16)\n",
    "ax[0].set_ylabel('$y$ [kpc]', fontsize=16)\n",
    "\n",
    "ax[1].plot(d[0,0], d[0,2], 'ro')\n",
    "ax[1].plot(d[:,0], d[:,2], 'b')\n",
    "ax[1].set_xlabel('$x$ [kpc]', fontsize=16)\n",
    "ax[1].set_ylabel('$z$ [kpc]', fontsize=16)\n",
    "\n",
    "ax[0].legend()\n",
    "\n",
    "# Save figure:\n",
    "\n",
    "filename = 'satellite_trajectory_gn{}sgn{}.png'.format(gn,sgn)\n",
    "\n",
    "home = os.path.dirname(snapshot_obj.__file__)\n",
    "path = os.path.join(home,\"Figures\")\n",
    "\n",
    "# If the directory does not exist, create it\n",
    "#if not os.path.exists(path):\n",
    "#    os.makedirs(path)\n",
    "#plt.savefig(os.path.join(path,filename), dpi=200)"
   ]
  },
  {
   "cell_type": "markdown",
   "metadata": {},
   "source": [
    "# Plot evolution of mass components"
   ]
  },
  {
   "cell_type": "code",
   "execution_count": 179,
   "metadata": {},
   "outputs": [],
   "source": [
    "z = np.zeros(snap_ids.size)\n",
    "for i,sid in enumerate(snap_ids):\n",
    "    z[i] = snapshot_obj.Snapshot(sim_id, sid).get_attribute('Redshift', 'Header')"
   ]
  },
  {
   "cell_type": "code",
   "execution_count": 180,
   "metadata": {},
   "outputs": [],
   "source": [
    "masses = np.zeros((snap_ids.size, 6))\n",
    "for i,sid in enumerate(snap_ids):\n",
    "    masses[i] = satellite.get_halo_data(\"MassType\", sid) * units.g.to(units.Msun)"
   ]
  },
  {
   "cell_type": "code",
   "execution_count": 181,
   "metadata": {},
   "outputs": [
    {
     "data": {
      "image/png": "[encoded data removed]",
      "text/plain": [
       "<Figure size 720x576 with 2 Axes>"
      ]
     },
     "metadata": {
      "needs_background": "light"
     },
     "output_type": "display_data"
    }
   ],
   "source": [
    "fig,ax = plt.subplots(nrows=2, figsize=(10,8))\n",
    "\n",
    "ax[0].set_title('gn{} sgn{}'.format(gn,sgn))\n",
    "\n",
    "ax[0].set_yscale('log')\n",
    "ax[0].set_ylabel('Mass $[\\mathrm{M_\\odot}]$', fontsize=16)\n",
    "\n",
    "ax[1].set_xlabel('$z$', fontsize=16)\n",
    "ax[1].set_ylabel('$r$ [kpc]', fontsize=16)\n",
    "\n",
    "ax[0].yaxis.set_ticks_position('both')\n",
    "ax[1].yaxis.set_ticks_position('both')\n",
    "\n",
    "ax[0].invert_xaxis()\n",
    "ax[1].invert_xaxis()\n",
    "\n",
    "for pt,l in zip([0,1,4],['gas', 'dm', 'stars']):\n",
    "    ax[0].plot(z, masses[:,pt], label=l)\n",
    "    \n",
    "ax[0].legend()\n",
    "\n",
    "ax[1].plot(z, np.linalg.norm(d, axis=1))\n",
    "\n",
    "# Save figure:\n",
    "\n",
    "filename = 'satellite_mass_evol_gn{}sgn{}.png'.format(gn,sgn)\n",
    "\n",
    "home = os.path.dirname(snapshot_obj.__file__)\n",
    "path = os.path.join(home,\"Figures\")\n",
    "\n",
    "# If the directory does not exist, create it\n",
    "if not os.path.exists(path):\n",
    "    os.makedirs(path)\n",
    "plt.savefig(os.path.join(path,filename), dpi=200)"
   ]
  },
  {
   "cell_type": "markdown",
   "metadata": {},
   "source": [
    "Dump:"
   ]
  },
  {
   "cell_type": "code",
   "execution_count": null,
   "metadata": {},
   "outputs": [],
   "source": []
  },
  {
   "cell_type": "code",
   "execution_count": 182,
   "metadata": {},
   "outputs": [
    {
     "name": "stdout",
     "output_type": "stream",
     "text": [
      "[[0. 0. 0.]\n",
      " [0. 0. 0.]\n",
      " [0. 0. 0.]\n",
      " [0. 0. 0.]\n",
      " [0. 0. 0.]\n",
      " [0. 0. 0.]\n",
      " [0. 0. 0.]\n",
      " [0. 0. 0.]\n",
      " [0. 0. 0.]\n",
      " [0. 0. 0.]\n",
      " [0. 0. 0.]\n",
      " [0. 0. 0.]\n",
      " [0. 0. 0.]\n",
      " [0. 0. 0.]\n",
      " [0. 0. 0.]\n",
      " [0. 0. 0.]\n",
      " [0. 0. 0.]\n",
      " [0. 0. 0.]\n",
      " [0. 0. 0.]\n",
      " [0. 0. 0.]\n",
      " [0. 0. 0.]\n",
      " [0. 0. 0.]\n",
      " [0. 0. 0.]\n",
      " [0. 0. 0.]\n",
      " [0. 0. 0.]\n",
      " [0. 0. 0.]\n",
      " [0. 0. 0.]]\n"
     ]
    }
   ],
   "source": [
    "r = np.zeros((start-stop,3))\n",
    "print(r)\n",
    " "
   ]
  },
  {
   "cell_type": "code",
   "execution_count": 183,
   "metadata": {},
   "outputs": [
    {
     "name": "stdout",
     "output_type": "stream",
     "text": [
      "127\n",
      "[2.78376707e+25 5.25148725e+25 2.60718251e+26] [2.79349334e+25 5.29108497e+25 2.60721779e+26]\n",
      "126\n",
      "[2.74213307e+25 5.12221307e+25 2.54312335e+26] [2.70344986e+25 5.16116705e+25 2.54851289e+26]\n",
      "125\n",
      "[2.70159085e+25 4.99606371e+25 2.48051613e+26] [2.71813341e+25 5.04917129e+25 2.47769315e+26]\n",
      "124\n",
      "[2.66241390e+25 4.87262256e+25 2.41933486e+26] [2.63318576e+25 4.92780818e+25 2.42357491e+26]\n",
      "123\n",
      "[2.62433645e+25 4.75190102e+25 2.35962452e+26] [2.60101372e+25 4.69344892e+25 2.36011778e+26]\n",
      "122\n",
      "[2.58754479e+25 4.63520771e+25 2.30135346e+26] [2.58993709e+25 4.66572851e+25 2.30222585e+26]\n",
      "121\n",
      "[2.55120552e+25 4.52170227e+25 2.24446906e+26] [2.53868659e+25 4.58757324e+25 2.24619436e+26]\n",
      "120\n",
      "[2.51498962e+25 4.41083052e+25 2.18895432e+26] [2.53205909e+25 4.44959864e+25 2.19108506e+26]\n",
      "119\n",
      "[2.47906783e+25 4.30238750e+25 2.13476263e+26] [2.50179730e+25 4.26838541e+25 2.13242219e+26]\n",
      "118\n",
      "[2.44359012e+25 4.19638775e+25 2.08188796e+26] [2.44691598e+25 4.20202075e+25 2.08805977e+26]\n",
      "117\n",
      "[2.40872594e+25 4.09325285e+25 2.03030684e+26] [2.40173020e+25 4.10797416e+25 2.03690001e+26]\n",
      "116\n",
      "[2.37418429e+25 3.99259321e+25 1.98004274e+26] [2.36648405e+25 4.01215497e+25 1.98737820e+26]\n",
      "115\n",
      "[2.34022755e+25 3.89415544e+25 1.93103663e+26] [2.37427853e+25 3.91984934e+25 1.93440229e+26]\n",
      "114\n",
      "[2.00839034e+25 4.75810880e+25 1.87692481e+26] [2.03246525e+25 4.78408996e+25 1.87258536e+26]\n",
      "113\n",
      "[1.98583005e+25 4.64019884e+25 1.83070520e+26] [1.98392069e+25 4.65170223e+25 1.82896530e+26]\n",
      "112\n",
      "[1.96483363e+25 4.53057038e+25 1.78550353e+26] [1.97683359e+25 4.52005076e+25 1.78870776e+26]\n",
      "111\n",
      "[1.94003340e+25 4.43213263e+25 1.74148910e+26] [1.94254924e+25 4.43787925e+25 1.74143829e+26]\n",
      "110\n",
      "[1.91414293e+25 4.33664725e+25 1.69847238e+26] [1.91538628e+25 4.33356043e+25 1.69888062e+26]\n",
      "109\n",
      "[1.89003756e+25 4.23973587e+25 1.65665762e+26] [1.88563674e+25 4.22035751e+25 1.65509245e+26]\n",
      "108\n",
      "[1.86844331e+25 4.14100810e+25 1.61595764e+26] [1.90665771e+25 4.08039727e+25 1.61235975e+26]\n",
      "107\n",
      "[1.84558985e+25 4.03890928e+25 1.57607058e+26] [1.85270902e+25 3.95260271e+25 1.57827768e+26]\n",
      "106\n",
      "[1.82655445e+25 3.93470291e+25 1.53717202e+26] [1.83942730e+25 3.85711056e+25 1.53942881e+26]\n",
      "105\n",
      "[1.80944172e+25 3.82459719e+25 1.49936356e+26] [1.82415489e+25 3.82892986e+25 1.49849673e+26]\n",
      "104\n",
      "[1.79098749e+25 3.71845059e+25 1.46232079e+26] [1.80371193e+25 3.72551021e+25 1.46065257e+26]\n",
      "103\n",
      "[1.76965251e+25 3.61768428e+25 1.42596751e+26] [1.77584739e+25 3.62321291e+25 1.42444706e+26]\n",
      "102\n",
      "[1.74827880e+25 3.52074372e+25 1.39050731e+26] [1.73759858e+25 3.49208208e+25 1.39369206e+26]\n",
      "101\n",
      "[1.72721251e+25 3.42790516e+25 1.35601373e+26] [1.72347245e+25 3.45259528e+25 1.35330309e+26]\n"
     ]
    }
   ],
   "source": [
    "for sid in range(start, stop, -1):\n",
    "    print(sid)\n",
    "    snap = snapshot_obj.Snapshot(sim_id, sid)\n",
    "    gns = snap.get_subhalos(\"GroupNumber\")\n",
    "    sgns = snap.get_subhalos(\"SubGroupNumber\")\n",
    "    cops = snap.get_subhalos(\"CentreOfPotential\")\n",
    "    \n",
    "    galactic_centre = cops[np.logical_and(gns==gn, sgns==0)][0]\n",
    "    halo_cop = cops[np.logical_and(gns==gn, sgns==sgn)][0]\n",
    "    halo_cop = dataset_compute.periodic_wrap(snap, galactic_centre, halo_cop)\n",
    "    print(galactic_centre, halo_cop)\n",
    "  \n",
    "    r[start-sid] = halo_cop - galactic_centre"
   ]
  },
  {
   "cell_type": "code",
   "execution_count": 184,
   "metadata": {},
   "outputs": [],
   "source": [
    "d = r * units.cm.to(units.kpc)"
   ]
  },
  {
   "cell_type": "markdown",
   "metadata": {},
   "source": [
    "Compute the distance from the central halo for each snapshot:"
   ]
  },
  {
   "cell_type": "code",
   "execution_count": 185,
   "metadata": {},
   "outputs": [
    {
     "name": "stdout",
     "output_type": "stream",
     "text": [
      "[[  31.52070148  128.32746296    1.14332561]\n",
      " [-125.36374548  126.24126591  174.66293573]\n",
      " [  53.61076678  172.10994279  -91.48654948]\n",
      " [ -94.7219654   178.84439948  137.41067016]\n",
      " [ -75.58383977 -189.43037532   15.98545718]\n",
      " [   7.75293184   98.91116424   28.27200564]\n",
      " [ -40.57110334  213.47327919   55.9132158 ]\n",
      " [  55.31837447  125.63892442   69.05261528]\n",
      " [  73.66122385 -110.19326359  -75.84851669]\n",
      " [  10.77839384   18.25530752  200.01467365]\n",
      " [ -22.67165468   47.70853745  213.66995281]\n",
      " [ -24.95477926   63.39533768  237.72601224]\n",
      " [ 110.35174055   83.26824903  109.07361352]\n",
      " [  78.02145736   84.19921413 -140.6322485 ]\n",
      " [  -6.18782327   37.27995256  -56.38623088]\n",
      " [  38.88921003  -34.09176159  103.84197221]\n",
      " [   8.15327932   18.62353923   -1.64681011]\n",
      " [   4.02941659  -10.00369585   13.23011307]\n",
      " [ -14.2620695   -62.80097157  -50.7236586 ]\n",
      " [ 123.84443336 -196.42630587 -116.59969014]\n",
      " [  23.07165649 -279.7005373    71.52725115]\n",
      " [  41.71806934 -251.45968849   73.13773621]\n",
      " [  47.68213182   14.04122665  -28.09204648]\n",
      " [  41.23709362   22.87866688  -54.0633677 ]\n",
      " [  20.07623183   17.91708345  -49.27445601]\n",
      " [ -34.61224816  -92.88606287  103.2107043 ]\n",
      " [ -12.12071386   80.01523303  -87.84584973]] [[ 9.72627219e+22  3.95977176e+23  3.52793422e+21]\n",
      " [-3.86832099e+23  3.89539844e+23  5.38953505e+23]\n",
      " [ 1.65425541e+23  5.31075792e+23 -2.82297995e+23]\n",
      " [-2.92281445e+23  5.51856154e+23  4.24005024e+23]\n",
      " [-2.33227360e+23 -5.84521062e+23  4.93259669e+22]\n",
      " [ 2.39230480e+22  3.05207962e+23  8.72382940e+22]\n",
      " [-1.25189344e+23  6.58709712e+23  1.72530156e+23]\n",
      " [ 1.70694668e+23  3.87681212e+23  2.13074107e+23]\n",
      " [ 2.27294787e+23 -3.40020883e+23 -2.34044068e+23]\n",
      " [ 3.32586482e+22  5.63299931e+22  6.17180794e+23]\n",
      " [-6.99574166e+22  1.47213164e+23  6.59316583e+23]\n",
      " [-7.70024029e+22  1.95617572e+23  7.33545826e+23]\n",
      " [ 3.40509892e+23  2.56938969e+23  3.36566004e+23]\n",
      " [ 2.40749062e+23  2.59811627e+23 -4.33945776e+23]\n",
      " [-1.90936276e+22  1.15033914e+23 -1.73989729e+23]\n",
      " [ 1.19999564e+23 -1.05196184e+23  3.20422846e+23]\n",
      " [ 2.51583912e+22  5.74662375e+22 -5.08152504e+21]\n",
      " [ 1.24334804e+22 -3.08681800e+22  4.08238633e+22]\n",
      " [-4.40081481e+22 -1.93783550e+23 -1.56516856e+23]\n",
      " [ 3.82143992e+23 -6.06108248e+23 -3.59789050e+23]\n",
      " [ 7.11916932e+22 -8.63065677e+23  2.20710035e+23]\n",
      " [ 1.28728511e+23 -7.75923523e+23  2.25679473e+23]\n",
      " [ 1.47131685e+23  4.33266983e+22 -8.66829980e+22]\n",
      " [ 1.27244375e+23  7.05961895e+22 -1.66822122e+23]\n",
      " [ 6.19487785e+22  5.52863427e+22 -1.52045084e+23]\n",
      " [-1.06802238e+23 -2.86616442e+23  3.18474956e+23]\n",
      " [-3.74006150e+22  2.46901211e+23 -2.71063969e+23]]\n"
     ]
    }
   ],
   "source": [
    "print(d, r)"
   ]
  },
  {
   "cell_type": "code",
   "execution_count": 186,
   "metadata": {},
   "outputs": [
    {
     "name": "stdout",
     "output_type": "stream",
     "text": [
      "[1.86035055e+25 2.66007173e+25 1.32900669e+26] [1.86158488e+25 2.67623447e+25 1.32697347e+26]\n",
      "[1.88475970e+25 2.72532135e+25 1.36315162e+26] [1.89238999e+25 2.74265932e+25 1.36041435e+26]\n",
      "[1.90948603e+25 2.79319194e+25 1.39798073e+26] [1.92356055e+25 2.81178571e+25 1.39473914e+26]\n",
      "[1.93478910e+25 2.86390215e+25 1.43352387e+26] [1.95421385e+25 2.88364445e+25 1.42997687e+26]\n",
      "[1.96116409e+25 2.93744572e+25 1.46988631e+26] [1.98462547e+25 2.95747531e+25 1.46620403e+26]\n",
      "[1.98841707e+25 3.01354257e+25 1.50702285e+26] [2.01509171e+25 3.03396931e+25 1.50346919e+26]\n",
      "[2.01676508e+25 3.09202430e+25 1.54505877e+26] [2.04490010e+25 3.11136775e+25 1.54175575e+26]\n",
      "[2.04594455e+25 3.17348625e+25 1.58396888e+26] [2.07603093e+25 3.18969168e+25 1.58081221e+26]\n",
      "[2.07660060e+25 3.25719997e+25 1.62369300e+26] [2.10785815e+25 3.27121094e+25 1.62080710e+26]\n",
      "[2.10884363e+25 3.34363695e+25 1.66437855e+26] [2.14015868e+25 3.35460763e+25 1.66182402e+26]\n",
      "[2.14293093e+25 3.43257805e+25 1.70601156e+26] [2.17262946e+25 3.43925308e+25 1.70388794e+26]\n",
      "[2.17972501e+25 3.52426691e+25 1.74855493e+26] [2.20588689e+25 3.52569082e+25 1.74699732e+26]\n",
      "[2.22029491e+25 3.61843570e+25 1.79206743e+26] [2.23985439e+25 3.61426630e+25 1.79123326e+26]\n",
      "[2.26716529e+25 3.71283215e+25 1.83649780e+26] [2.27326707e+25 3.70506890e+25 1.83666718e+26]\n",
      "[2.31901084e+25 3.80061309e+25 1.88255960e+26] [2.30642795e+25 3.79824159e+25 1.88329137e+26]\n",
      "[2.36449076e+25 3.88731258e+25 1.93031645e+26] [2.34022755e+25 3.89415544e+25 1.93103663e+26]\n",
      "[2.40505767e+25 3.97743614e+25 1.97936982e+26] [2.37418429e+25 3.99259321e+25 1.98004274e+26]\n",
      "[2.44309470e+25 4.07138252e+25 2.02973837e+26] [2.40872594e+25 4.09325285e+25 2.03030684e+26]\n",
      "[2.47865614e+25 4.16896288e+25 2.08144476e+26] [2.44359012e+25 4.19638775e+25 2.08188796e+26]\n",
      "[2.51189535e+25 4.27043228e+25 2.13442917e+26] [2.47906783e+25 4.30238750e+25 2.13476263e+26]\n",
      "[2.54315352e+25 4.37662691e+25 2.18876446e+26] [2.51498962e+25 4.41083052e+25 2.18895432e+26]\n",
      "[2.57257106e+25 4.48813672e+25 2.24439840e+26] [2.55120552e+25 4.52170227e+25 2.24446906e+26]\n",
      "[2.59992586e+25 4.60605845e+25 2.30136310e+26] [2.58754479e+25 4.63520771e+25 2.30135346e+26]\n",
      "[2.62562543e+25 4.73259941e+25 2.35971795e+26] [2.62433645e+25 4.75190102e+25 2.35962452e+26]\n",
      "[2.65355084e+25 4.87295399e+25 2.41939445e+26] [2.66241390e+25 4.87262256e+25 2.41933486e+26]\n",
      "[2.69691384e+25 5.01691412e+25 2.48052505e+26] [2.70159085e+25 4.99606371e+25 2.48051613e+26]\n",
      "[2.74475981e+25 5.15546344e+25 2.54312368e+26] [2.74213307e+25 5.12221307e+25 2.54312335e+26]\n",
      "[2.79349334e+25 5.29108497e+25 2.60721779e+26] [2.78376707e+25 5.25148725e+25 2.60718251e+26]\n"
     ]
    }
   ],
   "source": [
    "for sid in list(snap_ids):\n",
    "    print(satellite.get_halo_data(\"CentreOfPotential\", sid),\n",
    "         central.get_halo_data(\"CentreOfPotential\", sid))"
   ]
  }
 ],
 "metadata": {
  "kernelspec": {
   "display_name": "Python 3",
   "language": "python",
   "name": "python3"
  },
  "language_info": {
   "codemirror_mode": {
    "name": "ipython",
    "version": 3
   },
   "file_extension": ".py",
   "mimetype": "text/x-python",
   "name": "python",
   "nbconvert_exporter": "python",
   "pygments_lexer": "ipython3",
   "version": "3.7.6"
  }
 },
 "nbformat": 4,
 "nbformat_minor": 4
}
