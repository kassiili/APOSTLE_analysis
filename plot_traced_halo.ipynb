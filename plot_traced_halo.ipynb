{
 "cells": [
  {
   "cell_type": "code",
   "execution_count": 2,
   "metadata": {},
   "outputs": [],
   "source": [
    "%load_ext autoreload\n",
    "%autoreload 2\n",
    "\n",
    "%config IPCompleter.greedy=True"
   ]
  },
  {
   "cell_type": "code",
   "execution_count": 3,
   "metadata": {},
   "outputs": [],
   "source": [
    "import numpy as np\n",
    "import matplotlib.pyplot as plt\n",
    "import os\n",
    "from astropy import units\n",
    "\n",
    "import importlib\n",
    "\n",
    "import snapshot_obj\n",
    "import trace_halo\n",
    "import dataset_compute\n",
    "import subhalo"
   ]
  },
  {
   "cell_type": "code",
   "execution_count": 4,
   "metadata": {},
   "outputs": [
    {
     "data": {
      "text/plain": [
       "<module 'subhalo' from '/home/kasper/Curvaton_Simulations/APOSTLE_analysis/subhalo.py'>"
      ]
     },
     "execution_count": 4,
     "metadata": {},
     "output_type": "execute_result"
    }
   ],
   "source": [
    "importlib.reload(snapshot_obj)\n",
    "importlib.reload(trace_halo)\n",
    "importlib.reload(dataset_compute)\n",
    "importlib.reload(subhalo)"
   ]
  },
  {
   "cell_type": "markdown",
   "metadata": {},
   "source": [
    "# Plotting trajectories of halos"
   ]
  },
  {
   "cell_type": "markdown",
   "metadata": {},
   "source": [
    "## Tracing a satellite"
   ]
  },
  {
   "cell_type": "code",
   "execution_count": 16,
   "metadata": {},
   "outputs": [],
   "source": [
    "sim_id = \"CDM_V1_LR\"\n",
    "start = 127; stop = 100\n",
    "gn=2\n",
    "snap0 = snapshot_obj.Snapshot(sim_id, start)\n",
    "central = subhalo.Subhalo(sim_id, start, gn, 0)"
   ]
  },
  {
   "cell_type": "markdown",
   "metadata": {},
   "source": [
    "First, identify the central halo through snapshots:"
   ]
  },
  {
   "cell_type": "code",
   "execution_count": 17,
   "metadata": {},
   "outputs": [
    {
     "name": "stdout",
     "output_type": "stream",
     "text": [
      "{127: (1, 0), 126: (1.0, 0.0), 125: (1.0, 0.0), 124: (1.0, 0.0), 123: (1.0, 0.0), 122: (1.0, 0.0), 121: (1.0, 0.0), 120: (1.0, 0.0), 119: (1.0, 0.0), 118: (1.0, 0.0), 117: (1.0, 0.0), 116: (1.0, 0.0), 115: (1.0, 0.0), 114: (1.0, 0.0), 113: (1.0, 0.0), 112: (1.0, 0.0), 111: (1.0, 0.0), 110: (1.0, 0.0), 109: (1.0, 0.0), 108: (1.0, 0.0), 107: (1.0, 0.0), 106: (1.0, 0.0), 105: (1.0, 0.0), 104: (1.0, 0.0), 103: (1.0, 0.0), 102: (1.0, 0.0), 101: (1.0, 0.0), 100: (1.0, 0.0)}\n"
     ]
    }
   ],
   "source": [
    "tracer = central.trace(stop=stop)\n",
    "print(tracer)"
   ]
  },
  {
   "cell_type": "markdown",
   "metadata": {},
   "source": [
    "Then, select a satellite that can be traced back through a couple snapshots (for instance, the M31 satellite (1,4)):"
   ]
  },
  {
   "cell_type": "code",
   "execution_count": 25,
   "metadata": {},
   "outputs": [
    {
     "name": "stdout",
     "output_type": "stream",
     "text": [
      "{127: (1, 8), 126: (1.0, 8.0), 125: (1.0, 7.0), 124: (1.0, 6.0), 123: (1.0, 5.0), 122: (1.0, 6.0), 121: (1.0, 7.0), 120: (1.0, 6.0), 119: (1.0, 6.0), 118: (1.0, 6.0), 117: (1.0, 5.0), 116: (1.0, 5.0), 115: (1.0, 4.0), 114: (1.0, 3.0), 113: (1.0, 4.0), 112: (1.0, 3.0), 111: (1.0, 4.0), 110: (1.0, 4.0), 109: (1.0, 4.0), 108: (1.0, 5.0), 107: (1.0, 2.0), 106: (1.0, 3.0), 105: (1.0, 3.0)}\n"
     ]
    }
   ],
   "source": [
    "sgn=3\n",
    "satellite = subhalo.Subhalo(sim_id, start, gn, sgn)\n",
    "sat_tracer = satellite.trace(stop=stop)\n",
    "print(sat_tracer)"
   ]
  },
  {
   "cell_type": "markdown",
   "metadata": {},
   "source": [
    "Compute the distance from the central halo for each snapshot:"
   ]
  },
  {
   "cell_type": "code",
   "execution_count": 26,
   "metadata": {},
   "outputs": [],
   "source": [
    "snap_ids = list(sat_tracer.keys())\n",
    "snap_ids = np.sort(snap_ids)\n",
    "d = [satellite.distance_to_central(sid) for sid in list(snap_ids)]"
   ]
  },
  {
   "cell_type": "code",
   "execution_count": 27,
   "metadata": {},
   "outputs": [],
   "source": [
    "d = np.array(d).reshape((len(d),3)) * units.cm.to(units.kpc)"
   ]
  },
  {
   "cell_type": "markdown",
   "metadata": {},
   "source": [
    "Plot in the xy- and xz-plane:"
   ]
  },
  {
   "cell_type": "raw",
   "metadata": {},
   "source": []
  },
  {
   "cell_type": "raw",
   "metadata": {},
   "source": [
    "fig,ax = plt.subplots(ncols=2, figsize=(12,6))\n",
    "\n",
    "ax[0].set_title('gn{} sgn{}'.format(gn,sgn))\n",
    "\n",
    "ax[0].plot(d[0,0], d[0,1], 'ro', label='earliest')\n",
    "ax[0].plot(d[:,0], d[:,1], 'b')\n",
    "ax[0].set_xlabel('$x$ [kpc]', fontsize=16)\n",
    "ax[0].set_ylabel('$y$ [kpc]', fontsize=16)\n",
    "\n",
    "ax[1].plot(d[-1,0], d[-1,2], 'ro')\n",
    "ax[1].plot(d[:,0], d[:,2], 'b')\n",
    "ax[1].set_xlabel('$x$ [kpc]', fontsize=16)\n",
    "ax[1].set_ylabel('$z$ [kpc]', fontsize=16)\n",
    "\n",
    "ax[0].legend()\n",
    "\n",
    "# Save figure:\n",
    "\n",
    "filename = 'satellite_trajectory_gn{}sgn{}.png'.format(gn,sgn)\n",
    "\n",
    "home = os.path.dirname(snapshot_obj.__file__)\n",
    "path = os.path.join(home,\"Figures\")\n",
    "\n",
    "# If the directory does not exist, create it\n",
    "if not os.path.exists(path):\n",
    "    os.makedirs(path)\n",
    "plt.savefig(os.path.join(path,filename), dpi=200)"
   ]
  },
  {
   "cell_type": "markdown",
   "metadata": {},
   "source": [
    "# Plot evolution of mass components"
   ]
  },
  {
   "cell_type": "code",
   "execution_count": 29,
   "metadata": {},
   "outputs": [],
   "source": [
    "z = np.zeros(snap_ids.size)\n",
    "for i,sid in enumerate(snap_ids):\n",
    "    z[i] = snapshot_obj.Snapshot(sim_id, sid).get_redshift()"
   ]
  },
  {
   "cell_type": "code",
   "execution_count": 30,
   "metadata": {},
   "outputs": [],
   "source": [
    "masses = np.zeros((snap_ids.size, 6))\n",
    "for i,sid in enumerate(snap_ids):\n",
    "    masses[i] = satellite.get_halo_data(\"MassType\", sid) * units.g.to(units.Msun)"
   ]
  },
  {
   "cell_type": "code",
   "execution_count": 31,
   "metadata": {},
   "outputs": [
    {
     "name": "stderr",
     "output_type": "stream",
     "text": [
      "/home/kasper/anaconda3/lib/python3.7/site-packages/ipykernel_launcher.py:18: UserWarning: Data has no positive values, and therefore cannot be log-scaled.\n"
     ]
    },
    {
     "data": {
      "image/png": "[encoded data removed]",
      "text/plain": [
       "<Figure size 720x576 with 2 Axes>"
      ]
     },
     "metadata": {
      "needs_background": "light"
     },
     "output_type": "display_data"
    }
   ],
   "source": [
    "fig,ax = plt.subplots(nrows=2, figsize=(10,8))\n",
    "\n",
    "ax[0].set_title('gn{} sgn{}'.format(gn,sgn))\n",
    "\n",
    "ax[0].set_yscale('log')\n",
    "ax[0].set_ylabel('Mass $[\\mathrm{M_\\odot}]$', fontsize=16)\n",
    "\n",
    "ax[1].set_xlabel('$z$', fontsize=16)\n",
    "ax[1].set_ylabel('$r$ [kpc]', fontsize=16)\n",
    "\n",
    "ax[0].yaxis.set_ticks_position('both')\n",
    "ax[1].yaxis.set_ticks_position('both')\n",
    "\n",
    "ax[0].invert_xaxis()\n",
    "ax[1].invert_xaxis()\n",
    "\n",
    "for pt,l in zip([0,1,4],['gas', 'dm', 'stars']):\n",
    "    ax[0].plot(z, masses[:,pt], label=l)\n",
    "    \n",
    "ax[0].legend()\n",
    "\n",
    "ax[1].plot(z, np.linalg.norm(d, axis=1))\n",
    "\n",
    "# Save figure:\n",
    "\n",
    "filename = 'satellite_mass_evol_gn{}sgn{}.png'.format(gn,sgn)\n",
    "\n",
    "home = os.path.dirname(snapshot_obj.__file__)\n",
    "path = os.path.join(home,\"Figures\")\n",
    "\n",
    "# If the directory does not exist, create it\n",
    "if not os.path.exists(path):\n",
    "    os.makedirs(path)\n",
    "plt.savefig(os.path.join(path,filename), dpi=200)"
   ]
  },
  {
   "cell_type": "code",
   "execution_count": null,
   "metadata": {},
   "outputs": [],
   "source": []
  }
 ],
 "metadata": {
  "kernelspec": {
   "display_name": "Python 3",
   "language": "python",
   "name": "python3"
  },
  "language_info": {
   "codemirror_mode": {
    "name": "ipython",
    "version": 3
   },
   "file_extension": ".py",
   "mimetype": "text/x-python",
   "name": "python",
   "nbconvert_exporter": "python",
   "pygments_lexer": "ipython3",
   "version": "3.7.6"
  }
 },
 "nbformat": 4,
 "nbformat_minor": 4
}
