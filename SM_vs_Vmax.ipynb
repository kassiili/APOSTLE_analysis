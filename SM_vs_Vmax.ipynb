{
 "cells": [
  {
   "cell_type": "code",
   "execution_count": 31,
   "metadata": {},
   "outputs": [
    {
     "name": "stdout",
     "output_type": "stream",
     "text": [
      "The autoreload extension is already loaded. To reload it, use:\n",
      "  %reload_ext autoreload\n"
     ]
    }
   ],
   "source": [
    "%load_ext autoreload\n",
    "%autoreload 2\n",
    "\n",
    "%config IPCompleter.greedy=True"
   ]
  },
  {
   "cell_type": "markdown",
   "metadata": {},
   "source": [
    "# Stellar mass vs. $v_\\text{max}$\n",
    "\n",
    "First, imports:"
   ]
  },
  {
   "cell_type": "code",
   "execution_count": 51,
   "metadata": {},
   "outputs": [],
   "source": [
    "import matplotlib.pyplot as plt\n",
    "import numpy as np\n",
    "import h5py\n",
    "from astropy import units\n",
    "from pathlib import Path\n",
    "import os\n",
    "\n",
    "import dataset\n",
    "from curve_fit import calc_median"
   ]
  },
  {
   "cell_type": "markdown",
   "metadata": {},
   "source": [
    "## Get data\n",
    "\n",
    "Next, I retrieve the data. We are only interested in luminous halos. Also, there might be some spurious cases with odd values of $v_\\text{max}$."
   ]
  },
  {
   "cell_type": "code",
   "execution_count": 33,
   "metadata": {},
   "outputs": [],
   "source": [
    "# Get LCDM data:\n",
    "LCDM = dataset.Dataset(\"V1_LR_fix_127_z000p000\", \"LCDM\")\n",
    "vmaxSat, vmaxIsol = LCDM.get_subhalos(\"Vmax\",True)\n",
    "SMSat, SMIsol = LCDM.get_subhalos(\"Stars/Mass\",True)\n",
    "\n",
    "# Exclude dark halos\n",
    "maskSat = np.logical_and.reduce((vmaxSat>0, SMSat>0))\n",
    "maskIsol = np.logical_and.reduce((vmaxIsol>0, SMIsol>0))\n",
    "\n",
    "# Convert to proper units:\n",
    "vmaxSat = vmaxSat[maskSat] / 100000 # cm/s to km/s \n",
    "vmaxIsol = vmaxIsol[maskIsol] / 100000\n",
    "SMSat = SMSat[maskSat] * units.g.to(units.Msun)\n",
    "SMIsol = SMIsol[maskIsol] * units.g.to(units.Msun)"
   ]
  },
  {
   "cell_type": "markdown",
   "metadata": {},
   "source": [
    "## Plot"
   ]
  },
  {
   "cell_type": "code",
   "execution_count": 55,
   "metadata": {},
   "outputs": [
    {
     "data": {
      "image/png": "[encoded data removed]",
      "text/plain": [
       "<Figure size 432x288 with 1 Axes>"
      ]
     },
     "metadata": {
      "needs_background": "light"
     },
     "output_type": "display_data"
    }
   ],
   "source": [
    "fig, axes = plt.subplots()\n",
    "\n",
    "# Set axes:\n",
    "axes.set_xscale('log')\n",
    "axes.set_yscale('log')\n",
    "axes.set_xlim(10, 100)\n",
    "axes.set_ylim(10**5, 5*10**9)\n",
    "\n",
    "# Set labels:\n",
    "axes.set_xlabel('$v_{max}[\\mathrm{km s^{-1}}]$', fontsize=16)\n",
    "axes.set_ylabel('$M_*[\\mathrm{M_\\odot}]$', fontsize=16)\n",
    "axes.text(11, 2*10**9, 'satellites')\n",
    "#axes.set_title('Stellar mass of satellites')\n",
    "#axes.text(11, 2*10**9, 'isolated galaxies')\n",
    "#axes.set_title('Stellar mass of isolated galaxies')\n",
    "\n",
    "# Set marker styles:\n",
    "color = {LCDM.name : \"pink\"}\n",
    "marker = {LCDM.name : (3,0,0)}\n",
    "\n",
    "# Add LCDM scatter plot:\n",
    "axes.scatter(vmaxSat, SMSat, marker=marker[LCDM.name], c=color[LCDM.name], \\\n",
    "        edgecolor='none', label=LCDM.name)\n",
    "\n",
    "# Add LCDM median:\n",
    "median = calc_median(vmaxSat, SMSat, points_per_bar=7)\n",
    "axes.plot(median[0], median[1], c=color[LCDM.name], linestyle='--')\n",
    "\n",
    "axes.legend(loc=0)\n",
    "\n",
    "# Save figure:\n",
    "\n",
    "filename = 'SM_vs_Vmax_sat.png'\n",
    "#filename = 'SM_vs_Vmax_isol.png'\n",
    "\n",
    "home = os.path.dirname(dataset.__file__)\n",
    "path = os.path.join(home,\"Figures\")\n",
    "\n",
    "# If the directory does not exist, create it\n",
    "if not os.path.exists(path):\n",
    "    os.makedirs(path)\n",
    "plt.savefig(os.path.join(path,filename))"
   ]
  },
  {
   "cell_type": "code",
   "execution_count": null,
   "metadata": {},
   "outputs": [],
   "source": []
  }
 ],
 "metadata": {
  "kernelspec": {
   "display_name": "Python 3",
   "language": "python",
   "name": "python3"
  },
  "language_info": {
   "codemirror_mode": {
    "name": "ipython",
    "version": 3
   },
   "file_extension": ".py",
   "mimetype": "text/x-python",
   "name": "python",
   "nbconvert_exporter": "python",
   "pygments_lexer": "ipython3",
   "version": "3.7.4"
  }
 },
 "nbformat": 4,
 "nbformat_minor": 2
}
