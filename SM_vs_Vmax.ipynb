{
 "cells": [
  {
   "cell_type": "code",
   "execution_count": 1,
   "metadata": {},
   "outputs": [],
   "source": [
    "%load_ext autoreload\n",
    "%autoreload 2\n",
    "\n",
    "%config IPCompleter.greedy=True"
   ]
  },
  {
   "cell_type": "markdown",
   "metadata": {},
   "source": [
    "# Stellar mass vs. $v_\\text{max}$\n",
    "\n",
    "First, imports:"
   ]
  },
  {
   "cell_type": "code",
   "execution_count": 2,
   "metadata": {},
   "outputs": [
    {
     "ename": "ImportError",
     "evalue": "bad magic number in 'dataset': b'\\x03\\xf3\\r\\n'",
     "output_type": "error",
     "traceback": [
      "\u001b[0;31m---------------------------------------------------------------------------\u001b[0m",
      "\u001b[0;31mImportError\u001b[0m                               Traceback (most recent call last)",
      "\u001b[0;32m<ipython-input-2-e2a4f0574ab1>\u001b[0m in \u001b[0;36m<module>\u001b[0;34m\u001b[0m\n\u001b[1;32m      6\u001b[0m \u001b[0;32mimport\u001b[0m \u001b[0mos\u001b[0m\u001b[0;34m\u001b[0m\u001b[0;34m\u001b[0m\u001b[0m\n\u001b[1;32m      7\u001b[0m \u001b[0;34m\u001b[0m\u001b[0m\n\u001b[0;32m----> 8\u001b[0;31m \u001b[0;32mimport\u001b[0m \u001b[0mdataset\u001b[0m\u001b[0;34m\u001b[0m\u001b[0;34m\u001b[0m\u001b[0m\n\u001b[0m\u001b[1;32m      9\u001b[0m \u001b[0;32mimport\u001b[0m \u001b[0mcurve_fit\u001b[0m\u001b[0;34m\u001b[0m\u001b[0;34m\u001b[0m\u001b[0m\n\u001b[1;32m     10\u001b[0m \u001b[0;34m\u001b[0m\u001b[0m\n",
      "\u001b[0;31mImportError\u001b[0m: bad magic number in 'dataset': b'\\x03\\xf3\\r\\n'"
     ]
    }
   ],
   "source": [
    "import matplotlib.pyplot as plt\n",
    "import numpy as np\n",
    "import h5py\n",
    "from astropy import units\n",
    "from pathlib import Path\n",
    "import os\n",
    "\n",
    "import snapshot_obj\n",
    "import curve_fit\n",
    "\n",
    "import importlib"
   ]
  },
  {
   "cell_type": "code",
   "execution_count": null,
   "metadata": {
    "scrolled": true
   },
   "outputs": [],
   "source": [
    "importlib.reload(snapshot_obj)\n",
    "importlib.reload(curve_fit)"
   ]
  },
  {
   "cell_type": "markdown",
   "metadata": {},
   "source": [
    "## Get data\n",
    "\n",
    "Next, I retrieve the data. We are only interested in luminous halos. Also, there might be some spurious cases with odd values of $v_\\text{max}$."
   ]
  },
  {
   "cell_type": "code",
   "execution_count": null,
   "metadata": {
    "code_folding": []
   },
   "outputs": [],
   "source": [
    "# Get LCDM data:\n",
    "LCDM = dataset.Dataset(\"CDM_V1_LR_127_z000p000\", \"LCDM\")\n",
    "vmaxSat, vmaxIsol = LCDM.get_subhalos(\"Vmax\",True)\n",
    "SMSat, SMIsol = LCDM.get_subhalos(\"Stars/Mass\",True)\n",
    "\n",
    "# Exclude dark halos\n",
    "maskSat = np.logical_and.reduce((vmaxSat>0, SMSat>0))\n",
    "maskIsol = np.logical_and.reduce((vmaxIsol>0, SMIsol>0))\n",
    "\n",
    "# Convert to proper units:\n",
    "vmaxSat = vmaxSat[maskSat] / 100000 # cm/s to km/s \n",
    "vmaxIsol = vmaxIsol[maskIsol] / 100000\n",
    "SMSat = SMSat[maskSat] * units.g.to(units.Msun)\n",
    "SMIsol = SMIsol[maskIsol] * units.g.to(units.Msun)"
   ]
  },
  {
   "cell_type": "code",
   "execution_count": null,
   "metadata": {},
   "outputs": [],
   "source": []
  },
  {
   "cell_type": "markdown",
   "metadata": {},
   "source": [
    "## Statistics"
   ]
  },
  {
   "cell_type": "code",
   "execution_count": null,
   "metadata": {},
   "outputs": [],
   "source": [
    "from scipy.stats import ks_2samp\n",
    "\n"
   ]
  },
  {
   "cell_type": "markdown",
   "metadata": {},
   "source": [
    "## Plot"
   ]
  },
  {
   "cell_type": "code",
   "execution_count": null,
   "metadata": {},
   "outputs": [],
   "source": [
    "# Set some parameters:\n",
    "x_down = 10; x_up = 100\n",
    "y_down = 10**5; y_up = 5*10**9"
   ]
  },
  {
   "cell_type": "markdown",
   "metadata": {},
   "source": [
    "## Fit polynomial curve:"
   ]
  },
  {
   "cell_type": "code",
   "execution_count": null,
   "metadata": {
    "code_folding": [
     0
    ],
    "scrolled": true
   },
   "outputs": [],
   "source": [
    "# try linear regression:\n",
    "from sklearn.model_selection import train_test_split\n",
    "from sklearn.linear_model import LinearRegression\n",
    "\n",
    "test_size = 0.25\n",
    "x_train, x_test, y_train, y_test = train_test_split(vmaxSat, SMSat,\\\n",
    "        test_size=test_size)\n",
    "\n",
    "x_train = np.log(x_train).reshape(-1,1)\n",
    "y_train = np.log(y_train)\n",
    "\n",
    "x_test = np.log(x_test).reshape(-1,1)\n",
    "y_test = np.log(y_test)\n",
    "\n",
    "linreg = LinearRegression().fit(x_train,y_train)\n",
    "\n",
    "print(linreg.get_params())\n",
    "print(linreg.coef_)\n",
    "print(linreg.intercept_)\n",
    "\n",
    "train_score = linreg.score(x_train,y_train)\n",
    "test_score = linreg.score(x_test, y_test)\n",
    "\n",
    "# Construct model curve:\n",
    "xfit = np.linspace(min(vmaxSat),max(vmaxSat),10000).reshape(-1,1)\n",
    "yfit = np.exp(linreg.predict(np.log(xfit)))\n",
    "\n",
    "(train_score,test_score)"
   ]
  },
  {
   "cell_type": "code",
   "execution_count": null,
   "metadata": {},
   "outputs": [],
   "source": [
    "xfit, yfit, train_err, test_err = curve_fit.poly_fit(np.log(vmaxSat),np.log(SMSat),max_deg=4)\n",
    "xfit = np.exp(xfit); yfit = np.exp(yfit)\n",
    "(train_err, test_err)"
   ]
  },
  {
   "cell_type": "code",
   "execution_count": null,
   "metadata": {},
   "outputs": [],
   "source": [
    "fig, axes = plt.subplots()\n",
    "\n",
    "# Set axes:\n",
    "axes.set_xscale('log')\n",
    "axes.set_yscale('log')\n",
    "axes.set_xlim(x_down,x_up)\n",
    "axes.set_ylim(y_down,y_up)\n",
    "\n",
    "# Set labels:\n",
    "axes.set_xlabel('$v_{\\mathrm{max}}[\\mathrm{km s^{-1}}]$', fontsize=16)\n",
    "axes.set_ylabel('$M_*[\\mathrm{M_\\odot}]$', fontsize=16)\n",
    "axes.text(11, 2*10**9, 'satellites')\n",
    "#axes.set_title('Stellar mass of satellites')\n",
    "#axes.text(11, 2*10**9, 'isolated galaxies')\n",
    "#axes.set_title('Stellar mass of isolated galaxies')\n",
    "\n",
    "# Set marker styles:\n",
    "color = {LCDM.name : \"pink\"}\n",
    "marker = {LCDM.name : (3,0,0)}\n",
    "\n",
    "# Add LCDM scatter plot:\n",
    "axes.scatter(vmaxSat, SMSat, marker=marker[LCDM.name], c=color[LCDM.name], \\\n",
    "        edgecolor='none', label=LCDM.name)\n",
    "\n",
    "# Add LCDM median:\n",
    "median = curve_fit.median_trend(vmaxSat, SMSat, points_per_bar=7)\n",
    "axes.plot(median[0], median[1], c=color[LCDM.name], linestyle='--')\n",
    "\n",
    "# Add polynomial fit:\n",
    "#axes.plot(xfit,yfit, linestyle=':')\n",
    "\n",
    "axes.legend(loc='lower right')\n",
    "plt.tight_layout()\n",
    "\n",
    "# Save figure:\n",
    "\n",
    "filename = 'SM_vs_Vmax_sat.png'\n",
    "#filename = 'SM_vs_Vmax_isol.png'\n",
    "\n",
    "home = os.path.dirname(dataset.__file__)\n",
    "path = os.path.join(home,\"Figures\")\n",
    "\n",
    "# If the directory does not exist, create it\n",
    "if not os.path.exists(path):\n",
    "    os.makedirs(path)\n",
    "plt.savefig(os.path.join(path,filename))"
   ]
  },
  {
   "cell_type": "code",
   "execution_count": null,
   "metadata": {},
   "outputs": [],
   "source": []
  }
 ],
 "metadata": {
  "kernelspec": {
   "display_name": "Python 3",
   "language": "python",
   "name": "python3"
  },
  "language_info": {
   "codemirror_mode": {
    "name": "ipython",
    "version": 3
   },
   "file_extension": ".py",
   "mimetype": "text/x-python",
   "name": "python",
   "nbconvert_exporter": "python",
   "pygments_lexer": "ipython3",
   "version": "3.7.4"
  }
 },
 "nbformat": 4,
 "nbformat_minor": 4
}
